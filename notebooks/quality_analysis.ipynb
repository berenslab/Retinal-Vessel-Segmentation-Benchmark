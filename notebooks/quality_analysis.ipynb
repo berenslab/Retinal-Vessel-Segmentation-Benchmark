{
 "cells": [
  {
   "cell_type": "code",
   "execution_count": 1,
   "metadata": {},
   "outputs": [],
   "source": [
    "from glob import glob\n",
    "import os\n",
    "import pandas as pd\n",
    "import torch\n",
    "from bunch import Bunch\n",
    "from ruamel.yaml import safe_load\n",
    "from torch.utils.data import DataLoader\n",
    "\n",
    "\n",
    "from tester import Tester\n",
    "import networks as models\n",
    "from datasets.fives import FIVES\n",
    "from utils.helpers import get_instance\n",
    "from utils import losses"
   ]
  },
  {
   "cell_type": "code",
   "execution_count": 2,
   "metadata": {},
   "outputs": [],
   "source": [
    "device = torch.device('cuda' if torch.cuda.is_available() else 'cpu')"
   ]
  },
  {
   "cell_type": "code",
   "execution_count": 3,
   "metadata": {},
   "outputs": [],
   "source": [
    "data_path = '/mnt/qb/berens/users/jfadugba97/RetinaSegmentation/datasets/FIVES'\n",
    "path_name = f\"{data_path}/Quality Assessment.xlsx\"\n",
    "df = pd.read_excel(path_name, sheet_name='Test')\n",
    "df['Score'] = df['IC'] + df['Blur'] + df['LC']\n",
    "\n",
    "# read all image paths to a dataframe\n",
    "images = sorted(glob(os.path.join(data_path, 'test/Original/*')))\n",
    "labels = sorted(glob(os.path.join(data_path, 'test/Ground truth/*')))\n",
    "\n",
    "path_df = pd.DataFrame({'images':images, 'labels':labels})\n",
    "path_df['Number'] = path_df['images'].apply(lambda x: int(x.split('/')[-1].split('_')[0]))\n",
    "\n",
    "new_df = pd.merge(df, path_df, on='Number')"
   ]
  },
  {
   "cell_type": "code",
   "execution_count": 4,
   "metadata": {},
   "outputs": [],
   "source": [
    "def load_images(df, quality, value):\n",
    "    # Given the dataframe,\n",
    "    # retun images and columns for a specific group based\n",
    "    # IC == 0\n",
    "\n",
    "    assert value in [0,1,2,3], \"Specify the correct value\"\n",
    "    assert quality in [\"IC\", \"Blur\", \"LC\", \"Score\"]\n",
    "\n",
    "    group = df[df[quality] == value]\n",
    "    grouped = group[['images', 'labels']]\n",
    "    group_images = grouped['images'].values.tolist()\n",
    "    group_labels = grouped['labels'].values.tolist()\n",
    "\n",
    "    return group_images, group_labels\n",
    "\n",
    "    "
   ]
  },
  {
   "cell_type": "code",
   "execution_count": 5,
   "metadata": {},
   "outputs": [],
   "source": [
    "def main_result(config_file, weight_path, quality, value):\n",
    "\n",
    "    with open(config_file, encoding=\"utf-8\") as file:\n",
    "        CFG = Bunch(safe_load(file))\n",
    "\n",
    "    \n",
    "    valid_x, valid_y  = load_images(new_df, quality=quality, value=value)\n",
    "\n",
    "\n",
    "    dataset = FIVES(CFG=CFG, images_path=valid_x, mask_paths=valid_y, mode='test')\n",
    "\n",
    "    checkpoint = torch.load(weight_path)\n",
    "\n",
    "    CFG_ck = checkpoint['config']\n",
    "\n",
    "    test_loader = DataLoader(dataset, 1, shuffle=False,  \n",
    "                            num_workers=CFG.num_workers, pin_memory=True)\n",
    "    model = get_instance(models, 'model', CFG)\n",
    "    loss = get_instance(losses, 'loss', CFG_ck)\n",
    "\n",
    "    test = Tester(model, loss, CFG, checkpoint, test_loader, device)\n",
    "    test.test()\n"
   ]
  },
  {
   "cell_type": "markdown",
   "metadata": {},
   "source": [
    "## FR-UNet"
   ]
  },
  {
   "cell_type": "code",
   "execution_count": 6,
   "metadata": {},
   "outputs": [],
   "source": [
    "config_file = '../configs/fr_unet_dicebce.yaml'\n",
    "check_path = \"/mnt/qb/berens/users/jfadugba97/RetinaSegmentation/model_results/FR_UNet/FIVES/CE_DiceLoss/checkpoint-epoch70.pth\"\n"
   ]
  },
  {
   "cell_type": "code",
   "execution_count": 7,
   "metadata": {},
   "outputs": [
    {
     "name": "stderr",
     "output_type": "stream",
     "text": [
      "TEST (14) | Loss: 0.2319 | AUC 0.9388 F1 0.6377 Acc 0.9863  Sen 0.5370 Spe 0.9979 Pre 0.8563 IOU 0.4999 MCC 0.6566 |B 0.31 D 0.13 |: 100%|██████████| 15/15 [00:06<00:00,  2.31it/s]\n",
      "\u001b[32m2023-08-14 12:09:42.205\u001b[0m | \u001b[1mINFO    \u001b[0m | \u001b[36mtester\u001b[0m:\u001b[36mtest\u001b[0m:\u001b[36m78\u001b[0m - \u001b[1m###### TEST EVALUATION ######\u001b[0m\n",
      "\u001b[32m2023-08-14 12:09:42.206\u001b[0m | \u001b[1mINFO    \u001b[0m | \u001b[36mtester\u001b[0m:\u001b[36mtest\u001b[0m:\u001b[36m79\u001b[0m - \u001b[1mtest time:  0.3069\u001b[0m\n",
      "\u001b[32m2023-08-14 12:09:42.207\u001b[0m | \u001b[1mINFO    \u001b[0m | \u001b[36mtester\u001b[0m:\u001b[36mtest\u001b[0m:\u001b[36m80\u001b[0m - \u001b[1m     loss:  0.2319\u001b[0m\n",
      "\u001b[32m2023-08-14 12:09:42.207\u001b[0m | \u001b[1mINFO    \u001b[0m | \u001b[36mtester\u001b[0m:\u001b[36mtest\u001b[0m:\u001b[36m84\u001b[0m - \u001b[1mAUC  : 0.9388\u001b[0m\n",
      "\u001b[32m2023-08-14 12:09:42.208\u001b[0m | \u001b[1mINFO    \u001b[0m | \u001b[36mtester\u001b[0m:\u001b[36mtest\u001b[0m:\u001b[36m84\u001b[0m - \u001b[1mF1   : 0.6377\u001b[0m\n",
      "\u001b[32m2023-08-14 12:09:42.209\u001b[0m | \u001b[1mINFO    \u001b[0m | \u001b[36mtester\u001b[0m:\u001b[36mtest\u001b[0m:\u001b[36m84\u001b[0m - \u001b[1mAcc  : 0.9863\u001b[0m\n",
      "\u001b[32m2023-08-14 12:09:42.209\u001b[0m | \u001b[1mINFO    \u001b[0m | \u001b[36mtester\u001b[0m:\u001b[36mtest\u001b[0m:\u001b[36m84\u001b[0m - \u001b[1mSen  : 0.537\u001b[0m\n",
      "\u001b[32m2023-08-14 12:09:42.209\u001b[0m | \u001b[1mINFO    \u001b[0m | \u001b[36mtester\u001b[0m:\u001b[36mtest\u001b[0m:\u001b[36m84\u001b[0m - \u001b[1mSpe  : 0.9979\u001b[0m\n",
      "\u001b[32m2023-08-14 12:09:42.211\u001b[0m | \u001b[1mINFO    \u001b[0m | \u001b[36mtester\u001b[0m:\u001b[36mtest\u001b[0m:\u001b[36m84\u001b[0m - \u001b[1mpre  : 0.8563\u001b[0m\n",
      "\u001b[32m2023-08-14 12:09:42.211\u001b[0m | \u001b[1mINFO    \u001b[0m | \u001b[36mtester\u001b[0m:\u001b[36mtest\u001b[0m:\u001b[36m84\u001b[0m - \u001b[1mIOU  : 0.4999\u001b[0m\n",
      "\u001b[32m2023-08-14 12:09:42.212\u001b[0m | \u001b[1mINFO    \u001b[0m | \u001b[36mtester\u001b[0m:\u001b[36mtest\u001b[0m:\u001b[36m84\u001b[0m - \u001b[1mMCC  : 0.6566\u001b[0m\n",
      "TEST (10) | Loss: 0.1339 | AUC 0.9855 F1 0.8231 Acc 0.9855  Sen 0.7411 Spe 0.9972 Pre 0.9300 IOU 0.7030 MCC 0.8222 |B 0.21 D 0.14 |: 100%|██████████| 11/11 [00:03<00:00,  2.94it/s]\n",
      "\u001b[32m2023-08-14 12:09:46.206\u001b[0m | \u001b[1mINFO    \u001b[0m | \u001b[36mtester\u001b[0m:\u001b[36mtest\u001b[0m:\u001b[36m78\u001b[0m - \u001b[1m###### TEST EVALUATION ######\u001b[0m\n",
      "\u001b[32m2023-08-14 12:09:46.207\u001b[0m | \u001b[1mINFO    \u001b[0m | \u001b[36mtester\u001b[0m:\u001b[36mtest\u001b[0m:\u001b[36m79\u001b[0m - \u001b[1mtest time:  0.2054\u001b[0m\n",
      "\u001b[32m2023-08-14 12:09:46.208\u001b[0m | \u001b[1mINFO    \u001b[0m | \u001b[36mtester\u001b[0m:\u001b[36mtest\u001b[0m:\u001b[36m80\u001b[0m - \u001b[1m     loss:  0.1339\u001b[0m\n",
      "\u001b[32m2023-08-14 12:09:46.208\u001b[0m | \u001b[1mINFO    \u001b[0m | \u001b[36mtester\u001b[0m:\u001b[36mtest\u001b[0m:\u001b[36m84\u001b[0m - \u001b[1mAUC  : 0.9855\u001b[0m\n",
      "\u001b[32m2023-08-14 12:09:46.209\u001b[0m | \u001b[1mINFO    \u001b[0m | \u001b[36mtester\u001b[0m:\u001b[36mtest\u001b[0m:\u001b[36m84\u001b[0m - \u001b[1mF1   : 0.8231\u001b[0m\n",
      "\u001b[32m2023-08-14 12:09:46.209\u001b[0m | \u001b[1mINFO    \u001b[0m | \u001b[36mtester\u001b[0m:\u001b[36mtest\u001b[0m:\u001b[36m84\u001b[0m - \u001b[1mAcc  : 0.9855\u001b[0m\n",
      "\u001b[32m2023-08-14 12:09:46.210\u001b[0m | \u001b[1mINFO    \u001b[0m | \u001b[36mtester\u001b[0m:\u001b[36mtest\u001b[0m:\u001b[36m84\u001b[0m - \u001b[1mSen  : 0.7411\u001b[0m\n",
      "\u001b[32m2023-08-14 12:09:46.210\u001b[0m | \u001b[1mINFO    \u001b[0m | \u001b[36mtester\u001b[0m:\u001b[36mtest\u001b[0m:\u001b[36m84\u001b[0m - \u001b[1mSpe  : 0.9972\u001b[0m\n",
      "\u001b[32m2023-08-14 12:09:46.212\u001b[0m | \u001b[1mINFO    \u001b[0m | \u001b[36mtester\u001b[0m:\u001b[36mtest\u001b[0m:\u001b[36m84\u001b[0m - \u001b[1mpre  : 0.93\u001b[0m\n",
      "\u001b[32m2023-08-14 12:09:46.212\u001b[0m | \u001b[1mINFO    \u001b[0m | \u001b[36mtester\u001b[0m:\u001b[36mtest\u001b[0m:\u001b[36m84\u001b[0m - \u001b[1mIOU  : 0.703\u001b[0m\n",
      "\u001b[32m2023-08-14 12:09:46.213\u001b[0m | \u001b[1mINFO    \u001b[0m | \u001b[36mtester\u001b[0m:\u001b[36mtest\u001b[0m:\u001b[36m84\u001b[0m - \u001b[1mMCC  : 0.8222\u001b[0m\n",
      "TEST (40) | Loss: 0.0955 | AUC 0.9912 F1 0.8835 Acc 0.9865  Sen 0.8422 Spe 0.9961 Pre 0.9325 IOU 0.7945 MCC 0.8784 |B 0.10 D 0.03 |: 100%|██████████| 41/41 [00:09<00:00,  4.20it/s]\n",
      "\u001b[32m2023-08-14 12:09:56.383\u001b[0m | \u001b[1mINFO    \u001b[0m | \u001b[36mtester\u001b[0m:\u001b[36mtest\u001b[0m:\u001b[36m78\u001b[0m - \u001b[1m###### TEST EVALUATION ######\u001b[0m\n",
      "\u001b[32m2023-08-14 12:09:56.384\u001b[0m | \u001b[1mINFO    \u001b[0m | \u001b[36mtester\u001b[0m:\u001b[36mtest\u001b[0m:\u001b[36m79\u001b[0m - \u001b[1mtest time:  0.1006\u001b[0m\n",
      "\u001b[32m2023-08-14 12:09:56.384\u001b[0m | \u001b[1mINFO    \u001b[0m | \u001b[36mtester\u001b[0m:\u001b[36mtest\u001b[0m:\u001b[36m80\u001b[0m - \u001b[1m     loss:  0.0955\u001b[0m\n",
      "\u001b[32m2023-08-14 12:09:56.385\u001b[0m | \u001b[1mINFO    \u001b[0m | \u001b[36mtester\u001b[0m:\u001b[36mtest\u001b[0m:\u001b[36m84\u001b[0m - \u001b[1mAUC  : 0.9912\u001b[0m\n",
      "\u001b[32m2023-08-14 12:09:56.386\u001b[0m | \u001b[1mINFO    \u001b[0m | \u001b[36mtester\u001b[0m:\u001b[36mtest\u001b[0m:\u001b[36m84\u001b[0m - \u001b[1mF1   : 0.8835\u001b[0m\n",
      "\u001b[32m2023-08-14 12:09:56.386\u001b[0m | \u001b[1mINFO    \u001b[0m | \u001b[36mtester\u001b[0m:\u001b[36mtest\u001b[0m:\u001b[36m84\u001b[0m - \u001b[1mAcc  : 0.9865\u001b[0m\n",
      "\u001b[32m2023-08-14 12:09:56.387\u001b[0m | \u001b[1mINFO    \u001b[0m | \u001b[36mtester\u001b[0m:\u001b[36mtest\u001b[0m:\u001b[36m84\u001b[0m - \u001b[1mSen  : 0.8422\u001b[0m\n",
      "\u001b[32m2023-08-14 12:09:56.387\u001b[0m | \u001b[1mINFO    \u001b[0m | \u001b[36mtester\u001b[0m:\u001b[36mtest\u001b[0m:\u001b[36m84\u001b[0m - \u001b[1mSpe  : 0.9961\u001b[0m\n",
      "\u001b[32m2023-08-14 12:09:56.388\u001b[0m | \u001b[1mINFO    \u001b[0m | \u001b[36mtester\u001b[0m:\u001b[36mtest\u001b[0m:\u001b[36m84\u001b[0m - \u001b[1mpre  : 0.9325\u001b[0m\n",
      "\u001b[32m2023-08-14 12:09:56.388\u001b[0m | \u001b[1mINFO    \u001b[0m | \u001b[36mtester\u001b[0m:\u001b[36mtest\u001b[0m:\u001b[36m84\u001b[0m - \u001b[1mIOU  : 0.7945\u001b[0m\n",
      "\u001b[32m2023-08-14 12:09:56.388\u001b[0m | \u001b[1mINFO    \u001b[0m | \u001b[36mtester\u001b[0m:\u001b[36mtest\u001b[0m:\u001b[36m84\u001b[0m - \u001b[1mMCC  : 0.8784\u001b[0m\n",
      "TEST (132) | Loss: 0.0724 | AUC 0.9935 F1 0.9196 Acc 0.9877  Sen 0.8946 Spe 0.9957 Pre 0.9472 IOU 0.8529 MCC 0.9137 |B 0.10 D 0.03 |: 100%|██████████| 133/133 [00:30<00:00,  4.43it/s]\n",
      "\u001b[32m2023-08-14 12:10:26.693\u001b[0m | \u001b[1mINFO    \u001b[0m | \u001b[36mtester\u001b[0m:\u001b[36mtest\u001b[0m:\u001b[36m78\u001b[0m - \u001b[1m###### TEST EVALUATION ######\u001b[0m\n",
      "\u001b[32m2023-08-14 12:10:26.693\u001b[0m | \u001b[1mINFO    \u001b[0m | \u001b[36mtester\u001b[0m:\u001b[36mtest\u001b[0m:\u001b[36m79\u001b[0m - \u001b[1mtest time:  0.0962\u001b[0m\n",
      "\u001b[32m2023-08-14 12:10:26.694\u001b[0m | \u001b[1mINFO    \u001b[0m | \u001b[36mtester\u001b[0m:\u001b[36mtest\u001b[0m:\u001b[36m80\u001b[0m - \u001b[1m     loss:  0.0724\u001b[0m\n",
      "\u001b[32m2023-08-14 12:10:26.694\u001b[0m | \u001b[1mINFO    \u001b[0m | \u001b[36mtester\u001b[0m:\u001b[36mtest\u001b[0m:\u001b[36m84\u001b[0m - \u001b[1mAUC  : 0.9935\u001b[0m\n",
      "\u001b[32m2023-08-14 12:10:26.695\u001b[0m | \u001b[1mINFO    \u001b[0m | \u001b[36mtester\u001b[0m:\u001b[36mtest\u001b[0m:\u001b[36m84\u001b[0m - \u001b[1mF1   : 0.9196\u001b[0m\n",
      "\u001b[32m2023-08-14 12:10:26.695\u001b[0m | \u001b[1mINFO    \u001b[0m | \u001b[36mtester\u001b[0m:\u001b[36mtest\u001b[0m:\u001b[36m84\u001b[0m - \u001b[1mAcc  : 0.9877\u001b[0m\n",
      "\u001b[32m2023-08-14 12:10:26.696\u001b[0m | \u001b[1mINFO    \u001b[0m | \u001b[36mtester\u001b[0m:\u001b[36mtest\u001b[0m:\u001b[36m84\u001b[0m - \u001b[1mSen  : 0.8946\u001b[0m\n",
      "\u001b[32m2023-08-14 12:10:26.697\u001b[0m | \u001b[1mINFO    \u001b[0m | \u001b[36mtester\u001b[0m:\u001b[36mtest\u001b[0m:\u001b[36m84\u001b[0m - \u001b[1mSpe  : 0.9957\u001b[0m\n",
      "\u001b[32m2023-08-14 12:10:26.698\u001b[0m | \u001b[1mINFO    \u001b[0m | \u001b[36mtester\u001b[0m:\u001b[36mtest\u001b[0m:\u001b[36m84\u001b[0m - \u001b[1mpre  : 0.9472\u001b[0m\n",
      "\u001b[32m2023-08-14 12:10:26.698\u001b[0m | \u001b[1mINFO    \u001b[0m | \u001b[36mtester\u001b[0m:\u001b[36mtest\u001b[0m:\u001b[36m84\u001b[0m - \u001b[1mIOU  : 0.8529\u001b[0m\n",
      "\u001b[32m2023-08-14 12:10:26.699\u001b[0m | \u001b[1mINFO    \u001b[0m | \u001b[36mtester\u001b[0m:\u001b[36mtest\u001b[0m:\u001b[36m84\u001b[0m - \u001b[1mMCC  : 0.9137\u001b[0m\n"
     ]
    }
   ],
   "source": [
    "main_result(config_file, weight_path=check_path, quality=\"Score\", value=0)\n",
    "\n",
    "main_result(config_file, weight_path=check_path, quality=\"Score\", value=1)\n",
    "\n",
    "main_result(config_file, weight_path=check_path, quality=\"Score\", value=2)\n",
    "\n",
    "main_result(config_file, weight_path=check_path, quality=\"Score\", value=3)"
   ]
  },
  {
   "cell_type": "code",
   "execution_count": 8,
   "metadata": {},
   "outputs": [
    {
     "name": "stderr",
     "output_type": "stream",
     "text": [
      "TEST (51) | Loss: 0.1395 | AUC 0.9749 F1 0.8062 Acc 0.9857  Sen 0.7388 Spe 0.9968 Pre 0.9164 IOU 0.6998 MCC 0.8086 |B 0.09 D 0.02 |: 100%|██████████| 52/52 [00:11<00:00,  4.45it/s]\n",
      "\u001b[32m2023-08-14 12:10:38.648\u001b[0m | \u001b[1mINFO    \u001b[0m | \u001b[36mtester\u001b[0m:\u001b[36mtest\u001b[0m:\u001b[36m78\u001b[0m - \u001b[1m###### TEST EVALUATION ######\u001b[0m\n",
      "\u001b[32m2023-08-14 12:10:38.649\u001b[0m | \u001b[1mINFO    \u001b[0m | \u001b[36mtester\u001b[0m:\u001b[36mtest\u001b[0m:\u001b[36m79\u001b[0m - \u001b[1mtest time:  0.0921\u001b[0m\n",
      "\u001b[32m2023-08-14 12:10:38.650\u001b[0m | \u001b[1mINFO    \u001b[0m | \u001b[36mtester\u001b[0m:\u001b[36mtest\u001b[0m:\u001b[36m80\u001b[0m - \u001b[1m     loss:  0.1395\u001b[0m\n",
      "\u001b[32m2023-08-14 12:10:38.650\u001b[0m | \u001b[1mINFO    \u001b[0m | \u001b[36mtester\u001b[0m:\u001b[36mtest\u001b[0m:\u001b[36m84\u001b[0m - \u001b[1mAUC  : 0.9749\u001b[0m\n",
      "\u001b[32m2023-08-14 12:10:38.651\u001b[0m | \u001b[1mINFO    \u001b[0m | \u001b[36mtester\u001b[0m:\u001b[36mtest\u001b[0m:\u001b[36m84\u001b[0m - \u001b[1mF1   : 0.8062\u001b[0m\n",
      "\u001b[32m2023-08-14 12:10:38.651\u001b[0m | \u001b[1mINFO    \u001b[0m | \u001b[36mtester\u001b[0m:\u001b[36mtest\u001b[0m:\u001b[36m84\u001b[0m - \u001b[1mAcc  : 0.9857\u001b[0m\n",
      "\u001b[32m2023-08-14 12:10:38.652\u001b[0m | \u001b[1mINFO    \u001b[0m | \u001b[36mtester\u001b[0m:\u001b[36mtest\u001b[0m:\u001b[36m84\u001b[0m - \u001b[1mSen  : 0.7388\u001b[0m\n",
      "\u001b[32m2023-08-14 12:10:38.652\u001b[0m | \u001b[1mINFO    \u001b[0m | \u001b[36mtester\u001b[0m:\u001b[36mtest\u001b[0m:\u001b[36m84\u001b[0m - \u001b[1mSpe  : 0.9968\u001b[0m\n",
      "\u001b[32m2023-08-14 12:10:38.652\u001b[0m | \u001b[1mINFO    \u001b[0m | \u001b[36mtester\u001b[0m:\u001b[36mtest\u001b[0m:\u001b[36m84\u001b[0m - \u001b[1mpre  : 0.9164\u001b[0m\n",
      "\u001b[32m2023-08-14 12:10:38.653\u001b[0m | \u001b[1mINFO    \u001b[0m | \u001b[36mtester\u001b[0m:\u001b[36mtest\u001b[0m:\u001b[36m84\u001b[0m - \u001b[1mIOU  : 0.6998\u001b[0m\n",
      "\u001b[32m2023-08-14 12:10:38.653\u001b[0m | \u001b[1mINFO    \u001b[0m | \u001b[36mtester\u001b[0m:\u001b[36mtest\u001b[0m:\u001b[36m84\u001b[0m - \u001b[1mMCC  : 0.8086\u001b[0m\n",
      "TEST (147) | Loss: 0.0759 | AUC 0.9932 F1 0.9137 Acc 0.9877  Sen 0.8872 Spe 0.9957 Pre 0.9435 IOU 0.8436 MCC 0.9080 |B 0.08 D 0.01 |: 100%|██████████| 148/148 [00:31<00:00,  4.67it/s]\n",
      "\u001b[32m2023-08-14 12:11:10.588\u001b[0m | \u001b[1mINFO    \u001b[0m | \u001b[36mtester\u001b[0m:\u001b[36mtest\u001b[0m:\u001b[36m78\u001b[0m - \u001b[1m###### TEST EVALUATION ######\u001b[0m\n",
      "\u001b[32m2023-08-14 12:11:10.588\u001b[0m | \u001b[1mINFO    \u001b[0m | \u001b[36mtester\u001b[0m:\u001b[36mtest\u001b[0m:\u001b[36m79\u001b[0m - \u001b[1mtest time:  0.0785\u001b[0m\n",
      "\u001b[32m2023-08-14 12:11:10.589\u001b[0m | \u001b[1mINFO    \u001b[0m | \u001b[36mtester\u001b[0m:\u001b[36mtest\u001b[0m:\u001b[36m80\u001b[0m - \u001b[1m     loss:  0.0759\u001b[0m\n",
      "\u001b[32m2023-08-14 12:11:10.590\u001b[0m | \u001b[1mINFO    \u001b[0m | \u001b[36mtester\u001b[0m:\u001b[36mtest\u001b[0m:\u001b[36m84\u001b[0m - \u001b[1mAUC  : 0.9932\u001b[0m\n",
      "\u001b[32m2023-08-14 12:11:10.591\u001b[0m | \u001b[1mINFO    \u001b[0m | \u001b[36mtester\u001b[0m:\u001b[36mtest\u001b[0m:\u001b[36m84\u001b[0m - \u001b[1mF1   : 0.9137\u001b[0m\n",
      "\u001b[32m2023-08-14 12:11:10.591\u001b[0m | \u001b[1mINFO    \u001b[0m | \u001b[36mtester\u001b[0m:\u001b[36mtest\u001b[0m:\u001b[36m84\u001b[0m - \u001b[1mAcc  : 0.9877\u001b[0m\n",
      "\u001b[32m2023-08-14 12:11:10.591\u001b[0m | \u001b[1mINFO    \u001b[0m | \u001b[36mtester\u001b[0m:\u001b[36mtest\u001b[0m:\u001b[36m84\u001b[0m - \u001b[1mSen  : 0.8872\u001b[0m\n",
      "\u001b[32m2023-08-14 12:11:10.592\u001b[0m | \u001b[1mINFO    \u001b[0m | \u001b[36mtester\u001b[0m:\u001b[36mtest\u001b[0m:\u001b[36m84\u001b[0m - \u001b[1mSpe  : 0.9957\u001b[0m\n",
      "\u001b[32m2023-08-14 12:11:10.592\u001b[0m | \u001b[1mINFO    \u001b[0m | \u001b[36mtester\u001b[0m:\u001b[36mtest\u001b[0m:\u001b[36m84\u001b[0m - \u001b[1mpre  : 0.9435\u001b[0m\n",
      "\u001b[32m2023-08-14 12:11:10.593\u001b[0m | \u001b[1mINFO    \u001b[0m | \u001b[36mtester\u001b[0m:\u001b[36mtest\u001b[0m:\u001b[36m84\u001b[0m - \u001b[1mIOU  : 0.8436\u001b[0m\n",
      "\u001b[32m2023-08-14 12:11:10.594\u001b[0m | \u001b[1mINFO    \u001b[0m | \u001b[36mtester\u001b[0m:\u001b[36mtest\u001b[0m:\u001b[36m84\u001b[0m - \u001b[1mMCC  : 0.908\u001b[0m\n"
     ]
    }
   ],
   "source": [
    "main_result(config_file, weight_path=check_path, quality=\"IC\", value=0)\n",
    "\n",
    "main_result(config_file, weight_path=check_path, quality=\"IC\", value=1)\n"
   ]
  },
  {
   "cell_type": "code",
   "execution_count": 9,
   "metadata": {},
   "outputs": [
    {
     "name": "stderr",
     "output_type": "stream",
     "text": [
      "TEST (40) | Loss: 0.1601 | AUC 0.9704 F1 0.7693 Acc 0.9867  Sen 0.6957 Spe 0.9971 Pre 0.8958 IOU 0.6500 MCC 0.7745 |B 0.09 D 0.03 |: 100%|██████████| 41/41 [00:09<00:00,  4.36it/s]\n",
      "\u001b[32m2023-08-14 12:11:20.260\u001b[0m | \u001b[1mINFO    \u001b[0m | \u001b[36mtester\u001b[0m:\u001b[36mtest\u001b[0m:\u001b[36m78\u001b[0m - \u001b[1m###### TEST EVALUATION ######\u001b[0m\n",
      "\u001b[32m2023-08-14 12:11:20.260\u001b[0m | \u001b[1mINFO    \u001b[0m | \u001b[36mtester\u001b[0m:\u001b[36mtest\u001b[0m:\u001b[36m79\u001b[0m - \u001b[1mtest time:  0.0939\u001b[0m\n",
      "\u001b[32m2023-08-14 12:11:20.261\u001b[0m | \u001b[1mINFO    \u001b[0m | \u001b[36mtester\u001b[0m:\u001b[36mtest\u001b[0m:\u001b[36m80\u001b[0m - \u001b[1m     loss:  0.1601\u001b[0m\n",
      "\u001b[32m2023-08-14 12:11:20.262\u001b[0m | \u001b[1mINFO    \u001b[0m | \u001b[36mtester\u001b[0m:\u001b[36mtest\u001b[0m:\u001b[36m84\u001b[0m - \u001b[1mAUC  : 0.9704\u001b[0m\n",
      "\u001b[32m2023-08-14 12:11:20.262\u001b[0m | \u001b[1mINFO    \u001b[0m | \u001b[36mtester\u001b[0m:\u001b[36mtest\u001b[0m:\u001b[36m84\u001b[0m - \u001b[1mF1   : 0.7693\u001b[0m\n",
      "\u001b[32m2023-08-14 12:11:20.263\u001b[0m | \u001b[1mINFO    \u001b[0m | \u001b[36mtester\u001b[0m:\u001b[36mtest\u001b[0m:\u001b[36m84\u001b[0m - \u001b[1mAcc  : 0.9867\u001b[0m\n",
      "\u001b[32m2023-08-14 12:11:20.264\u001b[0m | \u001b[1mINFO    \u001b[0m | \u001b[36mtester\u001b[0m:\u001b[36mtest\u001b[0m:\u001b[36m84\u001b[0m - \u001b[1mSen  : 0.6957\u001b[0m\n",
      "\u001b[32m2023-08-14 12:11:20.264\u001b[0m | \u001b[1mINFO    \u001b[0m | \u001b[36mtester\u001b[0m:\u001b[36mtest\u001b[0m:\u001b[36m84\u001b[0m - \u001b[1mSpe  : 0.9971\u001b[0m\n",
      "\u001b[32m2023-08-14 12:11:20.264\u001b[0m | \u001b[1mINFO    \u001b[0m | \u001b[36mtester\u001b[0m:\u001b[36mtest\u001b[0m:\u001b[36m84\u001b[0m - \u001b[1mpre  : 0.8958\u001b[0m\n",
      "\u001b[32m2023-08-14 12:11:20.265\u001b[0m | \u001b[1mINFO    \u001b[0m | \u001b[36mtester\u001b[0m:\u001b[36mtest\u001b[0m:\u001b[36m84\u001b[0m - \u001b[1mIOU  : 0.65\u001b[0m\n",
      "\u001b[32m2023-08-14 12:11:20.265\u001b[0m | \u001b[1mINFO    \u001b[0m | \u001b[36mtester\u001b[0m:\u001b[36mtest\u001b[0m:\u001b[36m84\u001b[0m - \u001b[1mMCC  : 0.7745\u001b[0m\n",
      "TEST (158) | Loss: 0.0750 | AUC 0.9931 F1 0.9158 Acc 0.9873  Sen 0.8880 Spe 0.9957 Pre 0.9469 IOU 0.8465 MCC 0.9099 |B 0.08 D 0.01 |: 100%|██████████| 159/159 [00:33<00:00,  4.69it/s]\n",
      "\u001b[32m2023-08-14 12:11:54.401\u001b[0m | \u001b[1mINFO    \u001b[0m | \u001b[36mtester\u001b[0m:\u001b[36mtest\u001b[0m:\u001b[36m78\u001b[0m - \u001b[1m###### TEST EVALUATION ######\u001b[0m\n",
      "\u001b[32m2023-08-14 12:11:54.401\u001b[0m | \u001b[1mINFO    \u001b[0m | \u001b[36mtester\u001b[0m:\u001b[36mtest\u001b[0m:\u001b[36m79\u001b[0m - \u001b[1mtest time:  0.0767\u001b[0m\n",
      "\u001b[32m2023-08-14 12:11:54.402\u001b[0m | \u001b[1mINFO    \u001b[0m | \u001b[36mtester\u001b[0m:\u001b[36mtest\u001b[0m:\u001b[36m80\u001b[0m - \u001b[1m     loss:  0.075\u001b[0m\n",
      "\u001b[32m2023-08-14 12:11:54.402\u001b[0m | \u001b[1mINFO    \u001b[0m | \u001b[36mtester\u001b[0m:\u001b[36mtest\u001b[0m:\u001b[36m84\u001b[0m - \u001b[1mAUC  : 0.9931\u001b[0m\n",
      "\u001b[32m2023-08-14 12:11:54.403\u001b[0m | \u001b[1mINFO    \u001b[0m | \u001b[36mtester\u001b[0m:\u001b[36mtest\u001b[0m:\u001b[36m84\u001b[0m - \u001b[1mF1   : 0.9158\u001b[0m\n",
      "\u001b[32m2023-08-14 12:11:54.403\u001b[0m | \u001b[1mINFO    \u001b[0m | \u001b[36mtester\u001b[0m:\u001b[36mtest\u001b[0m:\u001b[36m84\u001b[0m - \u001b[1mAcc  : 0.9873\u001b[0m\n",
      "\u001b[32m2023-08-14 12:11:54.404\u001b[0m | \u001b[1mINFO    \u001b[0m | \u001b[36mtester\u001b[0m:\u001b[36mtest\u001b[0m:\u001b[36m84\u001b[0m - \u001b[1mSen  : 0.888\u001b[0m\n",
      "\u001b[32m2023-08-14 12:11:54.404\u001b[0m | \u001b[1mINFO    \u001b[0m | \u001b[36mtester\u001b[0m:\u001b[36mtest\u001b[0m:\u001b[36m84\u001b[0m - \u001b[1mSpe  : 0.9957\u001b[0m\n",
      "\u001b[32m2023-08-14 12:11:54.405\u001b[0m | \u001b[1mINFO    \u001b[0m | \u001b[36mtester\u001b[0m:\u001b[36mtest\u001b[0m:\u001b[36m84\u001b[0m - \u001b[1mpre  : 0.9469\u001b[0m\n",
      "\u001b[32m2023-08-14 12:11:54.406\u001b[0m | \u001b[1mINFO    \u001b[0m | \u001b[36mtester\u001b[0m:\u001b[36mtest\u001b[0m:\u001b[36m84\u001b[0m - \u001b[1mIOU  : 0.8465\u001b[0m\n",
      "\u001b[32m2023-08-14 12:11:54.407\u001b[0m | \u001b[1mINFO    \u001b[0m | \u001b[36mtester\u001b[0m:\u001b[36mtest\u001b[0m:\u001b[36m84\u001b[0m - \u001b[1mMCC  : 0.9099\u001b[0m\n"
     ]
    }
   ],
   "source": [
    "main_result(config_file, weight_path=check_path, quality=\"Blur\", value=0)\n",
    "\n",
    "main_result(config_file, weight_path=check_path, quality=\"Blur\", value=1)\n"
   ]
  },
  {
   "cell_type": "code",
   "execution_count": 10,
   "metadata": {},
   "outputs": [
    {
     "name": "stderr",
     "output_type": "stream",
     "text": [
      "TEST (14) | Loss: 0.2319 | AUC 0.9388 F1 0.6377 Acc 0.9863  Sen 0.5370 Spe 0.9979 Pre 0.8563 IOU 0.4999 MCC 0.6566 |B 0.16 D 0.09 |: 100%|██████████| 15/15 [00:04<00:00,  3.43it/s]\n",
      "\u001b[32m2023-08-14 12:11:59.037\u001b[0m | \u001b[1mINFO    \u001b[0m | \u001b[36mtester\u001b[0m:\u001b[36mtest\u001b[0m:\u001b[36m78\u001b[0m - \u001b[1m###### TEST EVALUATION ######\u001b[0m\n",
      "\u001b[32m2023-08-14 12:11:59.038\u001b[0m | \u001b[1mINFO    \u001b[0m | \u001b[36mtester\u001b[0m:\u001b[36mtest\u001b[0m:\u001b[36m79\u001b[0m - \u001b[1mtest time:  0.1555\u001b[0m\n",
      "\u001b[32m2023-08-14 12:11:59.038\u001b[0m | \u001b[1mINFO    \u001b[0m | \u001b[36mtester\u001b[0m:\u001b[36mtest\u001b[0m:\u001b[36m80\u001b[0m - \u001b[1m     loss:  0.2319\u001b[0m\n",
      "\u001b[32m2023-08-14 12:11:59.039\u001b[0m | \u001b[1mINFO    \u001b[0m | \u001b[36mtester\u001b[0m:\u001b[36mtest\u001b[0m:\u001b[36m84\u001b[0m - \u001b[1mAUC  : 0.9388\u001b[0m\n",
      "\u001b[32m2023-08-14 12:11:59.039\u001b[0m | \u001b[1mINFO    \u001b[0m | \u001b[36mtester\u001b[0m:\u001b[36mtest\u001b[0m:\u001b[36m84\u001b[0m - \u001b[1mF1   : 0.6377\u001b[0m\n",
      "\u001b[32m2023-08-14 12:11:59.040\u001b[0m | \u001b[1mINFO    \u001b[0m | \u001b[36mtester\u001b[0m:\u001b[36mtest\u001b[0m:\u001b[36m84\u001b[0m - \u001b[1mAcc  : 0.9863\u001b[0m\n",
      "\u001b[32m2023-08-14 12:11:59.040\u001b[0m | \u001b[1mINFO    \u001b[0m | \u001b[36mtester\u001b[0m:\u001b[36mtest\u001b[0m:\u001b[36m84\u001b[0m - \u001b[1mSen  : 0.537\u001b[0m\n",
      "\u001b[32m2023-08-14 12:11:59.041\u001b[0m | \u001b[1mINFO    \u001b[0m | \u001b[36mtester\u001b[0m:\u001b[36mtest\u001b[0m:\u001b[36m84\u001b[0m - \u001b[1mSpe  : 0.9979\u001b[0m\n",
      "\u001b[32m2023-08-14 12:11:59.041\u001b[0m | \u001b[1mINFO    \u001b[0m | \u001b[36mtester\u001b[0m:\u001b[36mtest\u001b[0m:\u001b[36m84\u001b[0m - \u001b[1mpre  : 0.8563\u001b[0m\n",
      "\u001b[32m2023-08-14 12:11:59.042\u001b[0m | \u001b[1mINFO    \u001b[0m | \u001b[36mtester\u001b[0m:\u001b[36mtest\u001b[0m:\u001b[36m84\u001b[0m - \u001b[1mIOU  : 0.4999\u001b[0m\n",
      "\u001b[32m2023-08-14 12:11:59.042\u001b[0m | \u001b[1mINFO    \u001b[0m | \u001b[36mtester\u001b[0m:\u001b[36mtest\u001b[0m:\u001b[36m84\u001b[0m - \u001b[1mMCC  : 0.6566\u001b[0m\n",
      "TEST (184) | Loss: 0.0811 | AUC 0.9925 F1 0.9058 Acc 0.9873  Sen 0.8739 Spe 0.9958 Pre 0.9429 IOU 0.8311 MCC 0.9004 |B 0.08 D 0.01 |: 100%|██████████| 185/185 [00:38<00:00,  4.80it/s]\n",
      "\u001b[32m2023-08-14 12:12:37.852\u001b[0m | \u001b[1mINFO    \u001b[0m | \u001b[36mtester\u001b[0m:\u001b[36mtest\u001b[0m:\u001b[36m78\u001b[0m - \u001b[1m###### TEST EVALUATION ######\u001b[0m\n",
      "\u001b[32m2023-08-14 12:12:37.854\u001b[0m | \u001b[1mINFO    \u001b[0m | \u001b[36mtester\u001b[0m:\u001b[36mtest\u001b[0m:\u001b[36m79\u001b[0m - \u001b[1mtest time:  0.0755\u001b[0m\n",
      "\u001b[32m2023-08-14 12:12:37.854\u001b[0m | \u001b[1mINFO    \u001b[0m | \u001b[36mtester\u001b[0m:\u001b[36mtest\u001b[0m:\u001b[36m80\u001b[0m - \u001b[1m     loss:  0.0811\u001b[0m\n",
      "\u001b[32m2023-08-14 12:12:37.855\u001b[0m | \u001b[1mINFO    \u001b[0m | \u001b[36mtester\u001b[0m:\u001b[36mtest\u001b[0m:\u001b[36m84\u001b[0m - \u001b[1mAUC  : 0.9925\u001b[0m\n",
      "\u001b[32m2023-08-14 12:12:37.855\u001b[0m | \u001b[1mINFO    \u001b[0m | \u001b[36mtester\u001b[0m:\u001b[36mtest\u001b[0m:\u001b[36m84\u001b[0m - \u001b[1mF1   : 0.9058\u001b[0m\n",
      "\u001b[32m2023-08-14 12:12:37.856\u001b[0m | \u001b[1mINFO    \u001b[0m | \u001b[36mtester\u001b[0m:\u001b[36mtest\u001b[0m:\u001b[36m84\u001b[0m - \u001b[1mAcc  : 0.9873\u001b[0m\n",
      "\u001b[32m2023-08-14 12:12:37.856\u001b[0m | \u001b[1mINFO    \u001b[0m | \u001b[36mtester\u001b[0m:\u001b[36mtest\u001b[0m:\u001b[36m84\u001b[0m - \u001b[1mSen  : 0.8739\u001b[0m\n",
      "\u001b[32m2023-08-14 12:12:37.857\u001b[0m | \u001b[1mINFO    \u001b[0m | \u001b[36mtester\u001b[0m:\u001b[36mtest\u001b[0m:\u001b[36m84\u001b[0m - \u001b[1mSpe  : 0.9958\u001b[0m\n",
      "\u001b[32m2023-08-14 12:12:37.858\u001b[0m | \u001b[1mINFO    \u001b[0m | \u001b[36mtester\u001b[0m:\u001b[36mtest\u001b[0m:\u001b[36m84\u001b[0m - \u001b[1mpre  : 0.9429\u001b[0m\n",
      "\u001b[32m2023-08-14 12:12:37.858\u001b[0m | \u001b[1mINFO    \u001b[0m | \u001b[36mtester\u001b[0m:\u001b[36mtest\u001b[0m:\u001b[36m84\u001b[0m - \u001b[1mIOU  : 0.8311\u001b[0m\n",
      "\u001b[32m2023-08-14 12:12:37.859\u001b[0m | \u001b[1mINFO    \u001b[0m | \u001b[36mtester\u001b[0m:\u001b[36mtest\u001b[0m:\u001b[36m84\u001b[0m - \u001b[1mMCC  : 0.9004\u001b[0m\n"
     ]
    }
   ],
   "source": [
    "main_result(config_file, weight_path=check_path, quality=\"LC\", value=0)\n",
    "\n",
    "main_result(config_file, weight_path=check_path, quality=\"LC\", value=1)\n"
   ]
  },
  {
   "cell_type": "markdown",
   "metadata": {},
   "source": [
    "## SAUNet"
   ]
  },
  {
   "cell_type": "code",
   "execution_count": 11,
   "metadata": {},
   "outputs": [],
   "source": [
    "config_file = '../configs/sa_unet_dicebce.yaml'\n",
    "check_path = \"/mnt/qb/berens/users/jfadugba97/RetinaSegmentation/model_results/SA_UNet/FIVES/CE_DiceLoss/checkpoint-epoch70.pth\"\n"
   ]
  },
  {
   "cell_type": "code",
   "execution_count": 12,
   "metadata": {},
   "outputs": [
    {
     "name": "stderr",
     "output_type": "stream",
     "text": [
      "TEST (14) | Loss: 0.3116 | AUC 0.9186 F1 0.6551 Acc 0.9848  Sen 0.6283 Spe 0.9935 Pre 0.7115 IOU 0.5130 MCC 0.6546 |B 0.08 D 0.07 |: 100%|██████████| 15/15 [00:03<00:00,  4.46it/s]\n",
      "\u001b[32m2023-08-14 12:12:41.441\u001b[0m | \u001b[1mINFO    \u001b[0m | \u001b[36mtester\u001b[0m:\u001b[36mtest\u001b[0m:\u001b[36m78\u001b[0m - \u001b[1m###### TEST EVALUATION ######\u001b[0m\n",
      "\u001b[32m2023-08-14 12:12:41.442\u001b[0m | \u001b[1mINFO    \u001b[0m | \u001b[36mtester\u001b[0m:\u001b[36mtest\u001b[0m:\u001b[36m79\u001b[0m - \u001b[1mtest time:  0.082\u001b[0m\n",
      "\u001b[32m2023-08-14 12:12:41.443\u001b[0m | \u001b[1mINFO    \u001b[0m | \u001b[36mtester\u001b[0m:\u001b[36mtest\u001b[0m:\u001b[36m80\u001b[0m - \u001b[1m     loss:  0.3116\u001b[0m\n",
      "\u001b[32m2023-08-14 12:12:41.443\u001b[0m | \u001b[1mINFO    \u001b[0m | \u001b[36mtester\u001b[0m:\u001b[36mtest\u001b[0m:\u001b[36m84\u001b[0m - \u001b[1mAUC  : 0.9186\u001b[0m\n",
      "\u001b[32m2023-08-14 12:12:41.444\u001b[0m | \u001b[1mINFO    \u001b[0m | \u001b[36mtester\u001b[0m:\u001b[36mtest\u001b[0m:\u001b[36m84\u001b[0m - \u001b[1mF1   : 0.6551\u001b[0m\n",
      "\u001b[32m2023-08-14 12:12:41.444\u001b[0m | \u001b[1mINFO    \u001b[0m | \u001b[36mtester\u001b[0m:\u001b[36mtest\u001b[0m:\u001b[36m84\u001b[0m - \u001b[1mAcc  : 0.9848\u001b[0m\n",
      "\u001b[32m2023-08-14 12:12:41.445\u001b[0m | \u001b[1mINFO    \u001b[0m | \u001b[36mtester\u001b[0m:\u001b[36mtest\u001b[0m:\u001b[36m84\u001b[0m - \u001b[1mSen  : 0.6283\u001b[0m\n",
      "\u001b[32m2023-08-14 12:12:41.445\u001b[0m | \u001b[1mINFO    \u001b[0m | \u001b[36mtester\u001b[0m:\u001b[36mtest\u001b[0m:\u001b[36m84\u001b[0m - \u001b[1mSpe  : 0.9935\u001b[0m\n",
      "\u001b[32m2023-08-14 12:12:41.446\u001b[0m | \u001b[1mINFO    \u001b[0m | \u001b[36mtester\u001b[0m:\u001b[36mtest\u001b[0m:\u001b[36m84\u001b[0m - \u001b[1mpre  : 0.7115\u001b[0m\n",
      "\u001b[32m2023-08-14 12:12:41.446\u001b[0m | \u001b[1mINFO    \u001b[0m | \u001b[36mtester\u001b[0m:\u001b[36mtest\u001b[0m:\u001b[36m84\u001b[0m - \u001b[1mIOU  : 0.513\u001b[0m\n",
      "\u001b[32m2023-08-14 12:12:41.446\u001b[0m | \u001b[1mINFO    \u001b[0m | \u001b[36mtester\u001b[0m:\u001b[36mtest\u001b[0m:\u001b[36m84\u001b[0m - \u001b[1mMCC  : 0.6546\u001b[0m\n",
      "TEST (10) | Loss: 0.2272 | AUC 0.9712 F1 0.8021 Acc 0.9818  Sen 0.8105 Spe 0.9901 Pre 0.7979 IOU 0.6723 MCC 0.7936 |B 0.11 D 0.10 |: 100%|██████████| 11/11 [00:02<00:00,  3.99it/s]\n",
      "\u001b[32m2023-08-14 12:12:44.315\u001b[0m | \u001b[1mINFO    \u001b[0m | \u001b[36mtester\u001b[0m:\u001b[36mtest\u001b[0m:\u001b[36m78\u001b[0m - \u001b[1m###### TEST EVALUATION ######\u001b[0m\n",
      "\u001b[32m2023-08-14 12:12:44.315\u001b[0m | \u001b[1mINFO    \u001b[0m | \u001b[36mtester\u001b[0m:\u001b[36mtest\u001b[0m:\u001b[36m79\u001b[0m - \u001b[1mtest time:  0.1073\u001b[0m\n",
      "\u001b[32m2023-08-14 12:12:44.316\u001b[0m | \u001b[1mINFO    \u001b[0m | \u001b[36mtester\u001b[0m:\u001b[36mtest\u001b[0m:\u001b[36m80\u001b[0m - \u001b[1m     loss:  0.2272\u001b[0m\n",
      "\u001b[32m2023-08-14 12:12:44.317\u001b[0m | \u001b[1mINFO    \u001b[0m | \u001b[36mtester\u001b[0m:\u001b[36mtest\u001b[0m:\u001b[36m84\u001b[0m - \u001b[1mAUC  : 0.9712\u001b[0m\n",
      "\u001b[32m2023-08-14 12:12:44.317\u001b[0m | \u001b[1mINFO    \u001b[0m | \u001b[36mtester\u001b[0m:\u001b[36mtest\u001b[0m:\u001b[36m84\u001b[0m - \u001b[1mF1   : 0.8021\u001b[0m\n",
      "\u001b[32m2023-08-14 12:12:44.318\u001b[0m | \u001b[1mINFO    \u001b[0m | \u001b[36mtester\u001b[0m:\u001b[36mtest\u001b[0m:\u001b[36m84\u001b[0m - \u001b[1mAcc  : 0.9818\u001b[0m\n",
      "\u001b[32m2023-08-14 12:12:44.318\u001b[0m | \u001b[1mINFO    \u001b[0m | \u001b[36mtester\u001b[0m:\u001b[36mtest\u001b[0m:\u001b[36m84\u001b[0m - \u001b[1mSen  : 0.8105\u001b[0m\n",
      "\u001b[32m2023-08-14 12:12:44.319\u001b[0m | \u001b[1mINFO    \u001b[0m | \u001b[36mtester\u001b[0m:\u001b[36mtest\u001b[0m:\u001b[36m84\u001b[0m - \u001b[1mSpe  : 0.9901\u001b[0m\n",
      "\u001b[32m2023-08-14 12:12:44.319\u001b[0m | \u001b[1mINFO    \u001b[0m | \u001b[36mtester\u001b[0m:\u001b[36mtest\u001b[0m:\u001b[36m84\u001b[0m - \u001b[1mpre  : 0.7979\u001b[0m\n",
      "\u001b[32m2023-08-14 12:12:44.319\u001b[0m | \u001b[1mINFO    \u001b[0m | \u001b[36mtester\u001b[0m:\u001b[36mtest\u001b[0m:\u001b[36m84\u001b[0m - \u001b[1mIOU  : 0.6723\u001b[0m\n",
      "\u001b[32m2023-08-14 12:12:44.320\u001b[0m | \u001b[1mINFO    \u001b[0m | \u001b[36mtester\u001b[0m:\u001b[36mtest\u001b[0m:\u001b[36m84\u001b[0m - \u001b[1mMCC  : 0.7936\u001b[0m\n",
      "TEST (40) | Loss: 0.1856 | AUC 0.9834 F1 0.8470 Acc 0.9800  Sen 0.8961 Spe 0.9853 Pre 0.8096 IOU 0.7389 MCC 0.8395 |B 0.04 D 0.03 |: 100%|██████████| 41/41 [00:07<00:00,  5.67it/s]\n",
      "\u001b[32m2023-08-14 12:12:51.613\u001b[0m | \u001b[1mINFO    \u001b[0m | \u001b[36mtester\u001b[0m:\u001b[36mtest\u001b[0m:\u001b[36m78\u001b[0m - \u001b[1m###### TEST EVALUATION ######\u001b[0m\n",
      "\u001b[32m2023-08-14 12:12:51.613\u001b[0m | \u001b[1mINFO    \u001b[0m | \u001b[36mtester\u001b[0m:\u001b[36mtest\u001b[0m:\u001b[36m79\u001b[0m - \u001b[1mtest time:  0.0361\u001b[0m\n",
      "\u001b[32m2023-08-14 12:12:51.614\u001b[0m | \u001b[1mINFO    \u001b[0m | \u001b[36mtester\u001b[0m:\u001b[36mtest\u001b[0m:\u001b[36m80\u001b[0m - \u001b[1m     loss:  0.1856\u001b[0m\n",
      "\u001b[32m2023-08-14 12:12:51.614\u001b[0m | \u001b[1mINFO    \u001b[0m | \u001b[36mtester\u001b[0m:\u001b[36mtest\u001b[0m:\u001b[36m84\u001b[0m - \u001b[1mAUC  : 0.9834\u001b[0m\n",
      "\u001b[32m2023-08-14 12:12:51.615\u001b[0m | \u001b[1mINFO    \u001b[0m | \u001b[36mtester\u001b[0m:\u001b[36mtest\u001b[0m:\u001b[36m84\u001b[0m - \u001b[1mF1   : 0.847\u001b[0m\n",
      "\u001b[32m2023-08-14 12:12:51.615\u001b[0m | \u001b[1mINFO    \u001b[0m | \u001b[36mtester\u001b[0m:\u001b[36mtest\u001b[0m:\u001b[36m84\u001b[0m - \u001b[1mAcc  : 0.98\u001b[0m\n",
      "\u001b[32m2023-08-14 12:12:51.617\u001b[0m | \u001b[1mINFO    \u001b[0m | \u001b[36mtester\u001b[0m:\u001b[36mtest\u001b[0m:\u001b[36m84\u001b[0m - \u001b[1mSen  : 0.8961\u001b[0m\n",
      "\u001b[32m2023-08-14 12:12:51.617\u001b[0m | \u001b[1mINFO    \u001b[0m | \u001b[36mtester\u001b[0m:\u001b[36mtest\u001b[0m:\u001b[36m84\u001b[0m - \u001b[1mSpe  : 0.9853\u001b[0m\n",
      "\u001b[32m2023-08-14 12:12:51.618\u001b[0m | \u001b[1mINFO    \u001b[0m | \u001b[36mtester\u001b[0m:\u001b[36mtest\u001b[0m:\u001b[36m84\u001b[0m - \u001b[1mpre  : 0.8096\u001b[0m\n",
      "\u001b[32m2023-08-14 12:12:51.618\u001b[0m | \u001b[1mINFO    \u001b[0m | \u001b[36mtester\u001b[0m:\u001b[36mtest\u001b[0m:\u001b[36m84\u001b[0m - \u001b[1mIOU  : 0.7389\u001b[0m\n",
      "\u001b[32m2023-08-14 12:12:51.619\u001b[0m | \u001b[1mINFO    \u001b[0m | \u001b[36mtester\u001b[0m:\u001b[36mtest\u001b[0m:\u001b[36m84\u001b[0m - \u001b[1mMCC  : 0.8395\u001b[0m\n",
      "TEST (132) | Loss: 0.1573 | AUC 0.9892 F1 0.8780 Acc 0.9794  Sen 0.9338 Spe 0.9832 Pre 0.8298 IOU 0.7841 MCC 0.8690 |B 0.02 D 0.01 |: 100%|██████████| 133/133 [00:20<00:00,  6.42it/s]\n",
      "\u001b[32m2023-08-14 12:13:12.442\u001b[0m | \u001b[1mINFO    \u001b[0m | \u001b[36mtester\u001b[0m:\u001b[36mtest\u001b[0m:\u001b[36m78\u001b[0m - \u001b[1m###### TEST EVALUATION ######\u001b[0m\n",
      "\u001b[32m2023-08-14 12:13:12.443\u001b[0m | \u001b[1mINFO    \u001b[0m | \u001b[36mtester\u001b[0m:\u001b[36mtest\u001b[0m:\u001b[36m79\u001b[0m - \u001b[1mtest time:  0.0158\u001b[0m\n",
      "\u001b[32m2023-08-14 12:13:12.443\u001b[0m | \u001b[1mINFO    \u001b[0m | \u001b[36mtester\u001b[0m:\u001b[36mtest\u001b[0m:\u001b[36m80\u001b[0m - \u001b[1m     loss:  0.1573\u001b[0m\n",
      "\u001b[32m2023-08-14 12:13:12.444\u001b[0m | \u001b[1mINFO    \u001b[0m | \u001b[36mtester\u001b[0m:\u001b[36mtest\u001b[0m:\u001b[36m84\u001b[0m - \u001b[1mAUC  : 0.9892\u001b[0m\n",
      "\u001b[32m2023-08-14 12:13:12.444\u001b[0m | \u001b[1mINFO    \u001b[0m | \u001b[36mtester\u001b[0m:\u001b[36mtest\u001b[0m:\u001b[36m84\u001b[0m - \u001b[1mF1   : 0.878\u001b[0m\n",
      "\u001b[32m2023-08-14 12:13:12.445\u001b[0m | \u001b[1mINFO    \u001b[0m | \u001b[36mtester\u001b[0m:\u001b[36mtest\u001b[0m:\u001b[36m84\u001b[0m - \u001b[1mAcc  : 0.9794\u001b[0m\n",
      "\u001b[32m2023-08-14 12:13:12.445\u001b[0m | \u001b[1mINFO    \u001b[0m | \u001b[36mtester\u001b[0m:\u001b[36mtest\u001b[0m:\u001b[36m84\u001b[0m - \u001b[1mSen  : 0.9338\u001b[0m\n",
      "\u001b[32m2023-08-14 12:13:12.445\u001b[0m | \u001b[1mINFO    \u001b[0m | \u001b[36mtester\u001b[0m:\u001b[36mtest\u001b[0m:\u001b[36m84\u001b[0m - \u001b[1mSpe  : 0.9832\u001b[0m\n",
      "\u001b[32m2023-08-14 12:13:12.446\u001b[0m | \u001b[1mINFO    \u001b[0m | \u001b[36mtester\u001b[0m:\u001b[36mtest\u001b[0m:\u001b[36m84\u001b[0m - \u001b[1mpre  : 0.8298\u001b[0m\n",
      "\u001b[32m2023-08-14 12:13:12.447\u001b[0m | \u001b[1mINFO    \u001b[0m | \u001b[36mtester\u001b[0m:\u001b[36mtest\u001b[0m:\u001b[36m84\u001b[0m - \u001b[1mIOU  : 0.7841\u001b[0m\n",
      "\u001b[32m2023-08-14 12:13:12.447\u001b[0m | \u001b[1mINFO    \u001b[0m | \u001b[36mtester\u001b[0m:\u001b[36mtest\u001b[0m:\u001b[36m84\u001b[0m - \u001b[1mMCC  : 0.869\u001b[0m\n"
     ]
    }
   ],
   "source": [
    "main_result(config_file, weight_path=check_path, quality=\"Score\", value=0)\n",
    "\n",
    "main_result(config_file, weight_path=check_path, quality=\"Score\", value=1)\n",
    "\n",
    "main_result(config_file, weight_path=check_path, quality=\"Score\", value=2)\n",
    "\n",
    "main_result(config_file, weight_path=check_path, quality=\"Score\", value=3)"
   ]
  },
  {
   "cell_type": "code",
   "execution_count": 13,
   "metadata": {},
   "outputs": [
    {
     "name": "stderr",
     "output_type": "stream",
     "text": [
      "TEST (51) | Loss: 0.2217 | AUC 0.9632 F1 0.7916 Acc 0.9813  Sen 0.8090 Spe 0.9881 Pre 0.7866 IOU 0.6725 MCC 0.7849 |B 0.03 D 0.02 |: 100%|██████████| 52/52 [00:08<00:00,  5.98it/s]\n",
      "\u001b[32m2023-08-14 12:13:21.234\u001b[0m | \u001b[1mINFO    \u001b[0m | \u001b[36mtester\u001b[0m:\u001b[36mtest\u001b[0m:\u001b[36m78\u001b[0m - \u001b[1m###### TEST EVALUATION ######\u001b[0m\n",
      "\u001b[32m2023-08-14 12:13:21.235\u001b[0m | \u001b[1mINFO    \u001b[0m | \u001b[36mtester\u001b[0m:\u001b[36mtest\u001b[0m:\u001b[36m79\u001b[0m - \u001b[1mtest time:  0.0299\u001b[0m\n",
      "\u001b[32m2023-08-14 12:13:21.235\u001b[0m | \u001b[1mINFO    \u001b[0m | \u001b[36mtester\u001b[0m:\u001b[36mtest\u001b[0m:\u001b[36m80\u001b[0m - \u001b[1m     loss:  0.2217\u001b[0m\n",
      "\u001b[32m2023-08-14 12:13:21.236\u001b[0m | \u001b[1mINFO    \u001b[0m | \u001b[36mtester\u001b[0m:\u001b[36mtest\u001b[0m:\u001b[36m84\u001b[0m - \u001b[1mAUC  : 0.9632\u001b[0m\n",
      "\u001b[32m2023-08-14 12:13:21.236\u001b[0m | \u001b[1mINFO    \u001b[0m | \u001b[36mtester\u001b[0m:\u001b[36mtest\u001b[0m:\u001b[36m84\u001b[0m - \u001b[1mF1   : 0.7916\u001b[0m\n",
      "\u001b[32m2023-08-14 12:13:21.236\u001b[0m | \u001b[1mINFO    \u001b[0m | \u001b[36mtester\u001b[0m:\u001b[36mtest\u001b[0m:\u001b[36m84\u001b[0m - \u001b[1mAcc  : 0.9813\u001b[0m\n",
      "\u001b[32m2023-08-14 12:13:21.237\u001b[0m | \u001b[1mINFO    \u001b[0m | \u001b[36mtester\u001b[0m:\u001b[36mtest\u001b[0m:\u001b[36m84\u001b[0m - \u001b[1mSen  : 0.809\u001b[0m\n",
      "\u001b[32m2023-08-14 12:13:21.238\u001b[0m | \u001b[1mINFO    \u001b[0m | \u001b[36mtester\u001b[0m:\u001b[36mtest\u001b[0m:\u001b[36m84\u001b[0m - \u001b[1mSpe  : 0.9881\u001b[0m\n",
      "\u001b[32m2023-08-14 12:13:21.238\u001b[0m | \u001b[1mINFO    \u001b[0m | \u001b[36mtester\u001b[0m:\u001b[36mtest\u001b[0m:\u001b[36m84\u001b[0m - \u001b[1mpre  : 0.7866\u001b[0m\n",
      "\u001b[32m2023-08-14 12:13:21.239\u001b[0m | \u001b[1mINFO    \u001b[0m | \u001b[36mtester\u001b[0m:\u001b[36mtest\u001b[0m:\u001b[36m84\u001b[0m - \u001b[1mIOU  : 0.6725\u001b[0m\n",
      "\u001b[32m2023-08-14 12:13:21.239\u001b[0m | \u001b[1mINFO    \u001b[0m | \u001b[36mtester\u001b[0m:\u001b[36mtest\u001b[0m:\u001b[36m84\u001b[0m - \u001b[1mMCC  : 0.7849\u001b[0m\n",
      "TEST (147) | Loss: 0.1634 | AUC 0.9882 F1 0.8715 Acc 0.9796  Sen 0.9271 Spe 0.9836 Pre 0.8250 IOU 0.7750 MCC 0.8631 |B 0.02 D 0.01 |: 100%|██████████| 148/148 [00:22<00:00,  6.54it/s]\n",
      "\u001b[32m2023-08-14 12:13:43.952\u001b[0m | \u001b[1mINFO    \u001b[0m | \u001b[36mtester\u001b[0m:\u001b[36mtest\u001b[0m:\u001b[36m78\u001b[0m - \u001b[1m###### TEST EVALUATION ######\u001b[0m\n",
      "\u001b[32m2023-08-14 12:13:43.953\u001b[0m | \u001b[1mINFO    \u001b[0m | \u001b[36mtester\u001b[0m:\u001b[36mtest\u001b[0m:\u001b[36m79\u001b[0m - \u001b[1mtest time:  0.0153\u001b[0m\n",
      "\u001b[32m2023-08-14 12:13:43.953\u001b[0m | \u001b[1mINFO    \u001b[0m | \u001b[36mtester\u001b[0m:\u001b[36mtest\u001b[0m:\u001b[36m80\u001b[0m - \u001b[1m     loss:  0.1634\u001b[0m\n",
      "\u001b[32m2023-08-14 12:13:43.954\u001b[0m | \u001b[1mINFO    \u001b[0m | \u001b[36mtester\u001b[0m:\u001b[36mtest\u001b[0m:\u001b[36m84\u001b[0m - \u001b[1mAUC  : 0.9882\u001b[0m\n",
      "\u001b[32m2023-08-14 12:13:43.954\u001b[0m | \u001b[1mINFO    \u001b[0m | \u001b[36mtester\u001b[0m:\u001b[36mtest\u001b[0m:\u001b[36m84\u001b[0m - \u001b[1mF1   : 0.8715\u001b[0m\n",
      "\u001b[32m2023-08-14 12:13:43.955\u001b[0m | \u001b[1mINFO    \u001b[0m | \u001b[36mtester\u001b[0m:\u001b[36mtest\u001b[0m:\u001b[36m84\u001b[0m - \u001b[1mAcc  : 0.9796\u001b[0m\n",
      "\u001b[32m2023-08-14 12:13:43.955\u001b[0m | \u001b[1mINFO    \u001b[0m | \u001b[36mtester\u001b[0m:\u001b[36mtest\u001b[0m:\u001b[36m84\u001b[0m - \u001b[1mSen  : 0.9271\u001b[0m\n",
      "\u001b[32m2023-08-14 12:13:43.955\u001b[0m | \u001b[1mINFO    \u001b[0m | \u001b[36mtester\u001b[0m:\u001b[36mtest\u001b[0m:\u001b[36m84\u001b[0m - \u001b[1mSpe  : 0.9836\u001b[0m\n",
      "\u001b[32m2023-08-14 12:13:43.956\u001b[0m | \u001b[1mINFO    \u001b[0m | \u001b[36mtester\u001b[0m:\u001b[36mtest\u001b[0m:\u001b[36m84\u001b[0m - \u001b[1mpre  : 0.825\u001b[0m\n",
      "\u001b[32m2023-08-14 12:13:43.956\u001b[0m | \u001b[1mINFO    \u001b[0m | \u001b[36mtester\u001b[0m:\u001b[36mtest\u001b[0m:\u001b[36m84\u001b[0m - \u001b[1mIOU  : 0.775\u001b[0m\n",
      "\u001b[32m2023-08-14 12:13:43.957\u001b[0m | \u001b[1mINFO    \u001b[0m | \u001b[36mtester\u001b[0m:\u001b[36mtest\u001b[0m:\u001b[36m84\u001b[0m - \u001b[1mMCC  : 0.8631\u001b[0m\n"
     ]
    }
   ],
   "source": [
    "main_result(config_file, weight_path=check_path, quality=\"IC\", value=0)\n",
    "\n",
    "main_result(config_file, weight_path=check_path, quality=\"IC\", value=1)\n"
   ]
  },
  {
   "cell_type": "code",
   "execution_count": 14,
   "metadata": {},
   "outputs": [
    {
     "name": "stderr",
     "output_type": "stream",
     "text": [
      "TEST (40) | Loss: 0.2544 | AUC 0.9551 F1 0.7528 Acc 0.9829  Sen 0.7647 Spe 0.9904 Pre 0.7607 IOU 0.6221 MCC 0.7489 |B 0.04 D 0.03 |: 100%|██████████| 41/41 [00:07<00:00,  5.71it/s]\n",
      "\u001b[32m2023-08-14 12:13:51.211\u001b[0m | \u001b[1mINFO    \u001b[0m | \u001b[36mtester\u001b[0m:\u001b[36mtest\u001b[0m:\u001b[36m78\u001b[0m - \u001b[1m###### TEST EVALUATION ######\u001b[0m\n",
      "\u001b[32m2023-08-14 12:13:51.212\u001b[0m | \u001b[1mINFO    \u001b[0m | \u001b[36mtester\u001b[0m:\u001b[36mtest\u001b[0m:\u001b[36m79\u001b[0m - \u001b[1mtest time:  0.0394\u001b[0m\n",
      "\u001b[32m2023-08-14 12:13:51.213\u001b[0m | \u001b[1mINFO    \u001b[0m | \u001b[36mtester\u001b[0m:\u001b[36mtest\u001b[0m:\u001b[36m80\u001b[0m - \u001b[1m     loss:  0.2544\u001b[0m\n",
      "\u001b[32m2023-08-14 12:13:51.213\u001b[0m | \u001b[1mINFO    \u001b[0m | \u001b[36mtester\u001b[0m:\u001b[36mtest\u001b[0m:\u001b[36m84\u001b[0m - \u001b[1mAUC  : 0.9551\u001b[0m\n",
      "\u001b[32m2023-08-14 12:13:51.214\u001b[0m | \u001b[1mINFO    \u001b[0m | \u001b[36mtester\u001b[0m:\u001b[36mtest\u001b[0m:\u001b[36m84\u001b[0m - \u001b[1mF1   : 0.7528\u001b[0m\n",
      "\u001b[32m2023-08-14 12:13:51.214\u001b[0m | \u001b[1mINFO    \u001b[0m | \u001b[36mtester\u001b[0m:\u001b[36mtest\u001b[0m:\u001b[36m84\u001b[0m - \u001b[1mAcc  : 0.9829\u001b[0m\n",
      "\u001b[32m2023-08-14 12:13:51.215\u001b[0m | \u001b[1mINFO    \u001b[0m | \u001b[36mtester\u001b[0m:\u001b[36mtest\u001b[0m:\u001b[36m84\u001b[0m - \u001b[1mSen  : 0.7647\u001b[0m\n",
      "\u001b[32m2023-08-14 12:13:51.215\u001b[0m | \u001b[1mINFO    \u001b[0m | \u001b[36mtester\u001b[0m:\u001b[36mtest\u001b[0m:\u001b[36m84\u001b[0m - \u001b[1mSpe  : 0.9904\u001b[0m\n",
      "\u001b[32m2023-08-14 12:13:51.216\u001b[0m | \u001b[1mINFO    \u001b[0m | \u001b[36mtester\u001b[0m:\u001b[36mtest\u001b[0m:\u001b[36m84\u001b[0m - \u001b[1mpre  : 0.7607\u001b[0m\n",
      "\u001b[32m2023-08-14 12:13:51.216\u001b[0m | \u001b[1mINFO    \u001b[0m | \u001b[36mtester\u001b[0m:\u001b[36mtest\u001b[0m:\u001b[36m84\u001b[0m - \u001b[1mIOU  : 0.6221\u001b[0m\n",
      "\u001b[32m2023-08-14 12:13:51.217\u001b[0m | \u001b[1mINFO    \u001b[0m | \u001b[36mtester\u001b[0m:\u001b[36mtest\u001b[0m:\u001b[36m84\u001b[0m - \u001b[1mMCC  : 0.7489\u001b[0m\n",
      "TEST (158) | Loss: 0.1590 | AUC 0.9886 F1 0.8760 Acc 0.9793  Sen 0.9304 Spe 0.9833 Pre 0.8290 IOU 0.7809 MCC 0.8669 |B 0.01 D 0.01 |: 100%|██████████| 159/159 [00:24<00:00,  6.49it/s]\n",
      "\u001b[32m2023-08-14 12:14:15.782\u001b[0m | \u001b[1mINFO    \u001b[0m | \u001b[36mtester\u001b[0m:\u001b[36mtest\u001b[0m:\u001b[36m78\u001b[0m - \u001b[1m###### TEST EVALUATION ######\u001b[0m\n",
      "\u001b[32m2023-08-14 12:14:15.783\u001b[0m | \u001b[1mINFO    \u001b[0m | \u001b[36mtester\u001b[0m:\u001b[36mtest\u001b[0m:\u001b[36m79\u001b[0m - \u001b[1mtest time:  0.0146\u001b[0m\n",
      "\u001b[32m2023-08-14 12:14:15.784\u001b[0m | \u001b[1mINFO    \u001b[0m | \u001b[36mtester\u001b[0m:\u001b[36mtest\u001b[0m:\u001b[36m80\u001b[0m - \u001b[1m     loss:  0.159\u001b[0m\n",
      "\u001b[32m2023-08-14 12:14:15.784\u001b[0m | \u001b[1mINFO    \u001b[0m | \u001b[36mtester\u001b[0m:\u001b[36mtest\u001b[0m:\u001b[36m84\u001b[0m - \u001b[1mAUC  : 0.9886\u001b[0m\n",
      "\u001b[32m2023-08-14 12:14:15.785\u001b[0m | \u001b[1mINFO    \u001b[0m | \u001b[36mtester\u001b[0m:\u001b[36mtest\u001b[0m:\u001b[36m84\u001b[0m - \u001b[1mF1   : 0.876\u001b[0m\n",
      "\u001b[32m2023-08-14 12:14:15.785\u001b[0m | \u001b[1mINFO    \u001b[0m | \u001b[36mtester\u001b[0m:\u001b[36mtest\u001b[0m:\u001b[36m84\u001b[0m - \u001b[1mAcc  : 0.9793\u001b[0m\n",
      "\u001b[32m2023-08-14 12:14:15.786\u001b[0m | \u001b[1mINFO    \u001b[0m | \u001b[36mtester\u001b[0m:\u001b[36mtest\u001b[0m:\u001b[36m84\u001b[0m - \u001b[1mSen  : 0.9304\u001b[0m\n",
      "\u001b[32m2023-08-14 12:14:15.787\u001b[0m | \u001b[1mINFO    \u001b[0m | \u001b[36mtester\u001b[0m:\u001b[36mtest\u001b[0m:\u001b[36m84\u001b[0m - \u001b[1mSpe  : 0.9833\u001b[0m\n",
      "\u001b[32m2023-08-14 12:14:15.787\u001b[0m | \u001b[1mINFO    \u001b[0m | \u001b[36mtester\u001b[0m:\u001b[36mtest\u001b[0m:\u001b[36m84\u001b[0m - \u001b[1mpre  : 0.829\u001b[0m\n",
      "\u001b[32m2023-08-14 12:14:15.788\u001b[0m | \u001b[1mINFO    \u001b[0m | \u001b[36mtester\u001b[0m:\u001b[36mtest\u001b[0m:\u001b[36m84\u001b[0m - \u001b[1mIOU  : 0.7809\u001b[0m\n",
      "\u001b[32m2023-08-14 12:14:15.788\u001b[0m | \u001b[1mINFO    \u001b[0m | \u001b[36mtester\u001b[0m:\u001b[36mtest\u001b[0m:\u001b[36m84\u001b[0m - \u001b[1mMCC  : 0.8669\u001b[0m\n"
     ]
    }
   ],
   "source": [
    "main_result(config_file, weight_path=check_path, quality=\"Blur\", value=0)\n",
    "\n",
    "main_result(config_file, weight_path=check_path, quality=\"Blur\", value=1)\n"
   ]
  },
  {
   "cell_type": "code",
   "execution_count": 15,
   "metadata": {},
   "outputs": [
    {
     "name": "stderr",
     "output_type": "stream",
     "text": [
      "TEST (14) | Loss: 0.3116 | AUC 0.9186 F1 0.6551 Acc 0.9848  Sen 0.6283 Spe 0.9935 Pre 0.7115 IOU 0.5130 MCC 0.6546 |B 0.09 D 0.08 |: 100%|██████████| 15/15 [00:03<00:00,  4.41it/s]\n",
      "\u001b[32m2023-08-14 12:14:19.264\u001b[0m | \u001b[1mINFO    \u001b[0m | \u001b[36mtester\u001b[0m:\u001b[36mtest\u001b[0m:\u001b[36m78\u001b[0m - \u001b[1m###### TEST EVALUATION ######\u001b[0m\n",
      "\u001b[32m2023-08-14 12:14:19.265\u001b[0m | \u001b[1mINFO    \u001b[0m | \u001b[36mtester\u001b[0m:\u001b[36mtest\u001b[0m:\u001b[36m79\u001b[0m - \u001b[1mtest time:  0.0869\u001b[0m\n",
      "\u001b[32m2023-08-14 12:14:19.265\u001b[0m | \u001b[1mINFO    \u001b[0m | \u001b[36mtester\u001b[0m:\u001b[36mtest\u001b[0m:\u001b[36m80\u001b[0m - \u001b[1m     loss:  0.3116\u001b[0m\n",
      "\u001b[32m2023-08-14 12:14:19.266\u001b[0m | \u001b[1mINFO    \u001b[0m | \u001b[36mtester\u001b[0m:\u001b[36mtest\u001b[0m:\u001b[36m84\u001b[0m - \u001b[1mAUC  : 0.9186\u001b[0m\n",
      "\u001b[32m2023-08-14 12:14:19.266\u001b[0m | \u001b[1mINFO    \u001b[0m | \u001b[36mtester\u001b[0m:\u001b[36mtest\u001b[0m:\u001b[36m84\u001b[0m - \u001b[1mF1   : 0.6551\u001b[0m\n",
      "\u001b[32m2023-08-14 12:14:19.266\u001b[0m | \u001b[1mINFO    \u001b[0m | \u001b[36mtester\u001b[0m:\u001b[36mtest\u001b[0m:\u001b[36m84\u001b[0m - \u001b[1mAcc  : 0.9848\u001b[0m\n",
      "\u001b[32m2023-08-14 12:14:19.267\u001b[0m | \u001b[1mINFO    \u001b[0m | \u001b[36mtester\u001b[0m:\u001b[36mtest\u001b[0m:\u001b[36m84\u001b[0m - \u001b[1mSen  : 0.6283\u001b[0m\n",
      "\u001b[32m2023-08-14 12:14:19.268\u001b[0m | \u001b[1mINFO    \u001b[0m | \u001b[36mtester\u001b[0m:\u001b[36mtest\u001b[0m:\u001b[36m84\u001b[0m - \u001b[1mSpe  : 0.9935\u001b[0m\n",
      "\u001b[32m2023-08-14 12:14:19.268\u001b[0m | \u001b[1mINFO    \u001b[0m | \u001b[36mtester\u001b[0m:\u001b[36mtest\u001b[0m:\u001b[36m84\u001b[0m - \u001b[1mpre  : 0.7115\u001b[0m\n",
      "\u001b[32m2023-08-14 12:14:19.269\u001b[0m | \u001b[1mINFO    \u001b[0m | \u001b[36mtester\u001b[0m:\u001b[36mtest\u001b[0m:\u001b[36m84\u001b[0m - \u001b[1mIOU  : 0.513\u001b[0m\n",
      "\u001b[32m2023-08-14 12:14:19.270\u001b[0m | \u001b[1mINFO    \u001b[0m | \u001b[36mtester\u001b[0m:\u001b[36mtest\u001b[0m:\u001b[36m84\u001b[0m - \u001b[1mMCC  : 0.6546\u001b[0m\n",
      "TEST (184) | Loss: 0.1678 | AUC 0.9868 F1 0.8666 Acc 0.9796  Sen 0.9181 Spe 0.9841 Pre 0.8234 IOU 0.7675 MCC 0.8580 |B 0.01 D 0.01 |: 100%|██████████| 185/185 [00:28<00:00,  6.60it/s]\n",
      "\u001b[32m2023-08-14 12:14:47.369\u001b[0m | \u001b[1mINFO    \u001b[0m | \u001b[36mtester\u001b[0m:\u001b[36mtest\u001b[0m:\u001b[36m78\u001b[0m - \u001b[1m###### TEST EVALUATION ######\u001b[0m\n",
      "\u001b[32m2023-08-14 12:14:47.370\u001b[0m | \u001b[1mINFO    \u001b[0m | \u001b[36mtester\u001b[0m:\u001b[36mtest\u001b[0m:\u001b[36m79\u001b[0m - \u001b[1mtest time:  0.0139\u001b[0m\n",
      "\u001b[32m2023-08-14 12:14:47.371\u001b[0m | \u001b[1mINFO    \u001b[0m | \u001b[36mtester\u001b[0m:\u001b[36mtest\u001b[0m:\u001b[36m80\u001b[0m - \u001b[1m     loss:  0.1678\u001b[0m\n",
      "\u001b[32m2023-08-14 12:14:47.371\u001b[0m | \u001b[1mINFO    \u001b[0m | \u001b[36mtester\u001b[0m:\u001b[36mtest\u001b[0m:\u001b[36m84\u001b[0m - \u001b[1mAUC  : 0.9868\u001b[0m\n",
      "\u001b[32m2023-08-14 12:14:47.372\u001b[0m | \u001b[1mINFO    \u001b[0m | \u001b[36mtester\u001b[0m:\u001b[36mtest\u001b[0m:\u001b[36m84\u001b[0m - \u001b[1mF1   : 0.8666\u001b[0m\n",
      "\u001b[32m2023-08-14 12:14:47.373\u001b[0m | \u001b[1mINFO    \u001b[0m | \u001b[36mtester\u001b[0m:\u001b[36mtest\u001b[0m:\u001b[36m84\u001b[0m - \u001b[1mAcc  : 0.9796\u001b[0m\n",
      "\u001b[32m2023-08-14 12:14:47.373\u001b[0m | \u001b[1mINFO    \u001b[0m | \u001b[36mtester\u001b[0m:\u001b[36mtest\u001b[0m:\u001b[36m84\u001b[0m - \u001b[1mSen  : 0.9181\u001b[0m\n",
      "\u001b[32m2023-08-14 12:14:47.373\u001b[0m | \u001b[1mINFO    \u001b[0m | \u001b[36mtester\u001b[0m:\u001b[36mtest\u001b[0m:\u001b[36m84\u001b[0m - \u001b[1mSpe  : 0.9841\u001b[0m\n",
      "\u001b[32m2023-08-14 12:14:47.374\u001b[0m | \u001b[1mINFO    \u001b[0m | \u001b[36mtester\u001b[0m:\u001b[36mtest\u001b[0m:\u001b[36m84\u001b[0m - \u001b[1mpre  : 0.8234\u001b[0m\n",
      "\u001b[32m2023-08-14 12:14:47.374\u001b[0m | \u001b[1mINFO    \u001b[0m | \u001b[36mtester\u001b[0m:\u001b[36mtest\u001b[0m:\u001b[36m84\u001b[0m - \u001b[1mIOU  : 0.7675\u001b[0m\n",
      "\u001b[32m2023-08-14 12:14:47.375\u001b[0m | \u001b[1mINFO    \u001b[0m | \u001b[36mtester\u001b[0m:\u001b[36mtest\u001b[0m:\u001b[36m84\u001b[0m - \u001b[1mMCC  : 0.858\u001b[0m\n"
     ]
    }
   ],
   "source": [
    "main_result(config_file, weight_path=check_path, quality=\"LC\", value=0)\n",
    "\n",
    "main_result(config_file, weight_path=check_path, quality=\"LC\", value=1)\n"
   ]
  },
  {
   "cell_type": "markdown",
   "metadata": {},
   "source": [
    "## MANet"
   ]
  },
  {
   "cell_type": "code",
   "execution_count": 16,
   "metadata": {},
   "outputs": [],
   "source": [
    "config_file = '../configs/manet_dicebce.yaml'\n",
    "check_path = \"/mnt/qb/berens/users/jfadugba97/RetinaSegmentation/model_results/MANet/FIVES/CE_DiceLoss/checkpoint-epoch70.pth\"\n"
   ]
  },
  {
   "cell_type": "code",
   "execution_count": 17,
   "metadata": {},
   "outputs": [
    {
     "name": "stderr",
     "output_type": "stream",
     "text": [
      "TEST (14) | Loss: 0.1853 | AUC 0.9631 F1 0.6995 Acc 0.9875  Sen 0.6492 Spe 0.9958 Pre 0.8023 IOU 0.5645 MCC 0.7054 |B 0.10 D 0.08 |: 100%|██████████| 15/15 [00:03<00:00,  4.22it/s]\n",
      "\u001b[32m2023-08-14 12:14:57.718\u001b[0m | \u001b[1mINFO    \u001b[0m | \u001b[36mtester\u001b[0m:\u001b[36mtest\u001b[0m:\u001b[36m78\u001b[0m - \u001b[1m###### TEST EVALUATION ######\u001b[0m\n",
      "\u001b[32m2023-08-14 12:14:57.718\u001b[0m | \u001b[1mINFO    \u001b[0m | \u001b[36mtester\u001b[0m:\u001b[36mtest\u001b[0m:\u001b[36m79\u001b[0m - \u001b[1mtest time:  0.0958\u001b[0m\n",
      "\u001b[32m2023-08-14 12:14:57.719\u001b[0m | \u001b[1mINFO    \u001b[0m | \u001b[36mtester\u001b[0m:\u001b[36mtest\u001b[0m:\u001b[36m80\u001b[0m - \u001b[1m     loss:  0.1853\u001b[0m\n",
      "\u001b[32m2023-08-14 12:14:57.719\u001b[0m | \u001b[1mINFO    \u001b[0m | \u001b[36mtester\u001b[0m:\u001b[36mtest\u001b[0m:\u001b[36m84\u001b[0m - \u001b[1mAUC  : 0.9631\u001b[0m\n",
      "\u001b[32m2023-08-14 12:14:57.720\u001b[0m | \u001b[1mINFO    \u001b[0m | \u001b[36mtester\u001b[0m:\u001b[36mtest\u001b[0m:\u001b[36m84\u001b[0m - \u001b[1mF1   : 0.6995\u001b[0m\n",
      "\u001b[32m2023-08-14 12:14:57.720\u001b[0m | \u001b[1mINFO    \u001b[0m | \u001b[36mtester\u001b[0m:\u001b[36mtest\u001b[0m:\u001b[36m84\u001b[0m - \u001b[1mAcc  : 0.9875\u001b[0m\n",
      "\u001b[32m2023-08-14 12:14:57.721\u001b[0m | \u001b[1mINFO    \u001b[0m | \u001b[36mtester\u001b[0m:\u001b[36mtest\u001b[0m:\u001b[36m84\u001b[0m - \u001b[1mSen  : 0.6492\u001b[0m\n",
      "\u001b[32m2023-08-14 12:14:57.721\u001b[0m | \u001b[1mINFO    \u001b[0m | \u001b[36mtester\u001b[0m:\u001b[36mtest\u001b[0m:\u001b[36m84\u001b[0m - \u001b[1mSpe  : 0.9958\u001b[0m\n",
      "\u001b[32m2023-08-14 12:14:57.722\u001b[0m | \u001b[1mINFO    \u001b[0m | \u001b[36mtester\u001b[0m:\u001b[36mtest\u001b[0m:\u001b[36m84\u001b[0m - \u001b[1mpre  : 0.8023\u001b[0m\n",
      "\u001b[32m2023-08-14 12:14:57.722\u001b[0m | \u001b[1mINFO    \u001b[0m | \u001b[36mtester\u001b[0m:\u001b[36mtest\u001b[0m:\u001b[36m84\u001b[0m - \u001b[1mIOU  : 0.5645\u001b[0m\n",
      "\u001b[32m2023-08-14 12:14:57.722\u001b[0m | \u001b[1mINFO    \u001b[0m | \u001b[36mtester\u001b[0m:\u001b[36mtest\u001b[0m:\u001b[36m84\u001b[0m - \u001b[1mMCC  : 0.7054\u001b[0m\n",
      "TEST (10) | Loss: 0.1242 | AUC 0.9847 F1 0.8258 Acc 0.9852  Sen 0.7720 Spe 0.9959 Pre 0.8937 IOU 0.7067 MCC 0.8220 |B 0.12 D 0.11 |: 100%|██████████| 11/11 [00:02<00:00,  3.85it/s]\n",
      "\u001b[32m2023-08-14 12:15:02.446\u001b[0m | \u001b[1mINFO    \u001b[0m | \u001b[36mtester\u001b[0m:\u001b[36mtest\u001b[0m:\u001b[36m78\u001b[0m - \u001b[1m###### TEST EVALUATION ######\u001b[0m\n",
      "\u001b[32m2023-08-14 12:15:02.447\u001b[0m | \u001b[1mINFO    \u001b[0m | \u001b[36mtester\u001b[0m:\u001b[36mtest\u001b[0m:\u001b[36m79\u001b[0m - \u001b[1mtest time:  0.1207\u001b[0m\n",
      "\u001b[32m2023-08-14 12:15:02.448\u001b[0m | \u001b[1mINFO    \u001b[0m | \u001b[36mtester\u001b[0m:\u001b[36mtest\u001b[0m:\u001b[36m80\u001b[0m - \u001b[1m     loss:  0.1242\u001b[0m\n",
      "\u001b[32m2023-08-14 12:15:02.448\u001b[0m | \u001b[1mINFO    \u001b[0m | \u001b[36mtester\u001b[0m:\u001b[36mtest\u001b[0m:\u001b[36m84\u001b[0m - \u001b[1mAUC  : 0.9847\u001b[0m\n",
      "\u001b[32m2023-08-14 12:15:02.449\u001b[0m | \u001b[1mINFO    \u001b[0m | \u001b[36mtester\u001b[0m:\u001b[36mtest\u001b[0m:\u001b[36m84\u001b[0m - \u001b[1mF1   : 0.8258\u001b[0m\n",
      "\u001b[32m2023-08-14 12:15:02.449\u001b[0m | \u001b[1mINFO    \u001b[0m | \u001b[36mtester\u001b[0m:\u001b[36mtest\u001b[0m:\u001b[36m84\u001b[0m - \u001b[1mAcc  : 0.9852\u001b[0m\n",
      "\u001b[32m2023-08-14 12:15:02.450\u001b[0m | \u001b[1mINFO    \u001b[0m | \u001b[36mtester\u001b[0m:\u001b[36mtest\u001b[0m:\u001b[36m84\u001b[0m - \u001b[1mSen  : 0.772\u001b[0m\n",
      "\u001b[32m2023-08-14 12:15:02.451\u001b[0m | \u001b[1mINFO    \u001b[0m | \u001b[36mtester\u001b[0m:\u001b[36mtest\u001b[0m:\u001b[36m84\u001b[0m - \u001b[1mSpe  : 0.9959\u001b[0m\n",
      "\u001b[32m2023-08-14 12:15:02.451\u001b[0m | \u001b[1mINFO    \u001b[0m | \u001b[36mtester\u001b[0m:\u001b[36mtest\u001b[0m:\u001b[36m84\u001b[0m - \u001b[1mpre  : 0.8937\u001b[0m\n",
      "\u001b[32m2023-08-14 12:15:02.452\u001b[0m | \u001b[1mINFO    \u001b[0m | \u001b[36mtester\u001b[0m:\u001b[36mtest\u001b[0m:\u001b[36m84\u001b[0m - \u001b[1mIOU  : 0.7067\u001b[0m\n",
      "\u001b[32m2023-08-14 12:15:02.452\u001b[0m | \u001b[1mINFO    \u001b[0m | \u001b[36mtester\u001b[0m:\u001b[36mtest\u001b[0m:\u001b[36m84\u001b[0m - \u001b[1mMCC  : 0.822\u001b[0m\n",
      "TEST (40) | Loss: 0.0904 | AUC 0.9906 F1 0.8832 Acc 0.9861  Sen 0.8551 Spe 0.9947 Pre 0.9153 IOU 0.7932 MCC 0.8769 |B 0.05 D 0.03 |: 100%|██████████| 41/41 [00:07<00:00,  5.45it/s]\n",
      "\u001b[32m2023-08-14 12:15:11.740\u001b[0m | \u001b[1mINFO    \u001b[0m | \u001b[36mtester\u001b[0m:\u001b[36mtest\u001b[0m:\u001b[36m78\u001b[0m - \u001b[1m###### TEST EVALUATION ######\u001b[0m\n",
      "\u001b[32m2023-08-14 12:15:11.741\u001b[0m | \u001b[1mINFO    \u001b[0m | \u001b[36mtester\u001b[0m:\u001b[36mtest\u001b[0m:\u001b[36m79\u001b[0m - \u001b[1mtest time:  0.0456\u001b[0m\n",
      "\u001b[32m2023-08-14 12:15:11.741\u001b[0m | \u001b[1mINFO    \u001b[0m | \u001b[36mtester\u001b[0m:\u001b[36mtest\u001b[0m:\u001b[36m80\u001b[0m - \u001b[1m     loss:  0.0904\u001b[0m\n",
      "\u001b[32m2023-08-14 12:15:11.743\u001b[0m | \u001b[1mINFO    \u001b[0m | \u001b[36mtester\u001b[0m:\u001b[36mtest\u001b[0m:\u001b[36m84\u001b[0m - \u001b[1mAUC  : 0.9906\u001b[0m\n",
      "\u001b[32m2023-08-14 12:15:11.744\u001b[0m | \u001b[1mINFO    \u001b[0m | \u001b[36mtester\u001b[0m:\u001b[36mtest\u001b[0m:\u001b[36m84\u001b[0m - \u001b[1mF1   : 0.8832\u001b[0m\n",
      "\u001b[32m2023-08-14 12:15:11.744\u001b[0m | \u001b[1mINFO    \u001b[0m | \u001b[36mtester\u001b[0m:\u001b[36mtest\u001b[0m:\u001b[36m84\u001b[0m - \u001b[1mAcc  : 0.9861\u001b[0m\n",
      "\u001b[32m2023-08-14 12:15:11.744\u001b[0m | \u001b[1mINFO    \u001b[0m | \u001b[36mtester\u001b[0m:\u001b[36mtest\u001b[0m:\u001b[36m84\u001b[0m - \u001b[1mSen  : 0.8551\u001b[0m\n",
      "\u001b[32m2023-08-14 12:15:11.745\u001b[0m | \u001b[1mINFO    \u001b[0m | \u001b[36mtester\u001b[0m:\u001b[36mtest\u001b[0m:\u001b[36m84\u001b[0m - \u001b[1mSpe  : 0.9947\u001b[0m\n",
      "\u001b[32m2023-08-14 12:15:11.745\u001b[0m | \u001b[1mINFO    \u001b[0m | \u001b[36mtester\u001b[0m:\u001b[36mtest\u001b[0m:\u001b[36m84\u001b[0m - \u001b[1mpre  : 0.9153\u001b[0m\n",
      "\u001b[32m2023-08-14 12:15:11.746\u001b[0m | \u001b[1mINFO    \u001b[0m | \u001b[36mtester\u001b[0m:\u001b[36mtest\u001b[0m:\u001b[36m84\u001b[0m - \u001b[1mIOU  : 0.7932\u001b[0m\n",
      "\u001b[32m2023-08-14 12:15:11.747\u001b[0m | \u001b[1mINFO    \u001b[0m | \u001b[36mtester\u001b[0m:\u001b[36mtest\u001b[0m:\u001b[36m84\u001b[0m - \u001b[1mMCC  : 0.8769\u001b[0m\n",
      "TEST (132) | Loss: 0.0746 | AUC 0.9925 F1 0.9121 Acc 0.9865  Sen 0.8927 Spe 0.9945 Pre 0.9337 IOU 0.8402 MCC 0.9054 |B 0.02 D 0.01 |: 100%|██████████| 133/133 [00:21<00:00,  6.25it/s]\n",
      "\u001b[32m2023-08-14 12:15:34.699\u001b[0m | \u001b[1mINFO    \u001b[0m | \u001b[36mtester\u001b[0m:\u001b[36mtest\u001b[0m:\u001b[36m78\u001b[0m - \u001b[1m###### TEST EVALUATION ######\u001b[0m\n",
      "\u001b[32m2023-08-14 12:15:34.699\u001b[0m | \u001b[1mINFO    \u001b[0m | \u001b[36mtester\u001b[0m:\u001b[36mtest\u001b[0m:\u001b[36m79\u001b[0m - \u001b[1mtest time:  0.0231\u001b[0m\n",
      "\u001b[32m2023-08-14 12:15:34.700\u001b[0m | \u001b[1mINFO    \u001b[0m | \u001b[36mtester\u001b[0m:\u001b[36mtest\u001b[0m:\u001b[36m80\u001b[0m - \u001b[1m     loss:  0.0746\u001b[0m\n",
      "\u001b[32m2023-08-14 12:15:34.700\u001b[0m | \u001b[1mINFO    \u001b[0m | \u001b[36mtester\u001b[0m:\u001b[36mtest\u001b[0m:\u001b[36m84\u001b[0m - \u001b[1mAUC  : 0.9925\u001b[0m\n",
      "\u001b[32m2023-08-14 12:15:34.701\u001b[0m | \u001b[1mINFO    \u001b[0m | \u001b[36mtester\u001b[0m:\u001b[36mtest\u001b[0m:\u001b[36m84\u001b[0m - \u001b[1mF1   : 0.9121\u001b[0m\n",
      "\u001b[32m2023-08-14 12:15:34.701\u001b[0m | \u001b[1mINFO    \u001b[0m | \u001b[36mtester\u001b[0m:\u001b[36mtest\u001b[0m:\u001b[36m84\u001b[0m - \u001b[1mAcc  : 0.9865\u001b[0m\n",
      "\u001b[32m2023-08-14 12:15:34.702\u001b[0m | \u001b[1mINFO    \u001b[0m | \u001b[36mtester\u001b[0m:\u001b[36mtest\u001b[0m:\u001b[36m84\u001b[0m - \u001b[1mSen  : 0.8927\u001b[0m\n",
      "\u001b[32m2023-08-14 12:15:34.702\u001b[0m | \u001b[1mINFO    \u001b[0m | \u001b[36mtester\u001b[0m:\u001b[36mtest\u001b[0m:\u001b[36m84\u001b[0m - \u001b[1mSpe  : 0.9945\u001b[0m\n",
      "\u001b[32m2023-08-14 12:15:34.703\u001b[0m | \u001b[1mINFO    \u001b[0m | \u001b[36mtester\u001b[0m:\u001b[36mtest\u001b[0m:\u001b[36m84\u001b[0m - \u001b[1mpre  : 0.9337\u001b[0m\n",
      "\u001b[32m2023-08-14 12:15:34.703\u001b[0m | \u001b[1mINFO    \u001b[0m | \u001b[36mtester\u001b[0m:\u001b[36mtest\u001b[0m:\u001b[36m84\u001b[0m - \u001b[1mIOU  : 0.8402\u001b[0m\n",
      "\u001b[32m2023-08-14 12:15:34.704\u001b[0m | \u001b[1mINFO    \u001b[0m | \u001b[36mtester\u001b[0m:\u001b[36mtest\u001b[0m:\u001b[36m84\u001b[0m - \u001b[1mMCC  : 0.9054\u001b[0m\n"
     ]
    }
   ],
   "source": [
    "main_result(config_file, weight_path=check_path, quality=\"Score\", value=0)\n",
    "\n",
    "main_result(config_file, weight_path=check_path, quality=\"Score\", value=1)\n",
    "\n",
    "main_result(config_file, weight_path=check_path, quality=\"Score\", value=2)\n",
    "\n",
    "main_result(config_file, weight_path=check_path, quality=\"Score\", value=3)"
   ]
  },
  {
   "cell_type": "code",
   "execution_count": 18,
   "metadata": {},
   "outputs": [
    {
     "name": "stderr",
     "output_type": "stream",
     "text": [
      "TEST (51) | Loss: 0.1224 | AUC 0.9816 F1 0.8244 Acc 0.9858  Sen 0.7873 Spe 0.9949 Pre 0.8810 IOU 0.7187 MCC 0.8217 |B 0.03 D 0.02 |: 100%|██████████| 52/52 [00:09<00:00,  5.69it/s]\n",
      "\u001b[32m2023-08-14 12:15:45.544\u001b[0m | \u001b[1mINFO    \u001b[0m | \u001b[36mtester\u001b[0m:\u001b[36mtest\u001b[0m:\u001b[36m78\u001b[0m - \u001b[1m###### TEST EVALUATION ######\u001b[0m\n",
      "\u001b[32m2023-08-14 12:15:45.545\u001b[0m | \u001b[1mINFO    \u001b[0m | \u001b[36mtester\u001b[0m:\u001b[36mtest\u001b[0m:\u001b[36m79\u001b[0m - \u001b[1mtest time:  0.0344\u001b[0m\n",
      "\u001b[32m2023-08-14 12:15:45.545\u001b[0m | \u001b[1mINFO    \u001b[0m | \u001b[36mtester\u001b[0m:\u001b[36mtest\u001b[0m:\u001b[36m80\u001b[0m - \u001b[1m     loss:  0.1224\u001b[0m\n",
      "\u001b[32m2023-08-14 12:15:45.546\u001b[0m | \u001b[1mINFO    \u001b[0m | \u001b[36mtester\u001b[0m:\u001b[36mtest\u001b[0m:\u001b[36m84\u001b[0m - \u001b[1mAUC  : 0.9816\u001b[0m\n",
      "\u001b[32m2023-08-14 12:15:45.546\u001b[0m | \u001b[1mINFO    \u001b[0m | \u001b[36mtester\u001b[0m:\u001b[36mtest\u001b[0m:\u001b[36m84\u001b[0m - \u001b[1mF1   : 0.8244\u001b[0m\n",
      "\u001b[32m2023-08-14 12:15:45.547\u001b[0m | \u001b[1mINFO    \u001b[0m | \u001b[36mtester\u001b[0m:\u001b[36mtest\u001b[0m:\u001b[36m84\u001b[0m - \u001b[1mAcc  : 0.9858\u001b[0m\n",
      "\u001b[32m2023-08-14 12:15:45.548\u001b[0m | \u001b[1mINFO    \u001b[0m | \u001b[36mtester\u001b[0m:\u001b[36mtest\u001b[0m:\u001b[36m84\u001b[0m - \u001b[1mSen  : 0.7873\u001b[0m\n",
      "\u001b[32m2023-08-14 12:15:45.548\u001b[0m | \u001b[1mINFO    \u001b[0m | \u001b[36mtester\u001b[0m:\u001b[36mtest\u001b[0m:\u001b[36m84\u001b[0m - \u001b[1mSpe  : 0.9949\u001b[0m\n",
      "\u001b[32m2023-08-14 12:15:45.548\u001b[0m | \u001b[1mINFO    \u001b[0m | \u001b[36mtester\u001b[0m:\u001b[36mtest\u001b[0m:\u001b[36m84\u001b[0m - \u001b[1mpre  : 0.881\u001b[0m\n",
      "\u001b[32m2023-08-14 12:15:45.549\u001b[0m | \u001b[1mINFO    \u001b[0m | \u001b[36mtester\u001b[0m:\u001b[36mtest\u001b[0m:\u001b[36m84\u001b[0m - \u001b[1mIOU  : 0.7187\u001b[0m\n",
      "\u001b[32m2023-08-14 12:15:45.550\u001b[0m | \u001b[1mINFO    \u001b[0m | \u001b[36mtester\u001b[0m:\u001b[36mtest\u001b[0m:\u001b[36m84\u001b[0m - \u001b[1mMCC  : 0.8217\u001b[0m\n",
      "TEST (147) | Loss: 0.0771 | AUC 0.9923 F1 0.9070 Acc 0.9866  Sen 0.8856 Spe 0.9946 Pre 0.9308 IOU 0.8320 MCC 0.9004 |B 0.02 D 0.01 |: 100%|██████████| 148/148 [00:23<00:00,  6.24it/s]\n",
      "\u001b[32m2023-08-14 12:16:10.973\u001b[0m | \u001b[1mINFO    \u001b[0m | \u001b[36mtester\u001b[0m:\u001b[36mtest\u001b[0m:\u001b[36m78\u001b[0m - \u001b[1m###### TEST EVALUATION ######\u001b[0m\n",
      "\u001b[32m2023-08-14 12:16:10.974\u001b[0m | \u001b[1mINFO    \u001b[0m | \u001b[36mtester\u001b[0m:\u001b[36mtest\u001b[0m:\u001b[36m79\u001b[0m - \u001b[1mtest time:  0.022\u001b[0m\n",
      "\u001b[32m2023-08-14 12:16:10.975\u001b[0m | \u001b[1mINFO    \u001b[0m | \u001b[36mtester\u001b[0m:\u001b[36mtest\u001b[0m:\u001b[36m80\u001b[0m - \u001b[1m     loss:  0.0771\u001b[0m\n",
      "\u001b[32m2023-08-14 12:16:10.975\u001b[0m | \u001b[1mINFO    \u001b[0m | \u001b[36mtester\u001b[0m:\u001b[36mtest\u001b[0m:\u001b[36m84\u001b[0m - \u001b[1mAUC  : 0.9923\u001b[0m\n",
      "\u001b[32m2023-08-14 12:16:10.976\u001b[0m | \u001b[1mINFO    \u001b[0m | \u001b[36mtester\u001b[0m:\u001b[36mtest\u001b[0m:\u001b[36m84\u001b[0m - \u001b[1mF1   : 0.907\u001b[0m\n",
      "\u001b[32m2023-08-14 12:16:10.976\u001b[0m | \u001b[1mINFO    \u001b[0m | \u001b[36mtester\u001b[0m:\u001b[36mtest\u001b[0m:\u001b[36m84\u001b[0m - \u001b[1mAcc  : 0.9866\u001b[0m\n",
      "\u001b[32m2023-08-14 12:16:10.977\u001b[0m | \u001b[1mINFO    \u001b[0m | \u001b[36mtester\u001b[0m:\u001b[36mtest\u001b[0m:\u001b[36m84\u001b[0m - \u001b[1mSen  : 0.8856\u001b[0m\n",
      "\u001b[32m2023-08-14 12:16:10.977\u001b[0m | \u001b[1mINFO    \u001b[0m | \u001b[36mtester\u001b[0m:\u001b[36mtest\u001b[0m:\u001b[36m84\u001b[0m - \u001b[1mSpe  : 0.9946\u001b[0m\n",
      "\u001b[32m2023-08-14 12:16:10.978\u001b[0m | \u001b[1mINFO    \u001b[0m | \u001b[36mtester\u001b[0m:\u001b[36mtest\u001b[0m:\u001b[36m84\u001b[0m - \u001b[1mpre  : 0.9308\u001b[0m\n",
      "\u001b[32m2023-08-14 12:16:10.978\u001b[0m | \u001b[1mINFO    \u001b[0m | \u001b[36mtester\u001b[0m:\u001b[36mtest\u001b[0m:\u001b[36m84\u001b[0m - \u001b[1mIOU  : 0.832\u001b[0m\n",
      "\u001b[32m2023-08-14 12:16:10.978\u001b[0m | \u001b[1mINFO    \u001b[0m | \u001b[36mtester\u001b[0m:\u001b[36mtest\u001b[0m:\u001b[36m84\u001b[0m - \u001b[1mMCC  : 0.9004\u001b[0m\n"
     ]
    }
   ],
   "source": [
    "main_result(config_file, weight_path=check_path, quality=\"IC\", value=0)\n",
    "\n",
    "main_result(config_file, weight_path=check_path, quality=\"IC\", value=1)\n"
   ]
  },
  {
   "cell_type": "code",
   "execution_count": 19,
   "metadata": {},
   "outputs": [
    {
     "name": "stderr",
     "output_type": "stream",
     "text": [
      "TEST (40) | Loss: 0.1373 | AUC 0.9788 F1 0.7925 Acc 0.9870  Sen 0.7458 Spe 0.9959 Pre 0.8646 IOU 0.6739 MCC 0.7920 |B 0.05 D 0.04 |: 100%|██████████| 41/41 [00:07<00:00,  5.40it/s]\n",
      "\u001b[32m2023-08-14 12:16:20.260\u001b[0m | \u001b[1mINFO    \u001b[0m | \u001b[36mtester\u001b[0m:\u001b[36mtest\u001b[0m:\u001b[36m78\u001b[0m - \u001b[1m###### TEST EVALUATION ######\u001b[0m\n",
      "\u001b[32m2023-08-14 12:16:20.261\u001b[0m | \u001b[1mINFO    \u001b[0m | \u001b[36mtester\u001b[0m:\u001b[36mtest\u001b[0m:\u001b[36m79\u001b[0m - \u001b[1mtest time:  0.0512\u001b[0m\n",
      "\u001b[32m2023-08-14 12:16:20.262\u001b[0m | \u001b[1mINFO    \u001b[0m | \u001b[36mtester\u001b[0m:\u001b[36mtest\u001b[0m:\u001b[36m80\u001b[0m - \u001b[1m     loss:  0.1373\u001b[0m\n",
      "\u001b[32m2023-08-14 12:16:20.262\u001b[0m | \u001b[1mINFO    \u001b[0m | \u001b[36mtester\u001b[0m:\u001b[36mtest\u001b[0m:\u001b[36m84\u001b[0m - \u001b[1mAUC  : 0.9788\u001b[0m\n",
      "\u001b[32m2023-08-14 12:16:20.263\u001b[0m | \u001b[1mINFO    \u001b[0m | \u001b[36mtester\u001b[0m:\u001b[36mtest\u001b[0m:\u001b[36m84\u001b[0m - \u001b[1mF1   : 0.7925\u001b[0m\n",
      "\u001b[32m2023-08-14 12:16:20.263\u001b[0m | \u001b[1mINFO    \u001b[0m | \u001b[36mtester\u001b[0m:\u001b[36mtest\u001b[0m:\u001b[36m84\u001b[0m - \u001b[1mAcc  : 0.987\u001b[0m\n",
      "\u001b[32m2023-08-14 12:16:20.264\u001b[0m | \u001b[1mINFO    \u001b[0m | \u001b[36mtester\u001b[0m:\u001b[36mtest\u001b[0m:\u001b[36m84\u001b[0m - \u001b[1mSen  : 0.7458\u001b[0m\n",
      "\u001b[32m2023-08-14 12:16:20.264\u001b[0m | \u001b[1mINFO    \u001b[0m | \u001b[36mtester\u001b[0m:\u001b[36mtest\u001b[0m:\u001b[36m84\u001b[0m - \u001b[1mSpe  : 0.9959\u001b[0m\n",
      "\u001b[32m2023-08-14 12:16:20.265\u001b[0m | \u001b[1mINFO    \u001b[0m | \u001b[36mtester\u001b[0m:\u001b[36mtest\u001b[0m:\u001b[36m84\u001b[0m - \u001b[1mpre  : 0.8646\u001b[0m\n",
      "\u001b[32m2023-08-14 12:16:20.265\u001b[0m | \u001b[1mINFO    \u001b[0m | \u001b[36mtester\u001b[0m:\u001b[36mtest\u001b[0m:\u001b[36m84\u001b[0m - \u001b[1mIOU  : 0.6739\u001b[0m\n",
      "\u001b[32m2023-08-14 12:16:20.266\u001b[0m | \u001b[1mINFO    \u001b[0m | \u001b[36mtester\u001b[0m:\u001b[36mtest\u001b[0m:\u001b[36m84\u001b[0m - \u001b[1mMCC  : 0.792\u001b[0m\n",
      "TEST (158) | Loss: 0.0764 | AUC 0.9923 F1 0.9095 Acc 0.9862  Sen 0.8895 Spe 0.9944 Pre 0.9316 IOU 0.8357 MCC 0.9026 |B 0.02 D 0.01 |: 100%|██████████| 159/159 [00:25<00:00,  6.22it/s]\n",
      "\u001b[32m2023-08-14 12:16:47.487\u001b[0m | \u001b[1mINFO    \u001b[0m | \u001b[36mtester\u001b[0m:\u001b[36mtest\u001b[0m:\u001b[36m78\u001b[0m - \u001b[1m###### TEST EVALUATION ######\u001b[0m\n",
      "\u001b[32m2023-08-14 12:16:47.488\u001b[0m | \u001b[1mINFO    \u001b[0m | \u001b[36mtester\u001b[0m:\u001b[36mtest\u001b[0m:\u001b[36m79\u001b[0m - \u001b[1mtest time:  0.0197\u001b[0m\n",
      "\u001b[32m2023-08-14 12:16:47.488\u001b[0m | \u001b[1mINFO    \u001b[0m | \u001b[36mtester\u001b[0m:\u001b[36mtest\u001b[0m:\u001b[36m80\u001b[0m - \u001b[1m     loss:  0.0764\u001b[0m\n",
      "\u001b[32m2023-08-14 12:16:47.489\u001b[0m | \u001b[1mINFO    \u001b[0m | \u001b[36mtester\u001b[0m:\u001b[36mtest\u001b[0m:\u001b[36m84\u001b[0m - \u001b[1mAUC  : 0.9923\u001b[0m\n",
      "\u001b[32m2023-08-14 12:16:47.490\u001b[0m | \u001b[1mINFO    \u001b[0m | \u001b[36mtester\u001b[0m:\u001b[36mtest\u001b[0m:\u001b[36m84\u001b[0m - \u001b[1mF1   : 0.9095\u001b[0m\n",
      "\u001b[32m2023-08-14 12:16:47.490\u001b[0m | \u001b[1mINFO    \u001b[0m | \u001b[36mtester\u001b[0m:\u001b[36mtest\u001b[0m:\u001b[36m84\u001b[0m - \u001b[1mAcc  : 0.9862\u001b[0m\n",
      "\u001b[32m2023-08-14 12:16:47.491\u001b[0m | \u001b[1mINFO    \u001b[0m | \u001b[36mtester\u001b[0m:\u001b[36mtest\u001b[0m:\u001b[36m84\u001b[0m - \u001b[1mSen  : 0.8895\u001b[0m\n",
      "\u001b[32m2023-08-14 12:16:47.491\u001b[0m | \u001b[1mINFO    \u001b[0m | \u001b[36mtester\u001b[0m:\u001b[36mtest\u001b[0m:\u001b[36m84\u001b[0m - \u001b[1mSpe  : 0.9944\u001b[0m\n",
      "\u001b[32m2023-08-14 12:16:47.492\u001b[0m | \u001b[1mINFO    \u001b[0m | \u001b[36mtester\u001b[0m:\u001b[36mtest\u001b[0m:\u001b[36m84\u001b[0m - \u001b[1mpre  : 0.9316\u001b[0m\n",
      "\u001b[32m2023-08-14 12:16:47.492\u001b[0m | \u001b[1mINFO    \u001b[0m | \u001b[36mtester\u001b[0m:\u001b[36mtest\u001b[0m:\u001b[36m84\u001b[0m - \u001b[1mIOU  : 0.8357\u001b[0m\n",
      "\u001b[32m2023-08-14 12:16:47.493\u001b[0m | \u001b[1mINFO    \u001b[0m | \u001b[36mtester\u001b[0m:\u001b[36mtest\u001b[0m:\u001b[36m84\u001b[0m - \u001b[1mMCC  : 0.9026\u001b[0m\n"
     ]
    }
   ],
   "source": [
    "main_result(config_file, weight_path=check_path, quality=\"Blur\", value=0)\n",
    "\n",
    "main_result(config_file, weight_path=check_path, quality=\"Blur\", value=1)\n"
   ]
  },
  {
   "cell_type": "code",
   "execution_count": 20,
   "metadata": {},
   "outputs": [
    {
     "name": "stderr",
     "output_type": "stream",
     "text": [
      "TEST (14) | Loss: 0.1853 | AUC 0.9631 F1 0.6995 Acc 0.9875  Sen 0.6492 Spe 0.9958 Pre 0.8023 IOU 0.5645 MCC 0.7054 |B 0.09 D 0.08 |: 100%|██████████| 15/15 [00:03<00:00,  4.24it/s]\n",
      "\u001b[32m2023-08-14 12:16:52.907\u001b[0m | \u001b[1mINFO    \u001b[0m | \u001b[36mtester\u001b[0m:\u001b[36mtest\u001b[0m:\u001b[36m78\u001b[0m - \u001b[1m###### TEST EVALUATION ######\u001b[0m\n",
      "\u001b[32m2023-08-14 12:16:52.908\u001b[0m | \u001b[1mINFO    \u001b[0m | \u001b[36mtester\u001b[0m:\u001b[36mtest\u001b[0m:\u001b[36m79\u001b[0m - \u001b[1mtest time:  0.0922\u001b[0m\n",
      "\u001b[32m2023-08-14 12:16:52.908\u001b[0m | \u001b[1mINFO    \u001b[0m | \u001b[36mtester\u001b[0m:\u001b[36mtest\u001b[0m:\u001b[36m80\u001b[0m - \u001b[1m     loss:  0.1853\u001b[0m\n",
      "\u001b[32m2023-08-14 12:16:52.909\u001b[0m | \u001b[1mINFO    \u001b[0m | \u001b[36mtester\u001b[0m:\u001b[36mtest\u001b[0m:\u001b[36m84\u001b[0m - \u001b[1mAUC  : 0.9631\u001b[0m\n",
      "\u001b[32m2023-08-14 12:16:52.909\u001b[0m | \u001b[1mINFO    \u001b[0m | \u001b[36mtester\u001b[0m:\u001b[36mtest\u001b[0m:\u001b[36m84\u001b[0m - \u001b[1mF1   : 0.6995\u001b[0m\n",
      "\u001b[32m2023-08-14 12:16:52.910\u001b[0m | \u001b[1mINFO    \u001b[0m | \u001b[36mtester\u001b[0m:\u001b[36mtest\u001b[0m:\u001b[36m84\u001b[0m - \u001b[1mAcc  : 0.9875\u001b[0m\n",
      "\u001b[32m2023-08-14 12:16:52.910\u001b[0m | \u001b[1mINFO    \u001b[0m | \u001b[36mtester\u001b[0m:\u001b[36mtest\u001b[0m:\u001b[36m84\u001b[0m - \u001b[1mSen  : 0.6492\u001b[0m\n",
      "\u001b[32m2023-08-14 12:16:52.911\u001b[0m | \u001b[1mINFO    \u001b[0m | \u001b[36mtester\u001b[0m:\u001b[36mtest\u001b[0m:\u001b[36m84\u001b[0m - \u001b[1mSpe  : 0.9958\u001b[0m\n",
      "\u001b[32m2023-08-14 12:16:52.911\u001b[0m | \u001b[1mINFO    \u001b[0m | \u001b[36mtester\u001b[0m:\u001b[36mtest\u001b[0m:\u001b[36m84\u001b[0m - \u001b[1mpre  : 0.8023\u001b[0m\n",
      "\u001b[32m2023-08-14 12:16:52.912\u001b[0m | \u001b[1mINFO    \u001b[0m | \u001b[36mtester\u001b[0m:\u001b[36mtest\u001b[0m:\u001b[36m84\u001b[0m - \u001b[1mIOU  : 0.5645\u001b[0m\n",
      "\u001b[32m2023-08-14 12:16:52.912\u001b[0m | \u001b[1mINFO    \u001b[0m | \u001b[36mtester\u001b[0m:\u001b[36mtest\u001b[0m:\u001b[36m84\u001b[0m - \u001b[1mMCC  : 0.7054\u001b[0m\n",
      "TEST (184) | Loss: 0.0810 | AUC 0.9916 F1 0.9006 Acc 0.9863  Sen 0.8772 Spe 0.9946 Pre 0.9272 IOU 0.8218 MCC 0.8941 |B 0.02 D 0.01 |: 100%|██████████| 185/185 [00:28<00:00,  6.39it/s]\n",
      "\u001b[32m2023-08-14 12:17:23.545\u001b[0m | \u001b[1mINFO    \u001b[0m | \u001b[36mtester\u001b[0m:\u001b[36mtest\u001b[0m:\u001b[36m78\u001b[0m - \u001b[1m###### TEST EVALUATION ######\u001b[0m\n",
      "\u001b[32m2023-08-14 12:17:23.546\u001b[0m | \u001b[1mINFO    \u001b[0m | \u001b[36mtester\u001b[0m:\u001b[36mtest\u001b[0m:\u001b[36m79\u001b[0m - \u001b[1mtest time:  0.017\u001b[0m\n",
      "\u001b[32m2023-08-14 12:17:23.546\u001b[0m | \u001b[1mINFO    \u001b[0m | \u001b[36mtester\u001b[0m:\u001b[36mtest\u001b[0m:\u001b[36m80\u001b[0m - \u001b[1m     loss:  0.081\u001b[0m\n",
      "\u001b[32m2023-08-14 12:17:23.547\u001b[0m | \u001b[1mINFO    \u001b[0m | \u001b[36mtester\u001b[0m:\u001b[36mtest\u001b[0m:\u001b[36m84\u001b[0m - \u001b[1mAUC  : 0.9916\u001b[0m\n",
      "\u001b[32m2023-08-14 12:17:23.547\u001b[0m | \u001b[1mINFO    \u001b[0m | \u001b[36mtester\u001b[0m:\u001b[36mtest\u001b[0m:\u001b[36m84\u001b[0m - \u001b[1mF1   : 0.9006\u001b[0m\n",
      "\u001b[32m2023-08-14 12:17:23.548\u001b[0m | \u001b[1mINFO    \u001b[0m | \u001b[36mtester\u001b[0m:\u001b[36mtest\u001b[0m:\u001b[36m84\u001b[0m - \u001b[1mAcc  : 0.9863\u001b[0m\n",
      "\u001b[32m2023-08-14 12:17:23.548\u001b[0m | \u001b[1mINFO    \u001b[0m | \u001b[36mtester\u001b[0m:\u001b[36mtest\u001b[0m:\u001b[36m84\u001b[0m - \u001b[1mSen  : 0.8772\u001b[0m\n",
      "\u001b[32m2023-08-14 12:17:23.549\u001b[0m | \u001b[1mINFO    \u001b[0m | \u001b[36mtester\u001b[0m:\u001b[36mtest\u001b[0m:\u001b[36m84\u001b[0m - \u001b[1mSpe  : 0.9946\u001b[0m\n",
      "\u001b[32m2023-08-14 12:17:23.549\u001b[0m | \u001b[1mINFO    \u001b[0m | \u001b[36mtester\u001b[0m:\u001b[36mtest\u001b[0m:\u001b[36m84\u001b[0m - \u001b[1mpre  : 0.9272\u001b[0m\n",
      "\u001b[32m2023-08-14 12:17:23.550\u001b[0m | \u001b[1mINFO    \u001b[0m | \u001b[36mtester\u001b[0m:\u001b[36mtest\u001b[0m:\u001b[36m84\u001b[0m - \u001b[1mIOU  : 0.8218\u001b[0m\n",
      "\u001b[32m2023-08-14 12:17:23.550\u001b[0m | \u001b[1mINFO    \u001b[0m | \u001b[36mtester\u001b[0m:\u001b[36mtest\u001b[0m:\u001b[36m84\u001b[0m - \u001b[1mMCC  : 0.8941\u001b[0m\n"
     ]
    }
   ],
   "source": [
    "main_result(config_file, weight_path=check_path, quality=\"LC\", value=0)\n",
    "\n",
    "main_result(config_file, weight_path=check_path, quality=\"LC\", value=1)\n"
   ]
  },
  {
   "cell_type": "markdown",
   "metadata": {},
   "source": [
    "## WNet"
   ]
  },
  {
   "cell_type": "code",
   "execution_count": 21,
   "metadata": {},
   "outputs": [],
   "source": [
    "config_file = '../configs/lwnet_dicebce.yaml'\n",
    "check_path = \"/mnt/qb/berens/users/jfadugba97/RetinaSegmentation/model_results/WNet/FIVES/CE_DiceLoss/checkpoint-epoch85.pth\"\n"
   ]
  },
  {
   "cell_type": "code",
   "execution_count": 22,
   "metadata": {},
   "outputs": [
    {
     "name": "stderr",
     "output_type": "stream",
     "text": [
      "TEST (14) | Loss: 0.6397 | AUC 0.9035 F1 0.5046 Acc 0.9822  Sen 0.3801 Spe 0.9986 Pre 0.8393 IOU 0.3610 MCC 0.5429 |B 0.09 D 0.08 |: 100%|██████████| 15/15 [00:03<00:00,  4.30it/s]\n",
      "\u001b[32m2023-08-14 12:17:27.240\u001b[0m | \u001b[1mINFO    \u001b[0m | \u001b[36mtester\u001b[0m:\u001b[36mtest\u001b[0m:\u001b[36m78\u001b[0m - \u001b[1m###### TEST EVALUATION ######\u001b[0m\n",
      "\u001b[32m2023-08-14 12:17:27.241\u001b[0m | \u001b[1mINFO    \u001b[0m | \u001b[36mtester\u001b[0m:\u001b[36mtest\u001b[0m:\u001b[36m79\u001b[0m - \u001b[1mtest time:  0.0915\u001b[0m\n",
      "\u001b[32m2023-08-14 12:17:27.242\u001b[0m | \u001b[1mINFO    \u001b[0m | \u001b[36mtester\u001b[0m:\u001b[36mtest\u001b[0m:\u001b[36m80\u001b[0m - \u001b[1m     loss:  0.6397\u001b[0m\n",
      "\u001b[32m2023-08-14 12:17:27.242\u001b[0m | \u001b[1mINFO    \u001b[0m | \u001b[36mtester\u001b[0m:\u001b[36mtest\u001b[0m:\u001b[36m84\u001b[0m - \u001b[1mAUC  : 0.9035\u001b[0m\n",
      "\u001b[32m2023-08-14 12:17:27.243\u001b[0m | \u001b[1mINFO    \u001b[0m | \u001b[36mtester\u001b[0m:\u001b[36mtest\u001b[0m:\u001b[36m84\u001b[0m - \u001b[1mF1   : 0.5046\u001b[0m\n",
      "\u001b[32m2023-08-14 12:17:27.243\u001b[0m | \u001b[1mINFO    \u001b[0m | \u001b[36mtester\u001b[0m:\u001b[36mtest\u001b[0m:\u001b[36m84\u001b[0m - \u001b[1mAcc  : 0.9822\u001b[0m\n",
      "\u001b[32m2023-08-14 12:17:27.244\u001b[0m | \u001b[1mINFO    \u001b[0m | \u001b[36mtester\u001b[0m:\u001b[36mtest\u001b[0m:\u001b[36m84\u001b[0m - \u001b[1mSen  : 0.3801\u001b[0m\n",
      "\u001b[32m2023-08-14 12:17:27.245\u001b[0m | \u001b[1mINFO    \u001b[0m | \u001b[36mtester\u001b[0m:\u001b[36mtest\u001b[0m:\u001b[36m84\u001b[0m - \u001b[1mSpe  : 0.9986\u001b[0m\n",
      "\u001b[32m2023-08-14 12:17:27.245\u001b[0m | \u001b[1mINFO    \u001b[0m | \u001b[36mtester\u001b[0m:\u001b[36mtest\u001b[0m:\u001b[36m84\u001b[0m - \u001b[1mpre  : 0.8393\u001b[0m\n",
      "\u001b[32m2023-08-14 12:17:27.246\u001b[0m | \u001b[1mINFO    \u001b[0m | \u001b[36mtester\u001b[0m:\u001b[36mtest\u001b[0m:\u001b[36m84\u001b[0m - \u001b[1mIOU  : 0.361\u001b[0m\n",
      "\u001b[32m2023-08-14 12:17:27.246\u001b[0m | \u001b[1mINFO    \u001b[0m | \u001b[36mtester\u001b[0m:\u001b[36mtest\u001b[0m:\u001b[36m84\u001b[0m - \u001b[1mMCC  : 0.5429\u001b[0m\n",
      "TEST (10) | Loss: 0.4379 | AUC 0.9674 F1 0.7119 Acc 0.9791  Sen 0.6057 Spe 0.9960 Pre 0.8968 IOU 0.5610 MCC 0.7213 |B 0.11 D 0.10 |: 100%|██████████| 11/11 [00:02<00:00,  3.79it/s]\n",
      "\u001b[32m2023-08-14 12:17:30.245\u001b[0m | \u001b[1mINFO    \u001b[0m | \u001b[36mtester\u001b[0m:\u001b[36mtest\u001b[0m:\u001b[36m78\u001b[0m - \u001b[1m###### TEST EVALUATION ######\u001b[0m\n",
      "\u001b[32m2023-08-14 12:17:30.246\u001b[0m | \u001b[1mINFO    \u001b[0m | \u001b[36mtester\u001b[0m:\u001b[36mtest\u001b[0m:\u001b[36m79\u001b[0m - \u001b[1mtest time:  0.1142\u001b[0m\n",
      "\u001b[32m2023-08-14 12:17:30.246\u001b[0m | \u001b[1mINFO    \u001b[0m | \u001b[36mtester\u001b[0m:\u001b[36mtest\u001b[0m:\u001b[36m80\u001b[0m - \u001b[1m     loss:  0.4379\u001b[0m\n",
      "\u001b[32m2023-08-14 12:17:30.247\u001b[0m | \u001b[1mINFO    \u001b[0m | \u001b[36mtester\u001b[0m:\u001b[36mtest\u001b[0m:\u001b[36m84\u001b[0m - \u001b[1mAUC  : 0.9674\u001b[0m\n",
      "\u001b[32m2023-08-14 12:17:30.247\u001b[0m | \u001b[1mINFO    \u001b[0m | \u001b[36mtester\u001b[0m:\u001b[36mtest\u001b[0m:\u001b[36m84\u001b[0m - \u001b[1mF1   : 0.7119\u001b[0m\n",
      "\u001b[32m2023-08-14 12:17:30.248\u001b[0m | \u001b[1mINFO    \u001b[0m | \u001b[36mtester\u001b[0m:\u001b[36mtest\u001b[0m:\u001b[36m84\u001b[0m - \u001b[1mAcc  : 0.9791\u001b[0m\n",
      "\u001b[32m2023-08-14 12:17:30.248\u001b[0m | \u001b[1mINFO    \u001b[0m | \u001b[36mtester\u001b[0m:\u001b[36mtest\u001b[0m:\u001b[36m84\u001b[0m - \u001b[1mSen  : 0.6057\u001b[0m\n",
      "\u001b[32m2023-08-14 12:17:30.250\u001b[0m | \u001b[1mINFO    \u001b[0m | \u001b[36mtester\u001b[0m:\u001b[36mtest\u001b[0m:\u001b[36m84\u001b[0m - \u001b[1mSpe  : 0.996\u001b[0m\n",
      "\u001b[32m2023-08-14 12:17:30.251\u001b[0m | \u001b[1mINFO    \u001b[0m | \u001b[36mtester\u001b[0m:\u001b[36mtest\u001b[0m:\u001b[36m84\u001b[0m - \u001b[1mpre  : 0.8968\u001b[0m\n",
      "\u001b[32m2023-08-14 12:17:30.251\u001b[0m | \u001b[1mINFO    \u001b[0m | \u001b[36mtester\u001b[0m:\u001b[36mtest\u001b[0m:\u001b[36m84\u001b[0m - \u001b[1mIOU  : 0.561\u001b[0m\n",
      "\u001b[32m2023-08-14 12:17:30.251\u001b[0m | \u001b[1mINFO    \u001b[0m | \u001b[36mtester\u001b[0m:\u001b[36mtest\u001b[0m:\u001b[36m84\u001b[0m - \u001b[1mMCC  : 0.7213\u001b[0m\n",
      "TEST (40) | Loss: 0.3369 | AUC 0.9803 F1 0.8090 Acc 0.9786  Sen 0.7535 Spe 0.9928 Pre 0.8870 IOU 0.6852 MCC 0.8037 |B 0.04 D 0.03 |: 100%|██████████| 41/41 [00:07<00:00,  5.56it/s]\n",
      "\u001b[32m2023-08-14 12:17:37.722\u001b[0m | \u001b[1mINFO    \u001b[0m | \u001b[36mtester\u001b[0m:\u001b[36mtest\u001b[0m:\u001b[36m78\u001b[0m - \u001b[1m###### TEST EVALUATION ######\u001b[0m\n",
      "\u001b[32m2023-08-14 12:17:37.723\u001b[0m | \u001b[1mINFO    \u001b[0m | \u001b[36mtester\u001b[0m:\u001b[36mtest\u001b[0m:\u001b[36m79\u001b[0m - \u001b[1mtest time:  0.0441\u001b[0m\n",
      "\u001b[32m2023-08-14 12:17:37.723\u001b[0m | \u001b[1mINFO    \u001b[0m | \u001b[36mtester\u001b[0m:\u001b[36mtest\u001b[0m:\u001b[36m80\u001b[0m - \u001b[1m     loss:  0.3369\u001b[0m\n",
      "\u001b[32m2023-08-14 12:17:37.724\u001b[0m | \u001b[1mINFO    \u001b[0m | \u001b[36mtester\u001b[0m:\u001b[36mtest\u001b[0m:\u001b[36m84\u001b[0m - \u001b[1mAUC  : 0.9803\u001b[0m\n",
      "\u001b[32m2023-08-14 12:17:37.724\u001b[0m | \u001b[1mINFO    \u001b[0m | \u001b[36mtester\u001b[0m:\u001b[36mtest\u001b[0m:\u001b[36m84\u001b[0m - \u001b[1mF1   : 0.809\u001b[0m\n",
      "\u001b[32m2023-08-14 12:17:37.725\u001b[0m | \u001b[1mINFO    \u001b[0m | \u001b[36mtester\u001b[0m:\u001b[36mtest\u001b[0m:\u001b[36m84\u001b[0m - \u001b[1mAcc  : 0.9786\u001b[0m\n",
      "\u001b[32m2023-08-14 12:17:37.725\u001b[0m | \u001b[1mINFO    \u001b[0m | \u001b[36mtester\u001b[0m:\u001b[36mtest\u001b[0m:\u001b[36m84\u001b[0m - \u001b[1mSen  : 0.7535\u001b[0m\n",
      "\u001b[32m2023-08-14 12:17:37.726\u001b[0m | \u001b[1mINFO    \u001b[0m | \u001b[36mtester\u001b[0m:\u001b[36mtest\u001b[0m:\u001b[36m84\u001b[0m - \u001b[1mSpe  : 0.9928\u001b[0m\n",
      "\u001b[32m2023-08-14 12:17:37.726\u001b[0m | \u001b[1mINFO    \u001b[0m | \u001b[36mtester\u001b[0m:\u001b[36mtest\u001b[0m:\u001b[36m84\u001b[0m - \u001b[1mpre  : 0.887\u001b[0m\n",
      "\u001b[32m2023-08-14 12:17:37.727\u001b[0m | \u001b[1mINFO    \u001b[0m | \u001b[36mtester\u001b[0m:\u001b[36mtest\u001b[0m:\u001b[36m84\u001b[0m - \u001b[1mIOU  : 0.6852\u001b[0m\n",
      "\u001b[32m2023-08-14 12:17:37.727\u001b[0m | \u001b[1mINFO    \u001b[0m | \u001b[36mtester\u001b[0m:\u001b[36mtest\u001b[0m:\u001b[36m84\u001b[0m - \u001b[1mMCC  : 0.8037\u001b[0m\n",
      "TEST (132) | Loss: 0.2628 | AUC 0.9880 F1 0.8695 Acc 0.9798  Sen 0.8518 Spe 0.9905 Pre 0.8915 IOU 0.7713 MCC 0.8598 |B 0.02 D 0.01 |: 100%|██████████| 133/133 [00:21<00:00,  6.24it/s]\n",
      "\u001b[32m2023-08-14 12:17:59.141\u001b[0m | \u001b[1mINFO    \u001b[0m | \u001b[36mtester\u001b[0m:\u001b[36mtest\u001b[0m:\u001b[36m78\u001b[0m - \u001b[1m###### TEST EVALUATION ######\u001b[0m\n",
      "\u001b[32m2023-08-14 12:17:59.141\u001b[0m | \u001b[1mINFO    \u001b[0m | \u001b[36mtester\u001b[0m:\u001b[36mtest\u001b[0m:\u001b[36m79\u001b[0m - \u001b[1mtest time:  0.0209\u001b[0m\n",
      "\u001b[32m2023-08-14 12:17:59.142\u001b[0m | \u001b[1mINFO    \u001b[0m | \u001b[36mtester\u001b[0m:\u001b[36mtest\u001b[0m:\u001b[36m80\u001b[0m - \u001b[1m     loss:  0.2628\u001b[0m\n",
      "\u001b[32m2023-08-14 12:17:59.142\u001b[0m | \u001b[1mINFO    \u001b[0m | \u001b[36mtester\u001b[0m:\u001b[36mtest\u001b[0m:\u001b[36m84\u001b[0m - \u001b[1mAUC  : 0.988\u001b[0m\n",
      "\u001b[32m2023-08-14 12:17:59.143\u001b[0m | \u001b[1mINFO    \u001b[0m | \u001b[36mtester\u001b[0m:\u001b[36mtest\u001b[0m:\u001b[36m84\u001b[0m - \u001b[1mF1   : 0.8695\u001b[0m\n",
      "\u001b[32m2023-08-14 12:17:59.143\u001b[0m | \u001b[1mINFO    \u001b[0m | \u001b[36mtester\u001b[0m:\u001b[36mtest\u001b[0m:\u001b[36m84\u001b[0m - \u001b[1mAcc  : 0.9798\u001b[0m\n",
      "\u001b[32m2023-08-14 12:17:59.143\u001b[0m | \u001b[1mINFO    \u001b[0m | \u001b[36mtester\u001b[0m:\u001b[36mtest\u001b[0m:\u001b[36m84\u001b[0m - \u001b[1mSen  : 0.8518\u001b[0m\n",
      "\u001b[32m2023-08-14 12:17:59.144\u001b[0m | \u001b[1mINFO    \u001b[0m | \u001b[36mtester\u001b[0m:\u001b[36mtest\u001b[0m:\u001b[36m84\u001b[0m - \u001b[1mSpe  : 0.9905\u001b[0m\n",
      "\u001b[32m2023-08-14 12:17:59.144\u001b[0m | \u001b[1mINFO    \u001b[0m | \u001b[36mtester\u001b[0m:\u001b[36mtest\u001b[0m:\u001b[36m84\u001b[0m - \u001b[1mpre  : 0.8915\u001b[0m\n",
      "\u001b[32m2023-08-14 12:17:59.144\u001b[0m | \u001b[1mINFO    \u001b[0m | \u001b[36mtester\u001b[0m:\u001b[36mtest\u001b[0m:\u001b[36m84\u001b[0m - \u001b[1mIOU  : 0.7713\u001b[0m\n",
      "\u001b[32m2023-08-14 12:17:59.145\u001b[0m | \u001b[1mINFO    \u001b[0m | \u001b[36mtester\u001b[0m:\u001b[36mtest\u001b[0m:\u001b[36m84\u001b[0m - \u001b[1mMCC  : 0.8598\u001b[0m\n"
     ]
    }
   ],
   "source": [
    "main_result(config_file, weight_path=check_path, quality=\"Score\", value=0)\n",
    "\n",
    "main_result(config_file, weight_path=check_path, quality=\"Score\", value=1)\n",
    "\n",
    "main_result(config_file, weight_path=check_path, quality=\"Score\", value=2)\n",
    "\n",
    "main_result(config_file, weight_path=check_path, quality=\"Score\", value=3)"
   ]
  },
  {
   "cell_type": "code",
   "execution_count": 23,
   "metadata": {},
   "outputs": [
    {
     "name": "stderr",
     "output_type": "stream",
     "text": [
      "TEST (51) | Loss: 0.4263 | AUC 0.9568 F1 0.7177 Acc 0.9794  Sen 0.6422 Spe 0.9943 Pre 0.8747 IOU 0.5882 MCC 0.7260 |B 0.03 D 0.02 |: 100%|██████████| 52/52 [00:08<00:00,  5.79it/s]\n",
      "\u001b[32m2023-08-14 12:18:08.226\u001b[0m | \u001b[1mINFO    \u001b[0m | \u001b[36mtester\u001b[0m:\u001b[36mtest\u001b[0m:\u001b[36m78\u001b[0m - \u001b[1m###### TEST EVALUATION ######\u001b[0m\n",
      "\u001b[32m2023-08-14 12:18:08.227\u001b[0m | \u001b[1mINFO    \u001b[0m | \u001b[36mtester\u001b[0m:\u001b[36mtest\u001b[0m:\u001b[36m79\u001b[0m - \u001b[1mtest time:  0.0339\u001b[0m\n",
      "\u001b[32m2023-08-14 12:18:08.227\u001b[0m | \u001b[1mINFO    \u001b[0m | \u001b[36mtester\u001b[0m:\u001b[36mtest\u001b[0m:\u001b[36m80\u001b[0m - \u001b[1m     loss:  0.4263\u001b[0m\n",
      "\u001b[32m2023-08-14 12:18:08.228\u001b[0m | \u001b[1mINFO    \u001b[0m | \u001b[36mtester\u001b[0m:\u001b[36mtest\u001b[0m:\u001b[36m84\u001b[0m - \u001b[1mAUC  : 0.9568\u001b[0m\n",
      "\u001b[32m2023-08-14 12:18:08.228\u001b[0m | \u001b[1mINFO    \u001b[0m | \u001b[36mtester\u001b[0m:\u001b[36mtest\u001b[0m:\u001b[36m84\u001b[0m - \u001b[1mF1   : 0.7177\u001b[0m\n",
      "\u001b[32m2023-08-14 12:18:08.229\u001b[0m | \u001b[1mINFO    \u001b[0m | \u001b[36mtester\u001b[0m:\u001b[36mtest\u001b[0m:\u001b[36m84\u001b[0m - \u001b[1mAcc  : 0.9794\u001b[0m\n",
      "\u001b[32m2023-08-14 12:18:08.230\u001b[0m | \u001b[1mINFO    \u001b[0m | \u001b[36mtester\u001b[0m:\u001b[36mtest\u001b[0m:\u001b[36m84\u001b[0m - \u001b[1mSen  : 0.6422\u001b[0m\n",
      "\u001b[32m2023-08-14 12:18:08.230\u001b[0m | \u001b[1mINFO    \u001b[0m | \u001b[36mtester\u001b[0m:\u001b[36mtest\u001b[0m:\u001b[36m84\u001b[0m - \u001b[1mSpe  : 0.9943\u001b[0m\n",
      "\u001b[32m2023-08-14 12:18:08.231\u001b[0m | \u001b[1mINFO    \u001b[0m | \u001b[36mtester\u001b[0m:\u001b[36mtest\u001b[0m:\u001b[36m84\u001b[0m - \u001b[1mpre  : 0.8747\u001b[0m\n",
      "\u001b[32m2023-08-14 12:18:08.232\u001b[0m | \u001b[1mINFO    \u001b[0m | \u001b[36mtester\u001b[0m:\u001b[36mtest\u001b[0m:\u001b[36m84\u001b[0m - \u001b[1mIOU  : 0.5882\u001b[0m\n",
      "\u001b[32m2023-08-14 12:18:08.232\u001b[0m | \u001b[1mINFO    \u001b[0m | \u001b[36mtester\u001b[0m:\u001b[36mtest\u001b[0m:\u001b[36m84\u001b[0m - \u001b[1mMCC  : 0.726\u001b[0m\n",
      "TEST (147) | Loss: 0.2771 | AUC 0.9867 F1 0.8573 Acc 0.9798  Sen 0.8322 Spe 0.9911 Pre 0.8913 IOU 0.7546 MCC 0.8488 |B 0.02 D 0.01 |: 100%|██████████| 148/148 [00:23<00:00,  6.33it/s]\n",
      "\u001b[32m2023-08-14 12:18:31.687\u001b[0m | \u001b[1mINFO    \u001b[0m | \u001b[36mtester\u001b[0m:\u001b[36mtest\u001b[0m:\u001b[36m78\u001b[0m - \u001b[1m###### TEST EVALUATION ######\u001b[0m\n",
      "\u001b[32m2023-08-14 12:18:31.688\u001b[0m | \u001b[1mINFO    \u001b[0m | \u001b[36mtester\u001b[0m:\u001b[36mtest\u001b[0m:\u001b[36m79\u001b[0m - \u001b[1mtest time:  0.0198\u001b[0m\n",
      "\u001b[32m2023-08-14 12:18:31.688\u001b[0m | \u001b[1mINFO    \u001b[0m | \u001b[36mtester\u001b[0m:\u001b[36mtest\u001b[0m:\u001b[36m80\u001b[0m - \u001b[1m     loss:  0.2771\u001b[0m\n",
      "\u001b[32m2023-08-14 12:18:31.689\u001b[0m | \u001b[1mINFO    \u001b[0m | \u001b[36mtester\u001b[0m:\u001b[36mtest\u001b[0m:\u001b[36m84\u001b[0m - \u001b[1mAUC  : 0.9867\u001b[0m\n",
      "\u001b[32m2023-08-14 12:18:31.689\u001b[0m | \u001b[1mINFO    \u001b[0m | \u001b[36mtester\u001b[0m:\u001b[36mtest\u001b[0m:\u001b[36m84\u001b[0m - \u001b[1mF1   : 0.8573\u001b[0m\n",
      "\u001b[32m2023-08-14 12:18:31.689\u001b[0m | \u001b[1mINFO    \u001b[0m | \u001b[36mtester\u001b[0m:\u001b[36mtest\u001b[0m:\u001b[36m84\u001b[0m - \u001b[1mAcc  : 0.9798\u001b[0m\n",
      "\u001b[32m2023-08-14 12:18:31.690\u001b[0m | \u001b[1mINFO    \u001b[0m | \u001b[36mtester\u001b[0m:\u001b[36mtest\u001b[0m:\u001b[36m84\u001b[0m - \u001b[1mSen  : 0.8322\u001b[0m\n",
      "\u001b[32m2023-08-14 12:18:31.690\u001b[0m | \u001b[1mINFO    \u001b[0m | \u001b[36mtester\u001b[0m:\u001b[36mtest\u001b[0m:\u001b[36m84\u001b[0m - \u001b[1mSpe  : 0.9911\u001b[0m\n",
      "\u001b[32m2023-08-14 12:18:31.691\u001b[0m | \u001b[1mINFO    \u001b[0m | \u001b[36mtester\u001b[0m:\u001b[36mtest\u001b[0m:\u001b[36m84\u001b[0m - \u001b[1mpre  : 0.8913\u001b[0m\n",
      "\u001b[32m2023-08-14 12:18:31.691\u001b[0m | \u001b[1mINFO    \u001b[0m | \u001b[36mtester\u001b[0m:\u001b[36mtest\u001b[0m:\u001b[36m84\u001b[0m - \u001b[1mIOU  : 0.7546\u001b[0m\n",
      "\u001b[32m2023-08-14 12:18:31.692\u001b[0m | \u001b[1mINFO    \u001b[0m | \u001b[36mtester\u001b[0m:\u001b[36mtest\u001b[0m:\u001b[36m84\u001b[0m - \u001b[1mMCC  : 0.8488\u001b[0m\n"
     ]
    }
   ],
   "source": [
    "main_result(config_file, weight_path=check_path, quality=\"IC\", value=0)\n",
    "\n",
    "main_result(config_file, weight_path=check_path, quality=\"IC\", value=1)\n"
   ]
  },
  {
   "cell_type": "code",
   "execution_count": 24,
   "metadata": {},
   "outputs": [
    {
     "name": "stderr",
     "output_type": "stream",
     "text": [
      "TEST (40) | Loss: 0.4992 | AUC 0.9470 F1 0.6499 Acc 0.9805  Sen 0.5422 Spe 0.9969 Pre 0.8730 IOU 0.5043 MCC 0.6673 |B 0.04 D 0.03 |: 100%|██████████| 41/41 [00:07<00:00,  5.47it/s]\n",
      "\u001b[32m2023-08-14 12:18:39.301\u001b[0m | \u001b[1mINFO    \u001b[0m | \u001b[36mtester\u001b[0m:\u001b[36mtest\u001b[0m:\u001b[36m78\u001b[0m - \u001b[1m###### TEST EVALUATION ######\u001b[0m\n",
      "\u001b[32m2023-08-14 12:18:39.301\u001b[0m | \u001b[1mINFO    \u001b[0m | \u001b[36mtester\u001b[0m:\u001b[36mtest\u001b[0m:\u001b[36m79\u001b[0m - \u001b[1mtest time:  0.0392\u001b[0m\n",
      "\u001b[32m2023-08-14 12:18:39.302\u001b[0m | \u001b[1mINFO    \u001b[0m | \u001b[36mtester\u001b[0m:\u001b[36mtest\u001b[0m:\u001b[36m80\u001b[0m - \u001b[1m     loss:  0.4992\u001b[0m\n",
      "\u001b[32m2023-08-14 12:18:39.303\u001b[0m | \u001b[1mINFO    \u001b[0m | \u001b[36mtester\u001b[0m:\u001b[36mtest\u001b[0m:\u001b[36m84\u001b[0m - \u001b[1mAUC  : 0.947\u001b[0m\n",
      "\u001b[32m2023-08-14 12:18:39.304\u001b[0m | \u001b[1mINFO    \u001b[0m | \u001b[36mtester\u001b[0m:\u001b[36mtest\u001b[0m:\u001b[36m84\u001b[0m - \u001b[1mF1   : 0.6499\u001b[0m\n",
      "\u001b[32m2023-08-14 12:18:39.305\u001b[0m | \u001b[1mINFO    \u001b[0m | \u001b[36mtester\u001b[0m:\u001b[36mtest\u001b[0m:\u001b[36m84\u001b[0m - \u001b[1mAcc  : 0.9805\u001b[0m\n",
      "\u001b[32m2023-08-14 12:18:39.305\u001b[0m | \u001b[1mINFO    \u001b[0m | \u001b[36mtester\u001b[0m:\u001b[36mtest\u001b[0m:\u001b[36m84\u001b[0m - \u001b[1mSen  : 0.5422\u001b[0m\n",
      "\u001b[32m2023-08-14 12:18:39.306\u001b[0m | \u001b[1mINFO    \u001b[0m | \u001b[36mtester\u001b[0m:\u001b[36mtest\u001b[0m:\u001b[36m84\u001b[0m - \u001b[1mSpe  : 0.9969\u001b[0m\n",
      "\u001b[32m2023-08-14 12:18:39.306\u001b[0m | \u001b[1mINFO    \u001b[0m | \u001b[36mtester\u001b[0m:\u001b[36mtest\u001b[0m:\u001b[36m84\u001b[0m - \u001b[1mpre  : 0.873\u001b[0m\n",
      "\u001b[32m2023-08-14 12:18:39.307\u001b[0m | \u001b[1mINFO    \u001b[0m | \u001b[36mtester\u001b[0m:\u001b[36mtest\u001b[0m:\u001b[36m84\u001b[0m - \u001b[1mIOU  : 0.5043\u001b[0m\n",
      "\u001b[32m2023-08-14 12:18:39.308\u001b[0m | \u001b[1mINFO    \u001b[0m | \u001b[36mtester\u001b[0m:\u001b[36mtest\u001b[0m:\u001b[36m84\u001b[0m - \u001b[1mMCC  : 0.6673\u001b[0m\n",
      "TEST (158) | Loss: 0.2686 | AUC 0.9872 F1 0.8652 Acc 0.9795  Sen 0.8448 Spe 0.9906 Pre 0.8906 IOU 0.7647 MCC 0.8555 |B 0.02 D 0.01 |: 100%|██████████| 159/159 [00:24<00:00,  6.39it/s]\n",
      "\u001b[32m2023-08-14 12:19:04.281\u001b[0m | \u001b[1mINFO    \u001b[0m | \u001b[36mtester\u001b[0m:\u001b[36mtest\u001b[0m:\u001b[36m78\u001b[0m - \u001b[1m###### TEST EVALUATION ######\u001b[0m\n",
      "\u001b[32m2023-08-14 12:19:04.282\u001b[0m | \u001b[1mINFO    \u001b[0m | \u001b[36mtester\u001b[0m:\u001b[36mtest\u001b[0m:\u001b[36m79\u001b[0m - \u001b[1mtest time:  0.0199\u001b[0m\n",
      "\u001b[32m2023-08-14 12:19:04.283\u001b[0m | \u001b[1mINFO    \u001b[0m | \u001b[36mtester\u001b[0m:\u001b[36mtest\u001b[0m:\u001b[36m80\u001b[0m - \u001b[1m     loss:  0.2686\u001b[0m\n",
      "\u001b[32m2023-08-14 12:19:04.283\u001b[0m | \u001b[1mINFO    \u001b[0m | \u001b[36mtester\u001b[0m:\u001b[36mtest\u001b[0m:\u001b[36m84\u001b[0m - \u001b[1mAUC  : 0.9872\u001b[0m\n",
      "\u001b[32m2023-08-14 12:19:04.284\u001b[0m | \u001b[1mINFO    \u001b[0m | \u001b[36mtester\u001b[0m:\u001b[36mtest\u001b[0m:\u001b[36m84\u001b[0m - \u001b[1mF1   : 0.8652\u001b[0m\n",
      "\u001b[32m2023-08-14 12:19:04.284\u001b[0m | \u001b[1mINFO    \u001b[0m | \u001b[36mtester\u001b[0m:\u001b[36mtest\u001b[0m:\u001b[36m84\u001b[0m - \u001b[1mAcc  : 0.9795\u001b[0m\n",
      "\u001b[32m2023-08-14 12:19:04.284\u001b[0m | \u001b[1mINFO    \u001b[0m | \u001b[36mtester\u001b[0m:\u001b[36mtest\u001b[0m:\u001b[36m84\u001b[0m - \u001b[1mSen  : 0.8448\u001b[0m\n",
      "\u001b[32m2023-08-14 12:19:04.285\u001b[0m | \u001b[1mINFO    \u001b[0m | \u001b[36mtester\u001b[0m:\u001b[36mtest\u001b[0m:\u001b[36m84\u001b[0m - \u001b[1mSpe  : 0.9906\u001b[0m\n",
      "\u001b[32m2023-08-14 12:19:04.285\u001b[0m | \u001b[1mINFO    \u001b[0m | \u001b[36mtester\u001b[0m:\u001b[36mtest\u001b[0m:\u001b[36m84\u001b[0m - \u001b[1mpre  : 0.8906\u001b[0m\n",
      "\u001b[32m2023-08-14 12:19:04.286\u001b[0m | \u001b[1mINFO    \u001b[0m | \u001b[36mtester\u001b[0m:\u001b[36mtest\u001b[0m:\u001b[36m84\u001b[0m - \u001b[1mIOU  : 0.7647\u001b[0m\n",
      "\u001b[32m2023-08-14 12:19:04.286\u001b[0m | \u001b[1mINFO    \u001b[0m | \u001b[36mtester\u001b[0m:\u001b[36mtest\u001b[0m:\u001b[36m84\u001b[0m - \u001b[1mMCC  : 0.8555\u001b[0m\n"
     ]
    }
   ],
   "source": [
    "main_result(config_file, weight_path=check_path, quality=\"Blur\", value=0)\n",
    "\n",
    "main_result(config_file, weight_path=check_path, quality=\"Blur\", value=1)\n"
   ]
  },
  {
   "cell_type": "code",
   "execution_count": 25,
   "metadata": {},
   "outputs": [
    {
     "name": "stderr",
     "output_type": "stream",
     "text": [
      "TEST (14) | Loss: 0.6397 | AUC 0.9035 F1 0.5046 Acc 0.9822  Sen 0.3801 Spe 0.9986 Pre 0.8393 IOU 0.3610 MCC 0.5429 |B 0.08 D 0.07 |: 100%|██████████| 15/15 [00:03<00:00,  4.30it/s]\n",
      "\u001b[32m2023-08-14 12:19:07.873\u001b[0m | \u001b[1mINFO    \u001b[0m | \u001b[36mtester\u001b[0m:\u001b[36mtest\u001b[0m:\u001b[36m78\u001b[0m - \u001b[1m###### TEST EVALUATION ######\u001b[0m\n",
      "\u001b[32m2023-08-14 12:19:07.874\u001b[0m | \u001b[1mINFO    \u001b[0m | \u001b[36mtester\u001b[0m:\u001b[36mtest\u001b[0m:\u001b[36m79\u001b[0m - \u001b[1mtest time:  0.083\u001b[0m\n",
      "\u001b[32m2023-08-14 12:19:07.874\u001b[0m | \u001b[1mINFO    \u001b[0m | \u001b[36mtester\u001b[0m:\u001b[36mtest\u001b[0m:\u001b[36m80\u001b[0m - \u001b[1m     loss:  0.6397\u001b[0m\n",
      "\u001b[32m2023-08-14 12:19:07.875\u001b[0m | \u001b[1mINFO    \u001b[0m | \u001b[36mtester\u001b[0m:\u001b[36mtest\u001b[0m:\u001b[36m84\u001b[0m - \u001b[1mAUC  : 0.9035\u001b[0m\n",
      "\u001b[32m2023-08-14 12:19:07.876\u001b[0m | \u001b[1mINFO    \u001b[0m | \u001b[36mtester\u001b[0m:\u001b[36mtest\u001b[0m:\u001b[36m84\u001b[0m - \u001b[1mF1   : 0.5046\u001b[0m\n",
      "\u001b[32m2023-08-14 12:19:07.876\u001b[0m | \u001b[1mINFO    \u001b[0m | \u001b[36mtester\u001b[0m:\u001b[36mtest\u001b[0m:\u001b[36m84\u001b[0m - \u001b[1mAcc  : 0.9822\u001b[0m\n",
      "\u001b[32m2023-08-14 12:19:07.877\u001b[0m | \u001b[1mINFO    \u001b[0m | \u001b[36mtester\u001b[0m:\u001b[36mtest\u001b[0m:\u001b[36m84\u001b[0m - \u001b[1mSen  : 0.3801\u001b[0m\n",
      "\u001b[32m2023-08-14 12:19:07.878\u001b[0m | \u001b[1mINFO    \u001b[0m | \u001b[36mtester\u001b[0m:\u001b[36mtest\u001b[0m:\u001b[36m84\u001b[0m - \u001b[1mSpe  : 0.9986\u001b[0m\n",
      "\u001b[32m2023-08-14 12:19:07.878\u001b[0m | \u001b[1mINFO    \u001b[0m | \u001b[36mtester\u001b[0m:\u001b[36mtest\u001b[0m:\u001b[36m84\u001b[0m - \u001b[1mpre  : 0.8393\u001b[0m\n",
      "\u001b[32m2023-08-14 12:19:07.879\u001b[0m | \u001b[1mINFO    \u001b[0m | \u001b[36mtester\u001b[0m:\u001b[36mtest\u001b[0m:\u001b[36m84\u001b[0m - \u001b[1mIOU  : 0.361\u001b[0m\n",
      "\u001b[32m2023-08-14 12:19:07.879\u001b[0m | \u001b[1mINFO    \u001b[0m | \u001b[36mtester\u001b[0m:\u001b[36mtest\u001b[0m:\u001b[36m84\u001b[0m - \u001b[1mMCC  : 0.5429\u001b[0m\n",
      "TEST (184) | Loss: 0.2896 | AUC 0.9851 F1 0.8467 Acc 0.9795  Sen 0.8154 Spe 0.9914 Pre 0.8908 IOU 0.7397 MCC 0.8391 |B 0.02 D 0.01 |: 100%|██████████| 185/185 [00:28<00:00,  6.39it/s]\n",
      "\u001b[32m2023-08-14 12:19:36.924\u001b[0m | \u001b[1mINFO    \u001b[0m | \u001b[36mtester\u001b[0m:\u001b[36mtest\u001b[0m:\u001b[36m78\u001b[0m - \u001b[1m###### TEST EVALUATION ######\u001b[0m\n",
      "\u001b[32m2023-08-14 12:19:36.925\u001b[0m | \u001b[1mINFO    \u001b[0m | \u001b[36mtester\u001b[0m:\u001b[36mtest\u001b[0m:\u001b[36m79\u001b[0m - \u001b[1mtest time:  0.0186\u001b[0m\n",
      "\u001b[32m2023-08-14 12:19:36.926\u001b[0m | \u001b[1mINFO    \u001b[0m | \u001b[36mtester\u001b[0m:\u001b[36mtest\u001b[0m:\u001b[36m80\u001b[0m - \u001b[1m     loss:  0.2896\u001b[0m\n",
      "\u001b[32m2023-08-14 12:19:36.926\u001b[0m | \u001b[1mINFO    \u001b[0m | \u001b[36mtester\u001b[0m:\u001b[36mtest\u001b[0m:\u001b[36m84\u001b[0m - \u001b[1mAUC  : 0.9851\u001b[0m\n",
      "\u001b[32m2023-08-14 12:19:36.927\u001b[0m | \u001b[1mINFO    \u001b[0m | \u001b[36mtester\u001b[0m:\u001b[36mtest\u001b[0m:\u001b[36m84\u001b[0m - \u001b[1mF1   : 0.8467\u001b[0m\n",
      "\u001b[32m2023-08-14 12:19:36.927\u001b[0m | \u001b[1mINFO    \u001b[0m | \u001b[36mtester\u001b[0m:\u001b[36mtest\u001b[0m:\u001b[36m84\u001b[0m - \u001b[1mAcc  : 0.9795\u001b[0m\n",
      "\u001b[32m2023-08-14 12:19:36.928\u001b[0m | \u001b[1mINFO    \u001b[0m | \u001b[36mtester\u001b[0m:\u001b[36mtest\u001b[0m:\u001b[36m84\u001b[0m - \u001b[1mSen  : 0.8154\u001b[0m\n",
      "\u001b[32m2023-08-14 12:19:36.928\u001b[0m | \u001b[1mINFO    \u001b[0m | \u001b[36mtester\u001b[0m:\u001b[36mtest\u001b[0m:\u001b[36m84\u001b[0m - \u001b[1mSpe  : 0.9914\u001b[0m\n",
      "\u001b[32m2023-08-14 12:19:36.929\u001b[0m | \u001b[1mINFO    \u001b[0m | \u001b[36mtester\u001b[0m:\u001b[36mtest\u001b[0m:\u001b[36m84\u001b[0m - \u001b[1mpre  : 0.8908\u001b[0m\n",
      "\u001b[32m2023-08-14 12:19:36.929\u001b[0m | \u001b[1mINFO    \u001b[0m | \u001b[36mtester\u001b[0m:\u001b[36mtest\u001b[0m:\u001b[36m84\u001b[0m - \u001b[1mIOU  : 0.7397\u001b[0m\n",
      "\u001b[32m2023-08-14 12:19:36.929\u001b[0m | \u001b[1mINFO    \u001b[0m | \u001b[36mtester\u001b[0m:\u001b[36mtest\u001b[0m:\u001b[36m84\u001b[0m - \u001b[1mMCC  : 0.8391\u001b[0m\n"
     ]
    }
   ],
   "source": [
    "main_result(config_file, weight_path=check_path, quality=\"LC\", value=0)\n",
    "\n",
    "main_result(config_file, weight_path=check_path, quality=\"LC\", value=1)\n"
   ]
  },
  {
   "cell_type": "markdown",
   "metadata": {},
   "source": [
    "## UNet"
   ]
  },
  {
   "cell_type": "code",
   "execution_count": 26,
   "metadata": {},
   "outputs": [],
   "source": [
    "config_file = '../configs/unet_dicebce.yaml'\n",
    "check_path = \"/mnt/qb/berens/users/jfadugba97/RetinaSegmentation/model_results/Unet/FIVES/CE_DiceLoss/checkpoint-epoch70.pth\"\n"
   ]
  },
  {
   "cell_type": "code",
   "execution_count": 27,
   "metadata": {},
   "outputs": [
    {
     "name": "stderr",
     "output_type": "stream",
     "text": [
      "TEST (14) | Loss: 0.1949 | AUC 0.9620 F1 0.6831 Acc 0.9868  Sen 0.6327 Spe 0.9960 Pre 0.8051 IOU 0.5498 MCC 0.6920 |B 0.10 D 0.08 |: 100%|██████████| 15/15 [00:03<00:00,  4.17it/s]\n",
      "\u001b[32m2023-08-14 12:19:44.575\u001b[0m | \u001b[1mINFO    \u001b[0m | \u001b[36mtester\u001b[0m:\u001b[36mtest\u001b[0m:\u001b[36m78\u001b[0m - \u001b[1m###### TEST EVALUATION ######\u001b[0m\n",
      "\u001b[32m2023-08-14 12:19:44.576\u001b[0m | \u001b[1mINFO    \u001b[0m | \u001b[36mtester\u001b[0m:\u001b[36mtest\u001b[0m:\u001b[36m79\u001b[0m - \u001b[1mtest time:  0.0955\u001b[0m\n",
      "\u001b[32m2023-08-14 12:19:44.576\u001b[0m | \u001b[1mINFO    \u001b[0m | \u001b[36mtester\u001b[0m:\u001b[36mtest\u001b[0m:\u001b[36m80\u001b[0m - \u001b[1m     loss:  0.1949\u001b[0m\n",
      "\u001b[32m2023-08-14 12:19:44.577\u001b[0m | \u001b[1mINFO    \u001b[0m | \u001b[36mtester\u001b[0m:\u001b[36mtest\u001b[0m:\u001b[36m84\u001b[0m - \u001b[1mAUC  : 0.962\u001b[0m\n",
      "\u001b[32m2023-08-14 12:19:44.577\u001b[0m | \u001b[1mINFO    \u001b[0m | \u001b[36mtester\u001b[0m:\u001b[36mtest\u001b[0m:\u001b[36m84\u001b[0m - \u001b[1mF1   : 0.6831\u001b[0m\n",
      "\u001b[32m2023-08-14 12:19:44.578\u001b[0m | \u001b[1mINFO    \u001b[0m | \u001b[36mtester\u001b[0m:\u001b[36mtest\u001b[0m:\u001b[36m84\u001b[0m - \u001b[1mAcc  : 0.9868\u001b[0m\n",
      "\u001b[32m2023-08-14 12:19:44.578\u001b[0m | \u001b[1mINFO    \u001b[0m | \u001b[36mtester\u001b[0m:\u001b[36mtest\u001b[0m:\u001b[36m84\u001b[0m - \u001b[1mSen  : 0.6327\u001b[0m\n",
      "\u001b[32m2023-08-14 12:19:44.579\u001b[0m | \u001b[1mINFO    \u001b[0m | \u001b[36mtester\u001b[0m:\u001b[36mtest\u001b[0m:\u001b[36m84\u001b[0m - \u001b[1mSpe  : 0.996\u001b[0m\n",
      "\u001b[32m2023-08-14 12:19:44.580\u001b[0m | \u001b[1mINFO    \u001b[0m | \u001b[36mtester\u001b[0m:\u001b[36mtest\u001b[0m:\u001b[36m84\u001b[0m - \u001b[1mpre  : 0.8051\u001b[0m\n",
      "\u001b[32m2023-08-14 12:19:44.580\u001b[0m | \u001b[1mINFO    \u001b[0m | \u001b[36mtester\u001b[0m:\u001b[36mtest\u001b[0m:\u001b[36m84\u001b[0m - \u001b[1mIOU  : 0.5498\u001b[0m\n",
      "\u001b[32m2023-08-14 12:19:44.581\u001b[0m | \u001b[1mINFO    \u001b[0m | \u001b[36mtester\u001b[0m:\u001b[36mtest\u001b[0m:\u001b[36m84\u001b[0m - \u001b[1mMCC  : 0.692\u001b[0m\n",
      "TEST (10) | Loss: 0.1224 | AUC 0.9856 F1 0.8280 Acc 0.9855  Sen 0.7764 Spe 0.9957 Pre 0.8909 IOU 0.7095 MCC 0.8235 |B 0.13 D 0.12 |: 100%|██████████| 11/11 [00:03<00:00,  3.63it/s]\n",
      "\u001b[32m2023-08-14 12:19:49.122\u001b[0m | \u001b[1mINFO    \u001b[0m | \u001b[36mtester\u001b[0m:\u001b[36mtest\u001b[0m:\u001b[36m78\u001b[0m - \u001b[1m###### TEST EVALUATION ######\u001b[0m\n",
      "\u001b[32m2023-08-14 12:19:49.122\u001b[0m | \u001b[1mINFO    \u001b[0m | \u001b[36mtester\u001b[0m:\u001b[36mtest\u001b[0m:\u001b[36m79\u001b[0m - \u001b[1mtest time:  0.1335\u001b[0m\n",
      "\u001b[32m2023-08-14 12:19:49.123\u001b[0m | \u001b[1mINFO    \u001b[0m | \u001b[36mtester\u001b[0m:\u001b[36mtest\u001b[0m:\u001b[36m80\u001b[0m - \u001b[1m     loss:  0.1224\u001b[0m\n",
      "\u001b[32m2023-08-14 12:19:49.124\u001b[0m | \u001b[1mINFO    \u001b[0m | \u001b[36mtester\u001b[0m:\u001b[36mtest\u001b[0m:\u001b[36m84\u001b[0m - \u001b[1mAUC  : 0.9856\u001b[0m\n",
      "\u001b[32m2023-08-14 12:19:49.124\u001b[0m | \u001b[1mINFO    \u001b[0m | \u001b[36mtester\u001b[0m:\u001b[36mtest\u001b[0m:\u001b[36m84\u001b[0m - \u001b[1mF1   : 0.828\u001b[0m\n",
      "\u001b[32m2023-08-14 12:19:49.125\u001b[0m | \u001b[1mINFO    \u001b[0m | \u001b[36mtester\u001b[0m:\u001b[36mtest\u001b[0m:\u001b[36m84\u001b[0m - \u001b[1mAcc  : 0.9855\u001b[0m\n",
      "\u001b[32m2023-08-14 12:19:49.125\u001b[0m | \u001b[1mINFO    \u001b[0m | \u001b[36mtester\u001b[0m:\u001b[36mtest\u001b[0m:\u001b[36m84\u001b[0m - \u001b[1mSen  : 0.7764\u001b[0m\n",
      "\u001b[32m2023-08-14 12:19:49.126\u001b[0m | \u001b[1mINFO    \u001b[0m | \u001b[36mtester\u001b[0m:\u001b[36mtest\u001b[0m:\u001b[36m84\u001b[0m - \u001b[1mSpe  : 0.9957\u001b[0m\n",
      "\u001b[32m2023-08-14 12:19:49.126\u001b[0m | \u001b[1mINFO    \u001b[0m | \u001b[36mtester\u001b[0m:\u001b[36mtest\u001b[0m:\u001b[36m84\u001b[0m - \u001b[1mpre  : 0.8909\u001b[0m\n",
      "\u001b[32m2023-08-14 12:19:49.126\u001b[0m | \u001b[1mINFO    \u001b[0m | \u001b[36mtester\u001b[0m:\u001b[36mtest\u001b[0m:\u001b[36m84\u001b[0m - \u001b[1mIOU  : 0.7095\u001b[0m\n",
      "\u001b[32m2023-08-14 12:19:49.127\u001b[0m | \u001b[1mINFO    \u001b[0m | \u001b[36mtester\u001b[0m:\u001b[36mtest\u001b[0m:\u001b[36m84\u001b[0m - \u001b[1mMCC  : 0.8235\u001b[0m\n",
      "TEST (40) | Loss: 0.0879 | AUC 0.9912 F1 0.8862 Acc 0.9863  Sen 0.8671 Spe 0.9942 Pre 0.9077 IOU 0.7978 MCC 0.8796 |B 0.04 D 0.03 |: 100%|██████████| 41/41 [00:07<00:00,  5.46it/s]\n",
      "\u001b[32m2023-08-14 12:19:58.125\u001b[0m | \u001b[1mINFO    \u001b[0m | \u001b[36mtester\u001b[0m:\u001b[36mtest\u001b[0m:\u001b[36m78\u001b[0m - \u001b[1m###### TEST EVALUATION ######\u001b[0m\n",
      "\u001b[32m2023-08-14 12:19:58.127\u001b[0m | \u001b[1mINFO    \u001b[0m | \u001b[36mtester\u001b[0m:\u001b[36mtest\u001b[0m:\u001b[36m79\u001b[0m - \u001b[1mtest time:  0.0417\u001b[0m\n",
      "\u001b[32m2023-08-14 12:19:58.127\u001b[0m | \u001b[1mINFO    \u001b[0m | \u001b[36mtester\u001b[0m:\u001b[36mtest\u001b[0m:\u001b[36m80\u001b[0m - \u001b[1m     loss:  0.0879\u001b[0m\n",
      "\u001b[32m2023-08-14 12:19:58.128\u001b[0m | \u001b[1mINFO    \u001b[0m | \u001b[36mtester\u001b[0m:\u001b[36mtest\u001b[0m:\u001b[36m84\u001b[0m - \u001b[1mAUC  : 0.9912\u001b[0m\n",
      "\u001b[32m2023-08-14 12:19:58.128\u001b[0m | \u001b[1mINFO    \u001b[0m | \u001b[36mtester\u001b[0m:\u001b[36mtest\u001b[0m:\u001b[36m84\u001b[0m - \u001b[1mF1   : 0.8862\u001b[0m\n",
      "\u001b[32m2023-08-14 12:19:58.129\u001b[0m | \u001b[1mINFO    \u001b[0m | \u001b[36mtester\u001b[0m:\u001b[36mtest\u001b[0m:\u001b[36m84\u001b[0m - \u001b[1mAcc  : 0.9863\u001b[0m\n",
      "\u001b[32m2023-08-14 12:19:58.129\u001b[0m | \u001b[1mINFO    \u001b[0m | \u001b[36mtester\u001b[0m:\u001b[36mtest\u001b[0m:\u001b[36m84\u001b[0m - \u001b[1mSen  : 0.8671\u001b[0m\n",
      "\u001b[32m2023-08-14 12:19:58.130\u001b[0m | \u001b[1mINFO    \u001b[0m | \u001b[36mtester\u001b[0m:\u001b[36mtest\u001b[0m:\u001b[36m84\u001b[0m - \u001b[1mSpe  : 0.9942\u001b[0m\n",
      "\u001b[32m2023-08-14 12:19:58.130\u001b[0m | \u001b[1mINFO    \u001b[0m | \u001b[36mtester\u001b[0m:\u001b[36mtest\u001b[0m:\u001b[36m84\u001b[0m - \u001b[1mpre  : 0.9077\u001b[0m\n",
      "\u001b[32m2023-08-14 12:19:58.131\u001b[0m | \u001b[1mINFO    \u001b[0m | \u001b[36mtester\u001b[0m:\u001b[36mtest\u001b[0m:\u001b[36m84\u001b[0m - \u001b[1mIOU  : 0.7978\u001b[0m\n",
      "\u001b[32m2023-08-14 12:19:58.131\u001b[0m | \u001b[1mINFO    \u001b[0m | \u001b[36mtester\u001b[0m:\u001b[36mtest\u001b[0m:\u001b[36m84\u001b[0m - \u001b[1mMCC  : 0.8796\u001b[0m\n",
      "TEST (132) | Loss: 0.0722 | AUC 0.9928 F1 0.9147 Acc 0.9867  Sen 0.9031 Spe 0.9939 Pre 0.9274 IOU 0.8445 MCC 0.9078 |B 0.02 D 0.01 |: 100%|██████████| 133/133 [00:21<00:00,  6.32it/s]\n",
      "\u001b[32m2023-08-14 12:20:20.568\u001b[0m | \u001b[1mINFO    \u001b[0m | \u001b[36mtester\u001b[0m:\u001b[36mtest\u001b[0m:\u001b[36m78\u001b[0m - \u001b[1m###### TEST EVALUATION ######\u001b[0m\n",
      "\u001b[32m2023-08-14 12:20:20.569\u001b[0m | \u001b[1mINFO    \u001b[0m | \u001b[36mtester\u001b[0m:\u001b[36mtest\u001b[0m:\u001b[36m79\u001b[0m - \u001b[1mtest time:  0.017\u001b[0m\n",
      "\u001b[32m2023-08-14 12:20:20.570\u001b[0m | \u001b[1mINFO    \u001b[0m | \u001b[36mtester\u001b[0m:\u001b[36mtest\u001b[0m:\u001b[36m80\u001b[0m - \u001b[1m     loss:  0.0722\u001b[0m\n",
      "\u001b[32m2023-08-14 12:20:20.570\u001b[0m | \u001b[1mINFO    \u001b[0m | \u001b[36mtester\u001b[0m:\u001b[36mtest\u001b[0m:\u001b[36m84\u001b[0m - \u001b[1mAUC  : 0.9928\u001b[0m\n",
      "\u001b[32m2023-08-14 12:20:20.571\u001b[0m | \u001b[1mINFO    \u001b[0m | \u001b[36mtester\u001b[0m:\u001b[36mtest\u001b[0m:\u001b[36m84\u001b[0m - \u001b[1mF1   : 0.9147\u001b[0m\n",
      "\u001b[32m2023-08-14 12:20:20.571\u001b[0m | \u001b[1mINFO    \u001b[0m | \u001b[36mtester\u001b[0m:\u001b[36mtest\u001b[0m:\u001b[36m84\u001b[0m - \u001b[1mAcc  : 0.9867\u001b[0m\n",
      "\u001b[32m2023-08-14 12:20:20.573\u001b[0m | \u001b[1mINFO    \u001b[0m | \u001b[36mtester\u001b[0m:\u001b[36mtest\u001b[0m:\u001b[36m84\u001b[0m - \u001b[1mSen  : 0.9031\u001b[0m\n",
      "\u001b[32m2023-08-14 12:20:20.573\u001b[0m | \u001b[1mINFO    \u001b[0m | \u001b[36mtester\u001b[0m:\u001b[36mtest\u001b[0m:\u001b[36m84\u001b[0m - \u001b[1mSpe  : 0.9939\u001b[0m\n",
      "\u001b[32m2023-08-14 12:20:20.573\u001b[0m | \u001b[1mINFO    \u001b[0m | \u001b[36mtester\u001b[0m:\u001b[36mtest\u001b[0m:\u001b[36m84\u001b[0m - \u001b[1mpre  : 0.9274\u001b[0m\n",
      "\u001b[32m2023-08-14 12:20:20.574\u001b[0m | \u001b[1mINFO    \u001b[0m | \u001b[36mtester\u001b[0m:\u001b[36mtest\u001b[0m:\u001b[36m84\u001b[0m - \u001b[1mIOU  : 0.8445\u001b[0m\n",
      "\u001b[32m2023-08-14 12:20:20.575\u001b[0m | \u001b[1mINFO    \u001b[0m | \u001b[36mtester\u001b[0m:\u001b[36mtest\u001b[0m:\u001b[36m84\u001b[0m - \u001b[1mMCC  : 0.9078\u001b[0m\n"
     ]
    }
   ],
   "source": [
    "main_result(config_file, weight_path=check_path, quality=\"Score\", value=0)\n",
    "\n",
    "main_result(config_file, weight_path=check_path, quality=\"Score\", value=1)\n",
    "\n",
    "main_result(config_file, weight_path=check_path, quality=\"Score\", value=2)\n",
    "\n",
    "main_result(config_file, weight_path=check_path, quality=\"Score\", value=3)"
   ]
  },
  {
   "cell_type": "code",
   "execution_count": 28,
   "metadata": {},
   "outputs": [
    {
     "name": "stderr",
     "output_type": "stream",
     "text": [
      "TEST (51) | Loss: 0.1234 | AUC 0.9817 F1 0.8217 Acc 0.9859  Sen 0.7869 Spe 0.9949 Pre 0.8805 IOU 0.7175 MCC 0.8197 |B 0.04 D 0.03 |: 100%|██████████| 52/52 [00:09<00:00,  5.74it/s]\n",
      "\u001b[32m2023-08-14 12:20:31.045\u001b[0m | \u001b[1mINFO    \u001b[0m | \u001b[36mtester\u001b[0m:\u001b[36mtest\u001b[0m:\u001b[36m78\u001b[0m - \u001b[1m###### TEST EVALUATION ######\u001b[0m\n",
      "\u001b[32m2023-08-14 12:20:31.045\u001b[0m | \u001b[1mINFO    \u001b[0m | \u001b[36mtester\u001b[0m:\u001b[36mtest\u001b[0m:\u001b[36m79\u001b[0m - \u001b[1mtest time:  0.0387\u001b[0m\n",
      "\u001b[32m2023-08-14 12:20:31.046\u001b[0m | \u001b[1mINFO    \u001b[0m | \u001b[36mtester\u001b[0m:\u001b[36mtest\u001b[0m:\u001b[36m80\u001b[0m - \u001b[1m     loss:  0.1234\u001b[0m\n",
      "\u001b[32m2023-08-14 12:20:31.046\u001b[0m | \u001b[1mINFO    \u001b[0m | \u001b[36mtester\u001b[0m:\u001b[36mtest\u001b[0m:\u001b[36m84\u001b[0m - \u001b[1mAUC  : 0.9817\u001b[0m\n",
      "\u001b[32m2023-08-14 12:20:31.047\u001b[0m | \u001b[1mINFO    \u001b[0m | \u001b[36mtester\u001b[0m:\u001b[36mtest\u001b[0m:\u001b[36m84\u001b[0m - \u001b[1mF1   : 0.8217\u001b[0m\n",
      "\u001b[32m2023-08-14 12:20:31.047\u001b[0m | \u001b[1mINFO    \u001b[0m | \u001b[36mtester\u001b[0m:\u001b[36mtest\u001b[0m:\u001b[36m84\u001b[0m - \u001b[1mAcc  : 0.9859\u001b[0m\n",
      "\u001b[32m2023-08-14 12:20:31.048\u001b[0m | \u001b[1mINFO    \u001b[0m | \u001b[36mtester\u001b[0m:\u001b[36mtest\u001b[0m:\u001b[36m84\u001b[0m - \u001b[1mSen  : 0.7869\u001b[0m\n",
      "\u001b[32m2023-08-14 12:20:31.048\u001b[0m | \u001b[1mINFO    \u001b[0m | \u001b[36mtester\u001b[0m:\u001b[36mtest\u001b[0m:\u001b[36m84\u001b[0m - \u001b[1mSpe  : 0.9949\u001b[0m\n",
      "\u001b[32m2023-08-14 12:20:31.049\u001b[0m | \u001b[1mINFO    \u001b[0m | \u001b[36mtester\u001b[0m:\u001b[36mtest\u001b[0m:\u001b[36m84\u001b[0m - \u001b[1mpre  : 0.8805\u001b[0m\n",
      "\u001b[32m2023-08-14 12:20:31.049\u001b[0m | \u001b[1mINFO    \u001b[0m | \u001b[36mtester\u001b[0m:\u001b[36mtest\u001b[0m:\u001b[36m84\u001b[0m - \u001b[1mIOU  : 0.7175\u001b[0m\n",
      "\u001b[32m2023-08-14 12:20:31.049\u001b[0m | \u001b[1mINFO    \u001b[0m | \u001b[36mtester\u001b[0m:\u001b[36mtest\u001b[0m:\u001b[36m84\u001b[0m - \u001b[1mMCC  : 0.8197\u001b[0m\n",
      "TEST (147) | Loss: 0.0747 | AUC 0.9926 F1 0.9096 Acc 0.9868  Sen 0.8972 Spe 0.9940 Pre 0.9233 IOU 0.8363 MCC 0.9028 |B 0.02 D 0.01 |: 100%|██████████| 148/148 [00:23<00:00,  6.33it/s]\n",
      "\u001b[32m2023-08-14 12:20:55.816\u001b[0m | \u001b[1mINFO    \u001b[0m | \u001b[36mtester\u001b[0m:\u001b[36mtest\u001b[0m:\u001b[36m78\u001b[0m - \u001b[1m###### TEST EVALUATION ######\u001b[0m\n",
      "\u001b[32m2023-08-14 12:20:55.817\u001b[0m | \u001b[1mINFO    \u001b[0m | \u001b[36mtester\u001b[0m:\u001b[36mtest\u001b[0m:\u001b[36m79\u001b[0m - \u001b[1mtest time:  0.0188\u001b[0m\n",
      "\u001b[32m2023-08-14 12:20:55.817\u001b[0m | \u001b[1mINFO    \u001b[0m | \u001b[36mtester\u001b[0m:\u001b[36mtest\u001b[0m:\u001b[36m80\u001b[0m - \u001b[1m     loss:  0.0747\u001b[0m\n",
      "\u001b[32m2023-08-14 12:20:55.818\u001b[0m | \u001b[1mINFO    \u001b[0m | \u001b[36mtester\u001b[0m:\u001b[36mtest\u001b[0m:\u001b[36m84\u001b[0m - \u001b[1mAUC  : 0.9926\u001b[0m\n",
      "\u001b[32m2023-08-14 12:20:55.819\u001b[0m | \u001b[1mINFO    \u001b[0m | \u001b[36mtester\u001b[0m:\u001b[36mtest\u001b[0m:\u001b[36m84\u001b[0m - \u001b[1mF1   : 0.9096\u001b[0m\n",
      "\u001b[32m2023-08-14 12:20:55.819\u001b[0m | \u001b[1mINFO    \u001b[0m | \u001b[36mtester\u001b[0m:\u001b[36mtest\u001b[0m:\u001b[36m84\u001b[0m - \u001b[1mAcc  : 0.9868\u001b[0m\n",
      "\u001b[32m2023-08-14 12:20:55.820\u001b[0m | \u001b[1mINFO    \u001b[0m | \u001b[36mtester\u001b[0m:\u001b[36mtest\u001b[0m:\u001b[36m84\u001b[0m - \u001b[1mSen  : 0.8972\u001b[0m\n",
      "\u001b[32m2023-08-14 12:20:55.820\u001b[0m | \u001b[1mINFO    \u001b[0m | \u001b[36mtester\u001b[0m:\u001b[36mtest\u001b[0m:\u001b[36m84\u001b[0m - \u001b[1mSpe  : 0.994\u001b[0m\n",
      "\u001b[32m2023-08-14 12:20:55.821\u001b[0m | \u001b[1mINFO    \u001b[0m | \u001b[36mtester\u001b[0m:\u001b[36mtest\u001b[0m:\u001b[36m84\u001b[0m - \u001b[1mpre  : 0.9233\u001b[0m\n",
      "\u001b[32m2023-08-14 12:20:55.821\u001b[0m | \u001b[1mINFO    \u001b[0m | \u001b[36mtester\u001b[0m:\u001b[36mtest\u001b[0m:\u001b[36m84\u001b[0m - \u001b[1mIOU  : 0.8363\u001b[0m\n",
      "\u001b[32m2023-08-14 12:20:55.822\u001b[0m | \u001b[1mINFO    \u001b[0m | \u001b[36mtester\u001b[0m:\u001b[36mtest\u001b[0m:\u001b[36m84\u001b[0m - \u001b[1mMCC  : 0.9028\u001b[0m\n"
     ]
    }
   ],
   "source": [
    "main_result(config_file, weight_path=check_path, quality=\"IC\", value=0)\n",
    "\n",
    "main_result(config_file, weight_path=check_path, quality=\"IC\", value=1)\n"
   ]
  },
  {
   "cell_type": "code",
   "execution_count": 29,
   "metadata": {},
   "outputs": [
    {
     "name": "stderr",
     "output_type": "stream",
     "text": [
      "TEST (40) | Loss: 0.1396 | AUC 0.9788 F1 0.7882 Acc 0.9868  Sen 0.7487 Spe 0.9955 Pre 0.8580 IOU 0.6709 MCC 0.7882 |B 0.04 D 0.03 |: 100%|██████████| 41/41 [00:07<00:00,  5.72it/s]\n",
      "\u001b[32m2023-08-14 12:21:04.579\u001b[0m | \u001b[1mINFO    \u001b[0m | \u001b[36mtester\u001b[0m:\u001b[36mtest\u001b[0m:\u001b[36m78\u001b[0m - \u001b[1m###### TEST EVALUATION ######\u001b[0m\n",
      "\u001b[32m2023-08-14 12:21:04.579\u001b[0m | \u001b[1mINFO    \u001b[0m | \u001b[36mtester\u001b[0m:\u001b[36mtest\u001b[0m:\u001b[36m79\u001b[0m - \u001b[1mtest time:  0.0401\u001b[0m\n",
      "\u001b[32m2023-08-14 12:21:04.580\u001b[0m | \u001b[1mINFO    \u001b[0m | \u001b[36mtester\u001b[0m:\u001b[36mtest\u001b[0m:\u001b[36m80\u001b[0m - \u001b[1m     loss:  0.1396\u001b[0m\n",
      "\u001b[32m2023-08-14 12:21:04.580\u001b[0m | \u001b[1mINFO    \u001b[0m | \u001b[36mtester\u001b[0m:\u001b[36mtest\u001b[0m:\u001b[36m84\u001b[0m - \u001b[1mAUC  : 0.9788\u001b[0m\n",
      "\u001b[32m2023-08-14 12:21:04.580\u001b[0m | \u001b[1mINFO    \u001b[0m | \u001b[36mtester\u001b[0m:\u001b[36mtest\u001b[0m:\u001b[36m84\u001b[0m - \u001b[1mF1   : 0.7882\u001b[0m\n",
      "\u001b[32m2023-08-14 12:21:04.582\u001b[0m | \u001b[1mINFO    \u001b[0m | \u001b[36mtester\u001b[0m:\u001b[36mtest\u001b[0m:\u001b[36m84\u001b[0m - \u001b[1mAcc  : 0.9868\u001b[0m\n",
      "\u001b[32m2023-08-14 12:21:04.583\u001b[0m | \u001b[1mINFO    \u001b[0m | \u001b[36mtester\u001b[0m:\u001b[36mtest\u001b[0m:\u001b[36m84\u001b[0m - \u001b[1mSen  : 0.7487\u001b[0m\n",
      "\u001b[32m2023-08-14 12:21:04.583\u001b[0m | \u001b[1mINFO    \u001b[0m | \u001b[36mtester\u001b[0m:\u001b[36mtest\u001b[0m:\u001b[36m84\u001b[0m - \u001b[1mSpe  : 0.9955\u001b[0m\n",
      "\u001b[32m2023-08-14 12:21:04.584\u001b[0m | \u001b[1mINFO    \u001b[0m | \u001b[36mtester\u001b[0m:\u001b[36mtest\u001b[0m:\u001b[36m84\u001b[0m - \u001b[1mpre  : 0.858\u001b[0m\n",
      "\u001b[32m2023-08-14 12:21:04.584\u001b[0m | \u001b[1mINFO    \u001b[0m | \u001b[36mtester\u001b[0m:\u001b[36mtest\u001b[0m:\u001b[36m84\u001b[0m - \u001b[1mIOU  : 0.6709\u001b[0m\n",
      "\u001b[32m2023-08-14 12:21:04.584\u001b[0m | \u001b[1mINFO    \u001b[0m | \u001b[36mtester\u001b[0m:\u001b[36mtest\u001b[0m:\u001b[36m84\u001b[0m - \u001b[1mMCC  : 0.7882\u001b[0m\n",
      "TEST (158) | Loss: 0.0739 | AUC 0.9926 F1 0.9122 Acc 0.9865  Sen 0.8994 Spe 0.9939 Pre 0.9261 IOU 0.8401 MCC 0.9052 |B 0.02 D 0.01 |: 100%|██████████| 159/159 [00:25<00:00,  6.33it/s]\n",
      "\u001b[32m2023-08-14 12:21:31.101\u001b[0m | \u001b[1mINFO    \u001b[0m | \u001b[36mtester\u001b[0m:\u001b[36mtest\u001b[0m:\u001b[36m78\u001b[0m - \u001b[1m###### TEST EVALUATION ######\u001b[0m\n",
      "\u001b[32m2023-08-14 12:21:31.101\u001b[0m | \u001b[1mINFO    \u001b[0m | \u001b[36mtester\u001b[0m:\u001b[36mtest\u001b[0m:\u001b[36m79\u001b[0m - \u001b[1mtest time:  0.0196\u001b[0m\n",
      "\u001b[32m2023-08-14 12:21:31.102\u001b[0m | \u001b[1mINFO    \u001b[0m | \u001b[36mtester\u001b[0m:\u001b[36mtest\u001b[0m:\u001b[36m80\u001b[0m - \u001b[1m     loss:  0.0739\u001b[0m\n",
      "\u001b[32m2023-08-14 12:21:31.102\u001b[0m | \u001b[1mINFO    \u001b[0m | \u001b[36mtester\u001b[0m:\u001b[36mtest\u001b[0m:\u001b[36m84\u001b[0m - \u001b[1mAUC  : 0.9926\u001b[0m\n",
      "\u001b[32m2023-08-14 12:21:31.104\u001b[0m | \u001b[1mINFO    \u001b[0m | \u001b[36mtester\u001b[0m:\u001b[36mtest\u001b[0m:\u001b[36m84\u001b[0m - \u001b[1mF1   : 0.9122\u001b[0m\n",
      "\u001b[32m2023-08-14 12:21:31.105\u001b[0m | \u001b[1mINFO    \u001b[0m | \u001b[36mtester\u001b[0m:\u001b[36mtest\u001b[0m:\u001b[36m84\u001b[0m - \u001b[1mAcc  : 0.9865\u001b[0m\n",
      "\u001b[32m2023-08-14 12:21:31.105\u001b[0m | \u001b[1mINFO    \u001b[0m | \u001b[36mtester\u001b[0m:\u001b[36mtest\u001b[0m:\u001b[36m84\u001b[0m - \u001b[1mSen  : 0.8994\u001b[0m\n",
      "\u001b[32m2023-08-14 12:21:31.105\u001b[0m | \u001b[1mINFO    \u001b[0m | \u001b[36mtester\u001b[0m:\u001b[36mtest\u001b[0m:\u001b[36m84\u001b[0m - \u001b[1mSpe  : 0.9939\u001b[0m\n",
      "\u001b[32m2023-08-14 12:21:31.106\u001b[0m | \u001b[1mINFO    \u001b[0m | \u001b[36mtester\u001b[0m:\u001b[36mtest\u001b[0m:\u001b[36m84\u001b[0m - \u001b[1mpre  : 0.9261\u001b[0m\n",
      "\u001b[32m2023-08-14 12:21:31.107\u001b[0m | \u001b[1mINFO    \u001b[0m | \u001b[36mtester\u001b[0m:\u001b[36mtest\u001b[0m:\u001b[36m84\u001b[0m - \u001b[1mIOU  : 0.8401\u001b[0m\n",
      "\u001b[32m2023-08-14 12:21:31.107\u001b[0m | \u001b[1mINFO    \u001b[0m | \u001b[36mtester\u001b[0m:\u001b[36mtest\u001b[0m:\u001b[36m84\u001b[0m - \u001b[1mMCC  : 0.9052\u001b[0m\n"
     ]
    }
   ],
   "source": [
    "main_result(config_file, weight_path=check_path, quality=\"Blur\", value=0)\n",
    "\n",
    "main_result(config_file, weight_path=check_path, quality=\"Blur\", value=1)\n"
   ]
  },
  {
   "cell_type": "code",
   "execution_count": 30,
   "metadata": {},
   "outputs": [
    {
     "name": "stderr",
     "output_type": "stream",
     "text": [
      "TEST (14) | Loss: 0.1949 | AUC 0.9620 F1 0.6831 Acc 0.9868  Sen 0.6327 Spe 0.9960 Pre 0.8051 IOU 0.5498 MCC 0.6920 |B 0.11 D 0.10 |: 100%|██████████| 15/15 [00:03<00:00,  4.12it/s]\n",
      "\u001b[32m2023-08-14 12:21:36.146\u001b[0m | \u001b[1mINFO    \u001b[0m | \u001b[36mtester\u001b[0m:\u001b[36mtest\u001b[0m:\u001b[36m78\u001b[0m - \u001b[1m###### TEST EVALUATION ######\u001b[0m\n",
      "\u001b[32m2023-08-14 12:21:36.147\u001b[0m | \u001b[1mINFO    \u001b[0m | \u001b[36mtester\u001b[0m:\u001b[36mtest\u001b[0m:\u001b[36m79\u001b[0m - \u001b[1mtest time:  0.1082\u001b[0m\n",
      "\u001b[32m2023-08-14 12:21:36.147\u001b[0m | \u001b[1mINFO    \u001b[0m | \u001b[36mtester\u001b[0m:\u001b[36mtest\u001b[0m:\u001b[36m80\u001b[0m - \u001b[1m     loss:  0.1949\u001b[0m\n",
      "\u001b[32m2023-08-14 12:21:36.148\u001b[0m | \u001b[1mINFO    \u001b[0m | \u001b[36mtester\u001b[0m:\u001b[36mtest\u001b[0m:\u001b[36m84\u001b[0m - \u001b[1mAUC  : 0.962\u001b[0m\n",
      "\u001b[32m2023-08-14 12:21:36.148\u001b[0m | \u001b[1mINFO    \u001b[0m | \u001b[36mtester\u001b[0m:\u001b[36mtest\u001b[0m:\u001b[36m84\u001b[0m - \u001b[1mF1   : 0.6831\u001b[0m\n",
      "\u001b[32m2023-08-14 12:21:36.149\u001b[0m | \u001b[1mINFO    \u001b[0m | \u001b[36mtester\u001b[0m:\u001b[36mtest\u001b[0m:\u001b[36m84\u001b[0m - \u001b[1mAcc  : 0.9868\u001b[0m\n",
      "\u001b[32m2023-08-14 12:21:36.149\u001b[0m | \u001b[1mINFO    \u001b[0m | \u001b[36mtester\u001b[0m:\u001b[36mtest\u001b[0m:\u001b[36m84\u001b[0m - \u001b[1mSen  : 0.6327\u001b[0m\n",
      "\u001b[32m2023-08-14 12:21:36.151\u001b[0m | \u001b[1mINFO    \u001b[0m | \u001b[36mtester\u001b[0m:\u001b[36mtest\u001b[0m:\u001b[36m84\u001b[0m - \u001b[1mSpe  : 0.996\u001b[0m\n",
      "\u001b[32m2023-08-14 12:21:36.151\u001b[0m | \u001b[1mINFO    \u001b[0m | \u001b[36mtester\u001b[0m:\u001b[36mtest\u001b[0m:\u001b[36m84\u001b[0m - \u001b[1mpre  : 0.8051\u001b[0m\n",
      "\u001b[32m2023-08-14 12:21:36.152\u001b[0m | \u001b[1mINFO    \u001b[0m | \u001b[36mtester\u001b[0m:\u001b[36mtest\u001b[0m:\u001b[36m84\u001b[0m - \u001b[1mIOU  : 0.5498\u001b[0m\n",
      "\u001b[32m2023-08-14 12:21:36.152\u001b[0m | \u001b[1mINFO    \u001b[0m | \u001b[36mtester\u001b[0m:\u001b[36mtest\u001b[0m:\u001b[36m84\u001b[0m - \u001b[1mMCC  : 0.692\u001b[0m\n",
      "TEST (184) | Loss: 0.0787 | AUC 0.9920 F1 0.9033 Acc 0.9866  Sen 0.8876 Spe 0.9941 Pre 0.9208 IOU 0.8262 MCC 0.8965 |B 0.02 D 0.01 |: 100%|██████████| 185/185 [00:28<00:00,  6.39it/s]\n",
      "\u001b[32m2023-08-14 12:22:06.491\u001b[0m | \u001b[1mINFO    \u001b[0m | \u001b[36mtester\u001b[0m:\u001b[36mtest\u001b[0m:\u001b[36m78\u001b[0m - \u001b[1m###### TEST EVALUATION ######\u001b[0m\n",
      "\u001b[32m2023-08-14 12:22:06.492\u001b[0m | \u001b[1mINFO    \u001b[0m | \u001b[36mtester\u001b[0m:\u001b[36mtest\u001b[0m:\u001b[36m79\u001b[0m - \u001b[1mtest time:  0.018\u001b[0m\n",
      "\u001b[32m2023-08-14 12:22:06.493\u001b[0m | \u001b[1mINFO    \u001b[0m | \u001b[36mtester\u001b[0m:\u001b[36mtest\u001b[0m:\u001b[36m80\u001b[0m - \u001b[1m     loss:  0.0787\u001b[0m\n",
      "\u001b[32m2023-08-14 12:22:06.493\u001b[0m | \u001b[1mINFO    \u001b[0m | \u001b[36mtester\u001b[0m:\u001b[36mtest\u001b[0m:\u001b[36m84\u001b[0m - \u001b[1mAUC  : 0.992\u001b[0m\n",
      "\u001b[32m2023-08-14 12:22:06.494\u001b[0m | \u001b[1mINFO    \u001b[0m | \u001b[36mtester\u001b[0m:\u001b[36mtest\u001b[0m:\u001b[36m84\u001b[0m - \u001b[1mF1   : 0.9033\u001b[0m\n",
      "\u001b[32m2023-08-14 12:22:06.495\u001b[0m | \u001b[1mINFO    \u001b[0m | \u001b[36mtester\u001b[0m:\u001b[36mtest\u001b[0m:\u001b[36m84\u001b[0m - \u001b[1mAcc  : 0.9866\u001b[0m\n",
      "\u001b[32m2023-08-14 12:22:06.496\u001b[0m | \u001b[1mINFO    \u001b[0m | \u001b[36mtester\u001b[0m:\u001b[36mtest\u001b[0m:\u001b[36m84\u001b[0m - \u001b[1mSen  : 0.8876\u001b[0m\n",
      "\u001b[32m2023-08-14 12:22:06.496\u001b[0m | \u001b[1mINFO    \u001b[0m | \u001b[36mtester\u001b[0m:\u001b[36mtest\u001b[0m:\u001b[36m84\u001b[0m - \u001b[1mSpe  : 0.9941\u001b[0m\n",
      "\u001b[32m2023-08-14 12:22:06.496\u001b[0m | \u001b[1mINFO    \u001b[0m | \u001b[36mtester\u001b[0m:\u001b[36mtest\u001b[0m:\u001b[36m84\u001b[0m - \u001b[1mpre  : 0.9208\u001b[0m\n",
      "\u001b[32m2023-08-14 12:22:06.497\u001b[0m | \u001b[1mINFO    \u001b[0m | \u001b[36mtester\u001b[0m:\u001b[36mtest\u001b[0m:\u001b[36m84\u001b[0m - \u001b[1mIOU  : 0.8262\u001b[0m\n",
      "\u001b[32m2023-08-14 12:22:06.498\u001b[0m | \u001b[1mINFO    \u001b[0m | \u001b[36mtester\u001b[0m:\u001b[36mtest\u001b[0m:\u001b[36m84\u001b[0m - \u001b[1mMCC  : 0.8965\u001b[0m\n"
     ]
    }
   ],
   "source": [
    "main_result(config_file, weight_path=check_path, quality=\"LC\", value=0)\n",
    "\n",
    "main_result(config_file, weight_path=check_path, quality=\"LC\", value=1)\n"
   ]
  },
  {
   "cell_type": "code",
   "execution_count": null,
   "metadata": {},
   "outputs": [],
   "source": []
  },
  {
   "cell_type": "code",
   "execution_count": null,
   "metadata": {},
   "outputs": [],
   "source": []
  }
 ],
 "metadata": {
  "kernelspec": {
   "display_name": "Python 3",
   "language": "python",
   "name": "python3"
  },
  "language_info": {
   "codemirror_mode": {
    "name": "ipython",
    "version": 3
   },
   "file_extension": ".py",
   "mimetype": "text/x-python",
   "name": "python",
   "nbconvert_exporter": "python",
   "pygments_lexer": "ipython3",
   "version": "3.10.4"
  },
  "orig_nbformat": 4
 },
 "nbformat": 4,
 "nbformat_minor": 2
}
