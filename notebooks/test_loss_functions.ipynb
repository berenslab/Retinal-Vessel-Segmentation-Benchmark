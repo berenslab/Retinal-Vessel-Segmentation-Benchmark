{
 "cells": [
  {
   "attachments": {},
   "cell_type": "markdown",
   "metadata": {},
   "source": [
    "## Evaluation of Model Performance on Loss Functions"
   ]
  },
  {
   "cell_type": "code",
   "execution_count": 1,
   "metadata": {},
   "outputs": [],
   "source": [
    "import os\n",
    "import torch\n",
    "import cv2\n",
    "from bunch import Bunch\n",
    "from ruamel.yaml import safe_load\n",
    "from torch.utils.data import DataLoader\n",
    "from torch.utils.data import Dataset\n",
    "from PIL import Image\n",
    "\n",
    "import torch.backends.cudnn as cudnn\n",
    "from glob import glob\n",
    "from tqdm import tqdm\n",
    "import numpy as np\n",
    "import matplotlib.pyplot as plt\n",
    "from sklearn.metrics import roc_curve, auc\n",
    "# from sklearn.metrics import \n",
    "import sys\n",
    "sys.path.append(\"../src/\")\n",
    "from tester import Tester\n",
    "from utils import losses\n",
    "from data.utils import clahe_equalized\n",
    "import networks as models\n",
    "from data.transforms import pipeline_tranforms\n",
    "\n",
    "from utils.helpers import get_instance\n"
   ]
  },
  {
   "cell_type": "code",
   "execution_count": 2,
   "metadata": {},
   "outputs": [
    {
     "data": {
      "text/plain": [
       "device(type='cuda')"
      ]
     },
     "execution_count": 2,
     "metadata": {},
     "output_type": "execute_result"
    }
   ],
   "source": [
    "device = torch.device('cuda' if torch.cuda.is_available() else 'cpu')\n",
    "device"
   ]
  },
  {
   "cell_type": "markdown",
   "metadata": {},
   "source": [
    "## Dataset Class"
   ]
  },
  {
   "cell_type": "code",
   "execution_count": 3,
   "metadata": {},
   "outputs": [
    {
     "data": {
      "text/plain": [
       "200"
      ]
     },
     "execution_count": 3,
     "metadata": {},
     "output_type": "execute_result"
    }
   ],
   "source": [
    "class FIVES(Dataset):\n",
    "\n",
    "    def __init__(self, data_path):\n",
    "        super(FIVES, self).__init__()\n",
    "        self.transforms = pipeline_tranforms()\n",
    "        \n",
    "        self.images_path = sorted(glob(data_path + \"/test/Original/*\"))\n",
    "        self.masks_path  = sorted(glob(data_path + \"/test/Ground truth/*\"))\n",
    "\n",
    "        self.n_samples = len(self.images_path)\n",
    "    \n",
    "    def __getitem__(self, index):\n",
    "        \"\"\" Reading image \"\"\"\n",
    "        image = cv2.imread(self.images_path[index], cv2.IMREAD_COLOR)\n",
    "        image = clahe_equalized(image)\n",
    "        image = cv2.resize(image, (512, 512), interpolation=cv2.INTER_NEAREST)\n",
    "\n",
    "        image = image / 255.0  # type: ignore # (512, 512, 3) Normalizing to range (0,1)\n",
    "        image = np.transpose(image, (2, 0, 1))  # (3, 512, 512)\n",
    "        image = image.astype(np.float32)\n",
    "        image = torch.from_numpy(image)\n",
    "\n",
    "        \"\"\" Reading mask \"\"\"\n",
    "        mask = cv2.imread(self.masks_path[index], cv2.IMREAD_GRAYSCALE)\n",
    "        mask = cv2.resize(mask,  (512, 512), interpolation=cv2.INTER_NEAREST)\n",
    "        mask = mask / 255.0  # type: ignore # (512, 512)\n",
    "        mask = np.expand_dims(mask, axis=0)  # (1, 512, 512)\n",
    "        mask = mask.astype(np.float32)\n",
    "        mask = torch.from_numpy(mask)\n",
    "        \n",
    "        return image, mask\n",
    "\n",
    "    def __len__(self):\n",
    "        return self.n_samples\n",
    "fives_path = '/mnt/qb/berens/users/jfadugba97/RetinaSegmentation/datasets/FIVES'\n",
    "\n",
    "fives_dataset = FIVES(fives_path)\n",
    "fives_dataset.__len__()"
   ]
  },
  {
   "cell_type": "code",
   "execution_count": 4,
   "metadata": {},
   "outputs": [],
   "source": [
    "def main_result(config_file, dataset, bs, weight_path):\n",
    "\n",
    "    with open(config_file, encoding=\"utf-8\") as file:\n",
    "        CFG = Bunch(safe_load(file))\n",
    "        \n",
    "    checkpoint = torch.load(weight_path)\n",
    "    CFG_ck = checkpoint['config']\n",
    "\n",
    "    test_loader = DataLoader(dataset, bs ,shuffle=False,  \n",
    "                            num_workers=CFG.num_workers, pin_memory=True)\n",
    "    \n",
    "    model = get_instance(models, 'model', CFG)\n",
    "    loss = get_instance(losses, 'loss', CFG_ck)\n",
    "\n",
    "    test = Tester(model, loss, CFG, checkpoint, test_loader, device)\n",
    "    test.test()"
   ]
  },
  {
   "cell_type": "markdown",
   "metadata": {},
   "source": [
    "## WNET "
   ]
  },
  {
   "cell_type": "code",
   "execution_count": 5,
   "metadata": {},
   "outputs": [
    {
     "name": "stderr",
     "output_type": "stream",
     "text": [
      "TEST (49) | Loss: 0.2648 | AUC 0.9865 F1 0.8565 Acc 0.9806  Sen 0.8310 Spe 0.9915 Pre 0.8869 IOU 0.7508 MCC 0.8474 |B 0.21 D 0.07 |: 100%|██████████| 50/50 [00:42<00:00,  1.18it/s]\n",
      "\u001b[32m2023-08-07 09:22:20.196\u001b[0m | \u001b[1mINFO    \u001b[0m | \u001b[36mtester\u001b[0m:\u001b[36mtest\u001b[0m:\u001b[36m78\u001b[0m - \u001b[1m###### TEST EVALUATION ######\u001b[0m\n",
      "\u001b[32m2023-08-07 09:22:20.197\u001b[0m | \u001b[1mINFO    \u001b[0m | \u001b[36mtester\u001b[0m:\u001b[36mtest\u001b[0m:\u001b[36m79\u001b[0m - \u001b[1mtest time:  0.2096\u001b[0m\n",
      "\u001b[32m2023-08-07 09:22:20.198\u001b[0m | \u001b[1mINFO    \u001b[0m | \u001b[36mtester\u001b[0m:\u001b[36mtest\u001b[0m:\u001b[36m80\u001b[0m - \u001b[1m     loss:  0.2648\u001b[0m\n",
      "\u001b[32m2023-08-07 09:22:20.198\u001b[0m | \u001b[1mINFO    \u001b[0m | \u001b[36mtester\u001b[0m:\u001b[36mtest\u001b[0m:\u001b[36m84\u001b[0m - \u001b[1mAUC  : 0.9865\u001b[0m\n",
      "\u001b[32m2023-08-07 09:22:20.199\u001b[0m | \u001b[1mINFO    \u001b[0m | \u001b[36mtester\u001b[0m:\u001b[36mtest\u001b[0m:\u001b[36m84\u001b[0m - \u001b[1mF1   : 0.8565\u001b[0m\n",
      "\u001b[32m2023-08-07 09:22:20.199\u001b[0m | \u001b[1mINFO    \u001b[0m | \u001b[36mtester\u001b[0m:\u001b[36mtest\u001b[0m:\u001b[36m84\u001b[0m - \u001b[1mAcc  : 0.9806\u001b[0m\n",
      "\u001b[32m2023-08-07 09:22:20.200\u001b[0m | \u001b[1mINFO    \u001b[0m | \u001b[36mtester\u001b[0m:\u001b[36mtest\u001b[0m:\u001b[36m84\u001b[0m - \u001b[1mSen  : 0.831\u001b[0m\n",
      "\u001b[32m2023-08-07 09:22:20.200\u001b[0m | \u001b[1mINFO    \u001b[0m | \u001b[36mtester\u001b[0m:\u001b[36mtest\u001b[0m:\u001b[36m84\u001b[0m - \u001b[1mSpe  : 0.9915\u001b[0m\n",
      "\u001b[32m2023-08-07 09:22:20.201\u001b[0m | \u001b[1mINFO    \u001b[0m | \u001b[36mtester\u001b[0m:\u001b[36mtest\u001b[0m:\u001b[36m84\u001b[0m - \u001b[1mpre  : 0.8869\u001b[0m\n",
      "\u001b[32m2023-08-07 09:22:20.201\u001b[0m | \u001b[1mINFO    \u001b[0m | \u001b[36mtester\u001b[0m:\u001b[36mtest\u001b[0m:\u001b[36m84\u001b[0m - \u001b[1mIOU  : 0.7508\u001b[0m\n",
      "\u001b[32m2023-08-07 09:22:20.202\u001b[0m | \u001b[1mINFO    \u001b[0m | \u001b[36mtester\u001b[0m:\u001b[36mtest\u001b[0m:\u001b[36m84\u001b[0m - \u001b[1mMCC  : 0.8474\u001b[0m\n"
     ]
    }
   ],
   "source": [
    "# CE_DiceLoss\n",
    "weight_path = '/mnt/qb/berens/users/jfadugba97/RetinaSegmentation/model_results/WNet/FIVES/CE_DiceLoss/checkpoint-epoch100.pth'\n",
    "config_file = '../configs/lwnet_dicebce.yaml'\n",
    "\n",
    "main_result(config_file, dataset=fives_dataset, bs=4, weight_path=weight_path)"
   ]
  },
  {
   "cell_type": "code",
   "execution_count": 6,
   "metadata": {},
   "outputs": [
    {
     "name": "stderr",
     "output_type": "stream",
     "text": [
      "TEST (49) | Loss: 0.3264 | AUC 0.9218 F1 0.8562 Acc 0.9805  Sen 0.8308 Spe 0.9915 Pre 0.8867 IOU 0.7505 MCC 0.8472 |B 0.07 D 0.05 |: 100%|██████████| 50/50 [00:35<00:00,  1.39it/s]\n",
      "\u001b[32m2023-08-07 09:23:11.041\u001b[0m | \u001b[1mINFO    \u001b[0m | \u001b[36mtester\u001b[0m:\u001b[36mtest\u001b[0m:\u001b[36m78\u001b[0m - \u001b[1m###### TEST EVALUATION ######\u001b[0m\n",
      "\u001b[32m2023-08-07 09:23:11.042\u001b[0m | \u001b[1mINFO    \u001b[0m | \u001b[36mtester\u001b[0m:\u001b[36mtest\u001b[0m:\u001b[36m79\u001b[0m - \u001b[1mtest time:  0.0733\u001b[0m\n",
      "\u001b[32m2023-08-07 09:23:11.043\u001b[0m | \u001b[1mINFO    \u001b[0m | \u001b[36mtester\u001b[0m:\u001b[36mtest\u001b[0m:\u001b[36m80\u001b[0m - \u001b[1m     loss:  0.3264\u001b[0m\n",
      "\u001b[32m2023-08-07 09:23:11.043\u001b[0m | \u001b[1mINFO    \u001b[0m | \u001b[36mtester\u001b[0m:\u001b[36mtest\u001b[0m:\u001b[36m84\u001b[0m - \u001b[1mAUC  : 0.9218\u001b[0m\n",
      "\u001b[32m2023-08-07 09:23:11.044\u001b[0m | \u001b[1mINFO    \u001b[0m | \u001b[36mtester\u001b[0m:\u001b[36mtest\u001b[0m:\u001b[36m84\u001b[0m - \u001b[1mF1   : 0.8562\u001b[0m\n",
      "\u001b[32m2023-08-07 09:23:11.045\u001b[0m | \u001b[1mINFO    \u001b[0m | \u001b[36mtester\u001b[0m:\u001b[36mtest\u001b[0m:\u001b[36m84\u001b[0m - \u001b[1mAcc  : 0.9805\u001b[0m\n",
      "\u001b[32m2023-08-07 09:23:11.045\u001b[0m | \u001b[1mINFO    \u001b[0m | \u001b[36mtester\u001b[0m:\u001b[36mtest\u001b[0m:\u001b[36m84\u001b[0m - \u001b[1mSen  : 0.8308\u001b[0m\n",
      "\u001b[32m2023-08-07 09:23:11.046\u001b[0m | \u001b[1mINFO    \u001b[0m | \u001b[36mtester\u001b[0m:\u001b[36mtest\u001b[0m:\u001b[36m84\u001b[0m - \u001b[1mSpe  : 0.9915\u001b[0m\n",
      "\u001b[32m2023-08-07 09:23:11.046\u001b[0m | \u001b[1mINFO    \u001b[0m | \u001b[36mtester\u001b[0m:\u001b[36mtest\u001b[0m:\u001b[36m84\u001b[0m - \u001b[1mpre  : 0.8867\u001b[0m\n",
      "\u001b[32m2023-08-07 09:23:11.048\u001b[0m | \u001b[1mINFO    \u001b[0m | \u001b[36mtester\u001b[0m:\u001b[36mtest\u001b[0m:\u001b[36m84\u001b[0m - \u001b[1mIOU  : 0.7505\u001b[0m\n",
      "\u001b[32m2023-08-07 09:23:11.048\u001b[0m | \u001b[1mINFO    \u001b[0m | \u001b[36mtester\u001b[0m:\u001b[36mtest\u001b[0m:\u001b[36m84\u001b[0m - \u001b[1mMCC  : 0.8472\u001b[0m\n"
     ]
    }
   ],
   "source": [
    "# DiceLoss\n",
    "\n",
    "weight_path = '/mnt/qb/berens/users/jfadugba97/RetinaSegmentation/model_results/WNet/FIVES/DiceLoss/checkpoint-epoch100.pth'\n",
    "config_file = '../configs/lwnet_dice.yaml'\n",
    "\n",
    "main_result(config_file, dataset=fives_dataset, bs=4, weight_path=weight_path)"
   ]
  },
  {
   "cell_type": "code",
   "execution_count": 7,
   "metadata": {},
   "outputs": [
    {
     "name": "stderr",
     "output_type": "stream",
     "text": [
      "TEST (49) | Loss: 0.1343 | AUC 0.9871 F1 0.8442 Acc 0.9791  Sen 0.8101 Spe 0.9915 Pre 0.8855 IOU 0.7323 MCC 0.8350 |B 0.08 D 0.05 |: 100%|██████████| 50/50 [00:36<00:00,  1.38it/s]\n",
      "\u001b[32m2023-08-07 09:23:47.388\u001b[0m | \u001b[1mINFO    \u001b[0m | \u001b[36mtester\u001b[0m:\u001b[36mtest\u001b[0m:\u001b[36m78\u001b[0m - \u001b[1m###### TEST EVALUATION ######\u001b[0m\n",
      "\u001b[32m2023-08-07 09:23:47.389\u001b[0m | \u001b[1mINFO    \u001b[0m | \u001b[36mtester\u001b[0m:\u001b[36mtest\u001b[0m:\u001b[36m79\u001b[0m - \u001b[1mtest time:  0.0779\u001b[0m\n",
      "\u001b[32m2023-08-07 09:23:47.390\u001b[0m | \u001b[1mINFO    \u001b[0m | \u001b[36mtester\u001b[0m:\u001b[36mtest\u001b[0m:\u001b[36m80\u001b[0m - \u001b[1m     loss:  0.1343\u001b[0m\n",
      "\u001b[32m2023-08-07 09:23:47.391\u001b[0m | \u001b[1mINFO    \u001b[0m | \u001b[36mtester\u001b[0m:\u001b[36mtest\u001b[0m:\u001b[36m84\u001b[0m - \u001b[1mAUC  : 0.9871\u001b[0m\n",
      "\u001b[32m2023-08-07 09:23:47.391\u001b[0m | \u001b[1mINFO    \u001b[0m | \u001b[36mtester\u001b[0m:\u001b[36mtest\u001b[0m:\u001b[36m84\u001b[0m - \u001b[1mF1   : 0.8442\u001b[0m\n",
      "\u001b[32m2023-08-07 09:23:47.392\u001b[0m | \u001b[1mINFO    \u001b[0m | \u001b[36mtester\u001b[0m:\u001b[36mtest\u001b[0m:\u001b[36m84\u001b[0m - \u001b[1mAcc  : 0.9791\u001b[0m\n",
      "\u001b[32m2023-08-07 09:23:47.392\u001b[0m | \u001b[1mINFO    \u001b[0m | \u001b[36mtester\u001b[0m:\u001b[36mtest\u001b[0m:\u001b[36m84\u001b[0m - \u001b[1mSen  : 0.8101\u001b[0m\n",
      "\u001b[32m2023-08-07 09:23:47.393\u001b[0m | \u001b[1mINFO    \u001b[0m | \u001b[36mtester\u001b[0m:\u001b[36mtest\u001b[0m:\u001b[36m84\u001b[0m - \u001b[1mSpe  : 0.9915\u001b[0m\n",
      "\u001b[32m2023-08-07 09:23:47.393\u001b[0m | \u001b[1mINFO    \u001b[0m | \u001b[36mtester\u001b[0m:\u001b[36mtest\u001b[0m:\u001b[36m84\u001b[0m - \u001b[1mpre  : 0.8855\u001b[0m\n",
      "\u001b[32m2023-08-07 09:23:47.394\u001b[0m | \u001b[1mINFO    \u001b[0m | \u001b[36mtester\u001b[0m:\u001b[36mtest\u001b[0m:\u001b[36m84\u001b[0m - \u001b[1mIOU  : 0.7323\u001b[0m\n",
      "\u001b[32m2023-08-07 09:23:47.394\u001b[0m | \u001b[1mINFO    \u001b[0m | \u001b[36mtester\u001b[0m:\u001b[36mtest\u001b[0m:\u001b[36m84\u001b[0m - \u001b[1mMCC  : 0.835\u001b[0m\n"
     ]
    }
   ],
   "source": [
    "# BCE_Loss\n",
    "weight_path = '/mnt/qb/berens/users/jfadugba97/RetinaSegmentation/model_results/WNet/FIVES/BCELoss/checkpoint-epoch100.pth'\n",
    "config_file = '../configs/lwnet_bce.yaml'\n",
    "\n",
    "main_result(config_file, dataset=fives_dataset, bs=4, weight_path=weight_path)"
   ]
  },
  {
   "cell_type": "code",
   "execution_count": 8,
   "metadata": {},
   "outputs": [
    {
     "name": "stderr",
     "output_type": "stream",
     "text": [
      "TEST (49) | Loss: 0.1625 | AUC 0.9262 F1 0.8567 Acc 0.9805  Sen 0.8344 Spe 0.9911 Pre 0.8835 IOU 0.7511 MCC 0.8475 |B 0.08 D 0.05 |: 100%|██████████| 50/50 [00:36<00:00,  1.38it/s]\n",
      "\u001b[32m2023-08-07 09:24:23.719\u001b[0m | \u001b[1mINFO    \u001b[0m | \u001b[36mtester\u001b[0m:\u001b[36mtest\u001b[0m:\u001b[36m78\u001b[0m - \u001b[1m###### TEST EVALUATION ######\u001b[0m\n",
      "\u001b[32m2023-08-07 09:24:23.720\u001b[0m | \u001b[1mINFO    \u001b[0m | \u001b[36mtester\u001b[0m:\u001b[36mtest\u001b[0m:\u001b[36m79\u001b[0m - \u001b[1mtest time:  0.0847\u001b[0m\n",
      "\u001b[32m2023-08-07 09:24:23.720\u001b[0m | \u001b[1mINFO    \u001b[0m | \u001b[36mtester\u001b[0m:\u001b[36mtest\u001b[0m:\u001b[36m80\u001b[0m - \u001b[1m     loss:  0.1625\u001b[0m\n",
      "\u001b[32m2023-08-07 09:24:23.721\u001b[0m | \u001b[1mINFO    \u001b[0m | \u001b[36mtester\u001b[0m:\u001b[36mtest\u001b[0m:\u001b[36m84\u001b[0m - \u001b[1mAUC  : 0.9262\u001b[0m\n",
      "\u001b[32m2023-08-07 09:24:23.721\u001b[0m | \u001b[1mINFO    \u001b[0m | \u001b[36mtester\u001b[0m:\u001b[36mtest\u001b[0m:\u001b[36m84\u001b[0m - \u001b[1mF1   : 0.8567\u001b[0m\n",
      "\u001b[32m2023-08-07 09:24:23.722\u001b[0m | \u001b[1mINFO    \u001b[0m | \u001b[36mtester\u001b[0m:\u001b[36mtest\u001b[0m:\u001b[36m84\u001b[0m - \u001b[1mAcc  : 0.9805\u001b[0m\n",
      "\u001b[32m2023-08-07 09:24:23.722\u001b[0m | \u001b[1mINFO    \u001b[0m | \u001b[36mtester\u001b[0m:\u001b[36mtest\u001b[0m:\u001b[36m84\u001b[0m - \u001b[1mSen  : 0.8344\u001b[0m\n",
      "\u001b[32m2023-08-07 09:24:23.724\u001b[0m | \u001b[1mINFO    \u001b[0m | \u001b[36mtester\u001b[0m:\u001b[36mtest\u001b[0m:\u001b[36m84\u001b[0m - \u001b[1mSpe  : 0.9911\u001b[0m\n",
      "\u001b[32m2023-08-07 09:24:23.724\u001b[0m | \u001b[1mINFO    \u001b[0m | \u001b[36mtester\u001b[0m:\u001b[36mtest\u001b[0m:\u001b[36m84\u001b[0m - \u001b[1mpre  : 0.8835\u001b[0m\n",
      "\u001b[32m2023-08-07 09:24:23.724\u001b[0m | \u001b[1mINFO    \u001b[0m | \u001b[36mtester\u001b[0m:\u001b[36mtest\u001b[0m:\u001b[36m84\u001b[0m - \u001b[1mIOU  : 0.7511\u001b[0m\n",
      "\u001b[32m2023-08-07 09:24:23.725\u001b[0m | \u001b[1mINFO    \u001b[0m | \u001b[36mtester\u001b[0m:\u001b[36mtest\u001b[0m:\u001b[36m84\u001b[0m - \u001b[1mMCC  : 0.8475\u001b[0m\n"
     ]
    }
   ],
   "source": [
    "# Soft-clDiceLoss\n",
    "weight_path = '/mnt/qb/berens/users/jfadugba97/RetinaSegmentation/model_results/WNet/FIVES/Soft_clDice/checkpoint-epoch100.pth'\n",
    "config_file = '../configs/lwnet_cldice.yaml'\n",
    "\n",
    "main_result(config_file, dataset=fives_dataset, bs=4, weight_path=weight_path)"
   ]
  },
  {
   "cell_type": "markdown",
   "metadata": {},
   "source": [
    "## SA-UNet"
   ]
  },
  {
   "cell_type": "code",
   "execution_count": 9,
   "metadata": {},
   "outputs": [
    {
     "name": "stderr",
     "output_type": "stream",
     "text": [
      "TEST (49) | Loss: 0.1693 | AUC 0.9854 F1 0.8655 Acc 0.9800  Sen 0.9134 Spe 0.9848 Pre 0.8234 IOU 0.7638 MCC 0.8564 |B 0.07 D 0.05 |: 100%|██████████| 50/50 [00:35<00:00,  1.39it/s]\n",
      "\u001b[32m2023-08-07 09:24:59.870\u001b[0m | \u001b[1mINFO    \u001b[0m | \u001b[36mtester\u001b[0m:\u001b[36mtest\u001b[0m:\u001b[36m78\u001b[0m - \u001b[1m###### TEST EVALUATION ######\u001b[0m\n",
      "\u001b[32m2023-08-07 09:24:59.870\u001b[0m | \u001b[1mINFO    \u001b[0m | \u001b[36mtester\u001b[0m:\u001b[36mtest\u001b[0m:\u001b[36m79\u001b[0m - \u001b[1mtest time:  0.0729\u001b[0m\n",
      "\u001b[32m2023-08-07 09:24:59.871\u001b[0m | \u001b[1mINFO    \u001b[0m | \u001b[36mtester\u001b[0m:\u001b[36mtest\u001b[0m:\u001b[36m80\u001b[0m - \u001b[1m     loss:  0.1693\u001b[0m\n",
      "\u001b[32m2023-08-07 09:24:59.871\u001b[0m | \u001b[1mINFO    \u001b[0m | \u001b[36mtester\u001b[0m:\u001b[36mtest\u001b[0m:\u001b[36m84\u001b[0m - \u001b[1mAUC  : 0.9854\u001b[0m\n",
      "\u001b[32m2023-08-07 09:24:59.872\u001b[0m | \u001b[1mINFO    \u001b[0m | \u001b[36mtester\u001b[0m:\u001b[36mtest\u001b[0m:\u001b[36m84\u001b[0m - \u001b[1mF1   : 0.8655\u001b[0m\n",
      "\u001b[32m2023-08-07 09:24:59.872\u001b[0m | \u001b[1mINFO    \u001b[0m | \u001b[36mtester\u001b[0m:\u001b[36mtest\u001b[0m:\u001b[36m84\u001b[0m - \u001b[1mAcc  : 0.98\u001b[0m\n",
      "\u001b[32m2023-08-07 09:24:59.873\u001b[0m | \u001b[1mINFO    \u001b[0m | \u001b[36mtester\u001b[0m:\u001b[36mtest\u001b[0m:\u001b[36m84\u001b[0m - \u001b[1mSen  : 0.9134\u001b[0m\n",
      "\u001b[32m2023-08-07 09:24:59.873\u001b[0m | \u001b[1mINFO    \u001b[0m | \u001b[36mtester\u001b[0m:\u001b[36mtest\u001b[0m:\u001b[36m84\u001b[0m - \u001b[1mSpe  : 0.9848\u001b[0m\n",
      "\u001b[32m2023-08-07 09:24:59.874\u001b[0m | \u001b[1mINFO    \u001b[0m | \u001b[36mtester\u001b[0m:\u001b[36mtest\u001b[0m:\u001b[36m84\u001b[0m - \u001b[1mpre  : 0.8234\u001b[0m\n",
      "\u001b[32m2023-08-07 09:24:59.874\u001b[0m | \u001b[1mINFO    \u001b[0m | \u001b[36mtester\u001b[0m:\u001b[36mtest\u001b[0m:\u001b[36m84\u001b[0m - \u001b[1mIOU  : 0.7638\u001b[0m\n",
      "\u001b[32m2023-08-07 09:24:59.875\u001b[0m | \u001b[1mINFO    \u001b[0m | \u001b[36mtester\u001b[0m:\u001b[36mtest\u001b[0m:\u001b[36m84\u001b[0m - \u001b[1mMCC  : 0.8564\u001b[0m\n"
     ]
    }
   ],
   "source": [
    "# CE_DiceLoss\n",
    "weight_path = '/mnt/qb/berens/users/jfadugba97/RetinaSegmentation/model_results/SA_UNet/FIVES/CE_DiceLoss/checkpoint-epoch70.pth'\n",
    "config_file = \"../configs/sa_unet_dicebce.yaml\"\n",
    "\n",
    "\n",
    "main_result(config_file, dataset=fives_dataset, bs=4, weight_path=weight_path)"
   ]
  },
  {
   "cell_type": "code",
   "execution_count": 10,
   "metadata": {},
   "outputs": [
    {
     "name": "stderr",
     "output_type": "stream",
     "text": [
      "TEST (49) | Loss: 0.2371 | AUC 0.9734 F1 0.8600 Acc 0.9791  Sen 0.9134 Spe 0.9838 Pre 0.8133 IOU 0.7552 MCC 0.8506 |B 0.07 D 0.05 |: 100%|██████████| 50/50 [00:35<00:00,  1.42it/s]\n",
      "\u001b[32m2023-08-07 09:25:35.246\u001b[0m | \u001b[1mINFO    \u001b[0m | \u001b[36mtester\u001b[0m:\u001b[36mtest\u001b[0m:\u001b[36m78\u001b[0m - \u001b[1m###### TEST EVALUATION ######\u001b[0m\n",
      "\u001b[32m2023-08-07 09:25:35.247\u001b[0m | \u001b[1mINFO    \u001b[0m | \u001b[36mtester\u001b[0m:\u001b[36mtest\u001b[0m:\u001b[36m79\u001b[0m - \u001b[1mtest time:  0.0664\u001b[0m\n",
      "\u001b[32m2023-08-07 09:25:35.248\u001b[0m | \u001b[1mINFO    \u001b[0m | \u001b[36mtester\u001b[0m:\u001b[36mtest\u001b[0m:\u001b[36m80\u001b[0m - \u001b[1m     loss:  0.2371\u001b[0m\n",
      "\u001b[32m2023-08-07 09:25:35.248\u001b[0m | \u001b[1mINFO    \u001b[0m | \u001b[36mtester\u001b[0m:\u001b[36mtest\u001b[0m:\u001b[36m84\u001b[0m - \u001b[1mAUC  : 0.9734\u001b[0m\n",
      "\u001b[32m2023-08-07 09:25:35.249\u001b[0m | \u001b[1mINFO    \u001b[0m | \u001b[36mtester\u001b[0m:\u001b[36mtest\u001b[0m:\u001b[36m84\u001b[0m - \u001b[1mF1   : 0.86\u001b[0m\n",
      "\u001b[32m2023-08-07 09:25:35.249\u001b[0m | \u001b[1mINFO    \u001b[0m | \u001b[36mtester\u001b[0m:\u001b[36mtest\u001b[0m:\u001b[36m84\u001b[0m - \u001b[1mAcc  : 0.9791\u001b[0m\n",
      "\u001b[32m2023-08-07 09:25:35.249\u001b[0m | \u001b[1mINFO    \u001b[0m | \u001b[36mtester\u001b[0m:\u001b[36mtest\u001b[0m:\u001b[36m84\u001b[0m - \u001b[1mSen  : 0.9134\u001b[0m\n",
      "\u001b[32m2023-08-07 09:25:35.250\u001b[0m | \u001b[1mINFO    \u001b[0m | \u001b[36mtester\u001b[0m:\u001b[36mtest\u001b[0m:\u001b[36m84\u001b[0m - \u001b[1mSpe  : 0.9838\u001b[0m\n",
      "\u001b[32m2023-08-07 09:25:35.251\u001b[0m | \u001b[1mINFO    \u001b[0m | \u001b[36mtester\u001b[0m:\u001b[36mtest\u001b[0m:\u001b[36m84\u001b[0m - \u001b[1mpre  : 0.8133\u001b[0m\n",
      "\u001b[32m2023-08-07 09:25:35.251\u001b[0m | \u001b[1mINFO    \u001b[0m | \u001b[36mtester\u001b[0m:\u001b[36mtest\u001b[0m:\u001b[36m84\u001b[0m - \u001b[1mIOU  : 0.7552\u001b[0m\n",
      "\u001b[32m2023-08-07 09:25:35.252\u001b[0m | \u001b[1mINFO    \u001b[0m | \u001b[36mtester\u001b[0m:\u001b[36mtest\u001b[0m:\u001b[36m84\u001b[0m - \u001b[1mMCC  : 0.8506\u001b[0m\n"
     ]
    }
   ],
   "source": [
    "# DiceLoss\n",
    "weight_path = '/mnt/qb/berens/users/jfadugba97/RetinaSegmentation/model_results/SA_UNet/FIVES/DiceLoss/checkpoint-epoch70.pth'\n",
    "config_file = \"../configs/sa_unet_dice.yaml\"\n",
    "\n",
    "\n",
    "main_result(config_file, dataset=fives_dataset, bs=4, weight_path=weight_path)"
   ]
  },
  {
   "cell_type": "code",
   "execution_count": 11,
   "metadata": {},
   "outputs": [
    {
     "name": "stderr",
     "output_type": "stream",
     "text": [
      "  0%|          | 0/50 [00:00<?, ?it/s]"
     ]
    },
    {
     "name": "stderr",
     "output_type": "stream",
     "text": [
      "TEST (49) | Loss: 0.0744 | AUC 0.9883 F1 0.8664 Acc 0.9806  Sen 0.8922 Spe 0.9870 Pre 0.8436 IOU 0.7653 MCC 0.8568 |B 0.07 D 0.05 |: 100%|██████████| 50/50 [00:35<00:00,  1.40it/s]\n",
      "\u001b[32m2023-08-07 09:26:11.150\u001b[0m | \u001b[1mINFO    \u001b[0m | \u001b[36mtester\u001b[0m:\u001b[36mtest\u001b[0m:\u001b[36m78\u001b[0m - \u001b[1m###### TEST EVALUATION ######\u001b[0m\n",
      "\u001b[32m2023-08-07 09:26:11.151\u001b[0m | \u001b[1mINFO    \u001b[0m | \u001b[36mtester\u001b[0m:\u001b[36mtest\u001b[0m:\u001b[36m79\u001b[0m - \u001b[1mtest time:  0.0692\u001b[0m\n",
      "\u001b[32m2023-08-07 09:26:11.153\u001b[0m | \u001b[1mINFO    \u001b[0m | \u001b[36mtester\u001b[0m:\u001b[36mtest\u001b[0m:\u001b[36m80\u001b[0m - \u001b[1m     loss:  0.0744\u001b[0m\n",
      "\u001b[32m2023-08-07 09:26:11.153\u001b[0m | \u001b[1mINFO    \u001b[0m | \u001b[36mtester\u001b[0m:\u001b[36mtest\u001b[0m:\u001b[36m84\u001b[0m - \u001b[1mAUC  : 0.9883\u001b[0m\n",
      "\u001b[32m2023-08-07 09:26:11.154\u001b[0m | \u001b[1mINFO    \u001b[0m | \u001b[36mtester\u001b[0m:\u001b[36mtest\u001b[0m:\u001b[36m84\u001b[0m - \u001b[1mF1   : 0.8664\u001b[0m\n",
      "\u001b[32m2023-08-07 09:26:11.154\u001b[0m | \u001b[1mINFO    \u001b[0m | \u001b[36mtester\u001b[0m:\u001b[36mtest\u001b[0m:\u001b[36m84\u001b[0m - \u001b[1mAcc  : 0.9806\u001b[0m\n",
      "\u001b[32m2023-08-07 09:26:11.155\u001b[0m | \u001b[1mINFO    \u001b[0m | \u001b[36mtester\u001b[0m:\u001b[36mtest\u001b[0m:\u001b[36m84\u001b[0m - \u001b[1mSen  : 0.8922\u001b[0m\n",
      "\u001b[32m2023-08-07 09:26:11.155\u001b[0m | \u001b[1mINFO    \u001b[0m | \u001b[36mtester\u001b[0m:\u001b[36mtest\u001b[0m:\u001b[36m84\u001b[0m - \u001b[1mSpe  : 0.987\u001b[0m\n",
      "\u001b[32m2023-08-07 09:26:11.156\u001b[0m | \u001b[1mINFO    \u001b[0m | \u001b[36mtester\u001b[0m:\u001b[36mtest\u001b[0m:\u001b[36m84\u001b[0m - \u001b[1mpre  : 0.8436\u001b[0m\n",
      "\u001b[32m2023-08-07 09:26:11.156\u001b[0m | \u001b[1mINFO    \u001b[0m | \u001b[36mtester\u001b[0m:\u001b[36mtest\u001b[0m:\u001b[36m84\u001b[0m - \u001b[1mIOU  : 0.7653\u001b[0m\n",
      "\u001b[32m2023-08-07 09:26:11.157\u001b[0m | \u001b[1mINFO    \u001b[0m | \u001b[36mtester\u001b[0m:\u001b[36mtest\u001b[0m:\u001b[36m84\u001b[0m - \u001b[1mMCC  : 0.8568\u001b[0m\n"
     ]
    }
   ],
   "source": [
    "# BCELoss\n",
    "weight_path = '/mnt/qb/berens/users/jfadugba97/RetinaSegmentation/model_results/SA_UNet/FIVES/BCELoss/checkpoint-epoch70.pth'\n",
    "config_file = \"../configs/sa_unet_bce.yaml\"\n",
    "\n",
    "\n",
    "main_result(config_file, dataset=fives_dataset,bs=4, weight_path=weight_path)"
   ]
  },
  {
   "cell_type": "code",
   "execution_count": 12,
   "metadata": {},
   "outputs": [
    {
     "name": "stderr",
     "output_type": "stream",
     "text": [
      "  0%|          | 0/50 [00:00<?, ?it/s]"
     ]
    },
    {
     "name": "stderr",
     "output_type": "stream",
     "text": [
      "TEST (49) | Loss: 0.1183 | AUC 0.9739 F1 0.8623 Acc 0.9796  Sen 0.9098 Spe 0.9846 Pre 0.8206 IOU 0.7589 MCC 0.8530 |B 0.07 D 0.05 |: 100%|██████████| 50/50 [00:35<00:00,  1.40it/s]\n",
      "\u001b[32m2023-08-07 09:26:46.971\u001b[0m | \u001b[1mINFO    \u001b[0m | \u001b[36mtester\u001b[0m:\u001b[36mtest\u001b[0m:\u001b[36m78\u001b[0m - \u001b[1m###### TEST EVALUATION ######\u001b[0m\n",
      "\u001b[32m2023-08-07 09:26:46.972\u001b[0m | \u001b[1mINFO    \u001b[0m | \u001b[36mtester\u001b[0m:\u001b[36mtest\u001b[0m:\u001b[36m79\u001b[0m - \u001b[1mtest time:  0.0736\u001b[0m\n",
      "\u001b[32m2023-08-07 09:26:46.972\u001b[0m | \u001b[1mINFO    \u001b[0m | \u001b[36mtester\u001b[0m:\u001b[36mtest\u001b[0m:\u001b[36m80\u001b[0m - \u001b[1m     loss:  0.1183\u001b[0m\n",
      "\u001b[32m2023-08-07 09:26:46.973\u001b[0m | \u001b[1mINFO    \u001b[0m | \u001b[36mtester\u001b[0m:\u001b[36mtest\u001b[0m:\u001b[36m84\u001b[0m - \u001b[1mAUC  : 0.9739\u001b[0m\n",
      "\u001b[32m2023-08-07 09:26:46.973\u001b[0m | \u001b[1mINFO    \u001b[0m | \u001b[36mtester\u001b[0m:\u001b[36mtest\u001b[0m:\u001b[36m84\u001b[0m - \u001b[1mF1   : 0.8623\u001b[0m\n",
      "\u001b[32m2023-08-07 09:26:46.974\u001b[0m | \u001b[1mINFO    \u001b[0m | \u001b[36mtester\u001b[0m:\u001b[36mtest\u001b[0m:\u001b[36m84\u001b[0m - \u001b[1mAcc  : 0.9796\u001b[0m\n",
      "\u001b[32m2023-08-07 09:26:46.975\u001b[0m | \u001b[1mINFO    \u001b[0m | \u001b[36mtester\u001b[0m:\u001b[36mtest\u001b[0m:\u001b[36m84\u001b[0m - \u001b[1mSen  : 0.9098\u001b[0m\n",
      "\u001b[32m2023-08-07 09:26:46.975\u001b[0m | \u001b[1mINFO    \u001b[0m | \u001b[36mtester\u001b[0m:\u001b[36mtest\u001b[0m:\u001b[36m84\u001b[0m - \u001b[1mSpe  : 0.9846\u001b[0m\n",
      "\u001b[32m2023-08-07 09:26:46.976\u001b[0m | \u001b[1mINFO    \u001b[0m | \u001b[36mtester\u001b[0m:\u001b[36mtest\u001b[0m:\u001b[36m84\u001b[0m - \u001b[1mpre  : 0.8206\u001b[0m\n",
      "\u001b[32m2023-08-07 09:26:46.976\u001b[0m | \u001b[1mINFO    \u001b[0m | \u001b[36mtester\u001b[0m:\u001b[36mtest\u001b[0m:\u001b[36m84\u001b[0m - \u001b[1mIOU  : 0.7589\u001b[0m\n",
      "\u001b[32m2023-08-07 09:26:46.977\u001b[0m | \u001b[1mINFO    \u001b[0m | \u001b[36mtester\u001b[0m:\u001b[36mtest\u001b[0m:\u001b[36m84\u001b[0m - \u001b[1mMCC  : 0.853\u001b[0m\n"
     ]
    }
   ],
   "source": [
    "# Soft_clDice\n",
    "weight_path = '/mnt/qb/berens/users/jfadugba97/RetinaSegmentation/model_results/SA_UNet/FIVES/Soft_clDice/checkpoint-epoch70.pth'\n",
    "config_file = \"../configs/sa_unet_cldice.yaml\"\n",
    "\n",
    "\n",
    "main_result(config_file, dataset=fives_dataset,bs=4, weight_path=weight_path)"
   ]
  },
  {
   "cell_type": "markdown",
   "metadata": {},
   "source": [
    "## FR-UNet"
   ]
  },
  {
   "cell_type": "code",
   "execution_count": 13,
   "metadata": {},
   "outputs": [
    {
     "name": "stderr",
     "output_type": "stream",
     "text": [
      "TEST (49) | Loss: 0.0829 | AUC 0.9911 F1 0.9037 Acc 0.9872  Sen 0.8686 Spe 0.9960 Pre 0.9430 IOU 0.8257 MCC 0.8980 |B 0.31 D 0.05 |: 100%|██████████| 50/50 [00:47<00:00,  1.06it/s]\n",
      "\u001b[32m2023-08-07 09:28:09.258\u001b[0m | \u001b[1mINFO    \u001b[0m | \u001b[36mtester\u001b[0m:\u001b[36mtest\u001b[0m:\u001b[36m78\u001b[0m - \u001b[1m###### TEST EVALUATION ######\u001b[0m\n",
      "\u001b[32m2023-08-07 09:28:09.259\u001b[0m | \u001b[1mINFO    \u001b[0m | \u001b[36mtester\u001b[0m:\u001b[36mtest\u001b[0m:\u001b[36m79\u001b[0m - \u001b[1mtest time:  0.3146\u001b[0m\n",
      "\u001b[32m2023-08-07 09:28:09.259\u001b[0m | \u001b[1mINFO    \u001b[0m | \u001b[36mtester\u001b[0m:\u001b[36mtest\u001b[0m:\u001b[36m80\u001b[0m - \u001b[1m     loss:  0.0829\u001b[0m\n",
      "\u001b[32m2023-08-07 09:28:09.260\u001b[0m | \u001b[1mINFO    \u001b[0m | \u001b[36mtester\u001b[0m:\u001b[36mtest\u001b[0m:\u001b[36m84\u001b[0m - \u001b[1mAUC  : 0.9911\u001b[0m\n",
      "\u001b[32m2023-08-07 09:28:09.260\u001b[0m | \u001b[1mINFO    \u001b[0m | \u001b[36mtester\u001b[0m:\u001b[36mtest\u001b[0m:\u001b[36m84\u001b[0m - \u001b[1mF1   : 0.9037\u001b[0m\n",
      "\u001b[32m2023-08-07 09:28:09.261\u001b[0m | \u001b[1mINFO    \u001b[0m | \u001b[36mtester\u001b[0m:\u001b[36mtest\u001b[0m:\u001b[36m84\u001b[0m - \u001b[1mAcc  : 0.9872\u001b[0m\n",
      "\u001b[32m2023-08-07 09:28:09.261\u001b[0m | \u001b[1mINFO    \u001b[0m | \u001b[36mtester\u001b[0m:\u001b[36mtest\u001b[0m:\u001b[36m84\u001b[0m - \u001b[1mSen  : 0.8686\u001b[0m\n",
      "\u001b[32m2023-08-07 09:28:09.262\u001b[0m | \u001b[1mINFO    \u001b[0m | \u001b[36mtester\u001b[0m:\u001b[36mtest\u001b[0m:\u001b[36m84\u001b[0m - \u001b[1mSpe  : 0.996\u001b[0m\n",
      "\u001b[32m2023-08-07 09:28:09.262\u001b[0m | \u001b[1mINFO    \u001b[0m | \u001b[36mtester\u001b[0m:\u001b[36mtest\u001b[0m:\u001b[36m84\u001b[0m - \u001b[1mpre  : 0.943\u001b[0m\n",
      "\u001b[32m2023-08-07 09:28:09.262\u001b[0m | \u001b[1mINFO    \u001b[0m | \u001b[36mtester\u001b[0m:\u001b[36mtest\u001b[0m:\u001b[36m84\u001b[0m - \u001b[1mIOU  : 0.8257\u001b[0m\n",
      "\u001b[32m2023-08-07 09:28:09.263\u001b[0m | \u001b[1mINFO    \u001b[0m | \u001b[36mtester\u001b[0m:\u001b[36mtest\u001b[0m:\u001b[36m84\u001b[0m - \u001b[1mMCC  : 0.898\u001b[0m\n"
     ]
    }
   ],
   "source": [
    "# CE_DiceLoss\n",
    "weight_path = '/mnt/qb/berens/users/jfadugba97/RetinaSegmentation/model_results/FR_UNet/FIVES/CE_DiceLoss/checkpoint-epoch70.pth'\n",
    "config_file = \"../configs/fr_unet_dicebce.yaml\"\n",
    "\n",
    "\n",
    "main_result(config_file, dataset=fives_dataset, bs=4, weight_path=weight_path)"
   ]
  },
  {
   "cell_type": "code",
   "execution_count": 14,
   "metadata": {},
   "outputs": [
    {
     "name": "stderr",
     "output_type": "stream",
     "text": [
      "TEST (49) | Loss: 0.1091 | AUC 0.9597 F1 0.9004 Acc 0.9868  Sen 0.8639 Spe 0.9959 Pre 0.9418 IOU 0.8204 MCC 0.8947 |B 0.32 D 0.05 |: 100%|██████████| 50/50 [00:46<00:00,  1.07it/s]\n",
      "\u001b[32m2023-08-07 09:29:09.156\u001b[0m | \u001b[1mINFO    \u001b[0m | \u001b[36mtester\u001b[0m:\u001b[36mtest\u001b[0m:\u001b[36m78\u001b[0m - \u001b[1m###### TEST EVALUATION ######\u001b[0m\n",
      "\u001b[32m2023-08-07 09:29:09.157\u001b[0m | \u001b[1mINFO    \u001b[0m | \u001b[36mtester\u001b[0m:\u001b[36mtest\u001b[0m:\u001b[36m79\u001b[0m - \u001b[1mtest time:  0.315\u001b[0m\n",
      "\u001b[32m2023-08-07 09:29:09.157\u001b[0m | \u001b[1mINFO    \u001b[0m | \u001b[36mtester\u001b[0m:\u001b[36mtest\u001b[0m:\u001b[36m80\u001b[0m - \u001b[1m     loss:  0.1091\u001b[0m\n",
      "\u001b[32m2023-08-07 09:29:09.158\u001b[0m | \u001b[1mINFO    \u001b[0m | \u001b[36mtester\u001b[0m:\u001b[36mtest\u001b[0m:\u001b[36m84\u001b[0m - \u001b[1mAUC  : 0.9597\u001b[0m\n",
      "\u001b[32m2023-08-07 09:29:09.158\u001b[0m | \u001b[1mINFO    \u001b[0m | \u001b[36mtester\u001b[0m:\u001b[36mtest\u001b[0m:\u001b[36m84\u001b[0m - \u001b[1mF1   : 0.9004\u001b[0m\n",
      "\u001b[32m2023-08-07 09:29:09.159\u001b[0m | \u001b[1mINFO    \u001b[0m | \u001b[36mtester\u001b[0m:\u001b[36mtest\u001b[0m:\u001b[36m84\u001b[0m - \u001b[1mAcc  : 0.9868\u001b[0m\n",
      "\u001b[32m2023-08-07 09:29:09.160\u001b[0m | \u001b[1mINFO    \u001b[0m | \u001b[36mtester\u001b[0m:\u001b[36mtest\u001b[0m:\u001b[36m84\u001b[0m - \u001b[1mSen  : 0.8639\u001b[0m\n",
      "\u001b[32m2023-08-07 09:29:09.160\u001b[0m | \u001b[1mINFO    \u001b[0m | \u001b[36mtester\u001b[0m:\u001b[36mtest\u001b[0m:\u001b[36m84\u001b[0m - \u001b[1mSpe  : 0.9959\u001b[0m\n",
      "\u001b[32m2023-08-07 09:29:09.161\u001b[0m | \u001b[1mINFO    \u001b[0m | \u001b[36mtester\u001b[0m:\u001b[36mtest\u001b[0m:\u001b[36m84\u001b[0m - \u001b[1mpre  : 0.9418\u001b[0m\n",
      "\u001b[32m2023-08-07 09:29:09.161\u001b[0m | \u001b[1mINFO    \u001b[0m | \u001b[36mtester\u001b[0m:\u001b[36mtest\u001b[0m:\u001b[36m84\u001b[0m - \u001b[1mIOU  : 0.8204\u001b[0m\n",
      "\u001b[32m2023-08-07 09:29:09.162\u001b[0m | \u001b[1mINFO    \u001b[0m | \u001b[36mtester\u001b[0m:\u001b[36mtest\u001b[0m:\u001b[36m84\u001b[0m - \u001b[1mMCC  : 0.8947\u001b[0m\n"
     ]
    }
   ],
   "source": [
    "# DiceLoss\n",
    "weight_path = '/mnt/qb/berens/users/jfadugba97/RetinaSegmentation/model_results/FR_UNet/FIVES/DiceLoss/checkpoint-epoch70.pth'\n",
    "config_file = \"../configs/fr_unet_dice.yaml\"\n",
    "\n",
    "\n",
    "main_result(config_file, dataset=fives_dataset, bs=4, weight_path=weight_path)"
   ]
  },
  {
   "cell_type": "code",
   "execution_count": 15,
   "metadata": {},
   "outputs": [
    {
     "name": "stderr",
     "output_type": "stream",
     "text": [
      "TEST (49) | Loss: 0.0413 | AUC 0.9928 F1 0.9014 Acc 0.9869  Sen 0.8675 Spe 0.9957 Pre 0.9398 IOU 0.8219 MCC 0.8957 |B 0.32 D 0.05 |: 100%|██████████| 50/50 [00:47<00:00,  1.05it/s]\n",
      "\u001b[32m2023-08-07 09:29:58.102\u001b[0m | \u001b[1mINFO    \u001b[0m | \u001b[36mtester\u001b[0m:\u001b[36mtest\u001b[0m:\u001b[36m78\u001b[0m - \u001b[1m###### TEST EVALUATION ######\u001b[0m\n",
      "\u001b[32m2023-08-07 09:29:58.102\u001b[0m | \u001b[1mINFO    \u001b[0m | \u001b[36mtester\u001b[0m:\u001b[36mtest\u001b[0m:\u001b[36m79\u001b[0m - \u001b[1mtest time:  0.3164\u001b[0m\n",
      "\u001b[32m2023-08-07 09:29:58.103\u001b[0m | \u001b[1mINFO    \u001b[0m | \u001b[36mtester\u001b[0m:\u001b[36mtest\u001b[0m:\u001b[36m80\u001b[0m - \u001b[1m     loss:  0.0413\u001b[0m\n",
      "\u001b[32m2023-08-07 09:29:58.103\u001b[0m | \u001b[1mINFO    \u001b[0m | \u001b[36mtester\u001b[0m:\u001b[36mtest\u001b[0m:\u001b[36m84\u001b[0m - \u001b[1mAUC  : 0.9928\u001b[0m\n",
      "\u001b[32m2023-08-07 09:29:58.104\u001b[0m | \u001b[1mINFO    \u001b[0m | \u001b[36mtester\u001b[0m:\u001b[36mtest\u001b[0m:\u001b[36m84\u001b[0m - \u001b[1mF1   : 0.9014\u001b[0m\n",
      "\u001b[32m2023-08-07 09:29:58.105\u001b[0m | \u001b[1mINFO    \u001b[0m | \u001b[36mtester\u001b[0m:\u001b[36mtest\u001b[0m:\u001b[36m84\u001b[0m - \u001b[1mAcc  : 0.9869\u001b[0m\n",
      "\u001b[32m2023-08-07 09:29:58.105\u001b[0m | \u001b[1mINFO    \u001b[0m | \u001b[36mtester\u001b[0m:\u001b[36mtest\u001b[0m:\u001b[36m84\u001b[0m - \u001b[1mSen  : 0.8675\u001b[0m\n",
      "\u001b[32m2023-08-07 09:29:58.105\u001b[0m | \u001b[1mINFO    \u001b[0m | \u001b[36mtester\u001b[0m:\u001b[36mtest\u001b[0m:\u001b[36m84\u001b[0m - \u001b[1mSpe  : 0.9957\u001b[0m\n",
      "\u001b[32m2023-08-07 09:29:58.106\u001b[0m | \u001b[1mINFO    \u001b[0m | \u001b[36mtester\u001b[0m:\u001b[36mtest\u001b[0m:\u001b[36m84\u001b[0m - \u001b[1mpre  : 0.9398\u001b[0m\n",
      "\u001b[32m2023-08-07 09:29:58.106\u001b[0m | \u001b[1mINFO    \u001b[0m | \u001b[36mtester\u001b[0m:\u001b[36mtest\u001b[0m:\u001b[36m84\u001b[0m - \u001b[1mIOU  : 0.8219\u001b[0m\n",
      "\u001b[32m2023-08-07 09:29:58.106\u001b[0m | \u001b[1mINFO    \u001b[0m | \u001b[36mtester\u001b[0m:\u001b[36mtest\u001b[0m:\u001b[36m84\u001b[0m - \u001b[1mMCC  : 0.8957\u001b[0m\n"
     ]
    }
   ],
   "source": [
    "# BCELoss\n",
    "weight_path = '/mnt/qb/berens/users/jfadugba97/RetinaSegmentation/model_results/FR_UNet/FIVES/BCELoss/checkpoint-epoch70.pth'\n",
    "config_file = \"../configs/fr_unet_bce.yaml\"\n",
    "\n",
    "\n",
    "main_result(config_file, dataset=fives_dataset, bs=4, weight_path=weight_path)"
   ]
  },
  {
   "cell_type": "code",
   "execution_count": 16,
   "metadata": {},
   "outputs": [
    {
     "name": "stderr",
     "output_type": "stream",
     "text": [
      "TEST (49) | Loss: 0.0534 | AUC 0.9684 F1 0.9029 Acc 0.9870  Sen 0.8735 Spe 0.9954 Pre 0.9357 IOU 0.8242 MCC 0.8969 |B 0.31 D 0.05 |: 100%|██████████| 50/50 [00:47<00:00,  1.06it/s]\n",
      "\u001b[32m2023-08-07 09:30:46.255\u001b[0m | \u001b[1mINFO    \u001b[0m | \u001b[36mtester\u001b[0m:\u001b[36mtest\u001b[0m:\u001b[36m78\u001b[0m - \u001b[1m###### TEST EVALUATION ######\u001b[0m\n",
      "\u001b[32m2023-08-07 09:30:46.255\u001b[0m | \u001b[1mINFO    \u001b[0m | \u001b[36mtester\u001b[0m:\u001b[36mtest\u001b[0m:\u001b[36m79\u001b[0m - \u001b[1mtest time:  0.3139\u001b[0m\n",
      "\u001b[32m2023-08-07 09:30:46.256\u001b[0m | \u001b[1mINFO    \u001b[0m | \u001b[36mtester\u001b[0m:\u001b[36mtest\u001b[0m:\u001b[36m80\u001b[0m - \u001b[1m     loss:  0.0534\u001b[0m\n",
      "\u001b[32m2023-08-07 09:30:46.256\u001b[0m | \u001b[1mINFO    \u001b[0m | \u001b[36mtester\u001b[0m:\u001b[36mtest\u001b[0m:\u001b[36m84\u001b[0m - \u001b[1mAUC  : 0.9684\u001b[0m\n",
      "\u001b[32m2023-08-07 09:30:46.257\u001b[0m | \u001b[1mINFO    \u001b[0m | \u001b[36mtester\u001b[0m:\u001b[36mtest\u001b[0m:\u001b[36m84\u001b[0m - \u001b[1mF1   : 0.9029\u001b[0m\n",
      "\u001b[32m2023-08-07 09:30:46.258\u001b[0m | \u001b[1mINFO    \u001b[0m | \u001b[36mtester\u001b[0m:\u001b[36mtest\u001b[0m:\u001b[36m84\u001b[0m - \u001b[1mAcc  : 0.987\u001b[0m\n",
      "\u001b[32m2023-08-07 09:30:46.258\u001b[0m | \u001b[1mINFO    \u001b[0m | \u001b[36mtester\u001b[0m:\u001b[36mtest\u001b[0m:\u001b[36m84\u001b[0m - \u001b[1mSen  : 0.8735\u001b[0m\n",
      "\u001b[32m2023-08-07 09:30:46.259\u001b[0m | \u001b[1mINFO    \u001b[0m | \u001b[36mtester\u001b[0m:\u001b[36mtest\u001b[0m:\u001b[36m84\u001b[0m - \u001b[1mSpe  : 0.9954\u001b[0m\n",
      "\u001b[32m2023-08-07 09:30:46.259\u001b[0m | \u001b[1mINFO    \u001b[0m | \u001b[36mtester\u001b[0m:\u001b[36mtest\u001b[0m:\u001b[36m84\u001b[0m - \u001b[1mpre  : 0.9357\u001b[0m\n",
      "\u001b[32m2023-08-07 09:30:46.260\u001b[0m | \u001b[1mINFO    \u001b[0m | \u001b[36mtester\u001b[0m:\u001b[36mtest\u001b[0m:\u001b[36m84\u001b[0m - \u001b[1mIOU  : 0.8242\u001b[0m\n",
      "\u001b[32m2023-08-07 09:30:46.260\u001b[0m | \u001b[1mINFO    \u001b[0m | \u001b[36mtester\u001b[0m:\u001b[36mtest\u001b[0m:\u001b[36m84\u001b[0m - \u001b[1mMCC  : 0.8969\u001b[0m\n"
     ]
    }
   ],
   "source": [
    "# Soft_clDice\n",
    "weight_path = '/mnt/qb/berens/users/jfadugba97/RetinaSegmentation/model_results/FR_UNet/FIVES/Soft_clDice/checkpoint-epoch70.pth'\n",
    "config_file = \"../configs/fr_unet_cldice.yaml\"\n",
    "\n",
    "\n",
    "main_result(config_file, dataset=fives_dataset, bs=4, weight_path=weight_path)"
   ]
  },
  {
   "cell_type": "markdown",
   "metadata": {},
   "source": [
    "## MANet"
   ]
  },
  {
   "cell_type": "code",
   "execution_count": 17,
   "metadata": {},
   "outputs": [
    {
     "name": "stderr",
     "output_type": "stream",
     "text": [
      "TEST (49) | Loss: 0.0817 | AUC 0.9910 F1 0.8997 Acc 0.9864  Sen 0.8753 Spe 0.9947 Pre 0.9261 IOU 0.8186 MCC 0.8929 |B 0.10 D 0.05 |: 100%|██████████| 50/50 [00:34<00:00,  1.46it/s]\n",
      "\u001b[32m2023-08-07 09:32:47.124\u001b[0m | \u001b[1mINFO    \u001b[0m | \u001b[36mtester\u001b[0m:\u001b[36mtest\u001b[0m:\u001b[36m78\u001b[0m - \u001b[1m###### TEST EVALUATION ######\u001b[0m\n",
      "\u001b[32m2023-08-07 09:32:47.125\u001b[0m | \u001b[1mINFO    \u001b[0m | \u001b[36mtester\u001b[0m:\u001b[36mtest\u001b[0m:\u001b[36m79\u001b[0m - \u001b[1mtest time:  0.0983\u001b[0m\n",
      "\u001b[32m2023-08-07 09:32:47.125\u001b[0m | \u001b[1mINFO    \u001b[0m | \u001b[36mtester\u001b[0m:\u001b[36mtest\u001b[0m:\u001b[36m80\u001b[0m - \u001b[1m     loss:  0.0817\u001b[0m\n",
      "\u001b[32m2023-08-07 09:32:47.126\u001b[0m | \u001b[1mINFO    \u001b[0m | \u001b[36mtester\u001b[0m:\u001b[36mtest\u001b[0m:\u001b[36m84\u001b[0m - \u001b[1mAUC  : 0.991\u001b[0m\n",
      "\u001b[32m2023-08-07 09:32:47.126\u001b[0m | \u001b[1mINFO    \u001b[0m | \u001b[36mtester\u001b[0m:\u001b[36mtest\u001b[0m:\u001b[36m84\u001b[0m - \u001b[1mF1   : 0.8997\u001b[0m\n",
      "\u001b[32m2023-08-07 09:32:47.127\u001b[0m | \u001b[1mINFO    \u001b[0m | \u001b[36mtester\u001b[0m:\u001b[36mtest\u001b[0m:\u001b[36m84\u001b[0m - \u001b[1mAcc  : 0.9864\u001b[0m\n",
      "\u001b[32m2023-08-07 09:32:47.127\u001b[0m | \u001b[1mINFO    \u001b[0m | \u001b[36mtester\u001b[0m:\u001b[36mtest\u001b[0m:\u001b[36m84\u001b[0m - \u001b[1mSen  : 0.8753\u001b[0m\n",
      "\u001b[32m2023-08-07 09:32:47.128\u001b[0m | \u001b[1mINFO    \u001b[0m | \u001b[36mtester\u001b[0m:\u001b[36mtest\u001b[0m:\u001b[36m84\u001b[0m - \u001b[1mSpe  : 0.9947\u001b[0m\n",
      "\u001b[32m2023-08-07 09:32:47.128\u001b[0m | \u001b[1mINFO    \u001b[0m | \u001b[36mtester\u001b[0m:\u001b[36mtest\u001b[0m:\u001b[36m84\u001b[0m - \u001b[1mpre  : 0.9261\u001b[0m\n",
      "\u001b[32m2023-08-07 09:32:47.129\u001b[0m | \u001b[1mINFO    \u001b[0m | \u001b[36mtester\u001b[0m:\u001b[36mtest\u001b[0m:\u001b[36m84\u001b[0m - \u001b[1mIOU  : 0.8186\u001b[0m\n",
      "\u001b[32m2023-08-07 09:32:47.129\u001b[0m | \u001b[1mINFO    \u001b[0m | \u001b[36mtester\u001b[0m:\u001b[36mtest\u001b[0m:\u001b[36m84\u001b[0m - \u001b[1mMCC  : 0.8929\u001b[0m\n"
     ]
    }
   ],
   "source": [
    "# CE_DiceLoss\n",
    "weight_path = '/mnt/qb/berens/users/jfadugba97/RetinaSegmentation/model_results/MANet/FIVES/CE_DiceLoss/checkpoint-epoch70.pth'\n",
    "config_file = \"../configs/manet_dicebce.yaml\"\n",
    "\n",
    "\n",
    "main_result(config_file, dataset=fives_dataset, bs=4, weight_path=weight_path)"
   ]
  },
  {
   "cell_type": "code",
   "execution_count": 18,
   "metadata": {},
   "outputs": [
    {
     "name": "stderr",
     "output_type": "stream",
     "text": [
      "TEST (49) | Loss: 0.1047 | AUC 0.9605 F1 0.8988 Acc 0.9864  Sen 0.8680 Spe 0.9953 Pre 0.9327 IOU 0.8172 MCC 0.8923 |B 0.08 D 0.05 |: 100%|██████████| 50/50 [00:33<00:00,  1.48it/s]\n",
      "\u001b[32m2023-08-07 09:33:26.264\u001b[0m | \u001b[1mINFO    \u001b[0m | \u001b[36mtester\u001b[0m:\u001b[36mtest\u001b[0m:\u001b[36m78\u001b[0m - \u001b[1m###### TEST EVALUATION ######\u001b[0m\n",
      "\u001b[32m2023-08-07 09:33:26.265\u001b[0m | \u001b[1mINFO    \u001b[0m | \u001b[36mtester\u001b[0m:\u001b[36mtest\u001b[0m:\u001b[36m79\u001b[0m - \u001b[1mtest time:  0.0829\u001b[0m\n",
      "\u001b[32m2023-08-07 09:33:26.266\u001b[0m | \u001b[1mINFO    \u001b[0m | \u001b[36mtester\u001b[0m:\u001b[36mtest\u001b[0m:\u001b[36m80\u001b[0m - \u001b[1m     loss:  0.1047\u001b[0m\n",
      "\u001b[32m2023-08-07 09:33:26.266\u001b[0m | \u001b[1mINFO    \u001b[0m | \u001b[36mtester\u001b[0m:\u001b[36mtest\u001b[0m:\u001b[36m84\u001b[0m - \u001b[1mAUC  : 0.9605\u001b[0m\n",
      "\u001b[32m2023-08-07 09:33:26.267\u001b[0m | \u001b[1mINFO    \u001b[0m | \u001b[36mtester\u001b[0m:\u001b[36mtest\u001b[0m:\u001b[36m84\u001b[0m - \u001b[1mF1   : 0.8988\u001b[0m\n",
      "\u001b[32m2023-08-07 09:33:26.267\u001b[0m | \u001b[1mINFO    \u001b[0m | \u001b[36mtester\u001b[0m:\u001b[36mtest\u001b[0m:\u001b[36m84\u001b[0m - \u001b[1mAcc  : 0.9864\u001b[0m\n",
      "\u001b[32m2023-08-07 09:33:26.268\u001b[0m | \u001b[1mINFO    \u001b[0m | \u001b[36mtester\u001b[0m:\u001b[36mtest\u001b[0m:\u001b[36m84\u001b[0m - \u001b[1mSen  : 0.868\u001b[0m\n",
      "\u001b[32m2023-08-07 09:33:26.268\u001b[0m | \u001b[1mINFO    \u001b[0m | \u001b[36mtester\u001b[0m:\u001b[36mtest\u001b[0m:\u001b[36m84\u001b[0m - \u001b[1mSpe  : 0.9953\u001b[0m\n",
      "\u001b[32m2023-08-07 09:33:26.269\u001b[0m | \u001b[1mINFO    \u001b[0m | \u001b[36mtester\u001b[0m:\u001b[36mtest\u001b[0m:\u001b[36m84\u001b[0m - \u001b[1mpre  : 0.9327\u001b[0m\n",
      "\u001b[32m2023-08-07 09:33:26.269\u001b[0m | \u001b[1mINFO    \u001b[0m | \u001b[36mtester\u001b[0m:\u001b[36mtest\u001b[0m:\u001b[36m84\u001b[0m - \u001b[1mIOU  : 0.8172\u001b[0m\n",
      "\u001b[32m2023-08-07 09:33:26.270\u001b[0m | \u001b[1mINFO    \u001b[0m | \u001b[36mtester\u001b[0m:\u001b[36mtest\u001b[0m:\u001b[36m84\u001b[0m - \u001b[1mMCC  : 0.8923\u001b[0m\n"
     ]
    }
   ],
   "source": [
    "# DiceLoss\n",
    "weight_path = '/mnt/qb/berens/users/jfadugba97/RetinaSegmentation/model_results/MANet/FIVES/DiceLoss/checkpoint-epoch70.pth'\n",
    "config_file = \"../configs/manet_dice.yaml\"\n",
    "\n",
    "\n",
    "main_result(config_file, dataset=fives_dataset, bs=4, weight_path=weight_path)"
   ]
  },
  {
   "cell_type": "code",
   "execution_count": 19,
   "metadata": {},
   "outputs": [
    {
     "name": "stderr",
     "output_type": "stream",
     "text": [
      "TEST (49) | Loss: 0.0402 | AUC 0.9937 F1 0.8941 Acc 0.9858  Sen 0.8604 Spe 0.9952 Pre 0.9318 IOU 0.8097 MCC 0.8876 |B 0.08 D 0.05 |: 100%|██████████| 50/50 [00:33<00:00,  1.49it/s]\n",
      "\u001b[32m2023-08-07 09:34:12.509\u001b[0m | \u001b[1mINFO    \u001b[0m | \u001b[36mtester\u001b[0m:\u001b[36mtest\u001b[0m:\u001b[36m78\u001b[0m - \u001b[1m###### TEST EVALUATION ######\u001b[0m\n",
      "\u001b[32m2023-08-07 09:34:12.509\u001b[0m | \u001b[1mINFO    \u001b[0m | \u001b[36mtester\u001b[0m:\u001b[36mtest\u001b[0m:\u001b[36m79\u001b[0m - \u001b[1mtest time:  0.0848\u001b[0m\n",
      "\u001b[32m2023-08-07 09:34:12.510\u001b[0m | \u001b[1mINFO    \u001b[0m | \u001b[36mtester\u001b[0m:\u001b[36mtest\u001b[0m:\u001b[36m80\u001b[0m - \u001b[1m     loss:  0.0402\u001b[0m\n",
      "\u001b[32m2023-08-07 09:34:12.510\u001b[0m | \u001b[1mINFO    \u001b[0m | \u001b[36mtester\u001b[0m:\u001b[36mtest\u001b[0m:\u001b[36m84\u001b[0m - \u001b[1mAUC  : 0.9937\u001b[0m\n",
      "\u001b[32m2023-08-07 09:34:12.512\u001b[0m | \u001b[1mINFO    \u001b[0m | \u001b[36mtester\u001b[0m:\u001b[36mtest\u001b[0m:\u001b[36m84\u001b[0m - \u001b[1mF1   : 0.8941\u001b[0m\n",
      "\u001b[32m2023-08-07 09:34:12.512\u001b[0m | \u001b[1mINFO    \u001b[0m | \u001b[36mtester\u001b[0m:\u001b[36mtest\u001b[0m:\u001b[36m84\u001b[0m - \u001b[1mAcc  : 0.9858\u001b[0m\n",
      "\u001b[32m2023-08-07 09:34:12.512\u001b[0m | \u001b[1mINFO    \u001b[0m | \u001b[36mtester\u001b[0m:\u001b[36mtest\u001b[0m:\u001b[36m84\u001b[0m - \u001b[1mSen  : 0.8604\u001b[0m\n",
      "\u001b[32m2023-08-07 09:34:12.513\u001b[0m | \u001b[1mINFO    \u001b[0m | \u001b[36mtester\u001b[0m:\u001b[36mtest\u001b[0m:\u001b[36m84\u001b[0m - \u001b[1mSpe  : 0.9952\u001b[0m\n",
      "\u001b[32m2023-08-07 09:34:12.513\u001b[0m | \u001b[1mINFO    \u001b[0m | \u001b[36mtester\u001b[0m:\u001b[36mtest\u001b[0m:\u001b[36m84\u001b[0m - \u001b[1mpre  : 0.9318\u001b[0m\n",
      "\u001b[32m2023-08-07 09:34:12.514\u001b[0m | \u001b[1mINFO    \u001b[0m | \u001b[36mtester\u001b[0m:\u001b[36mtest\u001b[0m:\u001b[36m84\u001b[0m - \u001b[1mIOU  : 0.8097\u001b[0m\n",
      "\u001b[32m2023-08-07 09:34:12.514\u001b[0m | \u001b[1mINFO    \u001b[0m | \u001b[36mtester\u001b[0m:\u001b[36mtest\u001b[0m:\u001b[36m84\u001b[0m - \u001b[1mMCC  : 0.8876\u001b[0m\n"
     ]
    }
   ],
   "source": [
    "# BCELoss\n",
    "weight_path = '/mnt/qb/berens/users/jfadugba97/RetinaSegmentation/model_results/MANet/FIVES/BCELoss/checkpoint-epoch70.pth'\n",
    "config_file = \"../configs/manet_bce.yaml\"\n",
    "\n",
    "\n",
    "main_result(config_file, dataset=fives_dataset, bs=4, weight_path=weight_path)"
   ]
  },
  {
   "cell_type": "code",
   "execution_count": 20,
   "metadata": {},
   "outputs": [
    {
     "name": "stderr",
     "output_type": "stream",
     "text": [
      "TEST (49) | Loss: 0.0521 | AUC 0.9684 F1 0.9005 Acc 0.9864  Sen 0.8813 Spe 0.9942 Pre 0.9212 IOU 0.8199 MCC 0.8936 |B 0.09 D 0.05 |: 100%|██████████| 50/50 [00:33<00:00,  1.48it/s]\n",
      "\u001b[32m2023-08-07 09:34:51.156\u001b[0m | \u001b[1mINFO    \u001b[0m | \u001b[36mtester\u001b[0m:\u001b[36mtest\u001b[0m:\u001b[36m78\u001b[0m - \u001b[1m###### TEST EVALUATION ######\u001b[0m\n",
      "\u001b[32m2023-08-07 09:34:51.157\u001b[0m | \u001b[1mINFO    \u001b[0m | \u001b[36mtester\u001b[0m:\u001b[36mtest\u001b[0m:\u001b[36m79\u001b[0m - \u001b[1mtest time:  0.0897\u001b[0m\n",
      "\u001b[32m2023-08-07 09:34:51.157\u001b[0m | \u001b[1mINFO    \u001b[0m | \u001b[36mtester\u001b[0m:\u001b[36mtest\u001b[0m:\u001b[36m80\u001b[0m - \u001b[1m     loss:  0.0521\u001b[0m\n",
      "\u001b[32m2023-08-07 09:34:51.158\u001b[0m | \u001b[1mINFO    \u001b[0m | \u001b[36mtester\u001b[0m:\u001b[36mtest\u001b[0m:\u001b[36m84\u001b[0m - \u001b[1mAUC  : 0.9684\u001b[0m\n",
      "\u001b[32m2023-08-07 09:34:51.159\u001b[0m | \u001b[1mINFO    \u001b[0m | \u001b[36mtester\u001b[0m:\u001b[36mtest\u001b[0m:\u001b[36m84\u001b[0m - \u001b[1mF1   : 0.9005\u001b[0m\n",
      "\u001b[32m2023-08-07 09:34:51.159\u001b[0m | \u001b[1mINFO    \u001b[0m | \u001b[36mtester\u001b[0m:\u001b[36mtest\u001b[0m:\u001b[36m84\u001b[0m - \u001b[1mAcc  : 0.9864\u001b[0m\n",
      "\u001b[32m2023-08-07 09:34:51.161\u001b[0m | \u001b[1mINFO    \u001b[0m | \u001b[36mtester\u001b[0m:\u001b[36mtest\u001b[0m:\u001b[36m84\u001b[0m - \u001b[1mSen  : 0.8813\u001b[0m\n",
      "\u001b[32m2023-08-07 09:34:51.161\u001b[0m | \u001b[1mINFO    \u001b[0m | \u001b[36mtester\u001b[0m:\u001b[36mtest\u001b[0m:\u001b[36m84\u001b[0m - \u001b[1mSpe  : 0.9942\u001b[0m\n",
      "\u001b[32m2023-08-07 09:34:51.162\u001b[0m | \u001b[1mINFO    \u001b[0m | \u001b[36mtester\u001b[0m:\u001b[36mtest\u001b[0m:\u001b[36m84\u001b[0m - \u001b[1mpre  : 0.9212\u001b[0m\n",
      "\u001b[32m2023-08-07 09:34:51.162\u001b[0m | \u001b[1mINFO    \u001b[0m | \u001b[36mtester\u001b[0m:\u001b[36mtest\u001b[0m:\u001b[36m84\u001b[0m - \u001b[1mIOU  : 0.8199\u001b[0m\n",
      "\u001b[32m2023-08-07 09:34:51.163\u001b[0m | \u001b[1mINFO    \u001b[0m | \u001b[36mtester\u001b[0m:\u001b[36mtest\u001b[0m:\u001b[36m84\u001b[0m - \u001b[1mMCC  : 0.8936\u001b[0m\n"
     ]
    }
   ],
   "source": [
    "# Soft_clDice\n",
    "weight_path = '/mnt/qb/berens/users/jfadugba97/RetinaSegmentation/model_results/MANet/FIVES/Soft_clDice/checkpoint-epoch65.pth'\n",
    "config_file = \"../configs/manet_cldice.yaml\"\n",
    "\n",
    "\n",
    "main_result(config_file, dataset=fives_dataset, bs=4, weight_path=weight_path)"
   ]
  },
  {
   "cell_type": "markdown",
   "metadata": {},
   "source": [
    "## UNet"
   ]
  },
  {
   "cell_type": "code",
   "execution_count": 21,
   "metadata": {},
   "outputs": [
    {
     "name": "stderr",
     "output_type": "stream",
     "text": [
      "TEST (49) | Loss: 0.0800 | AUC 0.9914 F1 0.9015 Acc 0.9866  Sen 0.8838 Spe 0.9942 Pre 0.9208 IOU 0.8218 MCC 0.8947 |B 0.08 D 0.05 |: 100%|██████████| 50/50 [00:33<00:00,  1.48it/s]\n",
      "\u001b[32m2023-08-07 09:36:16.334\u001b[0m | \u001b[1mINFO    \u001b[0m | \u001b[36mtester\u001b[0m:\u001b[36mtest\u001b[0m:\u001b[36m78\u001b[0m - \u001b[1m###### TEST EVALUATION ######\u001b[0m\n",
      "\u001b[32m2023-08-07 09:36:16.335\u001b[0m | \u001b[1mINFO    \u001b[0m | \u001b[36mtester\u001b[0m:\u001b[36mtest\u001b[0m:\u001b[36m79\u001b[0m - \u001b[1mtest time:  0.0834\u001b[0m\n",
      "\u001b[32m2023-08-07 09:36:16.336\u001b[0m | \u001b[1mINFO    \u001b[0m | \u001b[36mtester\u001b[0m:\u001b[36mtest\u001b[0m:\u001b[36m80\u001b[0m - \u001b[1m     loss:  0.08\u001b[0m\n",
      "\u001b[32m2023-08-07 09:36:16.336\u001b[0m | \u001b[1mINFO    \u001b[0m | \u001b[36mtester\u001b[0m:\u001b[36mtest\u001b[0m:\u001b[36m84\u001b[0m - \u001b[1mAUC  : 0.9914\u001b[0m\n",
      "\u001b[32m2023-08-07 09:36:16.337\u001b[0m | \u001b[1mINFO    \u001b[0m | \u001b[36mtester\u001b[0m:\u001b[36mtest\u001b[0m:\u001b[36m84\u001b[0m - \u001b[1mF1   : 0.9015\u001b[0m\n",
      "\u001b[32m2023-08-07 09:36:16.337\u001b[0m | \u001b[1mINFO    \u001b[0m | \u001b[36mtester\u001b[0m:\u001b[36mtest\u001b[0m:\u001b[36m84\u001b[0m - \u001b[1mAcc  : 0.9866\u001b[0m\n",
      "\u001b[32m2023-08-07 09:36:16.338\u001b[0m | \u001b[1mINFO    \u001b[0m | \u001b[36mtester\u001b[0m:\u001b[36mtest\u001b[0m:\u001b[36m84\u001b[0m - \u001b[1mSen  : 0.8838\u001b[0m\n",
      "\u001b[32m2023-08-07 09:36:16.338\u001b[0m | \u001b[1mINFO    \u001b[0m | \u001b[36mtester\u001b[0m:\u001b[36mtest\u001b[0m:\u001b[36m84\u001b[0m - \u001b[1mSpe  : 0.9942\u001b[0m\n",
      "\u001b[32m2023-08-07 09:36:16.339\u001b[0m | \u001b[1mINFO    \u001b[0m | \u001b[36mtester\u001b[0m:\u001b[36mtest\u001b[0m:\u001b[36m84\u001b[0m - \u001b[1mpre  : 0.9208\u001b[0m\n",
      "\u001b[32m2023-08-07 09:36:16.339\u001b[0m | \u001b[1mINFO    \u001b[0m | \u001b[36mtester\u001b[0m:\u001b[36mtest\u001b[0m:\u001b[36m84\u001b[0m - \u001b[1mIOU  : 0.8218\u001b[0m\n",
      "\u001b[32m2023-08-07 09:36:16.340\u001b[0m | \u001b[1mINFO    \u001b[0m | \u001b[36mtester\u001b[0m:\u001b[36mtest\u001b[0m:\u001b[36m84\u001b[0m - \u001b[1mMCC  : 0.8947\u001b[0m\n"
     ]
    }
   ],
   "source": [
    "# CE_DiceLoss\n",
    "weight_path = '/mnt/qb/berens/users/jfadugba97/RetinaSegmentation/model_results/Unet/FIVES/CE_DiceLoss/checkpoint-epoch70.pth'\n",
    "config_file = \"../configs/unet_dicebce.yaml\"\n",
    "\n",
    "\n",
    "main_result(config_file, dataset=fives_dataset, bs=4, weight_path=weight_path)"
   ]
  },
  {
   "cell_type": "code",
   "execution_count": 22,
   "metadata": {},
   "outputs": [
    {
     "name": "stderr",
     "output_type": "stream",
     "text": [
      "TEST (49) | Loss: 0.1052 | AUC 0.9652 F1 0.8987 Acc 0.9862  Sen 0.8800 Spe 0.9942 Pre 0.9193 IOU 0.8173 MCC 0.8919 |B 0.08 D 0.05 |: 100%|██████████| 50/50 [00:33<00:00,  1.50it/s]\n",
      "\u001b[32m2023-08-07 09:36:53.780\u001b[0m | \u001b[1mINFO    \u001b[0m | \u001b[36mtester\u001b[0m:\u001b[36mtest\u001b[0m:\u001b[36m78\u001b[0m - \u001b[1m###### TEST EVALUATION ######\u001b[0m\n",
      "\u001b[32m2023-08-07 09:36:53.781\u001b[0m | \u001b[1mINFO    \u001b[0m | \u001b[36mtester\u001b[0m:\u001b[36mtest\u001b[0m:\u001b[36m79\u001b[0m - \u001b[1mtest time:  0.0831\u001b[0m\n",
      "\u001b[32m2023-08-07 09:36:53.782\u001b[0m | \u001b[1mINFO    \u001b[0m | \u001b[36mtester\u001b[0m:\u001b[36mtest\u001b[0m:\u001b[36m80\u001b[0m - \u001b[1m     loss:  0.1052\u001b[0m\n",
      "\u001b[32m2023-08-07 09:36:53.782\u001b[0m | \u001b[1mINFO    \u001b[0m | \u001b[36mtester\u001b[0m:\u001b[36mtest\u001b[0m:\u001b[36m84\u001b[0m - \u001b[1mAUC  : 0.9652\u001b[0m\n",
      "\u001b[32m2023-08-07 09:36:53.782\u001b[0m | \u001b[1mINFO    \u001b[0m | \u001b[36mtester\u001b[0m:\u001b[36mtest\u001b[0m:\u001b[36m84\u001b[0m - \u001b[1mF1   : 0.8987\u001b[0m\n",
      "\u001b[32m2023-08-07 09:36:53.783\u001b[0m | \u001b[1mINFO    \u001b[0m | \u001b[36mtester\u001b[0m:\u001b[36mtest\u001b[0m:\u001b[36m84\u001b[0m - \u001b[1mAcc  : 0.9862\u001b[0m\n",
      "\u001b[32m2023-08-07 09:36:53.784\u001b[0m | \u001b[1mINFO    \u001b[0m | \u001b[36mtester\u001b[0m:\u001b[36mtest\u001b[0m:\u001b[36m84\u001b[0m - \u001b[1mSen  : 0.88\u001b[0m\n",
      "\u001b[32m2023-08-07 09:36:53.785\u001b[0m | \u001b[1mINFO    \u001b[0m | \u001b[36mtester\u001b[0m:\u001b[36mtest\u001b[0m:\u001b[36m84\u001b[0m - \u001b[1mSpe  : 0.9942\u001b[0m\n",
      "\u001b[32m2023-08-07 09:36:53.785\u001b[0m | \u001b[1mINFO    \u001b[0m | \u001b[36mtester\u001b[0m:\u001b[36mtest\u001b[0m:\u001b[36m84\u001b[0m - \u001b[1mpre  : 0.9193\u001b[0m\n",
      "\u001b[32m2023-08-07 09:36:53.786\u001b[0m | \u001b[1mINFO    \u001b[0m | \u001b[36mtester\u001b[0m:\u001b[36mtest\u001b[0m:\u001b[36m84\u001b[0m - \u001b[1mIOU  : 0.8173\u001b[0m\n",
      "\u001b[32m2023-08-07 09:36:53.786\u001b[0m | \u001b[1mINFO    \u001b[0m | \u001b[36mtester\u001b[0m:\u001b[36mtest\u001b[0m:\u001b[36m84\u001b[0m - \u001b[1mMCC  : 0.8919\u001b[0m\n"
     ]
    }
   ],
   "source": [
    "# DiceLoss\n",
    "weight_path = '/mnt/qb/berens/users/jfadugba97/RetinaSegmentation/model_results/Unet/FIVES/DiceLoss/checkpoint-epoch70.pth'\n",
    "config_file = \"../configs/unet_dice.yaml\"\n",
    "\n",
    "\n",
    "main_result(config_file, dataset=fives_dataset, bs=4, weight_path=weight_path)"
   ]
  },
  {
   "cell_type": "code",
   "execution_count": 23,
   "metadata": {},
   "outputs": [
    {
     "name": "stderr",
     "output_type": "stream",
     "text": [
      "TEST (49) | Loss: 0.0399 | AUC 0.9937 F1 0.8976 Acc 0.9859  Sen 0.8835 Spe 0.9936 Pre 0.9129 IOU 0.8153 MCC 0.8904 |B 0.08 D 0.05 |: 100%|██████████| 50/50 [00:33<00:00,  1.50it/s]\n",
      "\u001b[32m2023-08-07 09:37:31.220\u001b[0m | \u001b[1mINFO    \u001b[0m | \u001b[36mtester\u001b[0m:\u001b[36mtest\u001b[0m:\u001b[36m78\u001b[0m - \u001b[1m###### TEST EVALUATION ######\u001b[0m\n",
      "\u001b[32m2023-08-07 09:37:31.221\u001b[0m | \u001b[1mINFO    \u001b[0m | \u001b[36mtester\u001b[0m:\u001b[36mtest\u001b[0m:\u001b[36m79\u001b[0m - \u001b[1mtest time:  0.0813\u001b[0m\n",
      "\u001b[32m2023-08-07 09:37:31.221\u001b[0m | \u001b[1mINFO    \u001b[0m | \u001b[36mtester\u001b[0m:\u001b[36mtest\u001b[0m:\u001b[36m80\u001b[0m - \u001b[1m     loss:  0.0399\u001b[0m\n",
      "\u001b[32m2023-08-07 09:37:31.222\u001b[0m | \u001b[1mINFO    \u001b[0m | \u001b[36mtester\u001b[0m:\u001b[36mtest\u001b[0m:\u001b[36m84\u001b[0m - \u001b[1mAUC  : 0.9937\u001b[0m\n",
      "\u001b[32m2023-08-07 09:37:31.222\u001b[0m | \u001b[1mINFO    \u001b[0m | \u001b[36mtester\u001b[0m:\u001b[36mtest\u001b[0m:\u001b[36m84\u001b[0m - \u001b[1mF1   : 0.8976\u001b[0m\n",
      "\u001b[32m2023-08-07 09:37:31.223\u001b[0m | \u001b[1mINFO    \u001b[0m | \u001b[36mtester\u001b[0m:\u001b[36mtest\u001b[0m:\u001b[36m84\u001b[0m - \u001b[1mAcc  : 0.9859\u001b[0m\n",
      "\u001b[32m2023-08-07 09:37:31.223\u001b[0m | \u001b[1mINFO    \u001b[0m | \u001b[36mtester\u001b[0m:\u001b[36mtest\u001b[0m:\u001b[36m84\u001b[0m - \u001b[1mSen  : 0.8835\u001b[0m\n",
      "\u001b[32m2023-08-07 09:37:31.224\u001b[0m | \u001b[1mINFO    \u001b[0m | \u001b[36mtester\u001b[0m:\u001b[36mtest\u001b[0m:\u001b[36m84\u001b[0m - \u001b[1mSpe  : 0.9936\u001b[0m\n",
      "\u001b[32m2023-08-07 09:37:31.224\u001b[0m | \u001b[1mINFO    \u001b[0m | \u001b[36mtester\u001b[0m:\u001b[36mtest\u001b[0m:\u001b[36m84\u001b[0m - \u001b[1mpre  : 0.9129\u001b[0m\n",
      "\u001b[32m2023-08-07 09:37:31.225\u001b[0m | \u001b[1mINFO    \u001b[0m | \u001b[36mtester\u001b[0m:\u001b[36mtest\u001b[0m:\u001b[36m84\u001b[0m - \u001b[1mIOU  : 0.8153\u001b[0m\n",
      "\u001b[32m2023-08-07 09:37:31.225\u001b[0m | \u001b[1mINFO    \u001b[0m | \u001b[36mtester\u001b[0m:\u001b[36mtest\u001b[0m:\u001b[36m84\u001b[0m - \u001b[1mMCC  : 0.8904\u001b[0m\n"
     ]
    }
   ],
   "source": [
    "# BCELoss\n",
    "weight_path = '/mnt/qb/berens/users/jfadugba97/RetinaSegmentation/model_results/Unet/FIVES/BCELoss/checkpoint-epoch70.pth'\n",
    "config_file = \"../configs/unet_bce.yaml\"\n",
    "\n",
    "\n",
    "main_result(config_file, dataset=fives_dataset, bs=4, weight_path=weight_path)"
   ]
  },
  {
   "cell_type": "code",
   "execution_count": 24,
   "metadata": {},
   "outputs": [
    {
     "name": "stderr",
     "output_type": "stream",
     "text": [
      "TEST (49) | Loss: 0.0515 | AUC 0.9661 F1 0.9006 Acc 0.9864  Sen 0.8850 Spe 0.9940 Pre 0.9178 IOU 0.8202 MCC 0.8938 |B 0.08 D 0.05 |: 100%|██████████| 50/50 [00:33<00:00,  1.50it/s]\n",
      "\u001b[32m2023-08-07 09:38:09.813\u001b[0m | \u001b[1mINFO    \u001b[0m | \u001b[36mtester\u001b[0m:\u001b[36mtest\u001b[0m:\u001b[36m78\u001b[0m - \u001b[1m###### TEST EVALUATION ######\u001b[0m\n",
      "\u001b[32m2023-08-07 09:38:09.814\u001b[0m | \u001b[1mINFO    \u001b[0m | \u001b[36mtester\u001b[0m:\u001b[36mtest\u001b[0m:\u001b[36m79\u001b[0m - \u001b[1mtest time:  0.082\u001b[0m\n",
      "\u001b[32m2023-08-07 09:38:09.814\u001b[0m | \u001b[1mINFO    \u001b[0m | \u001b[36mtester\u001b[0m:\u001b[36mtest\u001b[0m:\u001b[36m80\u001b[0m - \u001b[1m     loss:  0.0515\u001b[0m\n",
      "\u001b[32m2023-08-07 09:38:09.814\u001b[0m | \u001b[1mINFO    \u001b[0m | \u001b[36mtester\u001b[0m:\u001b[36mtest\u001b[0m:\u001b[36m84\u001b[0m - \u001b[1mAUC  : 0.9661\u001b[0m\n",
      "\u001b[32m2023-08-07 09:38:09.815\u001b[0m | \u001b[1mINFO    \u001b[0m | \u001b[36mtester\u001b[0m:\u001b[36mtest\u001b[0m:\u001b[36m84\u001b[0m - \u001b[1mF1   : 0.9006\u001b[0m\n",
      "\u001b[32m2023-08-07 09:38:09.815\u001b[0m | \u001b[1mINFO    \u001b[0m | \u001b[36mtester\u001b[0m:\u001b[36mtest\u001b[0m:\u001b[36m84\u001b[0m - \u001b[1mAcc  : 0.9864\u001b[0m\n",
      "\u001b[32m2023-08-07 09:38:09.816\u001b[0m | \u001b[1mINFO    \u001b[0m | \u001b[36mtester\u001b[0m:\u001b[36mtest\u001b[0m:\u001b[36m84\u001b[0m - \u001b[1mSen  : 0.885\u001b[0m\n",
      "\u001b[32m2023-08-07 09:38:09.817\u001b[0m | \u001b[1mINFO    \u001b[0m | \u001b[36mtester\u001b[0m:\u001b[36mtest\u001b[0m:\u001b[36m84\u001b[0m - \u001b[1mSpe  : 0.994\u001b[0m\n",
      "\u001b[32m2023-08-07 09:38:09.817\u001b[0m | \u001b[1mINFO    \u001b[0m | \u001b[36mtester\u001b[0m:\u001b[36mtest\u001b[0m:\u001b[36m84\u001b[0m - \u001b[1mpre  : 0.9178\u001b[0m\n",
      "\u001b[32m2023-08-07 09:38:09.818\u001b[0m | \u001b[1mINFO    \u001b[0m | \u001b[36mtester\u001b[0m:\u001b[36mtest\u001b[0m:\u001b[36m84\u001b[0m - \u001b[1mIOU  : 0.8202\u001b[0m\n",
      "\u001b[32m2023-08-07 09:38:09.818\u001b[0m | \u001b[1mINFO    \u001b[0m | \u001b[36mtester\u001b[0m:\u001b[36mtest\u001b[0m:\u001b[36m84\u001b[0m - \u001b[1mMCC  : 0.8938\u001b[0m\n"
     ]
    }
   ],
   "source": [
    "# Soft_clDice\n",
    "weight_path = '/mnt/qb/berens/users/jfadugba97/RetinaSegmentation/model_results/Unet/FIVES/Soft_clDice/checkpoint-epoch70.pth'\n",
    "config_file = \"../configs/unet_cldice.yaml\"\n",
    "\n",
    "\n",
    "main_result(config_file, dataset=fives_dataset, bs=4, weight_path=weight_path)"
   ]
  },
  {
   "cell_type": "code",
   "execution_count": null,
   "metadata": {},
   "outputs": [],
   "source": []
  }
 ],
 "metadata": {
  "kernelspec": {
   "display_name": "Python 3",
   "language": "python",
   "name": "python3"
  },
  "language_info": {
   "codemirror_mode": {
    "name": "ipython",
    "version": 3
   },
   "file_extension": ".py",
   "mimetype": "text/x-python",
   "name": "python",
   "nbconvert_exporter": "python",
   "pygments_lexer": "ipython3",
   "version": "3.10.4"
  },
  "orig_nbformat": 4
 },
 "nbformat": 4,
 "nbformat_minor": 2
}
