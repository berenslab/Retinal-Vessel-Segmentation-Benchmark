{
 "cells": [
  {
   "attachments": {},
   "cell_type": "markdown",
   "metadata": {},
   "source": [
    "## Evaluation of Cross Dataset Performance"
   ]
  },
  {
   "cell_type": "code",
   "execution_count": 1,
   "metadata": {},
   "outputs": [],
   "source": [
    "import os\n",
    "import torch\n",
    "import cv2\n",
    "from bunch import Bunch\n",
    "from ruamel.yaml import safe_load\n",
    "from torch.utils.data import DataLoader\n",
    "from torch.utils.data import Dataset\n",
    "from PIL import Image\n",
    "\n",
    "import torch.backends.cudnn as cudnn\n",
    "from glob import glob\n",
    "from tqdm import tqdm\n",
    "import numpy as np\n",
    "import matplotlib.pyplot as plt\n",
    "from sklearn.metrics import roc_curve, auc\n",
    "\n",
    "\n",
    "from tester import Tester\n",
    "from utils import losses\n",
    "from utils.helpers import get_instance\n",
    "\n",
    "from datasets.utils import clahe_equalized\n",
    "from datasets.transform import pipeline_tranforms\n",
    "import networks as models\n"
   ]
  },
  {
   "cell_type": "code",
   "execution_count": 2,
   "metadata": {},
   "outputs": [
    {
     "data": {
      "text/plain": [
       "device(type='cuda')"
      ]
     },
     "execution_count": 2,
     "metadata": {},
     "output_type": "execute_result"
    }
   ],
   "source": [
    "device = torch.device('cuda' if torch.cuda.is_available() else 'cpu')\n",
    "device"
   ]
  },
  {
   "cell_type": "markdown",
   "metadata": {},
   "source": [
    "## Dataset Class"
   ]
  },
  {
   "cell_type": "code",
   "execution_count": 3,
   "metadata": {},
   "outputs": [
    {
     "data": {
      "text/plain": [
       "8"
      ]
     },
     "execution_count": 3,
     "metadata": {},
     "output_type": "execute_result"
    }
   ],
   "source": [
    "class CHASEDBDataset(Dataset):\n",
    "\n",
    "    def __init__(self, data_path):\n",
    "        self.images_path = sorted(glob(data_path + \"/test_data/*\"))\n",
    "        self.masks_path = sorted(glob(data_path + \"/test_label/*\"))\n",
    "\n",
    "        self.transforms = None\n",
    "        self.size = 512\n",
    "        self.n_samples = len(self.images_path)\n",
    "\n",
    "    def __getitem__(self, index):\n",
    "        \"\"\" Reading image \"\"\"\n",
    "        image = cv2.imread(self.images_path[index], cv2.IMREAD_COLOR)\n",
    "        image = clahe_equalized(image)\n",
    "        image = cv2.resize(image, (self.size, self.size), interpolation=cv2.INTER_NEAREST)\n",
    "\n",
    "        image = image / 255.0  # (512, 512, 3) Normalizing to range (0,1)\n",
    "        image = np.transpose(image, (2, 0, 1))  # (3, 512, 512)\n",
    "        image = image.astype(np.float32)\n",
    "        image = torch.from_numpy(image)\n",
    "\n",
    "        \"\"\" Reading mask \"\"\"\n",
    "        try:\n",
    "            mask = cv2.imread(self.masks_path[index], cv2.IMREAD_GRAYSCALE)\n",
    "            # print(self.masks_path[index])\n",
    "            mask = cv2.resize(mask, (self.size, self.size), interpolation=cv2.INTER_NEAREST)\n",
    "        except Exception as e:\n",
    "            print(str(e))\n",
    "            print(self.masks_path[index])\n",
    "        \n",
    "        mask = mask / 255.0  # (512, 512)\n",
    "        mask = np.expand_dims(mask, axis=0)  # (1, 512, 512)\n",
    "        mask = mask.astype(np.float32)\n",
    "        mask = torch.from_numpy(mask)\n",
    "\n",
    "        return image, mask\n",
    "\n",
    "    def __len__(self):\n",
    "        return self.n_samples\n",
    "    \n",
    "\n",
    "chase_path = '/mnt/qb/berens/users/jfadugba97/RetinaSegmentation/datasets/CHASE_DB1'\n",
    "chase_dataset = CHASEDBDataset(chase_path)\n",
    "\n",
    "chase_dataset.__len__()"
   ]
  },
  {
   "cell_type": "code",
   "execution_count": 4,
   "metadata": {},
   "outputs": [
    {
     "data": {
      "text/plain": [
       "20"
      ]
     },
     "execution_count": 4,
     "metadata": {},
     "output_type": "execute_result"
    }
   ],
   "source": [
    "class DRIVEDataset(Dataset):\n",
    "\n",
    "    def __init__(self, data_path):\n",
    "        super().__init__()\n",
    "        \n",
    "        self.images_path = sorted(glob(data_path + \"/test_data/*\"))\n",
    "        self.masks_path = sorted(glob(data_path + \"/test_label/*\"))\n",
    "        self.n_samples = len(self.images_path)\n",
    "\n",
    "    def __getitem__(self, index):\n",
    "\n",
    "        data = Image.open(self.images_path[index]).resize((512,512), resample=Image.Resampling.NEAREST)\n",
    "        label = Image.open(self.masks_path[index]).resize((512,512), resample=Image.Resampling.NEAREST)\n",
    "\n",
    "        data = np.array(data)\n",
    "        label = np.array(label)\n",
    "\n",
    "        if data.shape[-1]==3:\n",
    "            data = torch.from_numpy(np.array(data).transpose(2, 0, 1)).float() / 255\n",
    "            label = torch.from_numpy(np.array(label)).float().unsqueeze(0) / 255\n",
    "        else:\n",
    "            data = torch.from_numpy(data).unsqueeze(0).float() / 255\n",
    "            label = torch.from_numpy(label).float().unsqueeze(0) / 255\n",
    "\n",
    "        return data, label\n",
    "    \n",
    "    def __len__(self):\n",
    "        return self.n_samples\n",
    "\n",
    "drive_path = '/mnt/qb/berens/users/jfadugba97/RetinaSegmentation/datasets/DRIVE'\n",
    "drive_dataset = DRIVEDataset(drive_path)\n",
    "\n",
    "drive_dataset.__len__()"
   ]
  },
  {
   "cell_type": "code",
   "execution_count": 5,
   "metadata": {},
   "outputs": [
    {
     "data": {
      "text/plain": [
       "200"
      ]
     },
     "execution_count": 5,
     "metadata": {},
     "output_type": "execute_result"
    }
   ],
   "source": [
    "class FIVES(Dataset):\n",
    "\n",
    "    def __init__(self, data_path):\n",
    "        super(FIVES, self).__init__()\n",
    "        self.transforms = pipeline_tranforms()\n",
    "        \n",
    "        self.images_path = sorted(glob(data_path + \"/test/Original/*\"))\n",
    "        self.masks_path  = sorted(glob(data_path + \"/test/Ground truth/*\"))\n",
    "\n",
    "        self.n_samples = len(self.images_path)\n",
    "    \n",
    "    def __getitem__(self, index):\n",
    "        \"\"\" Reading image \"\"\"\n",
    "        image = cv2.imread(self.images_path[index], cv2.IMREAD_COLOR)\n",
    "        image = clahe_equalized(image)\n",
    "        image = cv2.resize(image, (512, 512), interpolation=cv2.INTER_NEAREST)\n",
    "\n",
    "        image = image / 255.0  # type: ignore # (512, 512, 3) Normalizing to range (0,1)\n",
    "        image = np.transpose(image, (2, 0, 1))  # (3, 512, 512)\n",
    "        image = image.astype(np.float32)\n",
    "        image = torch.from_numpy(image)\n",
    "\n",
    "        \"\"\" Reading mask \"\"\"\n",
    "        mask = cv2.imread(self.masks_path[index], cv2.IMREAD_GRAYSCALE)\n",
    "        mask = cv2.resize(mask,  (512, 512), interpolation=cv2.INTER_NEAREST)\n",
    "        mask = mask / 255.0  # type: ignore # (512, 512)\n",
    "        mask = np.expand_dims(mask, axis=0)  # (1, 512, 512)\n",
    "        mask = mask.astype(np.float32)\n",
    "        mask = torch.from_numpy(mask)\n",
    "        \n",
    "        return image, mask\n",
    "\n",
    "    def __len__(self):\n",
    "        return self.n_samples\n",
    "fives_path = '/mnt/qb/berens/users/jfadugba97/RetinaSegmentation/datasets/FIVES'\n",
    "\n",
    "fives_dataset = FIVES(fives_path)\n",
    "fives_dataset.__len__()"
   ]
  },
  {
   "cell_type": "code",
   "execution_count": 7,
   "metadata": {},
   "outputs": [],
   "source": [
    "def main_result(config_file, dataset, bs, weight_path):\n",
    "\n",
    "    with open(config_file, encoding=\"utf-8\") as file:\n",
    "        CFG = Bunch(safe_load(file))\n",
    "        \n",
    "    checkpoint = torch.load(weight_path)\n",
    "    CFG_ck = checkpoint['config']\n",
    "\n",
    "    test_loader = DataLoader(dataset, bs ,shuffle=False,  \n",
    "                            num_workers=CFG.num_workers, pin_memory=True)\n",
    "    \n",
    "    model = get_instance(models, 'model', CFG)\n",
    "    loss = get_instance(losses, 'loss', CFG_ck)\n",
    "\n",
    "    test = Tester(model, loss, CFG, checkpoint, test_loader, device)\n",
    "    test.test()"
   ]
  },
  {
   "cell_type": "markdown",
   "metadata": {},
   "source": [
    "## WNET "
   ]
  },
  {
   "cell_type": "code",
   "execution_count": 7,
   "metadata": {},
   "outputs": [
    {
     "name": "stderr",
     "output_type": "stream",
     "text": [
      "TEST (49) | Loss: 0.2648 | AUC 0.9865 F1 0.8565 Acc 0.9806  Sen 0.8310 Spe 0.9915 Pre 0.8869 IOU 0.7508 MCC 0.8474 |B 0.24 D 0.08 |: 100%|██████████| 50/50 [00:43<00:00,  1.16it/s]\n",
      "\u001b[32m2023-11-17 03:13:40.741\u001b[0m | \u001b[1mINFO    \u001b[0m | \u001b[36mtester\u001b[0m:\u001b[36mtest\u001b[0m:\u001b[36m78\u001b[0m - \u001b[1m###### TEST EVALUATION ######\u001b[0m\n",
      "\u001b[32m2023-11-17 03:13:40.742\u001b[0m | \u001b[1mINFO    \u001b[0m | \u001b[36mtester\u001b[0m:\u001b[36mtest\u001b[0m:\u001b[36m79\u001b[0m - \u001b[1mtest time:  0.2431\u001b[0m\n",
      "\u001b[32m2023-11-17 03:13:40.742\u001b[0m | \u001b[1mINFO    \u001b[0m | \u001b[36mtester\u001b[0m:\u001b[36mtest\u001b[0m:\u001b[36m80\u001b[0m - \u001b[1m     loss:  0.2648\u001b[0m\n",
      "\u001b[32m2023-11-17 03:13:40.743\u001b[0m | \u001b[1mINFO    \u001b[0m | \u001b[36mtester\u001b[0m:\u001b[36mtest\u001b[0m:\u001b[36m84\u001b[0m - \u001b[1mAUC  : 0.9865\u001b[0m\n",
      "\u001b[32m2023-11-17 03:13:40.744\u001b[0m | \u001b[1mINFO    \u001b[0m | \u001b[36mtester\u001b[0m:\u001b[36mtest\u001b[0m:\u001b[36m84\u001b[0m - \u001b[1mF1   : 0.8565\u001b[0m\n",
      "\u001b[32m2023-11-17 03:13:40.744\u001b[0m | \u001b[1mINFO    \u001b[0m | \u001b[36mtester\u001b[0m:\u001b[36mtest\u001b[0m:\u001b[36m84\u001b[0m - \u001b[1mAcc  : 0.9806\u001b[0m\n",
      "\u001b[32m2023-11-17 03:13:40.744\u001b[0m | \u001b[1mINFO    \u001b[0m | \u001b[36mtester\u001b[0m:\u001b[36mtest\u001b[0m:\u001b[36m84\u001b[0m - \u001b[1mSen  : 0.831\u001b[0m\n",
      "\u001b[32m2023-11-17 03:13:40.745\u001b[0m | \u001b[1mINFO    \u001b[0m | \u001b[36mtester\u001b[0m:\u001b[36mtest\u001b[0m:\u001b[36m84\u001b[0m - \u001b[1mSpe  : 0.9915\u001b[0m\n",
      "\u001b[32m2023-11-17 03:13:40.745\u001b[0m | \u001b[1mINFO    \u001b[0m | \u001b[36mtester\u001b[0m:\u001b[36mtest\u001b[0m:\u001b[36m84\u001b[0m - \u001b[1mpre  : 0.8869\u001b[0m\n",
      "\u001b[32m2023-11-17 03:13:40.746\u001b[0m | \u001b[1mINFO    \u001b[0m | \u001b[36mtester\u001b[0m:\u001b[36mtest\u001b[0m:\u001b[36m84\u001b[0m - \u001b[1mIOU  : 0.7508\u001b[0m\n",
      "\u001b[32m2023-11-17 03:13:40.746\u001b[0m | \u001b[1mINFO    \u001b[0m | \u001b[36mtester\u001b[0m:\u001b[36mtest\u001b[0m:\u001b[36m84\u001b[0m - \u001b[1mMCC  : 0.8474\u001b[0m\n",
      "TEST (3) | Loss: 0.5900 | AUC 0.9723 F1 0.7221 Acc 0.9619  Sen 0.7903 Spe 0.9734 Pre 0.6686 IOU 0.5652 MCC 0.7060 |B 0.33 D 0.29 |: 100%|██████████| 4/4 [00:02<00:00,  1.65it/s]\n",
      "\u001b[32m2023-11-17 03:13:43.281\u001b[0m | \u001b[1mINFO    \u001b[0m | \u001b[36mtester\u001b[0m:\u001b[36mtest\u001b[0m:\u001b[36m78\u001b[0m - \u001b[1m###### TEST EVALUATION ######\u001b[0m\n",
      "\u001b[32m2023-11-17 03:13:43.282\u001b[0m | \u001b[1mINFO    \u001b[0m | \u001b[36mtester\u001b[0m:\u001b[36mtest\u001b[0m:\u001b[36m79\u001b[0m - \u001b[1mtest time:  0.3322\u001b[0m\n",
      "\u001b[32m2023-11-17 03:13:43.282\u001b[0m | \u001b[1mINFO    \u001b[0m | \u001b[36mtester\u001b[0m:\u001b[36mtest\u001b[0m:\u001b[36m80\u001b[0m - \u001b[1m     loss:  0.59\u001b[0m\n",
      "\u001b[32m2023-11-17 03:13:43.283\u001b[0m | \u001b[1mINFO    \u001b[0m | \u001b[36mtester\u001b[0m:\u001b[36mtest\u001b[0m:\u001b[36m84\u001b[0m - \u001b[1mAUC  : 0.9723\u001b[0m\n",
      "\u001b[32m2023-11-17 03:13:43.283\u001b[0m | \u001b[1mINFO    \u001b[0m | \u001b[36mtester\u001b[0m:\u001b[36mtest\u001b[0m:\u001b[36m84\u001b[0m - \u001b[1mF1   : 0.7221\u001b[0m\n",
      "\u001b[32m2023-11-17 03:13:43.284\u001b[0m | \u001b[1mINFO    \u001b[0m | \u001b[36mtester\u001b[0m:\u001b[36mtest\u001b[0m:\u001b[36m84\u001b[0m - \u001b[1mAcc  : 0.9619\u001b[0m\n",
      "\u001b[32m2023-11-17 03:13:43.286\u001b[0m | \u001b[1mINFO    \u001b[0m | \u001b[36mtester\u001b[0m:\u001b[36mtest\u001b[0m:\u001b[36m84\u001b[0m - \u001b[1mSen  : 0.7903\u001b[0m\n",
      "\u001b[32m2023-11-17 03:13:43.286\u001b[0m | \u001b[1mINFO    \u001b[0m | \u001b[36mtester\u001b[0m:\u001b[36mtest\u001b[0m:\u001b[36m84\u001b[0m - \u001b[1mSpe  : 0.9734\u001b[0m\n",
      "\u001b[32m2023-11-17 03:13:43.287\u001b[0m | \u001b[1mINFO    \u001b[0m | \u001b[36mtester\u001b[0m:\u001b[36mtest\u001b[0m:\u001b[36m84\u001b[0m - \u001b[1mpre  : 0.6686\u001b[0m\n",
      "\u001b[32m2023-11-17 03:13:43.288\u001b[0m | \u001b[1mINFO    \u001b[0m | \u001b[36mtester\u001b[0m:\u001b[36mtest\u001b[0m:\u001b[36m84\u001b[0m - \u001b[1mIOU  : 0.5652\u001b[0m\n",
      "\u001b[32m2023-11-17 03:13:43.288\u001b[0m | \u001b[1mINFO    \u001b[0m | \u001b[36mtester\u001b[0m:\u001b[36mtest\u001b[0m:\u001b[36m84\u001b[0m - \u001b[1mMCC  : 0.706\u001b[0m\n",
      "TEST (4) | Loss: 0.4826 | AUC 0.9510 F1 0.7414 Acc 0.9588  Sen 0.6757 Spe 0.9861 Pre 0.8240 IOU 0.5896 MCC 0.7241 |B 0.63 D 0.60 |: 100%|██████████| 5/5 [00:06<00:00,  1.25s/it]\n",
      "\u001b[32m2023-11-17 03:13:49.636\u001b[0m | \u001b[1mINFO    \u001b[0m | \u001b[36mtester\u001b[0m:\u001b[36mtest\u001b[0m:\u001b[36m78\u001b[0m - \u001b[1m###### TEST EVALUATION ######\u001b[0m\n",
      "\u001b[32m2023-11-17 03:13:49.637\u001b[0m | \u001b[1mINFO    \u001b[0m | \u001b[36mtester\u001b[0m:\u001b[36mtest\u001b[0m:\u001b[36m79\u001b[0m - \u001b[1mtest time:  0.6307\u001b[0m\n",
      "\u001b[32m2023-11-17 03:13:49.637\u001b[0m | \u001b[1mINFO    \u001b[0m | \u001b[36mtester\u001b[0m:\u001b[36mtest\u001b[0m:\u001b[36m80\u001b[0m - \u001b[1m     loss:  0.4826\u001b[0m\n",
      "\u001b[32m2023-11-17 03:13:49.638\u001b[0m | \u001b[1mINFO    \u001b[0m | \u001b[36mtester\u001b[0m:\u001b[36mtest\u001b[0m:\u001b[36m84\u001b[0m - \u001b[1mAUC  : 0.951\u001b[0m\n",
      "\u001b[32m2023-11-17 03:13:49.639\u001b[0m | \u001b[1mINFO    \u001b[0m | \u001b[36mtester\u001b[0m:\u001b[36mtest\u001b[0m:\u001b[36m84\u001b[0m - \u001b[1mF1   : 0.7414\u001b[0m\n",
      "\u001b[32m2023-11-17 03:13:49.639\u001b[0m | \u001b[1mINFO    \u001b[0m | \u001b[36mtester\u001b[0m:\u001b[36mtest\u001b[0m:\u001b[36m84\u001b[0m - \u001b[1mAcc  : 0.9588\u001b[0m\n",
      "\u001b[32m2023-11-17 03:13:49.639\u001b[0m | \u001b[1mINFO    \u001b[0m | \u001b[36mtester\u001b[0m:\u001b[36mtest\u001b[0m:\u001b[36m84\u001b[0m - \u001b[1mSen  : 0.6757\u001b[0m\n",
      "\u001b[32m2023-11-17 03:13:49.640\u001b[0m | \u001b[1mINFO    \u001b[0m | \u001b[36mtester\u001b[0m:\u001b[36mtest\u001b[0m:\u001b[36m84\u001b[0m - \u001b[1mSpe  : 0.9861\u001b[0m\n",
      "\u001b[32m2023-11-17 03:13:49.641\u001b[0m | \u001b[1mINFO    \u001b[0m | \u001b[36mtester\u001b[0m:\u001b[36mtest\u001b[0m:\u001b[36m84\u001b[0m - \u001b[1mpre  : 0.824\u001b[0m\n",
      "\u001b[32m2023-11-17 03:13:49.641\u001b[0m | \u001b[1mINFO    \u001b[0m | \u001b[36mtester\u001b[0m:\u001b[36mtest\u001b[0m:\u001b[36m84\u001b[0m - \u001b[1mIOU  : 0.5896\u001b[0m\n",
      "\u001b[32m2023-11-17 03:13:49.642\u001b[0m | \u001b[1mINFO    \u001b[0m | \u001b[36mtester\u001b[0m:\u001b[36mtest\u001b[0m:\u001b[36m84\u001b[0m - \u001b[1mMCC  : 0.7241\u001b[0m\n"
     ]
    }
   ],
   "source": [
    "# FIVES on FIVES \n",
    "weight_path = '/mnt/qb/berens/users/jfadugba97/RetinaSegmentation/model_results/WNet/FIVES/CE_DiceLoss/checkpoint-epoch100.pth'\n",
    "config_file = '../configs/lwnet_cldice.yaml'\n",
    "\n",
    "main_result(config_file, dataset=fives_dataset, bs=4, weight_path=weight_path)\n",
    "\n",
    "# Fives on Chase\n",
    "\n",
    "main_result(config_file, dataset=chase_dataset, bs=2, weight_path=weight_path)\n",
    "# Fives on Drive\n",
    "\n",
    "main_result(config_file, dataset=drive_dataset, bs=4, weight_path=weight_path)"
   ]
  },
  {
   "cell_type": "code",
   "execution_count": 8,
   "metadata": {},
   "outputs": [
    {
     "name": "stderr",
     "output_type": "stream",
     "text": [
      "  0%|          | 0/4 [00:00<?, ?it/s]"
     ]
    },
    {
     "name": "stderr",
     "output_type": "stream",
     "text": [
      "TEST (3) | Loss: 0.6387 | AUC 0.9630 F1 0.7499 Acc 0.9672  Sen 0.7797 Spe 0.9798 Pre 0.7243 IOU 0.6004 MCC 0.7336 |B 0.19 D 0.17 |: 100%|██████████| 4/4 [00:01<00:00,  2.05it/s]\n",
      "\u001b[32m2023-11-17 03:13:51.795\u001b[0m | \u001b[1mINFO    \u001b[0m | \u001b[36mtester\u001b[0m:\u001b[36mtest\u001b[0m:\u001b[36m78\u001b[0m - \u001b[1m###### TEST EVALUATION ######\u001b[0m\n",
      "\u001b[32m2023-11-17 03:13:51.796\u001b[0m | \u001b[1mINFO    \u001b[0m | \u001b[36mtester\u001b[0m:\u001b[36mtest\u001b[0m:\u001b[36m79\u001b[0m - \u001b[1mtest time:  0.1901\u001b[0m\n",
      "\u001b[32m2023-11-17 03:13:51.797\u001b[0m | \u001b[1mINFO    \u001b[0m | \u001b[36mtester\u001b[0m:\u001b[36mtest\u001b[0m:\u001b[36m80\u001b[0m - \u001b[1m     loss:  0.6387\u001b[0m\n",
      "\u001b[32m2023-11-17 03:13:51.797\u001b[0m | \u001b[1mINFO    \u001b[0m | \u001b[36mtester\u001b[0m:\u001b[36mtest\u001b[0m:\u001b[36m84\u001b[0m - \u001b[1mAUC  : 0.963\u001b[0m\n",
      "\u001b[32m2023-11-17 03:13:51.798\u001b[0m | \u001b[1mINFO    \u001b[0m | \u001b[36mtester\u001b[0m:\u001b[36mtest\u001b[0m:\u001b[36m84\u001b[0m - \u001b[1mF1   : 0.7499\u001b[0m\n",
      "\u001b[32m2023-11-17 03:13:51.798\u001b[0m | \u001b[1mINFO    \u001b[0m | \u001b[36mtester\u001b[0m:\u001b[36mtest\u001b[0m:\u001b[36m84\u001b[0m - \u001b[1mAcc  : 0.9672\u001b[0m\n",
      "\u001b[32m2023-11-17 03:13:51.799\u001b[0m | \u001b[1mINFO    \u001b[0m | \u001b[36mtester\u001b[0m:\u001b[36mtest\u001b[0m:\u001b[36m84\u001b[0m - \u001b[1mSen  : 0.7797\u001b[0m\n",
      "\u001b[32m2023-11-17 03:13:51.800\u001b[0m | \u001b[1mINFO    \u001b[0m | \u001b[36mtester\u001b[0m:\u001b[36mtest\u001b[0m:\u001b[36m84\u001b[0m - \u001b[1mSpe  : 0.9798\u001b[0m\n",
      "\u001b[32m2023-11-17 03:13:51.800\u001b[0m | \u001b[1mINFO    \u001b[0m | \u001b[36mtester\u001b[0m:\u001b[36mtest\u001b[0m:\u001b[36m84\u001b[0m - \u001b[1mpre  : 0.7243\u001b[0m\n",
      "\u001b[32m2023-11-17 03:13:51.801\u001b[0m | \u001b[1mINFO    \u001b[0m | \u001b[36mtester\u001b[0m:\u001b[36mtest\u001b[0m:\u001b[36m84\u001b[0m - \u001b[1mIOU  : 0.6004\u001b[0m\n",
      "\u001b[32m2023-11-17 03:13:51.801\u001b[0m | \u001b[1mINFO    \u001b[0m | \u001b[36mtester\u001b[0m:\u001b[36mtest\u001b[0m:\u001b[36m84\u001b[0m - \u001b[1mMCC  : 0.7336\u001b[0m\n",
      "TEST (49) | Loss: 0.6686 | AUC 0.9279 F1 0.7033 Acc 0.9621  Sen 0.6455 Spe 0.9857 Pre 0.7806 IOU 0.5453 MCC 0.6886 |B 0.08 D 0.05 |: 100%|██████████| 50/50 [00:36<00:00,  1.38it/s]\n",
      "\u001b[32m2023-11-17 03:14:28.134\u001b[0m | \u001b[1mINFO    \u001b[0m | \u001b[36mtester\u001b[0m:\u001b[36mtest\u001b[0m:\u001b[36m78\u001b[0m - \u001b[1m###### TEST EVALUATION ######\u001b[0m\n",
      "\u001b[32m2023-11-17 03:14:28.134\u001b[0m | \u001b[1mINFO    \u001b[0m | \u001b[36mtester\u001b[0m:\u001b[36mtest\u001b[0m:\u001b[36m79\u001b[0m - \u001b[1mtest time:  0.0795\u001b[0m\n",
      "\u001b[32m2023-11-17 03:14:28.135\u001b[0m | \u001b[1mINFO    \u001b[0m | \u001b[36mtester\u001b[0m:\u001b[36mtest\u001b[0m:\u001b[36m80\u001b[0m - \u001b[1m     loss:  0.6686\u001b[0m\n",
      "\u001b[32m2023-11-17 03:14:28.136\u001b[0m | \u001b[1mINFO    \u001b[0m | \u001b[36mtester\u001b[0m:\u001b[36mtest\u001b[0m:\u001b[36m84\u001b[0m - \u001b[1mAUC  : 0.9279\u001b[0m\n",
      "\u001b[32m2023-11-17 03:14:28.136\u001b[0m | \u001b[1mINFO    \u001b[0m | \u001b[36mtester\u001b[0m:\u001b[36mtest\u001b[0m:\u001b[36m84\u001b[0m - \u001b[1mF1   : 0.7033\u001b[0m\n",
      "\u001b[32m2023-11-17 03:14:28.137\u001b[0m | \u001b[1mINFO    \u001b[0m | \u001b[36mtester\u001b[0m:\u001b[36mtest\u001b[0m:\u001b[36m84\u001b[0m - \u001b[1mAcc  : 0.9621\u001b[0m\n",
      "\u001b[32m2023-11-17 03:14:28.137\u001b[0m | \u001b[1mINFO    \u001b[0m | \u001b[36mtester\u001b[0m:\u001b[36mtest\u001b[0m:\u001b[36m84\u001b[0m - \u001b[1mSen  : 0.6455\u001b[0m\n",
      "\u001b[32m2023-11-17 03:14:28.138\u001b[0m | \u001b[1mINFO    \u001b[0m | \u001b[36mtester\u001b[0m:\u001b[36mtest\u001b[0m:\u001b[36m84\u001b[0m - \u001b[1mSpe  : 0.9857\u001b[0m\n",
      "\u001b[32m2023-11-17 03:14:28.139\u001b[0m | \u001b[1mINFO    \u001b[0m | \u001b[36mtester\u001b[0m:\u001b[36mtest\u001b[0m:\u001b[36m84\u001b[0m - \u001b[1mpre  : 0.7806\u001b[0m\n",
      "\u001b[32m2023-11-17 03:14:28.139\u001b[0m | \u001b[1mINFO    \u001b[0m | \u001b[36mtester\u001b[0m:\u001b[36mtest\u001b[0m:\u001b[36m84\u001b[0m - \u001b[1mIOU  : 0.5453\u001b[0m\n",
      "\u001b[32m2023-11-17 03:14:28.140\u001b[0m | \u001b[1mINFO    \u001b[0m | \u001b[36mtester\u001b[0m:\u001b[36mtest\u001b[0m:\u001b[36m84\u001b[0m - \u001b[1mMCC  : 0.6886\u001b[0m\n",
      "TEST (4) | Loss: 0.7812 | AUC 0.8393 F1 0.5588 Acc 0.9414  Sen 0.4253 Spe 0.9908 Pre 0.8153 IOU 0.3883 MCC 0.5633 |B 0.62 D 0.60 |: 100%|██████████| 5/5 [00:06<00:00,  1.24s/it]\n",
      "\u001b[32m2023-11-17 03:14:34.433\u001b[0m | \u001b[1mINFO    \u001b[0m | \u001b[36mtester\u001b[0m:\u001b[36mtest\u001b[0m:\u001b[36m78\u001b[0m - \u001b[1m###### TEST EVALUATION ######\u001b[0m\n",
      "\u001b[32m2023-11-17 03:14:34.434\u001b[0m | \u001b[1mINFO    \u001b[0m | \u001b[36mtester\u001b[0m:\u001b[36mtest\u001b[0m:\u001b[36m79\u001b[0m - \u001b[1mtest time:  0.6233\u001b[0m\n",
      "\u001b[32m2023-11-17 03:14:34.435\u001b[0m | \u001b[1mINFO    \u001b[0m | \u001b[36mtester\u001b[0m:\u001b[36mtest\u001b[0m:\u001b[36m80\u001b[0m - \u001b[1m     loss:  0.7812\u001b[0m\n",
      "\u001b[32m2023-11-17 03:14:34.435\u001b[0m | \u001b[1mINFO    \u001b[0m | \u001b[36mtester\u001b[0m:\u001b[36mtest\u001b[0m:\u001b[36m84\u001b[0m - \u001b[1mAUC  : 0.8393\u001b[0m\n",
      "\u001b[32m2023-11-17 03:14:34.436\u001b[0m | \u001b[1mINFO    \u001b[0m | \u001b[36mtester\u001b[0m:\u001b[36mtest\u001b[0m:\u001b[36m84\u001b[0m - \u001b[1mF1   : 0.5588\u001b[0m\n",
      "\u001b[32m2023-11-17 03:14:34.436\u001b[0m | \u001b[1mINFO    \u001b[0m | \u001b[36mtester\u001b[0m:\u001b[36mtest\u001b[0m:\u001b[36m84\u001b[0m - \u001b[1mAcc  : 0.9414\u001b[0m\n",
      "\u001b[32m2023-11-17 03:14:34.437\u001b[0m | \u001b[1mINFO    \u001b[0m | \u001b[36mtester\u001b[0m:\u001b[36mtest\u001b[0m:\u001b[36m84\u001b[0m - \u001b[1mSen  : 0.4253\u001b[0m\n",
      "\u001b[32m2023-11-17 03:14:34.437\u001b[0m | \u001b[1mINFO    \u001b[0m | \u001b[36mtester\u001b[0m:\u001b[36mtest\u001b[0m:\u001b[36m84\u001b[0m - \u001b[1mSpe  : 0.9908\u001b[0m\n",
      "\u001b[32m2023-11-17 03:14:34.438\u001b[0m | \u001b[1mINFO    \u001b[0m | \u001b[36mtester\u001b[0m:\u001b[36mtest\u001b[0m:\u001b[36m84\u001b[0m - \u001b[1mpre  : 0.8153\u001b[0m\n",
      "\u001b[32m2023-11-17 03:14:34.438\u001b[0m | \u001b[1mINFO    \u001b[0m | \u001b[36mtester\u001b[0m:\u001b[36mtest\u001b[0m:\u001b[36m84\u001b[0m - \u001b[1mIOU  : 0.3883\u001b[0m\n",
      "\u001b[32m2023-11-17 03:14:34.439\u001b[0m | \u001b[1mINFO    \u001b[0m | \u001b[36mtester\u001b[0m:\u001b[36mtest\u001b[0m:\u001b[36m84\u001b[0m - \u001b[1mMCC  : 0.5633\u001b[0m\n"
     ]
    }
   ],
   "source": [
    "# CHASEDB on CHASEDB\n",
    "weight_path = '/mnt/qb/berens/users/jfadugba97/RetinaSegmentation/model_results/WNet/CHASE/CE_DiceLoss/checkpoint-epoch80.pth'\n",
    "config_file = \"../configs/lwnet_dicebce.yaml\"\n",
    "\n",
    "\n",
    "main_result(config_file, dataset=chase_dataset, bs=2, weight_path=weight_path)\n",
    "\n",
    "# Chase on FIVES\n",
    "main_result(config_file, dataset=fives_dataset, bs=4, weight_path=weight_path)\n",
    "\n",
    "# Chase on DRIVE\n",
    "main_result(config_file, dataset=drive_dataset, bs=4, weight_path=weight_path)"
   ]
  },
  {
   "cell_type": "code",
   "execution_count": 9,
   "metadata": {},
   "outputs": [
    {
     "name": "stderr",
     "output_type": "stream",
     "text": [
      "  0%|          | 0/5 [00:00<?, ?it/s]"
     ]
    },
    {
     "name": "stderr",
     "output_type": "stream",
     "text": [
      "TEST (4) | Loss: 0.5552 | AUC 0.9653 F1 0.7798 Acc 0.9622  Sen 0.7662 Spe 0.9811 Pre 0.7961 IOU 0.6391 MCC 0.7599 |B 1.83 D 1.81 |: 100%|██████████| 5/5 [00:12<00:00,  2.45s/it]\n",
      "\u001b[32m2023-11-17 03:14:46.846\u001b[0m | \u001b[1mINFO    \u001b[0m | \u001b[36mtester\u001b[0m:\u001b[36mtest\u001b[0m:\u001b[36m78\u001b[0m - \u001b[1m###### TEST EVALUATION ######\u001b[0m\n",
      "\u001b[32m2023-11-17 03:14:46.846\u001b[0m | \u001b[1mINFO    \u001b[0m | \u001b[36mtester\u001b[0m:\u001b[36mtest\u001b[0m:\u001b[36m79\u001b[0m - \u001b[1mtest time:  1.8338\u001b[0m\n",
      "\u001b[32m2023-11-17 03:14:46.847\u001b[0m | \u001b[1mINFO    \u001b[0m | \u001b[36mtester\u001b[0m:\u001b[36mtest\u001b[0m:\u001b[36m80\u001b[0m - \u001b[1m     loss:  0.5552\u001b[0m\n",
      "\u001b[32m2023-11-17 03:14:46.847\u001b[0m | \u001b[1mINFO    \u001b[0m | \u001b[36mtester\u001b[0m:\u001b[36mtest\u001b[0m:\u001b[36m84\u001b[0m - \u001b[1mAUC  : 0.9653\u001b[0m\n",
      "\u001b[32m2023-11-17 03:14:46.848\u001b[0m | \u001b[1mINFO    \u001b[0m | \u001b[36mtester\u001b[0m:\u001b[36mtest\u001b[0m:\u001b[36m84\u001b[0m - \u001b[1mF1   : 0.7798\u001b[0m\n",
      "\u001b[32m2023-11-17 03:14:46.848\u001b[0m | \u001b[1mINFO    \u001b[0m | \u001b[36mtester\u001b[0m:\u001b[36mtest\u001b[0m:\u001b[36m84\u001b[0m - \u001b[1mAcc  : 0.9622\u001b[0m\n",
      "\u001b[32m2023-11-17 03:14:46.849\u001b[0m | \u001b[1mINFO    \u001b[0m | \u001b[36mtester\u001b[0m:\u001b[36mtest\u001b[0m:\u001b[36m84\u001b[0m - \u001b[1mSen  : 0.7662\u001b[0m\n",
      "\u001b[32m2023-11-17 03:14:46.849\u001b[0m | \u001b[1mINFO    \u001b[0m | \u001b[36mtester\u001b[0m:\u001b[36mtest\u001b[0m:\u001b[36m84\u001b[0m - \u001b[1mSpe  : 0.9811\u001b[0m\n",
      "\u001b[32m2023-11-17 03:14:46.850\u001b[0m | \u001b[1mINFO    \u001b[0m | \u001b[36mtester\u001b[0m:\u001b[36mtest\u001b[0m:\u001b[36m84\u001b[0m - \u001b[1mpre  : 0.7961\u001b[0m\n",
      "\u001b[32m2023-11-17 03:14:46.850\u001b[0m | \u001b[1mINFO    \u001b[0m | \u001b[36mtester\u001b[0m:\u001b[36mtest\u001b[0m:\u001b[36m84\u001b[0m - \u001b[1mIOU  : 0.6391\u001b[0m\n",
      "\u001b[32m2023-11-17 03:14:46.851\u001b[0m | \u001b[1mINFO    \u001b[0m | \u001b[36mtester\u001b[0m:\u001b[36mtest\u001b[0m:\u001b[36m84\u001b[0m - \u001b[1mMCC  : 0.7599\u001b[0m\n",
      "TEST (3) | Loss: 0.9662 | AUC 0.9603 F1 0.6493 Acc 0.9428  Sen 0.8309 Spe 0.9504 Pre 0.5335 IOU 0.4814 MCC 0.6381 |B 0.21 D 0.19 |: 100%|██████████| 4/4 [00:01<00:00,  2.06it/s]\n",
      "\u001b[32m2023-11-17 03:14:48.903\u001b[0m | \u001b[1mINFO    \u001b[0m | \u001b[36mtester\u001b[0m:\u001b[36mtest\u001b[0m:\u001b[36m78\u001b[0m - \u001b[1m###### TEST EVALUATION ######\u001b[0m\n",
      "\u001b[32m2023-11-17 03:14:48.904\u001b[0m | \u001b[1mINFO    \u001b[0m | \u001b[36mtester\u001b[0m:\u001b[36mtest\u001b[0m:\u001b[36m79\u001b[0m - \u001b[1mtest time:  0.2062\u001b[0m\n",
      "\u001b[32m2023-11-17 03:14:48.904\u001b[0m | \u001b[1mINFO    \u001b[0m | \u001b[36mtester\u001b[0m:\u001b[36mtest\u001b[0m:\u001b[36m80\u001b[0m - \u001b[1m     loss:  0.9662\u001b[0m\n",
      "\u001b[32m2023-11-17 03:14:48.905\u001b[0m | \u001b[1mINFO    \u001b[0m | \u001b[36mtester\u001b[0m:\u001b[36mtest\u001b[0m:\u001b[36m84\u001b[0m - \u001b[1mAUC  : 0.9603\u001b[0m\n",
      "\u001b[32m2023-11-17 03:14:48.905\u001b[0m | \u001b[1mINFO    \u001b[0m | \u001b[36mtester\u001b[0m:\u001b[36mtest\u001b[0m:\u001b[36m84\u001b[0m - \u001b[1mF1   : 0.6493\u001b[0m\n",
      "\u001b[32m2023-11-17 03:14:48.906\u001b[0m | \u001b[1mINFO    \u001b[0m | \u001b[36mtester\u001b[0m:\u001b[36mtest\u001b[0m:\u001b[36m84\u001b[0m - \u001b[1mAcc  : 0.9428\u001b[0m\n",
      "\u001b[32m2023-11-17 03:14:48.906\u001b[0m | \u001b[1mINFO    \u001b[0m | \u001b[36mtester\u001b[0m:\u001b[36mtest\u001b[0m:\u001b[36m84\u001b[0m - \u001b[1mSen  : 0.8309\u001b[0m\n",
      "\u001b[32m2023-11-17 03:14:48.907\u001b[0m | \u001b[1mINFO    \u001b[0m | \u001b[36mtester\u001b[0m:\u001b[36mtest\u001b[0m:\u001b[36m84\u001b[0m - \u001b[1mSpe  : 0.9504\u001b[0m\n",
      "\u001b[32m2023-11-17 03:14:48.907\u001b[0m | \u001b[1mINFO    \u001b[0m | \u001b[36mtester\u001b[0m:\u001b[36mtest\u001b[0m:\u001b[36m84\u001b[0m - \u001b[1mpre  : 0.5335\u001b[0m\n",
      "\u001b[32m2023-11-17 03:14:48.908\u001b[0m | \u001b[1mINFO    \u001b[0m | \u001b[36mtester\u001b[0m:\u001b[36mtest\u001b[0m:\u001b[36m84\u001b[0m - \u001b[1mIOU  : 0.4814\u001b[0m\n",
      "\u001b[32m2023-11-17 03:14:48.908\u001b[0m | \u001b[1mINFO    \u001b[0m | \u001b[36mtester\u001b[0m:\u001b[36mtest\u001b[0m:\u001b[36m84\u001b[0m - \u001b[1mMCC  : 0.6381\u001b[0m\n",
      "TEST (49) | Loss: 1.1171 | AUC 0.9001 F1 0.5724 Acc 0.9136  Sen 0.7257 Spe 0.9266 Pre 0.4952 IOU 0.4103 MCC 0.5506 |B 0.07 D 0.05 |: 100%|██████████| 50/50 [00:36<00:00,  1.39it/s]\n",
      "\u001b[32m2023-11-17 03:15:25.046\u001b[0m | \u001b[1mINFO    \u001b[0m | \u001b[36mtester\u001b[0m:\u001b[36mtest\u001b[0m:\u001b[36m78\u001b[0m - \u001b[1m###### TEST EVALUATION ######\u001b[0m\n",
      "\u001b[32m2023-11-17 03:15:25.047\u001b[0m | \u001b[1mINFO    \u001b[0m | \u001b[36mtester\u001b[0m:\u001b[36mtest\u001b[0m:\u001b[36m79\u001b[0m - \u001b[1mtest time:  0.0724\u001b[0m\n",
      "\u001b[32m2023-11-17 03:15:25.047\u001b[0m | \u001b[1mINFO    \u001b[0m | \u001b[36mtester\u001b[0m:\u001b[36mtest\u001b[0m:\u001b[36m80\u001b[0m - \u001b[1m     loss:  1.1171\u001b[0m\n",
      "\u001b[32m2023-11-17 03:15:25.048\u001b[0m | \u001b[1mINFO    \u001b[0m | \u001b[36mtester\u001b[0m:\u001b[36mtest\u001b[0m:\u001b[36m84\u001b[0m - \u001b[1mAUC  : 0.9001\u001b[0m\n",
      "\u001b[32m2023-11-17 03:15:25.048\u001b[0m | \u001b[1mINFO    \u001b[0m | \u001b[36mtester\u001b[0m:\u001b[36mtest\u001b[0m:\u001b[36m84\u001b[0m - \u001b[1mF1   : 0.5724\u001b[0m\n",
      "\u001b[32m2023-11-17 03:15:25.049\u001b[0m | \u001b[1mINFO    \u001b[0m | \u001b[36mtester\u001b[0m:\u001b[36mtest\u001b[0m:\u001b[36m84\u001b[0m - \u001b[1mAcc  : 0.9136\u001b[0m\n",
      "\u001b[32m2023-11-17 03:15:25.049\u001b[0m | \u001b[1mINFO    \u001b[0m | \u001b[36mtester\u001b[0m:\u001b[36mtest\u001b[0m:\u001b[36m84\u001b[0m - \u001b[1mSen  : 0.7257\u001b[0m\n",
      "\u001b[32m2023-11-17 03:15:25.050\u001b[0m | \u001b[1mINFO    \u001b[0m | \u001b[36mtester\u001b[0m:\u001b[36mtest\u001b[0m:\u001b[36m84\u001b[0m - \u001b[1mSpe  : 0.9266\u001b[0m\n",
      "\u001b[32m2023-11-17 03:15:25.050\u001b[0m | \u001b[1mINFO    \u001b[0m | \u001b[36mtester\u001b[0m:\u001b[36mtest\u001b[0m:\u001b[36m84\u001b[0m - \u001b[1mpre  : 0.4952\u001b[0m\n",
      "\u001b[32m2023-11-17 03:15:25.051\u001b[0m | \u001b[1mINFO    \u001b[0m | \u001b[36mtester\u001b[0m:\u001b[36mtest\u001b[0m:\u001b[36m84\u001b[0m - \u001b[1mIOU  : 0.4103\u001b[0m\n",
      "\u001b[32m2023-11-17 03:15:25.051\u001b[0m | \u001b[1mINFO    \u001b[0m | \u001b[36mtester\u001b[0m:\u001b[36mtest\u001b[0m:\u001b[36m84\u001b[0m - \u001b[1mMCC  : 0.5506\u001b[0m\n"
     ]
    }
   ],
   "source": [
    "# DRIVE on DRIVE\n",
    "weight_path = '/mnt/qb/berens/users/jfadugba97/RetinaSegmentation/model_results/WNet/DRIVE/CE_DiceLoss/checkpoint-epoch80.pth'\n",
    "config_file = \"../configs/lwnet_dicebce.yaml\"\n",
    "\n",
    "\n",
    "main_result(config_file, dataset=drive_dataset, bs=4, weight_path=weight_path)\n",
    "\n",
    "# DRIVE on CHASE\n",
    "main_result(config_file, dataset=chase_dataset, bs=2, weight_path=weight_path)\n",
    "\n",
    "# DRIVE on FIVES\n",
    "main_result(config_file, dataset=fives_dataset, bs=4, weight_path=weight_path)\n",
    "\n"
   ]
  },
  {
   "cell_type": "markdown",
   "metadata": {},
   "source": [
    "## SA-UNet"
   ]
  },
  {
   "cell_type": "code",
   "execution_count": 11,
   "metadata": {},
   "outputs": [
    {
     "name": "stderr",
     "output_type": "stream",
     "text": [
      "TEST (1) | Loss: 0.1600 | AUC 0.9884 F1 0.7930 Acc 0.9708  Sen 0.8877 Spe 0.9764 Pre 0.7172 IOU 0.6569 MCC 0.7828 |B 0.48 D 0.39 |: 100%|██████████| 2/2 [00:02<00:00,  1.13s/it]\n",
      "\u001b[32m2023-10-15 21:20:57.489\u001b[0m | \u001b[1mINFO    \u001b[0m | \u001b[36mtester\u001b[0m:\u001b[36mtest\u001b[0m:\u001b[36m78\u001b[0m - \u001b[1m###### TEST EVALUATION ######\u001b[0m\n",
      "\u001b[32m2023-10-15 21:20:57.490\u001b[0m | \u001b[1mINFO    \u001b[0m | \u001b[36mtester\u001b[0m:\u001b[36mtest\u001b[0m:\u001b[36m79\u001b[0m - \u001b[1mtest time:  0.4827\u001b[0m\n",
      "\u001b[32m2023-10-15 21:20:57.491\u001b[0m | \u001b[1mINFO    \u001b[0m | \u001b[36mtester\u001b[0m:\u001b[36mtest\u001b[0m:\u001b[36m80\u001b[0m - \u001b[1m     loss:  0.16\u001b[0m\n",
      "\u001b[32m2023-10-15 21:20:57.491\u001b[0m | \u001b[1mINFO    \u001b[0m | \u001b[36mtester\u001b[0m:\u001b[36mtest\u001b[0m:\u001b[36m84\u001b[0m - \u001b[1mAUC  : 0.9884\u001b[0m\n",
      "\u001b[32m2023-10-15 21:20:57.492\u001b[0m | \u001b[1mINFO    \u001b[0m | \u001b[36mtester\u001b[0m:\u001b[36mtest\u001b[0m:\u001b[36m84\u001b[0m - \u001b[1mF1   : 0.793\u001b[0m\n",
      "\u001b[32m2023-10-15 21:20:57.492\u001b[0m | \u001b[1mINFO    \u001b[0m | \u001b[36mtester\u001b[0m:\u001b[36mtest\u001b[0m:\u001b[36m84\u001b[0m - \u001b[1mAcc  : 0.9708\u001b[0m\n",
      "\u001b[32m2023-10-15 21:20:57.493\u001b[0m | \u001b[1mINFO    \u001b[0m | \u001b[36mtester\u001b[0m:\u001b[36mtest\u001b[0m:\u001b[36m84\u001b[0m - \u001b[1mSen  : 0.8877\u001b[0m\n",
      "\u001b[32m2023-10-15 21:20:57.493\u001b[0m | \u001b[1mINFO    \u001b[0m | \u001b[36mtester\u001b[0m:\u001b[36mtest\u001b[0m:\u001b[36m84\u001b[0m - \u001b[1mSpe  : 0.9764\u001b[0m\n",
      "\u001b[32m2023-10-15 21:20:57.493\u001b[0m | \u001b[1mINFO    \u001b[0m | \u001b[36mtester\u001b[0m:\u001b[36mtest\u001b[0m:\u001b[36m84\u001b[0m - \u001b[1mpre  : 0.7172\u001b[0m\n",
      "\u001b[32m2023-10-15 21:20:57.495\u001b[0m | \u001b[1mINFO    \u001b[0m | \u001b[36mtester\u001b[0m:\u001b[36mtest\u001b[0m:\u001b[36m84\u001b[0m - \u001b[1mIOU  : 0.6569\u001b[0m\n",
      "\u001b[32m2023-10-15 21:20:57.495\u001b[0m | \u001b[1mINFO    \u001b[0m | \u001b[36mtester\u001b[0m:\u001b[36mtest\u001b[0m:\u001b[36m84\u001b[0m - \u001b[1mMCC  : 0.7828\u001b[0m\n"
     ]
    }
   ],
   "source": [
    "# CHASEDB on CHASEDB\n",
    "weight_path = '/mnt/qb/berens/users/jfadugba97/RetinaSegmentation/model_results/SA_UNet/CHASE/CE_DiceLoss/checkpoint-epoch150.pth'\n",
    "config_file = \"../configs/sa_unet_dicebce.yaml\"\n",
    "\n",
    "\n",
    "main_result(config_file, dataset=chase_dataset, bs=4, weight_path=weight_path)"
   ]
  },
  {
   "cell_type": "code",
   "execution_count": 13,
   "metadata": {},
   "outputs": [
    {
     "name": "stderr",
     "output_type": "stream",
     "text": [
      "  0%|          | 0/5 [00:00<?, ?it/s]"
     ]
    },
    {
     "name": "stderr",
     "output_type": "stream",
     "text": [
      "TEST (4) | Loss: 0.2090 | AUC 0.9570 F1 0.7527 Acc 0.9602  Sen 0.6923 Spe 0.9861 Pre 0.8268 IOU 0.6038 MCC 0.7352 |B 0.21 D 0.19 |: 100%|██████████| 5/5 [00:04<00:00,  1.20it/s]\n",
      "\u001b[32m2023-10-15 21:23:27.027\u001b[0m | \u001b[1mINFO    \u001b[0m | \u001b[36mtester\u001b[0m:\u001b[36mtest\u001b[0m:\u001b[36m78\u001b[0m - \u001b[1m###### TEST EVALUATION ######\u001b[0m\n",
      "\u001b[32m2023-10-15 21:23:27.028\u001b[0m | \u001b[1mINFO    \u001b[0m | \u001b[36mtester\u001b[0m:\u001b[36mtest\u001b[0m:\u001b[36m79\u001b[0m - \u001b[1mtest time:  0.2086\u001b[0m\n",
      "\u001b[32m2023-10-15 21:23:27.029\u001b[0m | \u001b[1mINFO    \u001b[0m | \u001b[36mtester\u001b[0m:\u001b[36mtest\u001b[0m:\u001b[36m80\u001b[0m - \u001b[1m     loss:  0.209\u001b[0m\n",
      "\u001b[32m2023-10-15 21:23:27.029\u001b[0m | \u001b[1mINFO    \u001b[0m | \u001b[36mtester\u001b[0m:\u001b[36mtest\u001b[0m:\u001b[36m84\u001b[0m - \u001b[1mAUC  : 0.957\u001b[0m\n",
      "\u001b[32m2023-10-15 21:23:27.030\u001b[0m | \u001b[1mINFO    \u001b[0m | \u001b[36mtester\u001b[0m:\u001b[36mtest\u001b[0m:\u001b[36m84\u001b[0m - \u001b[1mF1   : 0.7527\u001b[0m\n",
      "\u001b[32m2023-10-15 21:23:27.030\u001b[0m | \u001b[1mINFO    \u001b[0m | \u001b[36mtester\u001b[0m:\u001b[36mtest\u001b[0m:\u001b[36m84\u001b[0m - \u001b[1mAcc  : 0.9602\u001b[0m\n",
      "\u001b[32m2023-10-15 21:23:27.031\u001b[0m | \u001b[1mINFO    \u001b[0m | \u001b[36mtester\u001b[0m:\u001b[36mtest\u001b[0m:\u001b[36m84\u001b[0m - \u001b[1mSen  : 0.6923\u001b[0m\n",
      "\u001b[32m2023-10-15 21:23:27.032\u001b[0m | \u001b[1mINFO    \u001b[0m | \u001b[36mtester\u001b[0m:\u001b[36mtest\u001b[0m:\u001b[36m84\u001b[0m - \u001b[1mSpe  : 0.9861\u001b[0m\n",
      "\u001b[32m2023-10-15 21:23:27.033\u001b[0m | \u001b[1mINFO    \u001b[0m | \u001b[36mtester\u001b[0m:\u001b[36mtest\u001b[0m:\u001b[36m84\u001b[0m - \u001b[1mpre  : 0.8268\u001b[0m\n",
      "\u001b[32m2023-10-15 21:23:27.033\u001b[0m | \u001b[1mINFO    \u001b[0m | \u001b[36mtester\u001b[0m:\u001b[36mtest\u001b[0m:\u001b[36m84\u001b[0m - \u001b[1mIOU  : 0.6038\u001b[0m\n",
      "\u001b[32m2023-10-15 21:23:27.034\u001b[0m | \u001b[1mINFO    \u001b[0m | \u001b[36mtester\u001b[0m:\u001b[36mtest\u001b[0m:\u001b[36m84\u001b[0m - \u001b[1mMCC  : 0.7352\u001b[0m\n",
      "TEST (49) | Loss: 0.1555 | AUC 0.9806 F1 0.8050 Acc 0.9727  Sen 0.8148 Spe 0.9843 Pre 0.7994 IOU 0.6775 MCC 0.7915 |B 0.07 D 0.05 |: 100%|██████████| 50/50 [00:35<00:00,  1.42it/s]\n",
      "\u001b[32m2023-10-15 21:24:02.438\u001b[0m | \u001b[1mINFO    \u001b[0m | \u001b[36mtester\u001b[0m:\u001b[36mtest\u001b[0m:\u001b[36m78\u001b[0m - \u001b[1m###### TEST EVALUATION ######\u001b[0m\n",
      "\u001b[32m2023-10-15 21:24:02.439\u001b[0m | \u001b[1mINFO    \u001b[0m | \u001b[36mtester\u001b[0m:\u001b[36mtest\u001b[0m:\u001b[36m79\u001b[0m - \u001b[1mtest time:  0.0667\u001b[0m\n",
      "\u001b[32m2023-10-15 21:24:02.439\u001b[0m | \u001b[1mINFO    \u001b[0m | \u001b[36mtester\u001b[0m:\u001b[36mtest\u001b[0m:\u001b[36m80\u001b[0m - \u001b[1m     loss:  0.1555\u001b[0m\n",
      "\u001b[32m2023-10-15 21:24:02.440\u001b[0m | \u001b[1mINFO    \u001b[0m | \u001b[36mtester\u001b[0m:\u001b[36mtest\u001b[0m:\u001b[36m84\u001b[0m - \u001b[1mAUC  : 0.9806\u001b[0m\n",
      "\u001b[32m2023-10-15 21:24:02.441\u001b[0m | \u001b[1mINFO    \u001b[0m | \u001b[36mtester\u001b[0m:\u001b[36mtest\u001b[0m:\u001b[36m84\u001b[0m - \u001b[1mF1   : 0.805\u001b[0m\n",
      "\u001b[32m2023-10-15 21:24:02.441\u001b[0m | \u001b[1mINFO    \u001b[0m | \u001b[36mtester\u001b[0m:\u001b[36mtest\u001b[0m:\u001b[36m84\u001b[0m - \u001b[1mAcc  : 0.9727\u001b[0m\n",
      "\u001b[32m2023-10-15 21:24:02.442\u001b[0m | \u001b[1mINFO    \u001b[0m | \u001b[36mtester\u001b[0m:\u001b[36mtest\u001b[0m:\u001b[36m84\u001b[0m - \u001b[1mSen  : 0.8148\u001b[0m\n",
      "\u001b[32m2023-10-15 21:24:02.442\u001b[0m | \u001b[1mINFO    \u001b[0m | \u001b[36mtester\u001b[0m:\u001b[36mtest\u001b[0m:\u001b[36m84\u001b[0m - \u001b[1mSpe  : 0.9843\u001b[0m\n",
      "\u001b[32m2023-10-15 21:24:02.443\u001b[0m | \u001b[1mINFO    \u001b[0m | \u001b[36mtester\u001b[0m:\u001b[36mtest\u001b[0m:\u001b[36m84\u001b[0m - \u001b[1mpre  : 0.7994\u001b[0m\n",
      "\u001b[32m2023-10-15 21:24:02.443\u001b[0m | \u001b[1mINFO    \u001b[0m | \u001b[36mtester\u001b[0m:\u001b[36mtest\u001b[0m:\u001b[36m84\u001b[0m - \u001b[1mIOU  : 0.6775\u001b[0m\n",
      "\u001b[32m2023-10-15 21:24:02.444\u001b[0m | \u001b[1mINFO    \u001b[0m | \u001b[36mtester\u001b[0m:\u001b[36mtest\u001b[0m:\u001b[36m84\u001b[0m - \u001b[1mMCC  : 0.7915\u001b[0m\n"
     ]
    }
   ],
   "source": [
    "# CHASEDB on DRIVE\n",
    "weight_path = '/mnt/qb/berens/users/jfadugba97/RetinaSegmentation/model_results/SA_UNet/CHASE/CE_DiceLoss/checkpoint-epoch150.pth'\n",
    "config_file = \"../config/sa_unet_chase.yaml\"\n",
    "\n",
    "\n",
    "main_result(config_file, dataset=drive_dataset, bs=4, weight_path=weight_path)\n",
    "\n",
    "# CHASEDB on FIVES\n",
    "weight_path = '/mnt/qb/berens/users/jfadugba97/RetinaSegmentation/model_results/SA_UNet/CHASE/CE_DiceLoss/checkpoint-epoch150.pth'\n",
    "config_file = \"../config/sa_unet_chase.yaml\"\n",
    "\n",
    "\n",
    "main_result(config_file, dataset=fives_dataset, bs=4, weight_path=weight_path)"
   ]
  },
  {
   "cell_type": "code",
   "execution_count": 15,
   "metadata": {},
   "outputs": [
    {
     "name": "stderr",
     "output_type": "stream",
     "text": [
      "  0%|          | 0/5 [00:00<?, ?it/s]"
     ]
    },
    {
     "name": "stderr",
     "output_type": "stream",
     "text": [
      "TEST (4) | Loss: 0.1512 | AUC 0.9850 F1 0.8165 Acc 0.9676  Sen 0.8249 Spe 0.9814 Pre 0.8107 IOU 0.6900 MCC 0.7995 |B 0.33 D 0.31 |: 100%|██████████| 5/5 [00:04<00:00,  1.05it/s]\n",
      "\u001b[32m2023-10-15 21:40:22.768\u001b[0m | \u001b[1mINFO    \u001b[0m | \u001b[36mtester\u001b[0m:\u001b[36mtest\u001b[0m:\u001b[36m78\u001b[0m - \u001b[1m###### TEST EVALUATION ######\u001b[0m\n",
      "\u001b[32m2023-10-15 21:40:22.768\u001b[0m | \u001b[1mINFO    \u001b[0m | \u001b[36mtester\u001b[0m:\u001b[36mtest\u001b[0m:\u001b[36m79\u001b[0m - \u001b[1mtest time:  0.327\u001b[0m\n",
      "\u001b[32m2023-10-15 21:40:22.769\u001b[0m | \u001b[1mINFO    \u001b[0m | \u001b[36mtester\u001b[0m:\u001b[36mtest\u001b[0m:\u001b[36m80\u001b[0m - \u001b[1m     loss:  0.1512\u001b[0m\n",
      "\u001b[32m2023-10-15 21:40:22.770\u001b[0m | \u001b[1mINFO    \u001b[0m | \u001b[36mtester\u001b[0m:\u001b[36mtest\u001b[0m:\u001b[36m84\u001b[0m - \u001b[1mAUC  : 0.985\u001b[0m\n",
      "\u001b[32m2023-10-15 21:40:22.770\u001b[0m | \u001b[1mINFO    \u001b[0m | \u001b[36mtester\u001b[0m:\u001b[36mtest\u001b[0m:\u001b[36m84\u001b[0m - \u001b[1mF1   : 0.8165\u001b[0m\n",
      "\u001b[32m2023-10-15 21:40:22.770\u001b[0m | \u001b[1mINFO    \u001b[0m | \u001b[36mtester\u001b[0m:\u001b[36mtest\u001b[0m:\u001b[36m84\u001b[0m - \u001b[1mAcc  : 0.9676\u001b[0m\n",
      "\u001b[32m2023-10-15 21:40:22.771\u001b[0m | \u001b[1mINFO    \u001b[0m | \u001b[36mtester\u001b[0m:\u001b[36mtest\u001b[0m:\u001b[36m84\u001b[0m - \u001b[1mSen  : 0.8249\u001b[0m\n",
      "\u001b[32m2023-10-15 21:40:22.772\u001b[0m | \u001b[1mINFO    \u001b[0m | \u001b[36mtester\u001b[0m:\u001b[36mtest\u001b[0m:\u001b[36m84\u001b[0m - \u001b[1mSpe  : 0.9814\u001b[0m\n",
      "\u001b[32m2023-10-15 21:40:22.772\u001b[0m | \u001b[1mINFO    \u001b[0m | \u001b[36mtester\u001b[0m:\u001b[36mtest\u001b[0m:\u001b[36m84\u001b[0m - \u001b[1mpre  : 0.8107\u001b[0m\n",
      "\u001b[32m2023-10-15 21:40:22.773\u001b[0m | \u001b[1mINFO    \u001b[0m | \u001b[36mtester\u001b[0m:\u001b[36mtest\u001b[0m:\u001b[36m84\u001b[0m - \u001b[1mIOU  : 0.69\u001b[0m\n",
      "\u001b[32m2023-10-15 21:40:22.773\u001b[0m | \u001b[1mINFO    \u001b[0m | \u001b[36mtester\u001b[0m:\u001b[36mtest\u001b[0m:\u001b[36m84\u001b[0m - \u001b[1mMCC  : 0.7995\u001b[0m\n",
      "TEST (3) | Loss: 0.2264 | AUC 0.9804 F1 0.7160 Acc 0.9560  Sen 0.8814 Spe 0.9612 Pre 0.6041 IOU 0.5578 MCC 0.7081 |B 0.23 D 0.22 |: 100%|██████████| 4/4 [00:02<00:00,  1.95it/s]\n",
      "\u001b[32m2023-10-15 21:40:24.904\u001b[0m | \u001b[1mINFO    \u001b[0m | \u001b[36mtester\u001b[0m:\u001b[36mtest\u001b[0m:\u001b[36m78\u001b[0m - \u001b[1m###### TEST EVALUATION ######\u001b[0m\n",
      "\u001b[32m2023-10-15 21:40:24.904\u001b[0m | \u001b[1mINFO    \u001b[0m | \u001b[36mtester\u001b[0m:\u001b[36mtest\u001b[0m:\u001b[36m79\u001b[0m - \u001b[1mtest time:  0.2309\u001b[0m\n",
      "\u001b[32m2023-10-15 21:40:24.905\u001b[0m | \u001b[1mINFO    \u001b[0m | \u001b[36mtester\u001b[0m:\u001b[36mtest\u001b[0m:\u001b[36m80\u001b[0m - \u001b[1m     loss:  0.2264\u001b[0m\n",
      "\u001b[32m2023-10-15 21:40:24.906\u001b[0m | \u001b[1mINFO    \u001b[0m | \u001b[36mtester\u001b[0m:\u001b[36mtest\u001b[0m:\u001b[36m84\u001b[0m - \u001b[1mAUC  : 0.9804\u001b[0m\n",
      "\u001b[32m2023-10-15 21:40:24.906\u001b[0m | \u001b[1mINFO    \u001b[0m | \u001b[36mtester\u001b[0m:\u001b[36mtest\u001b[0m:\u001b[36m84\u001b[0m - \u001b[1mF1   : 0.716\u001b[0m\n",
      "\u001b[32m2023-10-15 21:40:24.907\u001b[0m | \u001b[1mINFO    \u001b[0m | \u001b[36mtester\u001b[0m:\u001b[36mtest\u001b[0m:\u001b[36m84\u001b[0m - \u001b[1mAcc  : 0.956\u001b[0m\n",
      "\u001b[32m2023-10-15 21:40:24.907\u001b[0m | \u001b[1mINFO    \u001b[0m | \u001b[36mtester\u001b[0m:\u001b[36mtest\u001b[0m:\u001b[36m84\u001b[0m - \u001b[1mSen  : 0.8814\u001b[0m\n",
      "\u001b[32m2023-10-15 21:40:24.907\u001b[0m | \u001b[1mINFO    \u001b[0m | \u001b[36mtester\u001b[0m:\u001b[36mtest\u001b[0m:\u001b[36m84\u001b[0m - \u001b[1mSpe  : 0.9612\u001b[0m\n",
      "\u001b[32m2023-10-15 21:40:24.908\u001b[0m | \u001b[1mINFO    \u001b[0m | \u001b[36mtester\u001b[0m:\u001b[36mtest\u001b[0m:\u001b[36m84\u001b[0m - \u001b[1mpre  : 0.6041\u001b[0m\n",
      "\u001b[32m2023-10-15 21:40:24.908\u001b[0m | \u001b[1mINFO    \u001b[0m | \u001b[36mtester\u001b[0m:\u001b[36mtest\u001b[0m:\u001b[36m84\u001b[0m - \u001b[1mIOU  : 0.5578\u001b[0m\n",
      "\u001b[32m2023-10-15 21:40:24.909\u001b[0m | \u001b[1mINFO    \u001b[0m | \u001b[36mtester\u001b[0m:\u001b[36mtest\u001b[0m:\u001b[36m84\u001b[0m - \u001b[1mMCC  : 0.7081\u001b[0m\n",
      "TEST (49) | Loss: 0.1623 | AUC 0.9724 F1 0.7999 Acc 0.9715  Sen 0.8162 Spe 0.9826 Pre 0.7905 IOU 0.6687 MCC 0.7865 |B 0.07 D 0.05 |: 100%|██████████| 50/50 [00:35<00:00,  1.42it/s]\n",
      "\u001b[32m2023-10-15 21:41:00.300\u001b[0m | \u001b[1mINFO    \u001b[0m | \u001b[36mtester\u001b[0m:\u001b[36mtest\u001b[0m:\u001b[36m78\u001b[0m - \u001b[1m###### TEST EVALUATION ######\u001b[0m\n",
      "\u001b[32m2023-10-15 21:41:00.300\u001b[0m | \u001b[1mINFO    \u001b[0m | \u001b[36mtester\u001b[0m:\u001b[36mtest\u001b[0m:\u001b[36m79\u001b[0m - \u001b[1mtest time:  0.0691\u001b[0m\n",
      "\u001b[32m2023-10-15 21:41:00.301\u001b[0m | \u001b[1mINFO    \u001b[0m | \u001b[36mtester\u001b[0m:\u001b[36mtest\u001b[0m:\u001b[36m80\u001b[0m - \u001b[1m     loss:  0.1623\u001b[0m\n",
      "\u001b[32m2023-10-15 21:41:00.302\u001b[0m | \u001b[1mINFO    \u001b[0m | \u001b[36mtester\u001b[0m:\u001b[36mtest\u001b[0m:\u001b[36m84\u001b[0m - \u001b[1mAUC  : 0.9724\u001b[0m\n",
      "\u001b[32m2023-10-15 21:41:00.302\u001b[0m | \u001b[1mINFO    \u001b[0m | \u001b[36mtester\u001b[0m:\u001b[36mtest\u001b[0m:\u001b[36m84\u001b[0m - \u001b[1mF1   : 0.7999\u001b[0m\n",
      "\u001b[32m2023-10-15 21:41:00.303\u001b[0m | \u001b[1mINFO    \u001b[0m | \u001b[36mtester\u001b[0m:\u001b[36mtest\u001b[0m:\u001b[36m84\u001b[0m - \u001b[1mAcc  : 0.9715\u001b[0m\n",
      "\u001b[32m2023-10-15 21:41:00.304\u001b[0m | \u001b[1mINFO    \u001b[0m | \u001b[36mtester\u001b[0m:\u001b[36mtest\u001b[0m:\u001b[36m84\u001b[0m - \u001b[1mSen  : 0.8162\u001b[0m\n",
      "\u001b[32m2023-10-15 21:41:00.304\u001b[0m | \u001b[1mINFO    \u001b[0m | \u001b[36mtester\u001b[0m:\u001b[36mtest\u001b[0m:\u001b[36m84\u001b[0m - \u001b[1mSpe  : 0.9826\u001b[0m\n",
      "\u001b[32m2023-10-15 21:41:00.305\u001b[0m | \u001b[1mINFO    \u001b[0m | \u001b[36mtester\u001b[0m:\u001b[36mtest\u001b[0m:\u001b[36m84\u001b[0m - \u001b[1mpre  : 0.7905\u001b[0m\n",
      "\u001b[32m2023-10-15 21:41:00.305\u001b[0m | \u001b[1mINFO    \u001b[0m | \u001b[36mtester\u001b[0m:\u001b[36mtest\u001b[0m:\u001b[36m84\u001b[0m - \u001b[1mIOU  : 0.6687\u001b[0m\n",
      "\u001b[32m2023-10-15 21:41:00.306\u001b[0m | \u001b[1mINFO    \u001b[0m | \u001b[36mtester\u001b[0m:\u001b[36mtest\u001b[0m:\u001b[36m84\u001b[0m - \u001b[1mMCC  : 0.7865\u001b[0m\n"
     ]
    }
   ],
   "source": [
    "# DRIVE On DRIVE\n",
    "\n",
    "weight_path = '/mnt/qb/berens/users/jfadugba97/RetinaSegmentation/model_results/SA_UNet/DRIVE/CE_DiceLoss/checkpoint-epoch150.pth'\n",
    "config_file = \"../config/sa_unet_drive.yaml\"\n",
    "\n",
    "\n",
    "main_result(config_file, dataset=drive_dataset, bs=4, weight_path=weight_path)\n",
    "\n",
    "# Drive on Chase\n",
    "weight_path = '/mnt/qb/berens/users/jfadugba97/RetinaSegmentation/model_results/SA_UNet/DRIVE/CE_DiceLoss/checkpoint-epoch150.pth'\n",
    "config_file = \"../config/sa_unet_drive.yaml\"\n",
    "\n",
    "\n",
    "main_result(config_file, dataset=chase_dataset, bs=2, weight_path=weight_path)\n",
    "\n",
    "# Drive on FIVES\n",
    "weight_path = '/mnt/qb/berens/users/jfadugba97/RetinaSegmentation/model_results/SA_UNet/DRIVE/CE_DiceLoss/checkpoint-epoch150.pth'\n",
    "config_file = \"../config/sa_unet_drive.yaml\"\n",
    "\n",
    "\n",
    "main_result(config_file, dataset=fives_dataset, bs=4,  weight_path=weight_path)"
   ]
  },
  {
   "cell_type": "code",
   "execution_count": 16,
   "metadata": {},
   "outputs": [
    {
     "name": "stderr",
     "output_type": "stream",
     "text": [
      "  0%|          | 0/50 [00:00<?, ?it/s]"
     ]
    },
    {
     "name": "stderr",
     "output_type": "stream",
     "text": [
      "TEST (49) | Loss: 0.1693 | AUC 0.9854 F1 0.8655 Acc 0.9800  Sen 0.9134 Spe 0.9848 Pre 0.8234 IOU 0.7638 MCC 0.8564 |B 0.06 D 0.04 |: 100%|██████████| 50/50 [00:35<00:00,  1.43it/s]\n",
      "\u001b[32m2023-10-15 21:41:37.676\u001b[0m | \u001b[1mINFO    \u001b[0m | \u001b[36mtester\u001b[0m:\u001b[36mtest\u001b[0m:\u001b[36m78\u001b[0m - \u001b[1m###### TEST EVALUATION ######\u001b[0m\n",
      "\u001b[32m2023-10-15 21:41:37.677\u001b[0m | \u001b[1mINFO    \u001b[0m | \u001b[36mtester\u001b[0m:\u001b[36mtest\u001b[0m:\u001b[36m79\u001b[0m - \u001b[1mtest time:  0.0622\u001b[0m\n",
      "\u001b[32m2023-10-15 21:41:37.677\u001b[0m | \u001b[1mINFO    \u001b[0m | \u001b[36mtester\u001b[0m:\u001b[36mtest\u001b[0m:\u001b[36m80\u001b[0m - \u001b[1m     loss:  0.1693\u001b[0m\n",
      "\u001b[32m2023-10-15 21:41:37.678\u001b[0m | \u001b[1mINFO    \u001b[0m | \u001b[36mtester\u001b[0m:\u001b[36mtest\u001b[0m:\u001b[36m84\u001b[0m - \u001b[1mAUC  : 0.9854\u001b[0m\n",
      "\u001b[32m2023-10-15 21:41:37.678\u001b[0m | \u001b[1mINFO    \u001b[0m | \u001b[36mtester\u001b[0m:\u001b[36mtest\u001b[0m:\u001b[36m84\u001b[0m - \u001b[1mF1   : 0.8655\u001b[0m\n",
      "\u001b[32m2023-10-15 21:41:37.679\u001b[0m | \u001b[1mINFO    \u001b[0m | \u001b[36mtester\u001b[0m:\u001b[36mtest\u001b[0m:\u001b[36m84\u001b[0m - \u001b[1mAcc  : 0.98\u001b[0m\n",
      "\u001b[32m2023-10-15 21:41:37.679\u001b[0m | \u001b[1mINFO    \u001b[0m | \u001b[36mtester\u001b[0m:\u001b[36mtest\u001b[0m:\u001b[36m84\u001b[0m - \u001b[1mSen  : 0.9134\u001b[0m\n",
      "\u001b[32m2023-10-15 21:41:37.681\u001b[0m | \u001b[1mINFO    \u001b[0m | \u001b[36mtester\u001b[0m:\u001b[36mtest\u001b[0m:\u001b[36m84\u001b[0m - \u001b[1mSpe  : 0.9848\u001b[0m\n",
      "\u001b[32m2023-10-15 21:41:37.681\u001b[0m | \u001b[1mINFO    \u001b[0m | \u001b[36mtester\u001b[0m:\u001b[36mtest\u001b[0m:\u001b[36m84\u001b[0m - \u001b[1mpre  : 0.8234\u001b[0m\n",
      "\u001b[32m2023-10-15 21:41:37.682\u001b[0m | \u001b[1mINFO    \u001b[0m | \u001b[36mtester\u001b[0m:\u001b[36mtest\u001b[0m:\u001b[36m84\u001b[0m - \u001b[1mIOU  : 0.7638\u001b[0m\n",
      "\u001b[32m2023-10-15 21:41:37.683\u001b[0m | \u001b[1mINFO    \u001b[0m | \u001b[36mtester\u001b[0m:\u001b[36mtest\u001b[0m:\u001b[36m84\u001b[0m - \u001b[1mMCC  : 0.8564\u001b[0m\n",
      "TEST (4) | Loss: 0.2306 | AUC 0.9502 F1 0.7747 Acc 0.9619  Sen 0.7491 Spe 0.9825 Pre 0.8048 IOU 0.6327 MCC 0.7553 |B 0.24 D 0.22 |: 100%|██████████| 5/5 [00:04<00:00,  1.16it/s]\n",
      "\u001b[32m2023-10-15 21:41:42.160\u001b[0m | \u001b[1mINFO    \u001b[0m | \u001b[36mtester\u001b[0m:\u001b[36mtest\u001b[0m:\u001b[36m78\u001b[0m - \u001b[1m###### TEST EVALUATION ######\u001b[0m\n",
      "\u001b[32m2023-10-15 21:41:42.161\u001b[0m | \u001b[1mINFO    \u001b[0m | \u001b[36mtester\u001b[0m:\u001b[36mtest\u001b[0m:\u001b[36m79\u001b[0m - \u001b[1mtest time:  0.2363\u001b[0m\n",
      "\u001b[32m2023-10-15 21:41:42.161\u001b[0m | \u001b[1mINFO    \u001b[0m | \u001b[36mtester\u001b[0m:\u001b[36mtest\u001b[0m:\u001b[36m80\u001b[0m - \u001b[1m     loss:  0.2306\u001b[0m\n",
      "\u001b[32m2023-10-15 21:41:42.162\u001b[0m | \u001b[1mINFO    \u001b[0m | \u001b[36mtester\u001b[0m:\u001b[36mtest\u001b[0m:\u001b[36m84\u001b[0m - \u001b[1mAUC  : 0.9502\u001b[0m\n",
      "\u001b[32m2023-10-15 21:41:42.162\u001b[0m | \u001b[1mINFO    \u001b[0m | \u001b[36mtester\u001b[0m:\u001b[36mtest\u001b[0m:\u001b[36m84\u001b[0m - \u001b[1mF1   : 0.7747\u001b[0m\n",
      "\u001b[32m2023-10-15 21:41:42.163\u001b[0m | \u001b[1mINFO    \u001b[0m | \u001b[36mtester\u001b[0m:\u001b[36mtest\u001b[0m:\u001b[36m84\u001b[0m - \u001b[1mAcc  : 0.9619\u001b[0m\n",
      "\u001b[32m2023-10-15 21:41:42.163\u001b[0m | \u001b[1mINFO    \u001b[0m | \u001b[36mtester\u001b[0m:\u001b[36mtest\u001b[0m:\u001b[36m84\u001b[0m - \u001b[1mSen  : 0.7491\u001b[0m\n",
      "\u001b[32m2023-10-15 21:41:42.164\u001b[0m | \u001b[1mINFO    \u001b[0m | \u001b[36mtester\u001b[0m:\u001b[36mtest\u001b[0m:\u001b[36m84\u001b[0m - \u001b[1mSpe  : 0.9825\u001b[0m\n",
      "\u001b[32m2023-10-15 21:41:42.165\u001b[0m | \u001b[1mINFO    \u001b[0m | \u001b[36mtester\u001b[0m:\u001b[36mtest\u001b[0m:\u001b[36m84\u001b[0m - \u001b[1mpre  : 0.8048\u001b[0m\n",
      "\u001b[32m2023-10-15 21:41:42.166\u001b[0m | \u001b[1mINFO    \u001b[0m | \u001b[36mtester\u001b[0m:\u001b[36mtest\u001b[0m:\u001b[36m84\u001b[0m - \u001b[1mIOU  : 0.6327\u001b[0m\n",
      "\u001b[32m2023-10-15 21:41:42.166\u001b[0m | \u001b[1mINFO    \u001b[0m | \u001b[36mtester\u001b[0m:\u001b[36mtest\u001b[0m:\u001b[36m84\u001b[0m - \u001b[1mMCC  : 0.7553\u001b[0m\n",
      "TEST (1) | Loss: 0.2859 | AUC 0.9796 F1 0.7426 Acc 0.9599  Sen 0.9158 Spe 0.9628 Pre 0.6257 IOU 0.5908 MCC 0.7377 |B 0.43 D 0.41 |: 100%|██████████| 2/2 [00:02<00:00,  1.07s/it]\n",
      "\u001b[32m2023-10-15 21:41:44.376\u001b[0m | \u001b[1mINFO    \u001b[0m | \u001b[36mtester\u001b[0m:\u001b[36mtest\u001b[0m:\u001b[36m78\u001b[0m - \u001b[1m###### TEST EVALUATION ######\u001b[0m\n",
      "\u001b[32m2023-10-15 21:41:44.376\u001b[0m | \u001b[1mINFO    \u001b[0m | \u001b[36mtester\u001b[0m:\u001b[36mtest\u001b[0m:\u001b[36m79\u001b[0m - \u001b[1mtest time:  0.4307\u001b[0m\n",
      "\u001b[32m2023-10-15 21:41:44.377\u001b[0m | \u001b[1mINFO    \u001b[0m | \u001b[36mtester\u001b[0m:\u001b[36mtest\u001b[0m:\u001b[36m80\u001b[0m - \u001b[1m     loss:  0.2859\u001b[0m\n",
      "\u001b[32m2023-10-15 21:41:44.378\u001b[0m | \u001b[1mINFO    \u001b[0m | \u001b[36mtester\u001b[0m:\u001b[36mtest\u001b[0m:\u001b[36m84\u001b[0m - \u001b[1mAUC  : 0.9796\u001b[0m\n",
      "\u001b[32m2023-10-15 21:41:44.378\u001b[0m | \u001b[1mINFO    \u001b[0m | \u001b[36mtester\u001b[0m:\u001b[36mtest\u001b[0m:\u001b[36m84\u001b[0m - \u001b[1mF1   : 0.7426\u001b[0m\n",
      "\u001b[32m2023-10-15 21:41:44.379\u001b[0m | \u001b[1mINFO    \u001b[0m | \u001b[36mtester\u001b[0m:\u001b[36mtest\u001b[0m:\u001b[36m84\u001b[0m - \u001b[1mAcc  : 0.9599\u001b[0m\n",
      "\u001b[32m2023-10-15 21:41:44.379\u001b[0m | \u001b[1mINFO    \u001b[0m | \u001b[36mtester\u001b[0m:\u001b[36mtest\u001b[0m:\u001b[36m84\u001b[0m - \u001b[1mSen  : 0.9158\u001b[0m\n",
      "\u001b[32m2023-10-15 21:41:44.380\u001b[0m | \u001b[1mINFO    \u001b[0m | \u001b[36mtester\u001b[0m:\u001b[36mtest\u001b[0m:\u001b[36m84\u001b[0m - \u001b[1mSpe  : 0.9628\u001b[0m\n",
      "\u001b[32m2023-10-15 21:41:44.380\u001b[0m | \u001b[1mINFO    \u001b[0m | \u001b[36mtester\u001b[0m:\u001b[36mtest\u001b[0m:\u001b[36m84\u001b[0m - \u001b[1mpre  : 0.6257\u001b[0m\n",
      "\u001b[32m2023-10-15 21:41:44.381\u001b[0m | \u001b[1mINFO    \u001b[0m | \u001b[36mtester\u001b[0m:\u001b[36mtest\u001b[0m:\u001b[36m84\u001b[0m - \u001b[1mIOU  : 0.5908\u001b[0m\n",
      "\u001b[32m2023-10-15 21:41:44.382\u001b[0m | \u001b[1mINFO    \u001b[0m | \u001b[36mtester\u001b[0m:\u001b[36mtest\u001b[0m:\u001b[36m84\u001b[0m - \u001b[1mMCC  : 0.7377\u001b[0m\n"
     ]
    }
   ],
   "source": [
    "# FIVES on FIVES\n",
    "weight_path = '/mnt/qb/berens/users/jfadugba97/RetinaSegmentation/model_results/SA_UNet/FIVES/CE_DiceLoss/checkpoint-epoch70.pth'\n",
    "config_file = \"../configs/sa_unet_dicebce.yaml\"\n",
    "\n",
    "\n",
    "main_result(config_file, dataset=fives_dataset, bs=4, weight_path=weight_path)\n",
    "\n",
    "# FIVES on DRIVE\n",
    "\n",
    "main_result(config_file, dataset=drive_dataset, bs=4, weight_path=weight_path)\n",
    "\n",
    "# FIVES on CHASE\n",
    "\n",
    "main_result(config_file, dataset=chase_dataset,bs=4, weight_path=weight_path)"
   ]
  },
  {
   "cell_type": "markdown",
   "metadata": {},
   "source": [
    "## FR-UNet"
   ]
  },
  {
   "cell_type": "code",
   "execution_count": 17,
   "metadata": {},
   "outputs": [
    {
     "name": "stderr",
     "output_type": "stream",
     "text": [
      "TEST (1) | Loss: 0.1373 | AUC 0.9900 F1 0.8165 Acc 0.9762  Sen 0.8390 Spe 0.9854 Pre 0.7961 IOU 0.6899 MCC 0.8044 |B 0.76 D 0.41 |: 100%|██████████| 2/2 [00:02<00:00,  1.40s/it]\n",
      "\u001b[32m2023-10-15 21:43:46.164\u001b[0m | \u001b[1mINFO    \u001b[0m | \u001b[36mtester\u001b[0m:\u001b[36mtest\u001b[0m:\u001b[36m78\u001b[0m - \u001b[1m###### TEST EVALUATION ######\u001b[0m\n",
      "\u001b[32m2023-10-15 21:43:46.165\u001b[0m | \u001b[1mINFO    \u001b[0m | \u001b[36mtester\u001b[0m:\u001b[36mtest\u001b[0m:\u001b[36m79\u001b[0m - \u001b[1mtest time:  0.7585\u001b[0m\n",
      "\u001b[32m2023-10-15 21:43:46.165\u001b[0m | \u001b[1mINFO    \u001b[0m | \u001b[36mtester\u001b[0m:\u001b[36mtest\u001b[0m:\u001b[36m80\u001b[0m - \u001b[1m     loss:  0.1373\u001b[0m\n",
      "\u001b[32m2023-10-15 21:43:46.166\u001b[0m | \u001b[1mINFO    \u001b[0m | \u001b[36mtester\u001b[0m:\u001b[36mtest\u001b[0m:\u001b[36m84\u001b[0m - \u001b[1mAUC  : 0.99\u001b[0m\n",
      "\u001b[32m2023-10-15 21:43:46.167\u001b[0m | \u001b[1mINFO    \u001b[0m | \u001b[36mtester\u001b[0m:\u001b[36mtest\u001b[0m:\u001b[36m84\u001b[0m - \u001b[1mF1   : 0.8165\u001b[0m\n",
      "\u001b[32m2023-10-15 21:43:46.167\u001b[0m | \u001b[1mINFO    \u001b[0m | \u001b[36mtester\u001b[0m:\u001b[36mtest\u001b[0m:\u001b[36m84\u001b[0m - \u001b[1mAcc  : 0.9762\u001b[0m\n",
      "\u001b[32m2023-10-15 21:43:46.168\u001b[0m | \u001b[1mINFO    \u001b[0m | \u001b[36mtester\u001b[0m:\u001b[36mtest\u001b[0m:\u001b[36m84\u001b[0m - \u001b[1mSen  : 0.839\u001b[0m\n",
      "\u001b[32m2023-10-15 21:43:46.168\u001b[0m | \u001b[1mINFO    \u001b[0m | \u001b[36mtester\u001b[0m:\u001b[36mtest\u001b[0m:\u001b[36m84\u001b[0m - \u001b[1mSpe  : 0.9854\u001b[0m\n",
      "\u001b[32m2023-10-15 21:43:46.169\u001b[0m | \u001b[1mINFO    \u001b[0m | \u001b[36mtester\u001b[0m:\u001b[36mtest\u001b[0m:\u001b[36m84\u001b[0m - \u001b[1mpre  : 0.7961\u001b[0m\n",
      "\u001b[32m2023-10-15 21:43:46.169\u001b[0m | \u001b[1mINFO    \u001b[0m | \u001b[36mtester\u001b[0m:\u001b[36mtest\u001b[0m:\u001b[36m84\u001b[0m - \u001b[1mIOU  : 0.6899\u001b[0m\n",
      "\u001b[32m2023-10-15 21:43:46.170\u001b[0m | \u001b[1mINFO    \u001b[0m | \u001b[36mtester\u001b[0m:\u001b[36mtest\u001b[0m:\u001b[36m84\u001b[0m - \u001b[1mMCC  : 0.8044\u001b[0m\n",
      "TEST (4) | Loss: 0.2246 | AUC 0.9703 F1 0.7260 Acc 0.9605  Sen 0.5987 Spe 0.9954 Pre 0.9256 IOU 0.5704 MCC 0.7259 |B 0.48 D 0.22 |: 100%|██████████| 5/5 [00:05<00:00,  1.12s/it]\n",
      "\u001b[32m2023-10-15 21:43:52.018\u001b[0m | \u001b[1mINFO    \u001b[0m | \u001b[36mtester\u001b[0m:\u001b[36mtest\u001b[0m:\u001b[36m78\u001b[0m - \u001b[1m###### TEST EVALUATION ######\u001b[0m\n",
      "\u001b[32m2023-10-15 21:43:52.019\u001b[0m | \u001b[1mINFO    \u001b[0m | \u001b[36mtester\u001b[0m:\u001b[36mtest\u001b[0m:\u001b[36m79\u001b[0m - \u001b[1mtest time:  0.4778\u001b[0m\n",
      "\u001b[32m2023-10-15 21:43:52.020\u001b[0m | \u001b[1mINFO    \u001b[0m | \u001b[36mtester\u001b[0m:\u001b[36mtest\u001b[0m:\u001b[36m80\u001b[0m - \u001b[1m     loss:  0.2246\u001b[0m\n",
      "\u001b[32m2023-10-15 21:43:52.021\u001b[0m | \u001b[1mINFO    \u001b[0m | \u001b[36mtester\u001b[0m:\u001b[36mtest\u001b[0m:\u001b[36m84\u001b[0m - \u001b[1mAUC  : 0.9703\u001b[0m\n",
      "\u001b[32m2023-10-15 21:43:52.022\u001b[0m | \u001b[1mINFO    \u001b[0m | \u001b[36mtester\u001b[0m:\u001b[36mtest\u001b[0m:\u001b[36m84\u001b[0m - \u001b[1mF1   : 0.726\u001b[0m\n",
      "\u001b[32m2023-10-15 21:43:52.022\u001b[0m | \u001b[1mINFO    \u001b[0m | \u001b[36mtester\u001b[0m:\u001b[36mtest\u001b[0m:\u001b[36m84\u001b[0m - \u001b[1mAcc  : 0.9605\u001b[0m\n",
      "\u001b[32m2023-10-15 21:43:52.023\u001b[0m | \u001b[1mINFO    \u001b[0m | \u001b[36mtester\u001b[0m:\u001b[36mtest\u001b[0m:\u001b[36m84\u001b[0m - \u001b[1mSen  : 0.5987\u001b[0m\n",
      "\u001b[32m2023-10-15 21:43:52.023\u001b[0m | \u001b[1mINFO    \u001b[0m | \u001b[36mtester\u001b[0m:\u001b[36mtest\u001b[0m:\u001b[36m84\u001b[0m - \u001b[1mSpe  : 0.9954\u001b[0m\n",
      "\u001b[32m2023-10-15 21:43:52.024\u001b[0m | \u001b[1mINFO    \u001b[0m | \u001b[36mtester\u001b[0m:\u001b[36mtest\u001b[0m:\u001b[36m84\u001b[0m - \u001b[1mpre  : 0.9256\u001b[0m\n",
      "\u001b[32m2023-10-15 21:43:52.025\u001b[0m | \u001b[1mINFO    \u001b[0m | \u001b[36mtester\u001b[0m:\u001b[36mtest\u001b[0m:\u001b[36m84\u001b[0m - \u001b[1mIOU  : 0.5704\u001b[0m\n",
      "\u001b[32m2023-10-15 21:43:52.026\u001b[0m | \u001b[1mINFO    \u001b[0m | \u001b[36mtester\u001b[0m:\u001b[36mtest\u001b[0m:\u001b[36m84\u001b[0m - \u001b[1mMCC  : 0.7259\u001b[0m\n",
      "TEST (49) | Loss: 0.1555 | AUC 0.9834 F1 0.7932 Acc 0.9755  Sen 0.6810 Spe 0.9975 Pre 0.9537 IOU 0.6595 MCC 0.7938 |B 0.31 D 0.05 |: 100%|██████████| 50/50 [00:46<00:00,  1.07it/s]\n",
      "\u001b[32m2023-10-15 21:44:39.025\u001b[0m | \u001b[1mINFO    \u001b[0m | \u001b[36mtester\u001b[0m:\u001b[36mtest\u001b[0m:\u001b[36m78\u001b[0m - \u001b[1m###### TEST EVALUATION ######\u001b[0m\n",
      "\u001b[32m2023-10-15 21:44:39.026\u001b[0m | \u001b[1mINFO    \u001b[0m | \u001b[36mtester\u001b[0m:\u001b[36mtest\u001b[0m:\u001b[36m79\u001b[0m - \u001b[1mtest time:  0.3111\u001b[0m\n",
      "\u001b[32m2023-10-15 21:44:39.026\u001b[0m | \u001b[1mINFO    \u001b[0m | \u001b[36mtester\u001b[0m:\u001b[36mtest\u001b[0m:\u001b[36m80\u001b[0m - \u001b[1m     loss:  0.1555\u001b[0m\n",
      "\u001b[32m2023-10-15 21:44:39.027\u001b[0m | \u001b[1mINFO    \u001b[0m | \u001b[36mtester\u001b[0m:\u001b[36mtest\u001b[0m:\u001b[36m84\u001b[0m - \u001b[1mAUC  : 0.9834\u001b[0m\n",
      "\u001b[32m2023-10-15 21:44:39.027\u001b[0m | \u001b[1mINFO    \u001b[0m | \u001b[36mtester\u001b[0m:\u001b[36mtest\u001b[0m:\u001b[36m84\u001b[0m - \u001b[1mF1   : 0.7932\u001b[0m\n",
      "\u001b[32m2023-10-15 21:44:39.028\u001b[0m | \u001b[1mINFO    \u001b[0m | \u001b[36mtester\u001b[0m:\u001b[36mtest\u001b[0m:\u001b[36m84\u001b[0m - \u001b[1mAcc  : 0.9755\u001b[0m\n",
      "\u001b[32m2023-10-15 21:44:39.029\u001b[0m | \u001b[1mINFO    \u001b[0m | \u001b[36mtester\u001b[0m:\u001b[36mtest\u001b[0m:\u001b[36m84\u001b[0m - \u001b[1mSen  : 0.681\u001b[0m\n",
      "\u001b[32m2023-10-15 21:44:39.029\u001b[0m | \u001b[1mINFO    \u001b[0m | \u001b[36mtester\u001b[0m:\u001b[36mtest\u001b[0m:\u001b[36m84\u001b[0m - \u001b[1mSpe  : 0.9975\u001b[0m\n",
      "\u001b[32m2023-10-15 21:44:39.029\u001b[0m | \u001b[1mINFO    \u001b[0m | \u001b[36mtester\u001b[0m:\u001b[36mtest\u001b[0m:\u001b[36m84\u001b[0m - \u001b[1mpre  : 0.9537\u001b[0m\n",
      "\u001b[32m2023-10-15 21:44:39.030\u001b[0m | \u001b[1mINFO    \u001b[0m | \u001b[36mtester\u001b[0m:\u001b[36mtest\u001b[0m:\u001b[36m84\u001b[0m - \u001b[1mIOU  : 0.6595\u001b[0m\n",
      "\u001b[32m2023-10-15 21:44:39.030\u001b[0m | \u001b[1mINFO    \u001b[0m | \u001b[36mtester\u001b[0m:\u001b[36mtest\u001b[0m:\u001b[36m84\u001b[0m - \u001b[1mMCC  : 0.7938\u001b[0m\n"
     ]
    }
   ],
   "source": [
    "# CHASEDB on CHASEDB\n",
    "weight_path = '/mnt/qb/berens/users/jfadugba97/RetinaSegmentation/model_results/FR_UNet/CHASE/CE_DiceLoss/checkpoint-epoch80.pth'\n",
    "config_file = \"../config/fr_unet_chase.yaml\"\n",
    "\n",
    "\n",
    "main_result(config_file, dataset=chase_dataset, bs=4, weight_path=weight_path)\n",
    "\n",
    "# # CHASEDB on DRIVE\n",
    "main_result(config_file, dataset=drive_dataset, bs=4, weight_path=weight_path)\n",
    "\n",
    "# CHASEDB on FIVES\n",
    "\n",
    "main_result(config_file, dataset=fives_dataset, bs=4, weight_path=weight_path)"
   ]
  },
  {
   "cell_type": "code",
   "execution_count": 18,
   "metadata": {},
   "outputs": [
    {
     "name": "stderr",
     "output_type": "stream",
     "text": [
      "TEST (4) | Loss: 0.1612 | AUC 0.9819 F1 0.8062 Acc 0.9675  Sen 0.7736 Spe 0.9863 Pre 0.8446 IOU 0.6755 MCC 0.7902 |B 1.01 D 0.74 |: 100%|██████████| 5/5 [00:08<00:00,  1.63s/it]\n",
      "\u001b[32m2023-10-15 21:45:41.221\u001b[0m | \u001b[1mINFO    \u001b[0m | \u001b[36mtester\u001b[0m:\u001b[36mtest\u001b[0m:\u001b[36m78\u001b[0m - \u001b[1m###### TEST EVALUATION ######\u001b[0m\n",
      "\u001b[32m2023-10-15 21:45:41.222\u001b[0m | \u001b[1mINFO    \u001b[0m | \u001b[36mtester\u001b[0m:\u001b[36mtest\u001b[0m:\u001b[36m79\u001b[0m - \u001b[1mtest time:  1.0115\u001b[0m\n",
      "\u001b[32m2023-10-15 21:45:41.223\u001b[0m | \u001b[1mINFO    \u001b[0m | \u001b[36mtester\u001b[0m:\u001b[36mtest\u001b[0m:\u001b[36m80\u001b[0m - \u001b[1m     loss:  0.1612\u001b[0m\n",
      "\u001b[32m2023-10-15 21:45:41.223\u001b[0m | \u001b[1mINFO    \u001b[0m | \u001b[36mtester\u001b[0m:\u001b[36mtest\u001b[0m:\u001b[36m84\u001b[0m - \u001b[1mAUC  : 0.9819\u001b[0m\n",
      "\u001b[32m2023-10-15 21:45:41.225\u001b[0m | \u001b[1mINFO    \u001b[0m | \u001b[36mtester\u001b[0m:\u001b[36mtest\u001b[0m:\u001b[36m84\u001b[0m - \u001b[1mF1   : 0.8062\u001b[0m\n",
      "\u001b[32m2023-10-15 21:45:41.225\u001b[0m | \u001b[1mINFO    \u001b[0m | \u001b[36mtester\u001b[0m:\u001b[36mtest\u001b[0m:\u001b[36m84\u001b[0m - \u001b[1mAcc  : 0.9675\u001b[0m\n",
      "\u001b[32m2023-10-15 21:45:41.226\u001b[0m | \u001b[1mINFO    \u001b[0m | \u001b[36mtester\u001b[0m:\u001b[36mtest\u001b[0m:\u001b[36m84\u001b[0m - \u001b[1mSen  : 0.7736\u001b[0m\n",
      "\u001b[32m2023-10-15 21:45:41.226\u001b[0m | \u001b[1mINFO    \u001b[0m | \u001b[36mtester\u001b[0m:\u001b[36mtest\u001b[0m:\u001b[36m84\u001b[0m - \u001b[1mSpe  : 0.9863\u001b[0m\n",
      "\u001b[32m2023-10-15 21:45:41.227\u001b[0m | \u001b[1mINFO    \u001b[0m | \u001b[36mtester\u001b[0m:\u001b[36mtest\u001b[0m:\u001b[36m84\u001b[0m - \u001b[1mpre  : 0.8446\u001b[0m\n",
      "\u001b[32m2023-10-15 21:45:41.228\u001b[0m | \u001b[1mINFO    \u001b[0m | \u001b[36mtester\u001b[0m:\u001b[36mtest\u001b[0m:\u001b[36m84\u001b[0m - \u001b[1mIOU  : 0.6755\u001b[0m\n",
      "\u001b[32m2023-10-15 21:45:41.228\u001b[0m | \u001b[1mINFO    \u001b[0m | \u001b[36mtester\u001b[0m:\u001b[36mtest\u001b[0m:\u001b[36m84\u001b[0m - \u001b[1mMCC  : 0.7902\u001b[0m\n",
      "TEST (3) | Loss: 0.2991 | AUC 0.9445 F1 0.6140 Acc 0.9553  Sen 0.5954 Spe 0.9803 Pre 0.6680 IOU 0.4498 MCC 0.6003 |B 0.33 D 0.20 |: 100%|██████████| 4/4 [00:02<00:00,  1.63it/s]\n",
      "\u001b[32m2023-10-15 21:45:43.948\u001b[0m | \u001b[1mINFO    \u001b[0m | \u001b[36mtester\u001b[0m:\u001b[36mtest\u001b[0m:\u001b[36m78\u001b[0m - \u001b[1m###### TEST EVALUATION ######\u001b[0m\n",
      "\u001b[32m2023-10-15 21:45:43.949\u001b[0m | \u001b[1mINFO    \u001b[0m | \u001b[36mtester\u001b[0m:\u001b[36mtest\u001b[0m:\u001b[36m79\u001b[0m - \u001b[1mtest time:  0.3308\u001b[0m\n",
      "\u001b[32m2023-10-15 21:45:43.950\u001b[0m | \u001b[1mINFO    \u001b[0m | \u001b[36mtester\u001b[0m:\u001b[36mtest\u001b[0m:\u001b[36m80\u001b[0m - \u001b[1m     loss:  0.2991\u001b[0m\n",
      "\u001b[32m2023-10-15 21:45:43.950\u001b[0m | \u001b[1mINFO    \u001b[0m | \u001b[36mtester\u001b[0m:\u001b[36mtest\u001b[0m:\u001b[36m84\u001b[0m - \u001b[1mAUC  : 0.9445\u001b[0m\n",
      "\u001b[32m2023-10-15 21:45:43.951\u001b[0m | \u001b[1mINFO    \u001b[0m | \u001b[36mtester\u001b[0m:\u001b[36mtest\u001b[0m:\u001b[36m84\u001b[0m - \u001b[1mF1   : 0.614\u001b[0m\n",
      "\u001b[32m2023-10-15 21:45:43.951\u001b[0m | \u001b[1mINFO    \u001b[0m | \u001b[36mtester\u001b[0m:\u001b[36mtest\u001b[0m:\u001b[36m84\u001b[0m - \u001b[1mAcc  : 0.9553\u001b[0m\n",
      "\u001b[32m2023-10-15 21:45:43.951\u001b[0m | \u001b[1mINFO    \u001b[0m | \u001b[36mtester\u001b[0m:\u001b[36mtest\u001b[0m:\u001b[36m84\u001b[0m - \u001b[1mSen  : 0.5954\u001b[0m\n",
      "\u001b[32m2023-10-15 21:45:43.952\u001b[0m | \u001b[1mINFO    \u001b[0m | \u001b[36mtester\u001b[0m:\u001b[36mtest\u001b[0m:\u001b[36m84\u001b[0m - \u001b[1mSpe  : 0.9803\u001b[0m\n",
      "\u001b[32m2023-10-15 21:45:43.953\u001b[0m | \u001b[1mINFO    \u001b[0m | \u001b[36mtester\u001b[0m:\u001b[36mtest\u001b[0m:\u001b[36m84\u001b[0m - \u001b[1mpre  : 0.668\u001b[0m\n",
      "\u001b[32m2023-10-15 21:45:43.953\u001b[0m | \u001b[1mINFO    \u001b[0m | \u001b[36mtester\u001b[0m:\u001b[36mtest\u001b[0m:\u001b[36m84\u001b[0m - \u001b[1mIOU  : 0.4498\u001b[0m\n",
      "\u001b[32m2023-10-15 21:45:43.954\u001b[0m | \u001b[1mINFO    \u001b[0m | \u001b[36mtester\u001b[0m:\u001b[36mtest\u001b[0m:\u001b[36m84\u001b[0m - \u001b[1mMCC  : 0.6003\u001b[0m\n",
      "TEST (49) | Loss: 0.3317 | AUC 0.8966 F1 0.5992 Acc 0.9568  Sen 0.4887 Spe 0.9922 Pre 0.8361 IOU 0.4425 MCC 0.6103 |B 0.31 D 0.05 |: 100%|██████████| 50/50 [00:46<00:00,  1.07it/s]\n",
      "\u001b[32m2023-10-15 21:46:30.992\u001b[0m | \u001b[1mINFO    \u001b[0m | \u001b[36mtester\u001b[0m:\u001b[36mtest\u001b[0m:\u001b[36m78\u001b[0m - \u001b[1m###### TEST EVALUATION ######\u001b[0m\n",
      "\u001b[32m2023-10-15 21:46:30.993\u001b[0m | \u001b[1mINFO    \u001b[0m | \u001b[36mtester\u001b[0m:\u001b[36mtest\u001b[0m:\u001b[36m79\u001b[0m - \u001b[1mtest time:  0.311\u001b[0m\n",
      "\u001b[32m2023-10-15 21:46:30.994\u001b[0m | \u001b[1mINFO    \u001b[0m | \u001b[36mtester\u001b[0m:\u001b[36mtest\u001b[0m:\u001b[36m80\u001b[0m - \u001b[1m     loss:  0.3317\u001b[0m\n",
      "\u001b[32m2023-10-15 21:46:30.994\u001b[0m | \u001b[1mINFO    \u001b[0m | \u001b[36mtester\u001b[0m:\u001b[36mtest\u001b[0m:\u001b[36m84\u001b[0m - \u001b[1mAUC  : 0.8966\u001b[0m\n",
      "\u001b[32m2023-10-15 21:46:30.995\u001b[0m | \u001b[1mINFO    \u001b[0m | \u001b[36mtester\u001b[0m:\u001b[36mtest\u001b[0m:\u001b[36m84\u001b[0m - \u001b[1mF1   : 0.5992\u001b[0m\n",
      "\u001b[32m2023-10-15 21:46:30.995\u001b[0m | \u001b[1mINFO    \u001b[0m | \u001b[36mtester\u001b[0m:\u001b[36mtest\u001b[0m:\u001b[36m84\u001b[0m - \u001b[1mAcc  : 0.9568\u001b[0m\n",
      "\u001b[32m2023-10-15 21:46:30.996\u001b[0m | \u001b[1mINFO    \u001b[0m | \u001b[36mtester\u001b[0m:\u001b[36mtest\u001b[0m:\u001b[36m84\u001b[0m - \u001b[1mSen  : 0.4887\u001b[0m\n",
      "\u001b[32m2023-10-15 21:46:30.996\u001b[0m | \u001b[1mINFO    \u001b[0m | \u001b[36mtester\u001b[0m:\u001b[36mtest\u001b[0m:\u001b[36m84\u001b[0m - \u001b[1mSpe  : 0.9922\u001b[0m\n",
      "\u001b[32m2023-10-15 21:46:30.996\u001b[0m | \u001b[1mINFO    \u001b[0m | \u001b[36mtester\u001b[0m:\u001b[36mtest\u001b[0m:\u001b[36m84\u001b[0m - \u001b[1mpre  : 0.8361\u001b[0m\n",
      "\u001b[32m2023-10-15 21:46:30.997\u001b[0m | \u001b[1mINFO    \u001b[0m | \u001b[36mtester\u001b[0m:\u001b[36mtest\u001b[0m:\u001b[36m84\u001b[0m - \u001b[1mIOU  : 0.4425\u001b[0m\n",
      "\u001b[32m2023-10-15 21:46:30.997\u001b[0m | \u001b[1mINFO    \u001b[0m | \u001b[36mtester\u001b[0m:\u001b[36mtest\u001b[0m:\u001b[36m84\u001b[0m - \u001b[1mMCC  : 0.6103\u001b[0m\n"
     ]
    }
   ],
   "source": [
    "# DRIVE On DRIVE\n",
    "weight_path = '/mnt/qb/berens/users/jfadugba97/RetinaSegmentation/model_results/FR_UNet/DRIVE/CE_DiceLoss/checkpoint-epoch80.pth'\n",
    "config_file = \"../config/fr_unet_drive.yaml\"\n",
    "\n",
    "\n",
    "main_result(config_file, dataset=drive_dataset, bs=4, weight_path=weight_path)\n",
    "\n",
    "# DRIVE on CHASE\n",
    "main_result(config_file, dataset=chase_dataset, bs=2, weight_path=weight_path)\n",
    "\n",
    "# DRIVES on FIVES\n",
    "main_result(config_file, dataset=fives_dataset, bs=4, weight_path=weight_path)"
   ]
  },
  {
   "cell_type": "code",
   "execution_count": 21,
   "metadata": {},
   "outputs": [
    {
     "name": "stderr",
     "output_type": "stream",
     "text": [
      "TEST (49) | Loss: 0.0829 | AUC 0.9911 F1 0.9037 Acc 0.9872  Sen 0.8686 Spe 0.9960 Pre 0.9430 IOU 0.8257 MCC 0.8980 |B 0.34 D 0.08 |: 100%|██████████| 50/50 [00:47<00:00,  1.05it/s]\n",
      "\u001b[32m2023-10-15 21:53:04.413\u001b[0m | \u001b[1mINFO    \u001b[0m | \u001b[36mtester\u001b[0m:\u001b[36mtest\u001b[0m:\u001b[36m78\u001b[0m - \u001b[1m###### TEST EVALUATION ######\u001b[0m\n",
      "\u001b[32m2023-10-15 21:53:04.414\u001b[0m | \u001b[1mINFO    \u001b[0m | \u001b[36mtester\u001b[0m:\u001b[36mtest\u001b[0m:\u001b[36m79\u001b[0m - \u001b[1mtest time:  0.3405\u001b[0m\n",
      "\u001b[32m2023-10-15 21:53:04.414\u001b[0m | \u001b[1mINFO    \u001b[0m | \u001b[36mtester\u001b[0m:\u001b[36mtest\u001b[0m:\u001b[36m80\u001b[0m - \u001b[1m     loss:  0.0829\u001b[0m\n",
      "\u001b[32m2023-10-15 21:53:04.415\u001b[0m | \u001b[1mINFO    \u001b[0m | \u001b[36mtester\u001b[0m:\u001b[36mtest\u001b[0m:\u001b[36m84\u001b[0m - \u001b[1mAUC  : 0.9911\u001b[0m\n",
      "\u001b[32m2023-10-15 21:53:04.416\u001b[0m | \u001b[1mINFO    \u001b[0m | \u001b[36mtester\u001b[0m:\u001b[36mtest\u001b[0m:\u001b[36m84\u001b[0m - \u001b[1mF1   : 0.9037\u001b[0m\n",
      "\u001b[32m2023-10-15 21:53:04.416\u001b[0m | \u001b[1mINFO    \u001b[0m | \u001b[36mtester\u001b[0m:\u001b[36mtest\u001b[0m:\u001b[36m84\u001b[0m - \u001b[1mAcc  : 0.9872\u001b[0m\n",
      "\u001b[32m2023-10-15 21:53:04.417\u001b[0m | \u001b[1mINFO    \u001b[0m | \u001b[36mtester\u001b[0m:\u001b[36mtest\u001b[0m:\u001b[36m84\u001b[0m - \u001b[1mSen  : 0.8686\u001b[0m\n",
      "\u001b[32m2023-10-15 21:53:04.417\u001b[0m | \u001b[1mINFO    \u001b[0m | \u001b[36mtester\u001b[0m:\u001b[36mtest\u001b[0m:\u001b[36m84\u001b[0m - \u001b[1mSpe  : 0.996\u001b[0m\n",
      "\u001b[32m2023-10-15 21:53:04.418\u001b[0m | \u001b[1mINFO    \u001b[0m | \u001b[36mtester\u001b[0m:\u001b[36mtest\u001b[0m:\u001b[36m84\u001b[0m - \u001b[1mpre  : 0.943\u001b[0m\n",
      "\u001b[32m2023-10-15 21:53:04.418\u001b[0m | \u001b[1mINFO    \u001b[0m | \u001b[36mtester\u001b[0m:\u001b[36mtest\u001b[0m:\u001b[36m84\u001b[0m - \u001b[1mIOU  : 0.8257\u001b[0m\n",
      "\u001b[32m2023-10-15 21:53:04.418\u001b[0m | \u001b[1mINFO    \u001b[0m | \u001b[36mtester\u001b[0m:\u001b[36mtest\u001b[0m:\u001b[36m84\u001b[0m - \u001b[1mMCC  : 0.898\u001b[0m\n",
      "TEST (4) | Loss: 0.2303 | AUC 0.9222 F1 0.7468 Acc 0.9594  Sen 0.6843 Spe 0.9860 Pre 0.8248 IOU 0.5964 MCC 0.7294 |B 0.51 D 0.25 |: 100%|██████████| 5/5 [00:05<00:00,  1.13s/it]\n",
      "\u001b[32m2023-10-15 21:53:10.317\u001b[0m | \u001b[1mINFO    \u001b[0m | \u001b[36mtester\u001b[0m:\u001b[36mtest\u001b[0m:\u001b[36m78\u001b[0m - \u001b[1m###### TEST EVALUATION ######\u001b[0m\n",
      "\u001b[32m2023-10-15 21:53:10.318\u001b[0m | \u001b[1mINFO    \u001b[0m | \u001b[36mtester\u001b[0m:\u001b[36mtest\u001b[0m:\u001b[36m79\u001b[0m - \u001b[1mtest time:  0.512\u001b[0m\n",
      "\u001b[32m2023-10-15 21:53:10.319\u001b[0m | \u001b[1mINFO    \u001b[0m | \u001b[36mtester\u001b[0m:\u001b[36mtest\u001b[0m:\u001b[36m80\u001b[0m - \u001b[1m     loss:  0.2303\u001b[0m\n",
      "\u001b[32m2023-10-15 21:53:10.319\u001b[0m | \u001b[1mINFO    \u001b[0m | \u001b[36mtester\u001b[0m:\u001b[36mtest\u001b[0m:\u001b[36m84\u001b[0m - \u001b[1mAUC  : 0.9222\u001b[0m\n",
      "\u001b[32m2023-10-15 21:53:10.320\u001b[0m | \u001b[1mINFO    \u001b[0m | \u001b[36mtester\u001b[0m:\u001b[36mtest\u001b[0m:\u001b[36m84\u001b[0m - \u001b[1mF1   : 0.7468\u001b[0m\n",
      "\u001b[32m2023-10-15 21:53:10.320\u001b[0m | \u001b[1mINFO    \u001b[0m | \u001b[36mtester\u001b[0m:\u001b[36mtest\u001b[0m:\u001b[36m84\u001b[0m - \u001b[1mAcc  : 0.9594\u001b[0m\n",
      "\u001b[32m2023-10-15 21:53:10.321\u001b[0m | \u001b[1mINFO    \u001b[0m | \u001b[36mtester\u001b[0m:\u001b[36mtest\u001b[0m:\u001b[36m84\u001b[0m - \u001b[1mSen  : 0.6843\u001b[0m\n",
      "\u001b[32m2023-10-15 21:53:10.321\u001b[0m | \u001b[1mINFO    \u001b[0m | \u001b[36mtester\u001b[0m:\u001b[36mtest\u001b[0m:\u001b[36m84\u001b[0m - \u001b[1mSpe  : 0.986\u001b[0m\n",
      "\u001b[32m2023-10-15 21:53:10.321\u001b[0m | \u001b[1mINFO    \u001b[0m | \u001b[36mtester\u001b[0m:\u001b[36mtest\u001b[0m:\u001b[36m84\u001b[0m - \u001b[1mpre  : 0.8248\u001b[0m\n",
      "\u001b[32m2023-10-15 21:53:10.322\u001b[0m | \u001b[1mINFO    \u001b[0m | \u001b[36mtester\u001b[0m:\u001b[36mtest\u001b[0m:\u001b[36m84\u001b[0m - \u001b[1mIOU  : 0.5964\u001b[0m\n",
      "\u001b[32m2023-10-15 21:53:10.322\u001b[0m | \u001b[1mINFO    \u001b[0m | \u001b[36mtester\u001b[0m:\u001b[36mtest\u001b[0m:\u001b[36m84\u001b[0m - \u001b[1mMCC  : 0.7294\u001b[0m\n",
      "TEST (1) | Loss: 0.1912 | AUC 0.9817 F1 0.7871 Acc 0.9700  Sen 0.8770 Spe 0.9764 Pre 0.7146 IOU 0.6489 MCC 0.7762 |B 0.71 D 0.45 |: 100%|██████████| 2/2 [00:02<00:00,  1.36s/it]\n",
      "\u001b[32m2023-10-15 21:53:13.293\u001b[0m | \u001b[1mINFO    \u001b[0m | \u001b[36mtester\u001b[0m:\u001b[36mtest\u001b[0m:\u001b[36m78\u001b[0m - \u001b[1m###### TEST EVALUATION ######\u001b[0m\n",
      "\u001b[32m2023-10-15 21:53:13.293\u001b[0m | \u001b[1mINFO    \u001b[0m | \u001b[36mtester\u001b[0m:\u001b[36mtest\u001b[0m:\u001b[36m79\u001b[0m - \u001b[1mtest time:  0.7137\u001b[0m\n",
      "\u001b[32m2023-10-15 21:53:13.294\u001b[0m | \u001b[1mINFO    \u001b[0m | \u001b[36mtester\u001b[0m:\u001b[36mtest\u001b[0m:\u001b[36m80\u001b[0m - \u001b[1m     loss:  0.1912\u001b[0m\n",
      "\u001b[32m2023-10-15 21:53:13.295\u001b[0m | \u001b[1mINFO    \u001b[0m | \u001b[36mtester\u001b[0m:\u001b[36mtest\u001b[0m:\u001b[36m84\u001b[0m - \u001b[1mAUC  : 0.9817\u001b[0m\n",
      "\u001b[32m2023-10-15 21:53:13.295\u001b[0m | \u001b[1mINFO    \u001b[0m | \u001b[36mtester\u001b[0m:\u001b[36mtest\u001b[0m:\u001b[36m84\u001b[0m - \u001b[1mF1   : 0.7871\u001b[0m\n",
      "\u001b[32m2023-10-15 21:53:13.296\u001b[0m | \u001b[1mINFO    \u001b[0m | \u001b[36mtester\u001b[0m:\u001b[36mtest\u001b[0m:\u001b[36m84\u001b[0m - \u001b[1mAcc  : 0.97\u001b[0m\n",
      "\u001b[32m2023-10-15 21:53:13.296\u001b[0m | \u001b[1mINFO    \u001b[0m | \u001b[36mtester\u001b[0m:\u001b[36mtest\u001b[0m:\u001b[36m84\u001b[0m - \u001b[1mSen  : 0.877\u001b[0m\n",
      "\u001b[32m2023-10-15 21:53:13.297\u001b[0m | \u001b[1mINFO    \u001b[0m | \u001b[36mtester\u001b[0m:\u001b[36mtest\u001b[0m:\u001b[36m84\u001b[0m - \u001b[1mSpe  : 0.9764\u001b[0m\n",
      "\u001b[32m2023-10-15 21:53:13.298\u001b[0m | \u001b[1mINFO    \u001b[0m | \u001b[36mtester\u001b[0m:\u001b[36mtest\u001b[0m:\u001b[36m84\u001b[0m - \u001b[1mpre  : 0.7146\u001b[0m\n",
      "\u001b[32m2023-10-15 21:53:13.299\u001b[0m | \u001b[1mINFO    \u001b[0m | \u001b[36mtester\u001b[0m:\u001b[36mtest\u001b[0m:\u001b[36m84\u001b[0m - \u001b[1mIOU  : 0.6489\u001b[0m\n",
      "\u001b[32m2023-10-15 21:53:13.299\u001b[0m | \u001b[1mINFO    \u001b[0m | \u001b[36mtester\u001b[0m:\u001b[36mtest\u001b[0m:\u001b[36m84\u001b[0m - \u001b[1mMCC  : 0.7762\u001b[0m\n"
     ]
    }
   ],
   "source": [
    "# FIVES on FIVES\n",
    "weight_path = '/mnt/qb/berens/users/jfadugba97/RetinaSegmentation/model_results/FR_UNet/FIVES/CE_DiceLoss/checkpoint-epoch70.pth'\n",
    "config_file = \"../configs/fr_unet_cldice.yaml\"\n",
    "\n",
    "main_result(config_file, dataset=fives_dataset, bs=4, weight_path=weight_path)\n",
    "\n",
    "# FIVES on DRIVE\n",
    "main_result(config_file, dataset=drive_dataset, bs=4, weight_path=weight_path)\n",
    "\n",
    "# FIVES on CHASE\n",
    "\n",
    "main_result(config_file, dataset=chase_dataset, bs=4, weight_path=weight_path)"
   ]
  },
  {
   "cell_type": "markdown",
   "metadata": {},
   "source": [
    "## MANet"
   ]
  },
  {
   "cell_type": "code",
   "execution_count": 22,
   "metadata": {},
   "outputs": [
    {
     "name": "stderr",
     "output_type": "stream",
     "text": [
      "TEST (1) | Loss: 0.1470 | AUC 0.9876 F1 0.8056 Acc 0.9758  Sen 0.7970 Spe 0.9878 Pre 0.8146 IOU 0.6745 MCC 0.7928 |B 0.67 D 0.40 |: 100%|██████████| 2/2 [00:02<00:00,  1.29s/it]\n",
      "\u001b[32m2023-10-15 21:53:52.220\u001b[0m | \u001b[1mINFO    \u001b[0m | \u001b[36mtester\u001b[0m:\u001b[36mtest\u001b[0m:\u001b[36m78\u001b[0m - \u001b[1m###### TEST EVALUATION ######\u001b[0m\n",
      "\u001b[32m2023-10-15 21:53:52.221\u001b[0m | \u001b[1mINFO    \u001b[0m | \u001b[36mtester\u001b[0m:\u001b[36mtest\u001b[0m:\u001b[36m79\u001b[0m - \u001b[1mtest time:  0.6723\u001b[0m\n",
      "\u001b[32m2023-10-15 21:53:52.222\u001b[0m | \u001b[1mINFO    \u001b[0m | \u001b[36mtester\u001b[0m:\u001b[36mtest\u001b[0m:\u001b[36m80\u001b[0m - \u001b[1m     loss:  0.147\u001b[0m\n",
      "\u001b[32m2023-10-15 21:53:52.222\u001b[0m | \u001b[1mINFO    \u001b[0m | \u001b[36mtester\u001b[0m:\u001b[36mtest\u001b[0m:\u001b[36m84\u001b[0m - \u001b[1mAUC  : 0.9876\u001b[0m\n",
      "\u001b[32m2023-10-15 21:53:52.223\u001b[0m | \u001b[1mINFO    \u001b[0m | \u001b[36mtester\u001b[0m:\u001b[36mtest\u001b[0m:\u001b[36m84\u001b[0m - \u001b[1mF1   : 0.8056\u001b[0m\n",
      "\u001b[32m2023-10-15 21:53:52.223\u001b[0m | \u001b[1mINFO    \u001b[0m | \u001b[36mtester\u001b[0m:\u001b[36mtest\u001b[0m:\u001b[36m84\u001b[0m - \u001b[1mAcc  : 0.9758\u001b[0m\n",
      "\u001b[32m2023-10-15 21:53:52.224\u001b[0m | \u001b[1mINFO    \u001b[0m | \u001b[36mtester\u001b[0m:\u001b[36mtest\u001b[0m:\u001b[36m84\u001b[0m - \u001b[1mSen  : 0.797\u001b[0m\n",
      "\u001b[32m2023-10-15 21:53:52.224\u001b[0m | \u001b[1mINFO    \u001b[0m | \u001b[36mtester\u001b[0m:\u001b[36mtest\u001b[0m:\u001b[36m84\u001b[0m - \u001b[1mSpe  : 0.9878\u001b[0m\n",
      "\u001b[32m2023-10-15 21:53:52.226\u001b[0m | \u001b[1mINFO    \u001b[0m | \u001b[36mtester\u001b[0m:\u001b[36mtest\u001b[0m:\u001b[36m84\u001b[0m - \u001b[1mpre  : 0.8146\u001b[0m\n",
      "\u001b[32m2023-10-15 21:53:52.227\u001b[0m | \u001b[1mINFO    \u001b[0m | \u001b[36mtester\u001b[0m:\u001b[36mtest\u001b[0m:\u001b[36m84\u001b[0m - \u001b[1mIOU  : 0.6745\u001b[0m\n",
      "\u001b[32m2023-10-15 21:53:52.227\u001b[0m | \u001b[1mINFO    \u001b[0m | \u001b[36mtester\u001b[0m:\u001b[36mtest\u001b[0m:\u001b[36m84\u001b[0m - \u001b[1mMCC  : 0.7928\u001b[0m\n",
      "TEST (49) | Loss: 0.1986 | AUC 0.9806 F1 0.7317 Acc 0.9699  Sen 0.5952 Spe 0.9979 Pre 0.9582 IOU 0.5799 MCC 0.7408 |B 0.90 D 0.87 |: 100%|██████████| 50/50 [01:14<00:00,  1.49s/it]\n",
      "\u001b[32m2023-10-15 21:55:08.382\u001b[0m | \u001b[1mINFO    \u001b[0m | \u001b[36mtester\u001b[0m:\u001b[36mtest\u001b[0m:\u001b[36m78\u001b[0m - \u001b[1m###### TEST EVALUATION ######\u001b[0m\n",
      "\u001b[32m2023-10-15 21:55:08.383\u001b[0m | \u001b[1mINFO    \u001b[0m | \u001b[36mtester\u001b[0m:\u001b[36mtest\u001b[0m:\u001b[36m79\u001b[0m - \u001b[1mtest time:  0.9027\u001b[0m\n",
      "\u001b[32m2023-10-15 21:55:08.384\u001b[0m | \u001b[1mINFO    \u001b[0m | \u001b[36mtester\u001b[0m:\u001b[36mtest\u001b[0m:\u001b[36m80\u001b[0m - \u001b[1m     loss:  0.1986\u001b[0m\n",
      "\u001b[32m2023-10-15 21:55:08.384\u001b[0m | \u001b[1mINFO    \u001b[0m | \u001b[36mtester\u001b[0m:\u001b[36mtest\u001b[0m:\u001b[36m84\u001b[0m - \u001b[1mAUC  : 0.9806\u001b[0m\n",
      "\u001b[32m2023-10-15 21:55:08.385\u001b[0m | \u001b[1mINFO    \u001b[0m | \u001b[36mtester\u001b[0m:\u001b[36mtest\u001b[0m:\u001b[36m84\u001b[0m - \u001b[1mF1   : 0.7317\u001b[0m\n",
      "\u001b[32m2023-10-15 21:55:08.385\u001b[0m | \u001b[1mINFO    \u001b[0m | \u001b[36mtester\u001b[0m:\u001b[36mtest\u001b[0m:\u001b[36m84\u001b[0m - \u001b[1mAcc  : 0.9699\u001b[0m\n",
      "\u001b[32m2023-10-15 21:55:08.386\u001b[0m | \u001b[1mINFO    \u001b[0m | \u001b[36mtester\u001b[0m:\u001b[36mtest\u001b[0m:\u001b[36m84\u001b[0m - \u001b[1mSen  : 0.5952\u001b[0m\n",
      "\u001b[32m2023-10-15 21:55:08.386\u001b[0m | \u001b[1mINFO    \u001b[0m | \u001b[36mtester\u001b[0m:\u001b[36mtest\u001b[0m:\u001b[36m84\u001b[0m - \u001b[1mSpe  : 0.9979\u001b[0m\n",
      "\u001b[32m2023-10-15 21:55:08.387\u001b[0m | \u001b[1mINFO    \u001b[0m | \u001b[36mtester\u001b[0m:\u001b[36mtest\u001b[0m:\u001b[36m84\u001b[0m - \u001b[1mpre  : 0.9582\u001b[0m\n",
      "\u001b[32m2023-10-15 21:55:08.388\u001b[0m | \u001b[1mINFO    \u001b[0m | \u001b[36mtester\u001b[0m:\u001b[36mtest\u001b[0m:\u001b[36m84\u001b[0m - \u001b[1mIOU  : 0.5799\u001b[0m\n",
      "\u001b[32m2023-10-15 21:55:08.388\u001b[0m | \u001b[1mINFO    \u001b[0m | \u001b[36mtester\u001b[0m:\u001b[36mtest\u001b[0m:\u001b[36m84\u001b[0m - \u001b[1mMCC  : 0.7408\u001b[0m\n",
      "TEST (4) | Loss: 0.2630 | AUC 0.9601 F1 0.6892 Acc 0.9565  Sen 0.5516 Spe 0.9955 Pre 0.9214 IOU 0.5262 MCC 0.6934 |B 0.23 D 0.20 |: 100%|██████████| 5/5 [00:04<00:00,  1.24it/s]\n",
      "\u001b[32m2023-10-15 21:55:14.045\u001b[0m | \u001b[1mINFO    \u001b[0m | \u001b[36mtester\u001b[0m:\u001b[36mtest\u001b[0m:\u001b[36m78\u001b[0m - \u001b[1m###### TEST EVALUATION ######\u001b[0m\n",
      "\u001b[32m2023-10-15 21:55:14.046\u001b[0m | \u001b[1mINFO    \u001b[0m | \u001b[36mtester\u001b[0m:\u001b[36mtest\u001b[0m:\u001b[36m79\u001b[0m - \u001b[1mtest time:  0.2285\u001b[0m\n",
      "\u001b[32m2023-10-15 21:55:14.046\u001b[0m | \u001b[1mINFO    \u001b[0m | \u001b[36mtester\u001b[0m:\u001b[36mtest\u001b[0m:\u001b[36m80\u001b[0m - \u001b[1m     loss:  0.263\u001b[0m\n",
      "\u001b[32m2023-10-15 21:55:14.047\u001b[0m | \u001b[1mINFO    \u001b[0m | \u001b[36mtester\u001b[0m:\u001b[36mtest\u001b[0m:\u001b[36m84\u001b[0m - \u001b[1mAUC  : 0.9601\u001b[0m\n",
      "\u001b[32m2023-10-15 21:55:14.047\u001b[0m | \u001b[1mINFO    \u001b[0m | \u001b[36mtester\u001b[0m:\u001b[36mtest\u001b[0m:\u001b[36m84\u001b[0m - \u001b[1mF1   : 0.6892\u001b[0m\n",
      "\u001b[32m2023-10-15 21:55:14.048\u001b[0m | \u001b[1mINFO    \u001b[0m | \u001b[36mtester\u001b[0m:\u001b[36mtest\u001b[0m:\u001b[36m84\u001b[0m - \u001b[1mAcc  : 0.9565\u001b[0m\n",
      "\u001b[32m2023-10-15 21:55:14.048\u001b[0m | \u001b[1mINFO    \u001b[0m | \u001b[36mtester\u001b[0m:\u001b[36mtest\u001b[0m:\u001b[36m84\u001b[0m - \u001b[1mSen  : 0.5516\u001b[0m\n",
      "\u001b[32m2023-10-15 21:55:14.050\u001b[0m | \u001b[1mINFO    \u001b[0m | \u001b[36mtester\u001b[0m:\u001b[36mtest\u001b[0m:\u001b[36m84\u001b[0m - \u001b[1mSpe  : 0.9955\u001b[0m\n",
      "\u001b[32m2023-10-15 21:55:14.051\u001b[0m | \u001b[1mINFO    \u001b[0m | \u001b[36mtester\u001b[0m:\u001b[36mtest\u001b[0m:\u001b[36m84\u001b[0m - \u001b[1mpre  : 0.9214\u001b[0m\n",
      "\u001b[32m2023-10-15 21:55:14.051\u001b[0m | \u001b[1mINFO    \u001b[0m | \u001b[36mtester\u001b[0m:\u001b[36mtest\u001b[0m:\u001b[36m84\u001b[0m - \u001b[1mIOU  : 0.5262\u001b[0m\n",
      "\u001b[32m2023-10-15 21:55:14.052\u001b[0m | \u001b[1mINFO    \u001b[0m | \u001b[36mtester\u001b[0m:\u001b[36mtest\u001b[0m:\u001b[36m84\u001b[0m - \u001b[1mMCC  : 0.6934\u001b[0m\n"
     ]
    }
   ],
   "source": [
    "# CHASEDB on CHASEDB\n",
    "weight_path = '/mnt/qb/berens/users/jfadugba97/RetinaSegmentation/model_results/MANet/CHASE/CE_DiceLoss/checkpoint-epoch80.pth'\n",
    "config_file = \"../configs/manet_cldice.yaml\"\n",
    "\n",
    "main_result(config_file, dataset=chase_dataset, bs=4, weight_path=weight_path)\n",
    "\n",
    "# CHASEDB on FIVES\n",
    "main_result(config_file, dataset=fives_dataset, bs=4, weight_path=weight_path)\n",
    "\n",
    "# CHASEDB on DRIVE\n",
    "main_result(config_file, dataset=drive_dataset, bs=4, weight_path=weight_path)"
   ]
  },
  {
   "cell_type": "code",
   "execution_count": 8,
   "metadata": {},
   "outputs": [
    {
     "name": "stderr",
     "output_type": "stream",
     "text": [
      "TEST (4) | Loss: 0.1904 | AUC 0.9745 F1 0.7777 Acc 0.9631  Sen 0.7397 Spe 0.9847 Pre 0.8225 IOU 0.6364 MCC 0.7596 |B 1.71 D 0.72 |: 100%|██████████| 5/5 [00:11<00:00,  2.36s/it]\n",
      "\u001b[32m2023-11-28 13:12:04.677\u001b[0m | \u001b[1mINFO    \u001b[0m | \u001b[36mtester\u001b[0m:\u001b[36mtest\u001b[0m:\u001b[36m78\u001b[0m - \u001b[1m###### TEST EVALUATION ######\u001b[0m\n",
      "\u001b[32m2023-11-28 13:12:04.677\u001b[0m | \u001b[1mINFO    \u001b[0m | \u001b[36mtester\u001b[0m:\u001b[36mtest\u001b[0m:\u001b[36m79\u001b[0m - \u001b[1mtest time:  1.7145\u001b[0m\n",
      "\u001b[32m2023-11-28 13:12:04.678\u001b[0m | \u001b[1mINFO    \u001b[0m | \u001b[36mtester\u001b[0m:\u001b[36mtest\u001b[0m:\u001b[36m80\u001b[0m - \u001b[1m     loss:  0.1904\u001b[0m\n",
      "\u001b[32m2023-11-28 13:12:04.678\u001b[0m | \u001b[1mINFO    \u001b[0m | \u001b[36mtester\u001b[0m:\u001b[36mtest\u001b[0m:\u001b[36m84\u001b[0m - \u001b[1mAUC  : 0.9745\u001b[0m\n",
      "\u001b[32m2023-11-28 13:12:04.679\u001b[0m | \u001b[1mINFO    \u001b[0m | \u001b[36mtester\u001b[0m:\u001b[36mtest\u001b[0m:\u001b[36m84\u001b[0m - \u001b[1mF1   : 0.7777\u001b[0m\n",
      "\u001b[32m2023-11-28 13:12:04.679\u001b[0m | \u001b[1mINFO    \u001b[0m | \u001b[36mtester\u001b[0m:\u001b[36mtest\u001b[0m:\u001b[36m84\u001b[0m - \u001b[1mAcc  : 0.9631\u001b[0m\n",
      "\u001b[32m2023-11-28 13:12:04.680\u001b[0m | \u001b[1mINFO    \u001b[0m | \u001b[36mtester\u001b[0m:\u001b[36mtest\u001b[0m:\u001b[36m84\u001b[0m - \u001b[1mSen  : 0.7397\u001b[0m\n",
      "\u001b[32m2023-11-28 13:12:04.680\u001b[0m | \u001b[1mINFO    \u001b[0m | \u001b[36mtester\u001b[0m:\u001b[36mtest\u001b[0m:\u001b[36m84\u001b[0m - \u001b[1mSpe  : 0.9847\u001b[0m\n",
      "\u001b[32m2023-11-28 13:12:04.681\u001b[0m | \u001b[1mINFO    \u001b[0m | \u001b[36mtester\u001b[0m:\u001b[36mtest\u001b[0m:\u001b[36m84\u001b[0m - \u001b[1mpre  : 0.8225\u001b[0m\n",
      "\u001b[32m2023-11-28 13:12:04.681\u001b[0m | \u001b[1mINFO    \u001b[0m | \u001b[36mtester\u001b[0m:\u001b[36mtest\u001b[0m:\u001b[36m84\u001b[0m - \u001b[1mIOU  : 0.6364\u001b[0m\n",
      "\u001b[32m2023-11-28 13:12:04.682\u001b[0m | \u001b[1mINFO    \u001b[0m | \u001b[36mtester\u001b[0m:\u001b[36mtest\u001b[0m:\u001b[36m84\u001b[0m - \u001b[1mMCC  : 0.7596\u001b[0m\n",
      "TEST (1) | Loss: 0.2557 | AUC 0.9602 F1 0.6735 Acc 0.9556  Sen 0.7263 Spe 0.9710 Pre 0.6284 IOU 0.5078 MCC 0.6520 |B 0.93 D 0.90 |: 100%|██████████| 2/2 [00:03<00:00,  1.56s/it]\n",
      "\u001b[32m2023-11-28 13:12:09.270\u001b[0m | \u001b[1mINFO    \u001b[0m | \u001b[36mtester\u001b[0m:\u001b[36mtest\u001b[0m:\u001b[36m78\u001b[0m - \u001b[1m###### TEST EVALUATION ######\u001b[0m\n",
      "\u001b[32m2023-11-28 13:12:09.271\u001b[0m | \u001b[1mINFO    \u001b[0m | \u001b[36mtester\u001b[0m:\u001b[36mtest\u001b[0m:\u001b[36m79\u001b[0m - \u001b[1mtest time:  0.9255\u001b[0m\n",
      "\u001b[32m2023-11-28 13:12:09.271\u001b[0m | \u001b[1mINFO    \u001b[0m | \u001b[36mtester\u001b[0m:\u001b[36mtest\u001b[0m:\u001b[36m80\u001b[0m - \u001b[1m     loss:  0.2557\u001b[0m\n",
      "\u001b[32m2023-11-28 13:12:09.272\u001b[0m | \u001b[1mINFO    \u001b[0m | \u001b[36mtester\u001b[0m:\u001b[36mtest\u001b[0m:\u001b[36m84\u001b[0m - \u001b[1mAUC  : 0.9602\u001b[0m\n",
      "\u001b[32m2023-11-28 13:12:09.273\u001b[0m | \u001b[1mINFO    \u001b[0m | \u001b[36mtester\u001b[0m:\u001b[36mtest\u001b[0m:\u001b[36m84\u001b[0m - \u001b[1mF1   : 0.6735\u001b[0m\n",
      "\u001b[32m2023-11-28 13:12:09.274\u001b[0m | \u001b[1mINFO    \u001b[0m | \u001b[36mtester\u001b[0m:\u001b[36mtest\u001b[0m:\u001b[36m84\u001b[0m - \u001b[1mAcc  : 0.9556\u001b[0m\n",
      "\u001b[32m2023-11-28 13:12:09.274\u001b[0m | \u001b[1mINFO    \u001b[0m | \u001b[36mtester\u001b[0m:\u001b[36mtest\u001b[0m:\u001b[36m84\u001b[0m - \u001b[1mSen  : 0.7263\u001b[0m\n",
      "\u001b[32m2023-11-28 13:12:09.274\u001b[0m | \u001b[1mINFO    \u001b[0m | \u001b[36mtester\u001b[0m:\u001b[36mtest\u001b[0m:\u001b[36m84\u001b[0m - \u001b[1mSpe  : 0.971\u001b[0m\n",
      "\u001b[32m2023-11-28 13:12:09.275\u001b[0m | \u001b[1mINFO    \u001b[0m | \u001b[36mtester\u001b[0m:\u001b[36mtest\u001b[0m:\u001b[36m84\u001b[0m - \u001b[1mpre  : 0.6284\u001b[0m\n",
      "\u001b[32m2023-11-28 13:12:09.275\u001b[0m | \u001b[1mINFO    \u001b[0m | \u001b[36mtester\u001b[0m:\u001b[36mtest\u001b[0m:\u001b[36m84\u001b[0m - \u001b[1mIOU  : 0.5078\u001b[0m\n",
      "\u001b[32m2023-11-28 13:12:09.276\u001b[0m | \u001b[1mINFO    \u001b[0m | \u001b[36mtester\u001b[0m:\u001b[36mtest\u001b[0m:\u001b[36m84\u001b[0m - \u001b[1mMCC  : 0.652\u001b[0m\n",
      "TEST (49) | Loss: 0.2139 | AUC 0.9609 F1 0.7357 Acc 0.9631  Sen 0.7317 Spe 0.9797 Pre 0.7514 IOU 0.5855 MCC 0.7192 |B 0.10 D 0.08 |: 100%|██████████| 50/50 [00:34<00:00,  1.44it/s]\n",
      "\u001b[32m2023-11-28 13:12:45.266\u001b[0m | \u001b[1mINFO    \u001b[0m | \u001b[36mtester\u001b[0m:\u001b[36mtest\u001b[0m:\u001b[36m78\u001b[0m - \u001b[1m###### TEST EVALUATION ######\u001b[0m\n",
      "\u001b[32m2023-11-28 13:12:45.267\u001b[0m | \u001b[1mINFO    \u001b[0m | \u001b[36mtester\u001b[0m:\u001b[36mtest\u001b[0m:\u001b[36m79\u001b[0m - \u001b[1mtest time:  0.102\u001b[0m\n",
      "\u001b[32m2023-11-28 13:12:45.267\u001b[0m | \u001b[1mINFO    \u001b[0m | \u001b[36mtester\u001b[0m:\u001b[36mtest\u001b[0m:\u001b[36m80\u001b[0m - \u001b[1m     loss:  0.2139\u001b[0m\n",
      "\u001b[32m2023-11-28 13:12:45.267\u001b[0m | \u001b[1mINFO    \u001b[0m | \u001b[36mtester\u001b[0m:\u001b[36mtest\u001b[0m:\u001b[36m84\u001b[0m - \u001b[1mAUC  : 0.9609\u001b[0m\n",
      "\u001b[32m2023-11-28 13:12:45.268\u001b[0m | \u001b[1mINFO    \u001b[0m | \u001b[36mtester\u001b[0m:\u001b[36mtest\u001b[0m:\u001b[36m84\u001b[0m - \u001b[1mF1   : 0.7357\u001b[0m\n",
      "\u001b[32m2023-11-28 13:12:45.269\u001b[0m | \u001b[1mINFO    \u001b[0m | \u001b[36mtester\u001b[0m:\u001b[36mtest\u001b[0m:\u001b[36m84\u001b[0m - \u001b[1mAcc  : 0.9631\u001b[0m\n",
      "\u001b[32m2023-11-28 13:12:45.269\u001b[0m | \u001b[1mINFO    \u001b[0m | \u001b[36mtester\u001b[0m:\u001b[36mtest\u001b[0m:\u001b[36m84\u001b[0m - \u001b[1mSen  : 0.7317\u001b[0m\n",
      "\u001b[32m2023-11-28 13:12:45.270\u001b[0m | \u001b[1mINFO    \u001b[0m | \u001b[36mtester\u001b[0m:\u001b[36mtest\u001b[0m:\u001b[36m84\u001b[0m - \u001b[1mSpe  : 0.9797\u001b[0m\n",
      "\u001b[32m2023-11-28 13:12:45.270\u001b[0m | \u001b[1mINFO    \u001b[0m | \u001b[36mtester\u001b[0m:\u001b[36mtest\u001b[0m:\u001b[36m84\u001b[0m - \u001b[1mpre  : 0.7514\u001b[0m\n",
      "\u001b[32m2023-11-28 13:12:45.270\u001b[0m | \u001b[1mINFO    \u001b[0m | \u001b[36mtester\u001b[0m:\u001b[36mtest\u001b[0m:\u001b[36m84\u001b[0m - \u001b[1mIOU  : 0.5855\u001b[0m\n",
      "\u001b[32m2023-11-28 13:12:45.271\u001b[0m | \u001b[1mINFO    \u001b[0m | \u001b[36mtester\u001b[0m:\u001b[36mtest\u001b[0m:\u001b[36m84\u001b[0m - \u001b[1mMCC  : 0.7192\u001b[0m\n"
     ]
    }
   ],
   "source": [
    "# DRIVE On DRIVE No model\n",
    "weight_path = '/mnt/qb/berens/users/jfadugba97/RetinaSegmentation/model_results/MANet/DRIVE/CE_DiceLoss/checkpoint-epoch80.pth'\n",
    "config_file = \"../configs/manet_cldice.yaml\"\n",
    "\n",
    "\n",
    "main_result(config_file, dataset=drive_dataset, bs=4, weight_path=weight_path)\n",
    "\n",
    "# DRIVE on CHASEDB\n",
    "\n",
    "main_result(config_file, dataset=chase_dataset, bs=4, weight_path=weight_path)\n",
    "#DRIVE on FIVES\n",
    "\n",
    "\n",
    "main_result(config_file, dataset=fives_dataset, bs=4, weight_path=weight_path)"
   ]
  },
  {
   "cell_type": "code",
   "execution_count": 23,
   "metadata": {},
   "outputs": [
    {
     "name": "stderr",
     "output_type": "stream",
     "text": [
      "TEST (49) | Loss: 0.0817 | AUC 0.9910 F1 0.8997 Acc 0.9864  Sen 0.8753 Spe 0.9947 Pre 0.9261 IOU 0.8186 MCC 0.8929 |B 0.51 D 0.48 |: 100%|██████████| 50/50 [00:54<00:00,  1.10s/it]\n",
      "\u001b[32m2023-10-15 22:01:32.174\u001b[0m | \u001b[1mINFO    \u001b[0m | \u001b[36mtester\u001b[0m:\u001b[36mtest\u001b[0m:\u001b[36m78\u001b[0m - \u001b[1m###### TEST EVALUATION ######\u001b[0m\n",
      "\u001b[32m2023-10-15 22:01:32.175\u001b[0m | \u001b[1mINFO    \u001b[0m | \u001b[36mtester\u001b[0m:\u001b[36mtest\u001b[0m:\u001b[36m79\u001b[0m - \u001b[1mtest time:  0.5103\u001b[0m\n",
      "\u001b[32m2023-10-15 22:01:32.176\u001b[0m | \u001b[1mINFO    \u001b[0m | \u001b[36mtester\u001b[0m:\u001b[36mtest\u001b[0m:\u001b[36m80\u001b[0m - \u001b[1m     loss:  0.0817\u001b[0m\n",
      "\u001b[32m2023-10-15 22:01:32.176\u001b[0m | \u001b[1mINFO    \u001b[0m | \u001b[36mtester\u001b[0m:\u001b[36mtest\u001b[0m:\u001b[36m84\u001b[0m - \u001b[1mAUC  : 0.991\u001b[0m\n",
      "\u001b[32m2023-10-15 22:01:32.177\u001b[0m | \u001b[1mINFO    \u001b[0m | \u001b[36mtester\u001b[0m:\u001b[36mtest\u001b[0m:\u001b[36m84\u001b[0m - \u001b[1mF1   : 0.8997\u001b[0m\n",
      "\u001b[32m2023-10-15 22:01:32.177\u001b[0m | \u001b[1mINFO    \u001b[0m | \u001b[36mtester\u001b[0m:\u001b[36mtest\u001b[0m:\u001b[36m84\u001b[0m - \u001b[1mAcc  : 0.9864\u001b[0m\n",
      "\u001b[32m2023-10-15 22:01:32.177\u001b[0m | \u001b[1mINFO    \u001b[0m | \u001b[36mtester\u001b[0m:\u001b[36mtest\u001b[0m:\u001b[36m84\u001b[0m - \u001b[1mSen  : 0.8753\u001b[0m\n",
      "\u001b[32m2023-10-15 22:01:32.178\u001b[0m | \u001b[1mINFO    \u001b[0m | \u001b[36mtester\u001b[0m:\u001b[36mtest\u001b[0m:\u001b[36m84\u001b[0m - \u001b[1mSpe  : 0.9947\u001b[0m\n",
      "\u001b[32m2023-10-15 22:01:32.179\u001b[0m | \u001b[1mINFO    \u001b[0m | \u001b[36mtester\u001b[0m:\u001b[36mtest\u001b[0m:\u001b[36m84\u001b[0m - \u001b[1mpre  : 0.9261\u001b[0m\n",
      "\u001b[32m2023-10-15 22:01:32.179\u001b[0m | \u001b[1mINFO    \u001b[0m | \u001b[36mtester\u001b[0m:\u001b[36mtest\u001b[0m:\u001b[36m84\u001b[0m - \u001b[1mIOU  : 0.8186\u001b[0m\n",
      "\u001b[32m2023-10-15 22:01:32.179\u001b[0m | \u001b[1mINFO    \u001b[0m | \u001b[36mtester\u001b[0m:\u001b[36mtest\u001b[0m:\u001b[36m84\u001b[0m - \u001b[1mMCC  : 0.8929\u001b[0m\n",
      "TEST (4) | Loss: 0.2074 | AUC 0.9466 F1 0.7764 Acc 0.9644  Sen 0.7071 Spe 0.9893 Pre 0.8639 IOU 0.6350 MCC 0.7625 |B 0.28 D 0.25 |: 100%|██████████| 5/5 [00:04<00:00,  1.17it/s]\n",
      "\u001b[32m2023-10-15 22:01:38.109\u001b[0m | \u001b[1mINFO    \u001b[0m | \u001b[36mtester\u001b[0m:\u001b[36mtest\u001b[0m:\u001b[36m78\u001b[0m - \u001b[1m###### TEST EVALUATION ######\u001b[0m\n",
      "\u001b[32m2023-10-15 22:01:38.110\u001b[0m | \u001b[1mINFO    \u001b[0m | \u001b[36mtester\u001b[0m:\u001b[36mtest\u001b[0m:\u001b[36m79\u001b[0m - \u001b[1mtest time:  0.2784\u001b[0m\n",
      "\u001b[32m2023-10-15 22:01:38.110\u001b[0m | \u001b[1mINFO    \u001b[0m | \u001b[36mtester\u001b[0m:\u001b[36mtest\u001b[0m:\u001b[36m80\u001b[0m - \u001b[1m     loss:  0.2074\u001b[0m\n",
      "\u001b[32m2023-10-15 22:01:38.111\u001b[0m | \u001b[1mINFO    \u001b[0m | \u001b[36mtester\u001b[0m:\u001b[36mtest\u001b[0m:\u001b[36m84\u001b[0m - \u001b[1mAUC  : 0.9466\u001b[0m\n",
      "\u001b[32m2023-10-15 22:01:38.111\u001b[0m | \u001b[1mINFO    \u001b[0m | \u001b[36mtester\u001b[0m:\u001b[36mtest\u001b[0m:\u001b[36m84\u001b[0m - \u001b[1mF1   : 0.7764\u001b[0m\n",
      "\u001b[32m2023-10-15 22:01:38.112\u001b[0m | \u001b[1mINFO    \u001b[0m | \u001b[36mtester\u001b[0m:\u001b[36mtest\u001b[0m:\u001b[36m84\u001b[0m - \u001b[1mAcc  : 0.9644\u001b[0m\n",
      "\u001b[32m2023-10-15 22:01:38.112\u001b[0m | \u001b[1mINFO    \u001b[0m | \u001b[36mtester\u001b[0m:\u001b[36mtest\u001b[0m:\u001b[36m84\u001b[0m - \u001b[1mSen  : 0.7071\u001b[0m\n",
      "\u001b[32m2023-10-15 22:01:38.113\u001b[0m | \u001b[1mINFO    \u001b[0m | \u001b[36mtester\u001b[0m:\u001b[36mtest\u001b[0m:\u001b[36m84\u001b[0m - \u001b[1mSpe  : 0.9893\u001b[0m\n",
      "\u001b[32m2023-10-15 22:01:38.113\u001b[0m | \u001b[1mINFO    \u001b[0m | \u001b[36mtester\u001b[0m:\u001b[36mtest\u001b[0m:\u001b[36m84\u001b[0m - \u001b[1mpre  : 0.8639\u001b[0m\n",
      "\u001b[32m2023-10-15 22:01:38.114\u001b[0m | \u001b[1mINFO    \u001b[0m | \u001b[36mtester\u001b[0m:\u001b[36mtest\u001b[0m:\u001b[36m84\u001b[0m - \u001b[1mIOU  : 0.635\u001b[0m\n",
      "\u001b[32m2023-10-15 22:01:38.115\u001b[0m | \u001b[1mINFO    \u001b[0m | \u001b[36mtester\u001b[0m:\u001b[36mtest\u001b[0m:\u001b[36m84\u001b[0m - \u001b[1mMCC  : 0.7625\u001b[0m\n",
      "TEST (1) | Loss: 0.1882 | AUC 0.9814 F1 0.7832 Acc 0.9696  Sen 0.8725 Spe 0.9761 Pre 0.7108 IOU 0.6438 MCC 0.7718 |B 0.52 D 0.49 |: 100%|██████████| 2/2 [00:02<00:00,  1.13s/it]\n",
      "\u001b[32m2023-10-15 22:01:41.990\u001b[0m | \u001b[1mINFO    \u001b[0m | \u001b[36mtester\u001b[0m:\u001b[36mtest\u001b[0m:\u001b[36m78\u001b[0m - \u001b[1m###### TEST EVALUATION ######\u001b[0m\n",
      "\u001b[32m2023-10-15 22:01:41.991\u001b[0m | \u001b[1mINFO    \u001b[0m | \u001b[36mtester\u001b[0m:\u001b[36mtest\u001b[0m:\u001b[36m79\u001b[0m - \u001b[1mtest time:  0.5217\u001b[0m\n",
      "\u001b[32m2023-10-15 22:01:41.992\u001b[0m | \u001b[1mINFO    \u001b[0m | \u001b[36mtester\u001b[0m:\u001b[36mtest\u001b[0m:\u001b[36m80\u001b[0m - \u001b[1m     loss:  0.1882\u001b[0m\n",
      "\u001b[32m2023-10-15 22:01:41.992\u001b[0m | \u001b[1mINFO    \u001b[0m | \u001b[36mtester\u001b[0m:\u001b[36mtest\u001b[0m:\u001b[36m84\u001b[0m - \u001b[1mAUC  : 0.9814\u001b[0m\n",
      "\u001b[32m2023-10-15 22:01:41.992\u001b[0m | \u001b[1mINFO    \u001b[0m | \u001b[36mtester\u001b[0m:\u001b[36mtest\u001b[0m:\u001b[36m84\u001b[0m - \u001b[1mF1   : 0.7832\u001b[0m\n",
      "\u001b[32m2023-10-15 22:01:41.993\u001b[0m | \u001b[1mINFO    \u001b[0m | \u001b[36mtester\u001b[0m:\u001b[36mtest\u001b[0m:\u001b[36m84\u001b[0m - \u001b[1mAcc  : 0.9696\u001b[0m\n",
      "\u001b[32m2023-10-15 22:01:41.993\u001b[0m | \u001b[1mINFO    \u001b[0m | \u001b[36mtester\u001b[0m:\u001b[36mtest\u001b[0m:\u001b[36m84\u001b[0m - \u001b[1mSen  : 0.8725\u001b[0m\n",
      "\u001b[32m2023-10-15 22:01:41.994\u001b[0m | \u001b[1mINFO    \u001b[0m | \u001b[36mtester\u001b[0m:\u001b[36mtest\u001b[0m:\u001b[36m84\u001b[0m - \u001b[1mSpe  : 0.9761\u001b[0m\n",
      "\u001b[32m2023-10-15 22:01:41.994\u001b[0m | \u001b[1mINFO    \u001b[0m | \u001b[36mtester\u001b[0m:\u001b[36mtest\u001b[0m:\u001b[36m84\u001b[0m - \u001b[1mpre  : 0.7108\u001b[0m\n",
      "\u001b[32m2023-10-15 22:01:41.994\u001b[0m | \u001b[1mINFO    \u001b[0m | \u001b[36mtester\u001b[0m:\u001b[36mtest\u001b[0m:\u001b[36m84\u001b[0m - \u001b[1mIOU  : 0.6438\u001b[0m\n",
      "\u001b[32m2023-10-15 22:01:41.995\u001b[0m | \u001b[1mINFO    \u001b[0m | \u001b[36mtester\u001b[0m:\u001b[36mtest\u001b[0m:\u001b[36m84\u001b[0m - \u001b[1mMCC  : 0.7718\u001b[0m\n"
     ]
    }
   ],
   "source": [
    "# FIVES on FIVES\n",
    "weight_path = '/mnt/qb/berens/users/jfadugba97/RetinaSegmentation/model_results/MANet/FIVES/CE_DiceLoss/checkpoint-epoch70.pth'\n",
    "config_file = \"../configs/manet_cldice.yaml\"\n",
    "\n",
    "\n",
    "main_result(config_file, dataset=fives_dataset, bs=4, weight_path=weight_path)\n",
    "\n",
    "# FIVES on DRIVE\n",
    "\n",
    "main_result(config_file, dataset=drive_dataset, bs=4, weight_path=weight_path)\n",
    "\n",
    "# FIVES on CHASE\n",
    "\n",
    "main_result(config_file, dataset=chase_dataset, bs=4, weight_path=weight_path)"
   ]
  },
  {
   "cell_type": "markdown",
   "metadata": {},
   "source": [
    "## UNet"
   ]
  },
  {
   "cell_type": "code",
   "execution_count": 24,
   "metadata": {},
   "outputs": [
    {
     "name": "stderr",
     "output_type": "stream",
     "text": [
      "TEST (1) | Loss: 0.1480 | AUC 0.9877 F1 0.8055 Acc 0.9752  Sen 0.8160 Spe 0.9859 Pre 0.7962 IOU 0.6744 MCC 0.7926 |B 0.46 D 0.43 |: 100%|██████████| 2/2 [00:02<00:00,  1.08s/it]\n",
      "\u001b[32m2023-10-15 22:04:40.458\u001b[0m | \u001b[1mINFO    \u001b[0m | \u001b[36mtester\u001b[0m:\u001b[36mtest\u001b[0m:\u001b[36m78\u001b[0m - \u001b[1m###### TEST EVALUATION ######\u001b[0m\n",
      "\u001b[32m2023-10-15 22:04:40.459\u001b[0m | \u001b[1mINFO    \u001b[0m | \u001b[36mtester\u001b[0m:\u001b[36mtest\u001b[0m:\u001b[36m79\u001b[0m - \u001b[1mtest time:  0.4565\u001b[0m\n",
      "\u001b[32m2023-10-15 22:04:40.460\u001b[0m | \u001b[1mINFO    \u001b[0m | \u001b[36mtester\u001b[0m:\u001b[36mtest\u001b[0m:\u001b[36m80\u001b[0m - \u001b[1m     loss:  0.148\u001b[0m\n",
      "\u001b[32m2023-10-15 22:04:40.460\u001b[0m | \u001b[1mINFO    \u001b[0m | \u001b[36mtester\u001b[0m:\u001b[36mtest\u001b[0m:\u001b[36m84\u001b[0m - \u001b[1mAUC  : 0.9877\u001b[0m\n",
      "\u001b[32m2023-10-15 22:04:40.461\u001b[0m | \u001b[1mINFO    \u001b[0m | \u001b[36mtester\u001b[0m:\u001b[36mtest\u001b[0m:\u001b[36m84\u001b[0m - \u001b[1mF1   : 0.8055\u001b[0m\n",
      "\u001b[32m2023-10-15 22:04:40.461\u001b[0m | \u001b[1mINFO    \u001b[0m | \u001b[36mtester\u001b[0m:\u001b[36mtest\u001b[0m:\u001b[36m84\u001b[0m - \u001b[1mAcc  : 0.9752\u001b[0m\n",
      "\u001b[32m2023-10-15 22:04:40.463\u001b[0m | \u001b[1mINFO    \u001b[0m | \u001b[36mtester\u001b[0m:\u001b[36mtest\u001b[0m:\u001b[36m84\u001b[0m - \u001b[1mSen  : 0.816\u001b[0m\n",
      "\u001b[32m2023-10-15 22:04:40.463\u001b[0m | \u001b[1mINFO    \u001b[0m | \u001b[36mtester\u001b[0m:\u001b[36mtest\u001b[0m:\u001b[36m84\u001b[0m - \u001b[1mSpe  : 0.9859\u001b[0m\n",
      "\u001b[32m2023-10-15 22:04:40.464\u001b[0m | \u001b[1mINFO    \u001b[0m | \u001b[36mtester\u001b[0m:\u001b[36mtest\u001b[0m:\u001b[36m84\u001b[0m - \u001b[1mpre  : 0.7962\u001b[0m\n",
      "\u001b[32m2023-10-15 22:04:40.464\u001b[0m | \u001b[1mINFO    \u001b[0m | \u001b[36mtester\u001b[0m:\u001b[36mtest\u001b[0m:\u001b[36m84\u001b[0m - \u001b[1mIOU  : 0.6744\u001b[0m\n",
      "\u001b[32m2023-10-15 22:04:40.465\u001b[0m | \u001b[1mINFO    \u001b[0m | \u001b[36mtester\u001b[0m:\u001b[36mtest\u001b[0m:\u001b[36m84\u001b[0m - \u001b[1mMCC  : 0.7926\u001b[0m\n",
      "TEST (4) | Loss: 0.2358 | AUC 0.9522 F1 0.7228 Acc 0.9595  Sen 0.6027 Spe 0.9940 Pre 0.9055 IOU 0.5662 MCC 0.7195 |B 1.82 D 1.79 |: 100%|██████████| 5/5 [00:11<00:00,  2.39s/it]\n",
      "\u001b[32m2023-10-15 22:04:53.815\u001b[0m | \u001b[1mINFO    \u001b[0m | \u001b[36mtester\u001b[0m:\u001b[36mtest\u001b[0m:\u001b[36m78\u001b[0m - \u001b[1m###### TEST EVALUATION ######\u001b[0m\n",
      "\u001b[32m2023-10-15 22:04:53.815\u001b[0m | \u001b[1mINFO    \u001b[0m | \u001b[36mtester\u001b[0m:\u001b[36mtest\u001b[0m:\u001b[36m79\u001b[0m - \u001b[1mtest time:  1.8226\u001b[0m\n",
      "\u001b[32m2023-10-15 22:04:53.816\u001b[0m | \u001b[1mINFO    \u001b[0m | \u001b[36mtester\u001b[0m:\u001b[36mtest\u001b[0m:\u001b[36m80\u001b[0m - \u001b[1m     loss:  0.2358\u001b[0m\n",
      "\u001b[32m2023-10-15 22:04:53.816\u001b[0m | \u001b[1mINFO    \u001b[0m | \u001b[36mtester\u001b[0m:\u001b[36mtest\u001b[0m:\u001b[36m84\u001b[0m - \u001b[1mAUC  : 0.9522\u001b[0m\n",
      "\u001b[32m2023-10-15 22:04:53.817\u001b[0m | \u001b[1mINFO    \u001b[0m | \u001b[36mtester\u001b[0m:\u001b[36mtest\u001b[0m:\u001b[36m84\u001b[0m - \u001b[1mF1   : 0.7228\u001b[0m\n",
      "\u001b[32m2023-10-15 22:04:53.819\u001b[0m | \u001b[1mINFO    \u001b[0m | \u001b[36mtester\u001b[0m:\u001b[36mtest\u001b[0m:\u001b[36m84\u001b[0m - \u001b[1mAcc  : 0.9595\u001b[0m\n",
      "\u001b[32m2023-10-15 22:04:53.820\u001b[0m | \u001b[1mINFO    \u001b[0m | \u001b[36mtester\u001b[0m:\u001b[36mtest\u001b[0m:\u001b[36m84\u001b[0m - \u001b[1mSen  : 0.6027\u001b[0m\n",
      "\u001b[32m2023-10-15 22:04:53.820\u001b[0m | \u001b[1mINFO    \u001b[0m | \u001b[36mtester\u001b[0m:\u001b[36mtest\u001b[0m:\u001b[36m84\u001b[0m - \u001b[1mSpe  : 0.994\u001b[0m\n",
      "\u001b[32m2023-10-15 22:04:53.820\u001b[0m | \u001b[1mINFO    \u001b[0m | \u001b[36mtester\u001b[0m:\u001b[36mtest\u001b[0m:\u001b[36m84\u001b[0m - \u001b[1mpre  : 0.9055\u001b[0m\n",
      "\u001b[32m2023-10-15 22:04:53.821\u001b[0m | \u001b[1mINFO    \u001b[0m | \u001b[36mtester\u001b[0m:\u001b[36mtest\u001b[0m:\u001b[36m84\u001b[0m - \u001b[1mIOU  : 0.5662\u001b[0m\n",
      "\u001b[32m2023-10-15 22:04:53.821\u001b[0m | \u001b[1mINFO    \u001b[0m | \u001b[36mtester\u001b[0m:\u001b[36mtest\u001b[0m:\u001b[36m84\u001b[0m - \u001b[1mMCC  : 0.7195\u001b[0m\n",
      "TEST (49) | Loss: 0.1710 | AUC 0.9784 F1 0.7715 Acc 0.9731  Sen 0.6562 Spe 0.9968 Pre 0.9400 IOU 0.6301 MCC 0.7722 |B 0.73 D 0.70 |: 100%|██████████| 50/50 [01:05<00:00,  1.31s/it]\n",
      "\u001b[32m2023-10-15 22:06:00.786\u001b[0m | \u001b[1mINFO    \u001b[0m | \u001b[36mtester\u001b[0m:\u001b[36mtest\u001b[0m:\u001b[36m78\u001b[0m - \u001b[1m###### TEST EVALUATION ######\u001b[0m\n",
      "\u001b[32m2023-10-15 22:06:00.787\u001b[0m | \u001b[1mINFO    \u001b[0m | \u001b[36mtester\u001b[0m:\u001b[36mtest\u001b[0m:\u001b[36m79\u001b[0m - \u001b[1mtest time:  0.731\u001b[0m\n",
      "\u001b[32m2023-10-15 22:06:00.787\u001b[0m | \u001b[1mINFO    \u001b[0m | \u001b[36mtester\u001b[0m:\u001b[36mtest\u001b[0m:\u001b[36m80\u001b[0m - \u001b[1m     loss:  0.171\u001b[0m\n",
      "\u001b[32m2023-10-15 22:06:00.788\u001b[0m | \u001b[1mINFO    \u001b[0m | \u001b[36mtester\u001b[0m:\u001b[36mtest\u001b[0m:\u001b[36m84\u001b[0m - \u001b[1mAUC  : 0.9784\u001b[0m\n",
      "\u001b[32m2023-10-15 22:06:00.788\u001b[0m | \u001b[1mINFO    \u001b[0m | \u001b[36mtester\u001b[0m:\u001b[36mtest\u001b[0m:\u001b[36m84\u001b[0m - \u001b[1mF1   : 0.7715\u001b[0m\n",
      "\u001b[32m2023-10-15 22:06:00.789\u001b[0m | \u001b[1mINFO    \u001b[0m | \u001b[36mtester\u001b[0m:\u001b[36mtest\u001b[0m:\u001b[36m84\u001b[0m - \u001b[1mAcc  : 0.9731\u001b[0m\n",
      "\u001b[32m2023-10-15 22:06:00.789\u001b[0m | \u001b[1mINFO    \u001b[0m | \u001b[36mtester\u001b[0m:\u001b[36mtest\u001b[0m:\u001b[36m84\u001b[0m - \u001b[1mSen  : 0.6562\u001b[0m\n",
      "\u001b[32m2023-10-15 22:06:00.790\u001b[0m | \u001b[1mINFO    \u001b[0m | \u001b[36mtester\u001b[0m:\u001b[36mtest\u001b[0m:\u001b[36m84\u001b[0m - \u001b[1mSpe  : 0.9968\u001b[0m\n",
      "\u001b[32m2023-10-15 22:06:00.790\u001b[0m | \u001b[1mINFO    \u001b[0m | \u001b[36mtester\u001b[0m:\u001b[36mtest\u001b[0m:\u001b[36m84\u001b[0m - \u001b[1mpre  : 0.94\u001b[0m\n",
      "\u001b[32m2023-10-15 22:06:00.791\u001b[0m | \u001b[1mINFO    \u001b[0m | \u001b[36mtester\u001b[0m:\u001b[36mtest\u001b[0m:\u001b[36m84\u001b[0m - \u001b[1mIOU  : 0.6301\u001b[0m\n",
      "\u001b[32m2023-10-15 22:06:00.791\u001b[0m | \u001b[1mINFO    \u001b[0m | \u001b[36mtester\u001b[0m:\u001b[36mtest\u001b[0m:\u001b[36m84\u001b[0m - \u001b[1mMCC  : 0.7722\u001b[0m\n"
     ]
    }
   ],
   "source": [
    "# CHASEDB on CHASEDB\n",
    "weight_path = '/mnt/qb/berens/users/jfadugba97/RetinaSegmentation/model_results/Unet/CHASE/CE_DiceLoss/checkpoint-epoch80.pth'\n",
    "config_file = \"../config/unet_chase.yaml\"\n",
    "\n",
    "\n",
    "main_result(config_file, dataset=chase_dataset, bs=4, weight_path=weight_path)\n",
    "\n",
    "# CHASEDB on DRIVE\n",
    "\n",
    "main_result(config_file, dataset=drive_dataset, bs=4, weight_path=weight_path)\n",
    "\n",
    "# CHASEDB on FIVES\n",
    "\n",
    "main_result(config_file, dataset=fives_dataset, bs=4, weight_path=weight_path)"
   ]
  },
  {
   "cell_type": "code",
   "execution_count": 25,
   "metadata": {},
   "outputs": [
    {
     "name": "stderr",
     "output_type": "stream",
     "text": [
      "TEST (4) | Loss: 0.1952 | AUC 0.9703 F1 0.7723 Acc 0.9629  Sen 0.7198 Spe 0.9864 Pre 0.8357 IOU 0.6293 MCC 0.7554 |B 0.40 D 0.37 |: 100%|██████████| 5/5 [00:04<00:00,  1.02it/s]\n",
      "\u001b[32m2023-10-15 22:11:13.208\u001b[0m | \u001b[1mINFO    \u001b[0m | \u001b[36mtester\u001b[0m:\u001b[36mtest\u001b[0m:\u001b[36m78\u001b[0m - \u001b[1m###### TEST EVALUATION ######\u001b[0m\n",
      "\u001b[32m2023-10-15 22:11:13.209\u001b[0m | \u001b[1mINFO    \u001b[0m | \u001b[36mtester\u001b[0m:\u001b[36mtest\u001b[0m:\u001b[36m79\u001b[0m - \u001b[1mtest time:  0.3958\u001b[0m\n",
      "\u001b[32m2023-10-15 22:11:13.209\u001b[0m | \u001b[1mINFO    \u001b[0m | \u001b[36mtester\u001b[0m:\u001b[36mtest\u001b[0m:\u001b[36m80\u001b[0m - \u001b[1m     loss:  0.1952\u001b[0m\n",
      "\u001b[32m2023-10-15 22:11:13.210\u001b[0m | \u001b[1mINFO    \u001b[0m | \u001b[36mtester\u001b[0m:\u001b[36mtest\u001b[0m:\u001b[36m84\u001b[0m - \u001b[1mAUC  : 0.9703\u001b[0m\n",
      "\u001b[32m2023-10-15 22:11:13.211\u001b[0m | \u001b[1mINFO    \u001b[0m | \u001b[36mtester\u001b[0m:\u001b[36mtest\u001b[0m:\u001b[36m84\u001b[0m - \u001b[1mF1   : 0.7723\u001b[0m\n",
      "\u001b[32m2023-10-15 22:11:13.211\u001b[0m | \u001b[1mINFO    \u001b[0m | \u001b[36mtester\u001b[0m:\u001b[36mtest\u001b[0m:\u001b[36m84\u001b[0m - \u001b[1mAcc  : 0.9629\u001b[0m\n",
      "\u001b[32m2023-10-15 22:11:13.212\u001b[0m | \u001b[1mINFO    \u001b[0m | \u001b[36mtester\u001b[0m:\u001b[36mtest\u001b[0m:\u001b[36m84\u001b[0m - \u001b[1mSen  : 0.7198\u001b[0m\n",
      "\u001b[32m2023-10-15 22:11:13.212\u001b[0m | \u001b[1mINFO    \u001b[0m | \u001b[36mtester\u001b[0m:\u001b[36mtest\u001b[0m:\u001b[36m84\u001b[0m - \u001b[1mSpe  : 0.9864\u001b[0m\n",
      "\u001b[32m2023-10-15 22:11:13.213\u001b[0m | \u001b[1mINFO    \u001b[0m | \u001b[36mtester\u001b[0m:\u001b[36mtest\u001b[0m:\u001b[36m84\u001b[0m - \u001b[1mpre  : 0.8357\u001b[0m\n",
      "\u001b[32m2023-10-15 22:11:13.213\u001b[0m | \u001b[1mINFO    \u001b[0m | \u001b[36mtester\u001b[0m:\u001b[36mtest\u001b[0m:\u001b[36m84\u001b[0m - \u001b[1mIOU  : 0.6293\u001b[0m\n",
      "\u001b[32m2023-10-15 22:11:13.214\u001b[0m | \u001b[1mINFO    \u001b[0m | \u001b[36mtester\u001b[0m:\u001b[36mtest\u001b[0m:\u001b[36m84\u001b[0m - \u001b[1mMCC  : 0.7554\u001b[0m\n",
      "TEST (1) | Loss: 0.2328 | AUC 0.9671 F1 0.7034 Acc 0.9606  Sen 0.7438 Spe 0.9752 Pre 0.6684 IOU 0.5427 MCC 0.6839 |B 1.15 D 1.12 |: 100%|██████████| 2/2 [00:03<00:00,  1.78s/it]\n",
      "\u001b[32m2023-10-15 22:11:18.343\u001b[0m | \u001b[1mINFO    \u001b[0m | \u001b[36mtester\u001b[0m:\u001b[36mtest\u001b[0m:\u001b[36m78\u001b[0m - \u001b[1m###### TEST EVALUATION ######\u001b[0m\n",
      "\u001b[32m2023-10-15 22:11:18.344\u001b[0m | \u001b[1mINFO    \u001b[0m | \u001b[36mtester\u001b[0m:\u001b[36mtest\u001b[0m:\u001b[36m79\u001b[0m - \u001b[1mtest time:  1.1487\u001b[0m\n",
      "\u001b[32m2023-10-15 22:11:18.344\u001b[0m | \u001b[1mINFO    \u001b[0m | \u001b[36mtester\u001b[0m:\u001b[36mtest\u001b[0m:\u001b[36m80\u001b[0m - \u001b[1m     loss:  0.2328\u001b[0m\n",
      "\u001b[32m2023-10-15 22:11:18.345\u001b[0m | \u001b[1mINFO    \u001b[0m | \u001b[36mtester\u001b[0m:\u001b[36mtest\u001b[0m:\u001b[36m84\u001b[0m - \u001b[1mAUC  : 0.9671\u001b[0m\n",
      "\u001b[32m2023-10-15 22:11:18.346\u001b[0m | \u001b[1mINFO    \u001b[0m | \u001b[36mtester\u001b[0m:\u001b[36mtest\u001b[0m:\u001b[36m84\u001b[0m - \u001b[1mF1   : 0.7034\u001b[0m\n",
      "\u001b[32m2023-10-15 22:11:18.346\u001b[0m | \u001b[1mINFO    \u001b[0m | \u001b[36mtester\u001b[0m:\u001b[36mtest\u001b[0m:\u001b[36m84\u001b[0m - \u001b[1mAcc  : 0.9606\u001b[0m\n",
      "\u001b[32m2023-10-15 22:11:18.346\u001b[0m | \u001b[1mINFO    \u001b[0m | \u001b[36mtester\u001b[0m:\u001b[36mtest\u001b[0m:\u001b[36m84\u001b[0m - \u001b[1mSen  : 0.7438\u001b[0m\n",
      "\u001b[32m2023-10-15 22:11:18.347\u001b[0m | \u001b[1mINFO    \u001b[0m | \u001b[36mtester\u001b[0m:\u001b[36mtest\u001b[0m:\u001b[36m84\u001b[0m - \u001b[1mSpe  : 0.9752\u001b[0m\n",
      "\u001b[32m2023-10-15 22:11:18.348\u001b[0m | \u001b[1mINFO    \u001b[0m | \u001b[36mtester\u001b[0m:\u001b[36mtest\u001b[0m:\u001b[36m84\u001b[0m - \u001b[1mpre  : 0.6684\u001b[0m\n",
      "\u001b[32m2023-10-15 22:11:18.348\u001b[0m | \u001b[1mINFO    \u001b[0m | \u001b[36mtester\u001b[0m:\u001b[36mtest\u001b[0m:\u001b[36m84\u001b[0m - \u001b[1mIOU  : 0.5427\u001b[0m\n",
      "\u001b[32m2023-10-15 22:11:18.349\u001b[0m | \u001b[1mINFO    \u001b[0m | \u001b[36mtester\u001b[0m:\u001b[36mtest\u001b[0m:\u001b[36m84\u001b[0m - \u001b[1mMCC  : 0.6839\u001b[0m\n",
      "TEST (49) | Loss: 0.2003 | AUC 0.9582 F1 0.7526 Acc 0.9685  Sen 0.6955 Spe 0.9885 Pre 0.8298 IOU 0.6071 MCC 0.7414 |B 0.08 D 0.05 |: 100%|██████████| 50/50 [00:33<00:00,  1.48it/s]\n",
      "\u001b[32m2023-10-15 22:11:53.518\u001b[0m | \u001b[1mINFO    \u001b[0m | \u001b[36mtester\u001b[0m:\u001b[36mtest\u001b[0m:\u001b[36m78\u001b[0m - \u001b[1m###### TEST EVALUATION ######\u001b[0m\n",
      "\u001b[32m2023-10-15 22:11:53.519\u001b[0m | \u001b[1mINFO    \u001b[0m | \u001b[36mtester\u001b[0m:\u001b[36mtest\u001b[0m:\u001b[36m79\u001b[0m - \u001b[1mtest time:  0.0813\u001b[0m\n",
      "\u001b[32m2023-10-15 22:11:53.520\u001b[0m | \u001b[1mINFO    \u001b[0m | \u001b[36mtester\u001b[0m:\u001b[36mtest\u001b[0m:\u001b[36m80\u001b[0m - \u001b[1m     loss:  0.2003\u001b[0m\n",
      "\u001b[32m2023-10-15 22:11:53.520\u001b[0m | \u001b[1mINFO    \u001b[0m | \u001b[36mtester\u001b[0m:\u001b[36mtest\u001b[0m:\u001b[36m84\u001b[0m - \u001b[1mAUC  : 0.9582\u001b[0m\n",
      "\u001b[32m2023-10-15 22:11:53.521\u001b[0m | \u001b[1mINFO    \u001b[0m | \u001b[36mtester\u001b[0m:\u001b[36mtest\u001b[0m:\u001b[36m84\u001b[0m - \u001b[1mF1   : 0.7526\u001b[0m\n",
      "\u001b[32m2023-10-15 22:11:53.521\u001b[0m | \u001b[1mINFO    \u001b[0m | \u001b[36mtester\u001b[0m:\u001b[36mtest\u001b[0m:\u001b[36m84\u001b[0m - \u001b[1mAcc  : 0.9685\u001b[0m\n",
      "\u001b[32m2023-10-15 22:11:53.521\u001b[0m | \u001b[1mINFO    \u001b[0m | \u001b[36mtester\u001b[0m:\u001b[36mtest\u001b[0m:\u001b[36m84\u001b[0m - \u001b[1mSen  : 0.6955\u001b[0m\n",
      "\u001b[32m2023-10-15 22:11:53.522\u001b[0m | \u001b[1mINFO    \u001b[0m | \u001b[36mtester\u001b[0m:\u001b[36mtest\u001b[0m:\u001b[36m84\u001b[0m - \u001b[1mSpe  : 0.9885\u001b[0m\n",
      "\u001b[32m2023-10-15 22:11:53.522\u001b[0m | \u001b[1mINFO    \u001b[0m | \u001b[36mtester\u001b[0m:\u001b[36mtest\u001b[0m:\u001b[36m84\u001b[0m - \u001b[1mpre  : 0.8298\u001b[0m\n",
      "\u001b[32m2023-10-15 22:11:53.523\u001b[0m | \u001b[1mINFO    \u001b[0m | \u001b[36mtester\u001b[0m:\u001b[36mtest\u001b[0m:\u001b[36m84\u001b[0m - \u001b[1mIOU  : 0.6071\u001b[0m\n",
      "\u001b[32m2023-10-15 22:11:53.523\u001b[0m | \u001b[1mINFO    \u001b[0m | \u001b[36mtester\u001b[0m:\u001b[36mtest\u001b[0m:\u001b[36m84\u001b[0m - \u001b[1mMCC  : 0.7414\u001b[0m\n"
     ]
    }
   ],
   "source": [
    "# DRIVE On DRIVE\n",
    "\n",
    "weight_path = '/mnt/qb/berens/users/jfadugba97/RetinaSegmentation/model_results/Unet/DRIVE/CE_DiceLoss/checkpoint-epoch80.pth'\n",
    "config_file = \"../config/unet_drive.yaml\"\n",
    "\n",
    "\n",
    "main_result(config_file, dataset=drive_dataset, bs=4, weight_path=weight_path)\n",
    "# DRIVE ON CHASE\n",
    "\n",
    "main_result(config_file, dataset=chase_dataset, bs=4, weight_path=weight_path)\n",
    "# DRIVE on FIVES\n",
    "\n",
    "main_result(config_file, dataset=fives_dataset, bs=4, weight_path=weight_path)"
   ]
  },
  {
   "cell_type": "code",
   "execution_count": 27,
   "metadata": {},
   "outputs": [
    {
     "name": "stderr",
     "output_type": "stream",
     "text": [
      "TEST (49) | Loss: 0.0800 | AUC 0.9914 F1 0.9015 Acc 0.9866  Sen 0.8838 Spe 0.9942 Pre 0.9208 IOU 0.8218 MCC 0.8947 |B 0.08 D 0.05 |: 100%|██████████| 50/50 [00:32<00:00,  1.52it/s]\n",
      "\u001b[32m2023-10-15 22:13:07.905\u001b[0m | \u001b[1mINFO    \u001b[0m | \u001b[36mtester\u001b[0m:\u001b[36mtest\u001b[0m:\u001b[36m78\u001b[0m - \u001b[1m###### TEST EVALUATION ######\u001b[0m\n",
      "\u001b[32m2023-10-15 22:13:07.906\u001b[0m | \u001b[1mINFO    \u001b[0m | \u001b[36mtester\u001b[0m:\u001b[36mtest\u001b[0m:\u001b[36m79\u001b[0m - \u001b[1mtest time:  0.0786\u001b[0m\n",
      "\u001b[32m2023-10-15 22:13:07.907\u001b[0m | \u001b[1mINFO    \u001b[0m | \u001b[36mtester\u001b[0m:\u001b[36mtest\u001b[0m:\u001b[36m80\u001b[0m - \u001b[1m     loss:  0.08\u001b[0m\n",
      "\u001b[32m2023-10-15 22:13:07.907\u001b[0m | \u001b[1mINFO    \u001b[0m | \u001b[36mtester\u001b[0m:\u001b[36mtest\u001b[0m:\u001b[36m84\u001b[0m - \u001b[1mAUC  : 0.9914\u001b[0m\n",
      "\u001b[32m2023-10-15 22:13:07.908\u001b[0m | \u001b[1mINFO    \u001b[0m | \u001b[36mtester\u001b[0m:\u001b[36mtest\u001b[0m:\u001b[36m84\u001b[0m - \u001b[1mF1   : 0.9015\u001b[0m\n",
      "\u001b[32m2023-10-15 22:13:07.909\u001b[0m | \u001b[1mINFO    \u001b[0m | \u001b[36mtester\u001b[0m:\u001b[36mtest\u001b[0m:\u001b[36m84\u001b[0m - \u001b[1mAcc  : 0.9866\u001b[0m\n",
      "\u001b[32m2023-10-15 22:13:07.909\u001b[0m | \u001b[1mINFO    \u001b[0m | \u001b[36mtester\u001b[0m:\u001b[36mtest\u001b[0m:\u001b[36m84\u001b[0m - \u001b[1mSen  : 0.8838\u001b[0m\n",
      "\u001b[32m2023-10-15 22:13:07.909\u001b[0m | \u001b[1mINFO    \u001b[0m | \u001b[36mtester\u001b[0m:\u001b[36mtest\u001b[0m:\u001b[36m84\u001b[0m - \u001b[1mSpe  : 0.9942\u001b[0m\n",
      "\u001b[32m2023-10-15 22:13:07.910\u001b[0m | \u001b[1mINFO    \u001b[0m | \u001b[36mtester\u001b[0m:\u001b[36mtest\u001b[0m:\u001b[36m84\u001b[0m - \u001b[1mpre  : 0.9208\u001b[0m\n",
      "\u001b[32m2023-10-15 22:13:07.910\u001b[0m | \u001b[1mINFO    \u001b[0m | \u001b[36mtester\u001b[0m:\u001b[36mtest\u001b[0m:\u001b[36m84\u001b[0m - \u001b[1mIOU  : 0.8218\u001b[0m\n",
      "\u001b[32m2023-10-15 22:13:07.911\u001b[0m | \u001b[1mINFO    \u001b[0m | \u001b[36mtester\u001b[0m:\u001b[36mtest\u001b[0m:\u001b[36m84\u001b[0m - \u001b[1mMCC  : 0.8947\u001b[0m\n",
      "TEST (4) | Loss: 0.2128 | AUC 0.9398 F1 0.7757 Acc 0.9638  Sen 0.7160 Spe 0.9878 Pre 0.8492 IOU 0.6340 MCC 0.7602 |B 0.21 D 0.18 |: 100%|██████████| 5/5 [00:03<00:00,  1.26it/s]\n",
      "\u001b[32m2023-10-15 22:13:13.259\u001b[0m | \u001b[1mINFO    \u001b[0m | \u001b[36mtester\u001b[0m:\u001b[36mtest\u001b[0m:\u001b[36m78\u001b[0m - \u001b[1m###### TEST EVALUATION ######\u001b[0m\n",
      "\u001b[32m2023-10-15 22:13:13.260\u001b[0m | \u001b[1mINFO    \u001b[0m | \u001b[36mtester\u001b[0m:\u001b[36mtest\u001b[0m:\u001b[36m79\u001b[0m - \u001b[1mtest time:  0.2125\u001b[0m\n",
      "\u001b[32m2023-10-15 22:13:13.260\u001b[0m | \u001b[1mINFO    \u001b[0m | \u001b[36mtester\u001b[0m:\u001b[36mtest\u001b[0m:\u001b[36m80\u001b[0m - \u001b[1m     loss:  0.2128\u001b[0m\n",
      "\u001b[32m2023-10-15 22:13:13.261\u001b[0m | \u001b[1mINFO    \u001b[0m | \u001b[36mtester\u001b[0m:\u001b[36mtest\u001b[0m:\u001b[36m84\u001b[0m - \u001b[1mAUC  : 0.9398\u001b[0m\n",
      "\u001b[32m2023-10-15 22:13:13.261\u001b[0m | \u001b[1mINFO    \u001b[0m | \u001b[36mtester\u001b[0m:\u001b[36mtest\u001b[0m:\u001b[36m84\u001b[0m - \u001b[1mF1   : 0.7757\u001b[0m\n",
      "\u001b[32m2023-10-15 22:13:13.262\u001b[0m | \u001b[1mINFO    \u001b[0m | \u001b[36mtester\u001b[0m:\u001b[36mtest\u001b[0m:\u001b[36m84\u001b[0m - \u001b[1mAcc  : 0.9638\u001b[0m\n",
      "\u001b[32m2023-10-15 22:13:13.262\u001b[0m | \u001b[1mINFO    \u001b[0m | \u001b[36mtester\u001b[0m:\u001b[36mtest\u001b[0m:\u001b[36m84\u001b[0m - \u001b[1mSen  : 0.716\u001b[0m\n",
      "\u001b[32m2023-10-15 22:13:13.263\u001b[0m | \u001b[1mINFO    \u001b[0m | \u001b[36mtester\u001b[0m:\u001b[36mtest\u001b[0m:\u001b[36m84\u001b[0m - \u001b[1mSpe  : 0.9878\u001b[0m\n",
      "\u001b[32m2023-10-15 22:13:13.263\u001b[0m | \u001b[1mINFO    \u001b[0m | \u001b[36mtester\u001b[0m:\u001b[36mtest\u001b[0m:\u001b[36m84\u001b[0m - \u001b[1mpre  : 0.8492\u001b[0m\n",
      "\u001b[32m2023-10-15 22:13:13.264\u001b[0m | \u001b[1mINFO    \u001b[0m | \u001b[36mtester\u001b[0m:\u001b[36mtest\u001b[0m:\u001b[36m84\u001b[0m - \u001b[1mIOU  : 0.634\u001b[0m\n",
      "\u001b[32m2023-10-15 22:13:13.264\u001b[0m | \u001b[1mINFO    \u001b[0m | \u001b[36mtester\u001b[0m:\u001b[36mtest\u001b[0m:\u001b[36m84\u001b[0m - \u001b[1mMCC  : 0.7602\u001b[0m\n",
      "TEST (1) | Loss: 0.1920 | AUC 0.9812 F1 0.7810 Acc 0.9688  Sen 0.8834 Spe 0.9744 Pre 0.7002 IOU 0.6406 MCC 0.7705 |B 1.40 D 1.37 |: 100%|██████████| 2/2 [00:04<00:00,  2.02s/it]\n",
      "\u001b[32m2023-10-15 22:13:18.659\u001b[0m | \u001b[1mINFO    \u001b[0m | \u001b[36mtester\u001b[0m:\u001b[36mtest\u001b[0m:\u001b[36m78\u001b[0m - \u001b[1m###### TEST EVALUATION ######\u001b[0m\n",
      "\u001b[32m2023-10-15 22:13:18.660\u001b[0m | \u001b[1mINFO    \u001b[0m | \u001b[36mtester\u001b[0m:\u001b[36mtest\u001b[0m:\u001b[36m79\u001b[0m - \u001b[1mtest time:  1.4025\u001b[0m\n",
      "\u001b[32m2023-10-15 22:13:18.661\u001b[0m | \u001b[1mINFO    \u001b[0m | \u001b[36mtester\u001b[0m:\u001b[36mtest\u001b[0m:\u001b[36m80\u001b[0m - \u001b[1m     loss:  0.192\u001b[0m\n",
      "\u001b[32m2023-10-15 22:13:18.662\u001b[0m | \u001b[1mINFO    \u001b[0m | \u001b[36mtester\u001b[0m:\u001b[36mtest\u001b[0m:\u001b[36m84\u001b[0m - \u001b[1mAUC  : 0.9812\u001b[0m\n",
      "\u001b[32m2023-10-15 22:13:18.662\u001b[0m | \u001b[1mINFO    \u001b[0m | \u001b[36mtester\u001b[0m:\u001b[36mtest\u001b[0m:\u001b[36m84\u001b[0m - \u001b[1mF1   : 0.781\u001b[0m\n",
      "\u001b[32m2023-10-15 22:13:18.662\u001b[0m | \u001b[1mINFO    \u001b[0m | \u001b[36mtester\u001b[0m:\u001b[36mtest\u001b[0m:\u001b[36m84\u001b[0m - \u001b[1mAcc  : 0.9688\u001b[0m\n",
      "\u001b[32m2023-10-15 22:13:18.663\u001b[0m | \u001b[1mINFO    \u001b[0m | \u001b[36mtester\u001b[0m:\u001b[36mtest\u001b[0m:\u001b[36m84\u001b[0m - \u001b[1mSen  : 0.8834\u001b[0m\n",
      "\u001b[32m2023-10-15 22:13:18.664\u001b[0m | \u001b[1mINFO    \u001b[0m | \u001b[36mtester\u001b[0m:\u001b[36mtest\u001b[0m:\u001b[36m84\u001b[0m - \u001b[1mSpe  : 0.9744\u001b[0m\n",
      "\u001b[32m2023-10-15 22:13:18.664\u001b[0m | \u001b[1mINFO    \u001b[0m | \u001b[36mtester\u001b[0m:\u001b[36mtest\u001b[0m:\u001b[36m84\u001b[0m - \u001b[1mpre  : 0.7002\u001b[0m\n",
      "\u001b[32m2023-10-15 22:13:18.665\u001b[0m | \u001b[1mINFO    \u001b[0m | \u001b[36mtester\u001b[0m:\u001b[36mtest\u001b[0m:\u001b[36m84\u001b[0m - \u001b[1mIOU  : 0.6406\u001b[0m\n",
      "\u001b[32m2023-10-15 22:13:18.665\u001b[0m | \u001b[1mINFO    \u001b[0m | \u001b[36mtester\u001b[0m:\u001b[36mtest\u001b[0m:\u001b[36m84\u001b[0m - \u001b[1mMCC  : 0.7705\u001b[0m\n"
     ]
    }
   ],
   "source": [
    "# FIVES on FIVES\n",
    "weight_path = '/mnt/qb/berens/users/jfadugba97/RetinaSegmentation/model_results/Unet/FIVES/CE_DiceLoss/checkpoint-epoch70.pth'\n",
    "config_file = \"../configs/unet_dicebce.yaml\"\n",
    "\n",
    "\n",
    "main_result(config_file, dataset=fives_dataset, bs=4, weight_path=weight_path)\n",
    "\n",
    "# FIVES on DRIVE\n",
    "\n",
    "main_result(config_file, dataset=drive_dataset, bs=4, weight_path=weight_path)\n",
    "# FIVES on CHASE\n",
    "\n",
    "main_result(config_file, dataset=chase_dataset, bs=4, weight_path=weight_path)"
   ]
  },
  {
   "cell_type": "code",
   "execution_count": null,
   "metadata": {},
   "outputs": [],
   "source": []
  },
  {
   "cell_type": "markdown",
   "metadata": {},
   "source": [
    "## Tensorboard session"
   ]
  },
  {
   "cell_type": "code",
   "execution_count": null,
   "metadata": {},
   "outputs": [],
   "source": [
    "from torch.utils import tensorboard"
   ]
  },
  {
   "cell_type": "code",
   "execution_count": null,
   "metadata": {},
   "outputs": [],
   "source": [
    "tensorboard --logdir=/mnt/qb/berens/users/jfadugba97/RetinaSegmentation/model_results/WNet/WNet/DiceLoss/ --bind_all"
   ]
  }
 ],
 "metadata": {
  "kernelspec": {
   "display_name": "Python 3",
   "language": "python",
   "name": "python3"
  },
  "language_info": {
   "codemirror_mode": {
    "name": "ipython",
    "version": 3
   },
   "file_extension": ".py",
   "mimetype": "text/x-python",
   "name": "python",
   "nbconvert_exporter": "python",
   "pygments_lexer": "ipython3",
   "version": "3.10.4"
  },
  "orig_nbformat": 4
 },
 "nbformat": 4,
 "nbformat_minor": 2
}
